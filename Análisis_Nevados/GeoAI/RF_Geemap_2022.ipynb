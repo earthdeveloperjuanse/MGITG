{
 "cells": [
  {
   "cell_type": "code",
   "execution_count": 1,
   "id": "73afc034",
   "metadata": {},
   "outputs": [],
   "source": [
    "import ee\n",
    "import geemap"
   ]
  },
  {
   "cell_type": "code",
   "execution_count": 2,
   "id": "c857587f",
   "metadata": {},
   "outputs": [
    {
     "data": {
      "text/html": [
       "\n",
       "            <style>\n",
       "                .geemap-dark {\n",
       "                    --jp-widgets-color: white;\n",
       "                    --jp-widgets-label-color: white;\n",
       "                    --jp-ui-font-color1: white;\n",
       "                    --jp-layout-color2: #454545;\n",
       "                    background-color: #383838;\n",
       "                }\n",
       "                    \n",
       "                .geemap-dark .jupyter-button {\n",
       "                    --jp-layout-color3: #383838;\n",
       "                }\n",
       "                \n",
       "                .geemap-colab {\n",
       "                    background-color: var(--colab-primary-surface-color, white);\n",
       "                }\n",
       "                    \n",
       "                .geemap-colab .jupyter-button {\n",
       "                    --jp-layout-color3: var(--colab-primary-surface-color, white);\n",
       "                }\n",
       "            </style>\n",
       "            "
      ],
      "text/plain": [
       "<IPython.core.display.HTML object>"
      ]
     },
     "metadata": {},
     "output_type": "display_data"
    }
   ],
   "source": [
    "import pandas as pd\n",
    "import numpy as np\n",
    "import matplotlib.pyplot as plt\n",
    "import seaborn as sns"
   ]
  },
  {
   "cell_type": "code",
   "execution_count": 3,
   "id": "b34f855c",
   "metadata": {},
   "outputs": [
    {
     "data": {
      "text/html": [
       "\n",
       "            <style>\n",
       "                .geemap-dark {\n",
       "                    --jp-widgets-color: white;\n",
       "                    --jp-widgets-label-color: white;\n",
       "                    --jp-ui-font-color1: white;\n",
       "                    --jp-layout-color2: #454545;\n",
       "                    background-color: #383838;\n",
       "                }\n",
       "                    \n",
       "                .geemap-dark .jupyter-button {\n",
       "                    --jp-layout-color3: #383838;\n",
       "                }\n",
       "                \n",
       "                .geemap-colab {\n",
       "                    background-color: var(--colab-primary-surface-color, white);\n",
       "                }\n",
       "                    \n",
       "                .geemap-colab .jupyter-button {\n",
       "                    --jp-layout-color3: var(--colab-primary-surface-color, white);\n",
       "                }\n",
       "            </style>\n",
       "            "
      ],
      "text/plain": [
       "<IPython.core.display.HTML object>"
      ]
     },
     "metadata": {},
     "output_type": "display_data"
    }
   ],
   "source": [
    "from geemap import ml\n",
    "from sklearn import ensemble"
   ]
  },
  {
   "cell_type": "code",
   "execution_count": 4,
   "id": "04415f4b",
   "metadata": {},
   "outputs": [
    {
     "data": {
      "text/html": [
       "\n",
       "            <style>\n",
       "                .geemap-dark {\n",
       "                    --jp-widgets-color: white;\n",
       "                    --jp-widgets-label-color: white;\n",
       "                    --jp-ui-font-color1: white;\n",
       "                    --jp-layout-color2: #454545;\n",
       "                    background-color: #383838;\n",
       "                }\n",
       "                    \n",
       "                .geemap-dark .jupyter-button {\n",
       "                    --jp-layout-color3: #383838;\n",
       "                }\n",
       "                \n",
       "                .geemap-colab {\n",
       "                    background-color: var(--colab-primary-surface-color, white);\n",
       "                }\n",
       "                    \n",
       "                .geemap-colab .jupyter-button {\n",
       "                    --jp-layout-color3: var(--colab-primary-surface-color, white);\n",
       "                }\n",
       "            </style>\n",
       "            "
      ],
      "text/plain": [
       "<IPython.core.display.HTML object>"
      ]
     },
     "metadata": {},
     "output_type": "display_data"
    }
   ],
   "source": [
    "#ee.Authenticate()\n",
    "ee.Initialize()"
   ]
  },
  {
   "cell_type": "code",
   "execution_count": 5,
   "id": "3ca2dcc0",
   "metadata": {},
   "outputs": [
    {
     "data": {
      "text/html": [
       "\n",
       "            <style>\n",
       "                .geemap-dark {\n",
       "                    --jp-widgets-color: white;\n",
       "                    --jp-widgets-label-color: white;\n",
       "                    --jp-ui-font-color1: white;\n",
       "                    --jp-layout-color2: #454545;\n",
       "                    background-color: #383838;\n",
       "                }\n",
       "                    \n",
       "                .geemap-dark .jupyter-button {\n",
       "                    --jp-layout-color3: #383838;\n",
       "                }\n",
       "                \n",
       "                .geemap-colab {\n",
       "                    background-color: var(--colab-primary-surface-color, white);\n",
       "                }\n",
       "                    \n",
       "                .geemap-colab .jupyter-button {\n",
       "                    --jp-layout-color3: var(--colab-primary-surface-color, white);\n",
       "                }\n",
       "            </style>\n",
       "            "
      ],
      "text/plain": [
       "<IPython.core.display.HTML object>"
      ]
     },
     "metadata": {},
     "output_type": "display_data"
    }
   ],
   "source": [
    "Map = geemap.Map(center=[-74.05,0.9], zoom= 8)"
   ]
  },
  {
   "cell_type": "code",
   "execution_count": 6,
   "id": "a53c1414",
   "metadata": {},
   "outputs": [
    {
     "data": {
      "text/html": [
       "\n",
       "            <style>\n",
       "                .geemap-dark {\n",
       "                    --jp-widgets-color: white;\n",
       "                    --jp-widgets-label-color: white;\n",
       "                    --jp-ui-font-color1: white;\n",
       "                    --jp-layout-color2: #454545;\n",
       "                    background-color: #383838;\n",
       "                }\n",
       "                    \n",
       "                .geemap-dark .jupyter-button {\n",
       "                    --jp-layout-color3: #383838;\n",
       "                }\n",
       "                \n",
       "                .geemap-colab {\n",
       "                    background-color: var(--colab-primary-surface-color, white);\n",
       "                }\n",
       "                    \n",
       "                .geemap-colab .jupyter-button {\n",
       "                    --jp-layout-color3: var(--colab-primary-surface-color, white);\n",
       "                }\n",
       "            </style>\n",
       "            "
      ],
      "text/plain": [
       "<IPython.core.display.HTML object>"
      ]
     },
     "metadata": {},
     "output_type": "display_data"
    }
   ],
   "source": [
    "Map = geemap.Map(basemap='HYBRID')"
   ]
  },
  {
   "cell_type": "code",
   "execution_count": 33,
   "id": "547d7297",
   "metadata": {},
   "outputs": [
    {
     "data": {
      "text/html": [
       "\n",
       "            <style>\n",
       "                .geemap-dark {\n",
       "                    --jp-widgets-color: white;\n",
       "                    --jp-widgets-label-color: white;\n",
       "                    --jp-ui-font-color1: white;\n",
       "                    --jp-layout-color2: #454545;\n",
       "                    background-color: #383838;\n",
       "                }\n",
       "                    \n",
       "                .geemap-dark .jupyter-button {\n",
       "                    --jp-layout-color3: #383838;\n",
       "                }\n",
       "                \n",
       "                .geemap-colab {\n",
       "                    background-color: var(--colab-primary-surface-color, white);\n",
       "                }\n",
       "                    \n",
       "                .geemap-colab .jupyter-button {\n",
       "                    --jp-layout-color3: var(--colab-primary-surface-color, white);\n",
       "                }\n",
       "            </style>\n",
       "            "
      ],
      "text/plain": [
       "<IPython.core.display.HTML object>"
      ]
     },
     "metadata": {},
     "output_type": "display_data"
    }
   ],
   "source": [
    "Map.add_basemap('OpenTopoMap')"
   ]
  },
  {
   "cell_type": "code",
   "execution_count": 7,
   "id": "736de964",
   "metadata": {},
   "outputs": [
    {
     "data": {
      "text/html": [
       "\n",
       "            <style>\n",
       "                .geemap-dark {\n",
       "                    --jp-widgets-color: white;\n",
       "                    --jp-widgets-label-color: white;\n",
       "                    --jp-ui-font-color1: white;\n",
       "                    --jp-layout-color2: #454545;\n",
       "                    background-color: #383838;\n",
       "                }\n",
       "                    \n",
       "                .geemap-dark .jupyter-button {\n",
       "                    --jp-layout-color3: #383838;\n",
       "                }\n",
       "                \n",
       "                .geemap-colab {\n",
       "                    background-color: var(--colab-primary-surface-color, white);\n",
       "                }\n",
       "                    \n",
       "                .geemap-colab .jupyter-button {\n",
       "                    --jp-layout-color3: var(--colab-primary-surface-color, white);\n",
       "                }\n",
       "            </style>\n",
       "            "
      ],
      "text/plain": [
       "<IPython.core.display.HTML object>"
      ]
     },
     "metadata": {},
     "output_type": "display_data"
    }
   ],
   "source": [
    "Map.add_basemap('Esri.WorldImagery')"
   ]
  },
  {
   "cell_type": "code",
   "execution_count": 35,
   "id": "82ddf9f5",
   "metadata": {},
   "outputs": [
    {
     "data": {
      "text/html": [
       "\n",
       "            <style>\n",
       "                .geemap-dark {\n",
       "                    --jp-widgets-color: white;\n",
       "                    --jp-widgets-label-color: white;\n",
       "                    --jp-ui-font-color1: white;\n",
       "                    --jp-layout-color2: #454545;\n",
       "                    background-color: #383838;\n",
       "                }\n",
       "                    \n",
       "                .geemap-dark .jupyter-button {\n",
       "                    --jp-layout-color3: #383838;\n",
       "                }\n",
       "                \n",
       "                .geemap-colab {\n",
       "                    background-color: var(--colab-primary-surface-color, white);\n",
       "                }\n",
       "                    \n",
       "                .geemap-colab .jupyter-button {\n",
       "                    --jp-layout-color3: var(--colab-primary-surface-color, white);\n",
       "                }\n",
       "            </style>\n",
       "            "
      ],
      "text/plain": [
       "<IPython.core.display.HTML object>"
      ]
     },
     "metadata": {},
     "output_type": "display_data"
    }
   ],
   "source": [
    "Map.add_basemap('Gaode.Satellite')"
   ]
  },
  {
   "cell_type": "code",
   "execution_count": 8,
   "id": "28213d6a",
   "metadata": {},
   "outputs": [
    {
     "data": {
      "text/html": [
       "\n",
       "            <style>\n",
       "                .geemap-dark {\n",
       "                    --jp-widgets-color: white;\n",
       "                    --jp-widgets-label-color: white;\n",
       "                    --jp-ui-font-color1: white;\n",
       "                    --jp-layout-color2: #454545;\n",
       "                    background-color: #383838;\n",
       "                }\n",
       "                    \n",
       "                .geemap-dark .jupyter-button {\n",
       "                    --jp-layout-color3: #383838;\n",
       "                }\n",
       "                \n",
       "                .geemap-colab {\n",
       "                    background-color: var(--colab-primary-surface-color, white);\n",
       "                }\n",
       "                    \n",
       "                .geemap-colab .jupyter-button {\n",
       "                    --jp-layout-color3: var(--colab-primary-surface-color, white);\n",
       "                }\n",
       "            </style>\n",
       "            "
      ],
      "text/plain": [
       "<IPython.core.display.HTML object>"
      ]
     },
     "metadata": {},
     "output_type": "display_data"
    },
    {
     "data": {
      "application/vnd.jupyter.widget-view+json": {
       "model_id": "6727576889d54faa8bbcf41f6e2faa1a",
       "version_major": 2,
       "version_minor": 0
      },
      "text/plain": [
       "Map(center=[0, 0], controls=(WidgetControl(options=['position', 'transparent_bg'], widget=SearchDataGUI(childr…"
      ]
     },
     "execution_count": 8,
     "metadata": {},
     "output_type": "execute_result"
    }
   ],
   "source": [
    "Map"
   ]
  },
  {
   "cell_type": "markdown",
   "id": "4ce03a33",
   "metadata": {},
   "source": [
    "# <font style=\"color:red\">1. Colecciones y ROI </font>"
   ]
  },
  {
   "cell_type": "code",
   "execution_count": 9,
   "id": "44633551",
   "metadata": {},
   "outputs": [
    {
     "data": {
      "text/html": [
       "\n",
       "            <style>\n",
       "                .geemap-dark {\n",
       "                    --jp-widgets-color: white;\n",
       "                    --jp-widgets-label-color: white;\n",
       "                    --jp-ui-font-color1: white;\n",
       "                    --jp-layout-color2: #454545;\n",
       "                    background-color: #383838;\n",
       "                }\n",
       "                    \n",
       "                .geemap-dark .jupyter-button {\n",
       "                    --jp-layout-color3: #383838;\n",
       "                }\n",
       "                \n",
       "                .geemap-colab {\n",
       "                    background-color: var(--colab-primary-surface-color, white);\n",
       "                }\n",
       "                    \n",
       "                .geemap-colab .jupyter-button {\n",
       "                    --jp-layout-color3: var(--colab-primary-surface-color, white);\n",
       "                }\n",
       "            </style>\n",
       "            "
      ],
      "text/plain": [
       "<IPython.core.display.HTML object>"
      ]
     },
     "metadata": {},
     "output_type": "display_data"
    }
   ],
   "source": [
    "roi =ee.Feature(\n",
    "    ee.Geometry.Polygon([\n",
    "        [[-74.481355,0.932196],\n",
    "              [-74.481355,0.631389],\n",
    "              [-74.412,0.631389],\n",
    "              [-74.412,0.932196]]\n",
    "    ]),\n",
    "        {\n",
    "          \"area\": \"chiribiquete\",\n",
    "          \"system:index\": \"0\"\n",
    "        })"
   ]
  },
  {
   "cell_type": "code",
   "execution_count": 10,
   "id": "4a452009",
   "metadata": {},
   "outputs": [
    {
     "data": {
      "text/html": [
       "\n",
       "            <style>\n",
       "                .geemap-dark {\n",
       "                    --jp-widgets-color: white;\n",
       "                    --jp-widgets-label-color: white;\n",
       "                    --jp-ui-font-color1: white;\n",
       "                    --jp-layout-color2: #454545;\n",
       "                    background-color: #383838;\n",
       "                }\n",
       "                    \n",
       "                .geemap-dark .jupyter-button {\n",
       "                    --jp-layout-color3: #383838;\n",
       "                }\n",
       "                \n",
       "                .geemap-colab {\n",
       "                    background-color: var(--colab-primary-surface-color, white);\n",
       "                }\n",
       "                    \n",
       "                .geemap-colab .jupyter-button {\n",
       "                    --jp-layout-color3: var(--colab-primary-surface-color, white);\n",
       "                }\n",
       "            </style>\n",
       "            "
      ],
      "text/plain": [
       "<IPython.core.display.HTML object>"
      ]
     },
     "metadata": {},
     "output_type": "display_data"
    }
   ],
   "source": [
    "#Visualizar la región de interés\n",
    "Map.addLayer(roi,{},\"roi\")"
   ]
  },
  {
   "cell_type": "code",
   "execution_count": 11,
   "id": "c1e870d4",
   "metadata": {},
   "outputs": [
    {
     "data": {
      "text/html": [
       "\n",
       "            <style>\n",
       "                .geemap-dark {\n",
       "                    --jp-widgets-color: white;\n",
       "                    --jp-widgets-label-color: white;\n",
       "                    --jp-ui-font-color1: white;\n",
       "                    --jp-layout-color2: #454545;\n",
       "                    background-color: #383838;\n",
       "                }\n",
       "                    \n",
       "                .geemap-dark .jupyter-button {\n",
       "                    --jp-layout-color3: #383838;\n",
       "                }\n",
       "                \n",
       "                .geemap-colab {\n",
       "                    background-color: var(--colab-primary-surface-color, white);\n",
       "                }\n",
       "                    \n",
       "                .geemap-colab .jupyter-button {\n",
       "                    --jp-layout-color3: var(--colab-primary-surface-color, white);\n",
       "                }\n",
       "            </style>\n",
       "            "
      ],
      "text/plain": [
       "<IPython.core.display.HTML object>"
      ]
     },
     "metadata": {},
     "output_type": "display_data"
    }
   ],
   "source": [
    "#Colección de imagenes landsat 8\n",
    "Imagenes = (\n",
    "    ee.ImageCollection(\"LANDSAT/LC08/C02/T1_L2\")\n",
    "    .filterMetadata('CLOUD_COVER','less_than',30)\n",
    ")"
   ]
  },
  {
   "cell_type": "markdown",
   "id": "91a67892",
   "metadata": {},
   "source": [
    "# <font style=\"color:green\">1.1 Enmascarar nubes </font>"
   ]
  },
  {
   "cell_type": "code",
   "execution_count": 12,
   "id": "aa5a1b99",
   "metadata": {},
   "outputs": [
    {
     "data": {
      "text/html": [
       "\n",
       "            <style>\n",
       "                .geemap-dark {\n",
       "                    --jp-widgets-color: white;\n",
       "                    --jp-widgets-label-color: white;\n",
       "                    --jp-ui-font-color1: white;\n",
       "                    --jp-layout-color2: #454545;\n",
       "                    background-color: #383838;\n",
       "                }\n",
       "                    \n",
       "                .geemap-dark .jupyter-button {\n",
       "                    --jp-layout-color3: #383838;\n",
       "                }\n",
       "                \n",
       "                .geemap-colab {\n",
       "                    background-color: var(--colab-primary-surface-color, white);\n",
       "                }\n",
       "                    \n",
       "                .geemap-colab .jupyter-button {\n",
       "                    --jp-layout-color3: var(--colab-primary-surface-color, white);\n",
       "                }\n",
       "            </style>\n",
       "            "
      ],
      "text/plain": [
       "<IPython.core.display.HTML object>"
      ]
     },
     "metadata": {},
     "output_type": "display_data"
    }
   ],
   "source": [
    "#Enmascaramiento de nubes\n",
    "def maskL8sr(img):\n",
    "    cloudShadowBitMask = (1 << 3)\n",
    "    cloudsBitMask = (1 << 4)\n",
    "    qa = img.select('QA_PIXEL')\n",
    "    mask = qa.bitwiseAnd(cloudShadowBitMask).eq(0).And(qa.bitwiseAnd(cloudsBitMask).eq(0))\n",
    "    return img.updateMask(mask)"
   ]
  },
  {
   "cell_type": "code",
   "execution_count": 13,
   "id": "67a841d8",
   "metadata": {},
   "outputs": [
    {
     "data": {
      "text/html": [
       "\n",
       "            <style>\n",
       "                .geemap-dark {\n",
       "                    --jp-widgets-color: white;\n",
       "                    --jp-widgets-label-color: white;\n",
       "                    --jp-ui-font-color1: white;\n",
       "                    --jp-layout-color2: #454545;\n",
       "                    background-color: #383838;\n",
       "                }\n",
       "                    \n",
       "                .geemap-dark .jupyter-button {\n",
       "                    --jp-layout-color3: #383838;\n",
       "                }\n",
       "                \n",
       "                .geemap-colab {\n",
       "                    background-color: var(--colab-primary-surface-color, white);\n",
       "                }\n",
       "                    \n",
       "                .geemap-colab .jupyter-button {\n",
       "                    --jp-layout-color3: var(--colab-primary-surface-color, white);\n",
       "                }\n",
       "            </style>\n",
       "            "
      ],
      "text/plain": [
       "<IPython.core.display.HTML object>"
      ]
     },
     "metadata": {},
     "output_type": "display_data"
    }
   ],
   "source": [
    "Imagenes_sinNubes = Imagenes.map(maskL8sr)"
   ]
  },
  {
   "cell_type": "markdown",
   "id": "c70cb302",
   "metadata": {},
   "source": [
    "# <font style=\"color:green\">1.2 Cortar imagenes </font>"
   ]
  },
  {
   "cell_type": "code",
   "execution_count": 14,
   "id": "b4bfc3ef",
   "metadata": {},
   "outputs": [
    {
     "data": {
      "text/html": [
       "\n",
       "            <style>\n",
       "                .geemap-dark {\n",
       "                    --jp-widgets-color: white;\n",
       "                    --jp-widgets-label-color: white;\n",
       "                    --jp-ui-font-color1: white;\n",
       "                    --jp-layout-color2: #454545;\n",
       "                    background-color: #383838;\n",
       "                }\n",
       "                    \n",
       "                .geemap-dark .jupyter-button {\n",
       "                    --jp-layout-color3: #383838;\n",
       "                }\n",
       "                \n",
       "                .geemap-colab {\n",
       "                    background-color: var(--colab-primary-surface-color, white);\n",
       "                }\n",
       "                    \n",
       "                .geemap-colab .jupyter-button {\n",
       "                    --jp-layout-color3: var(--colab-primary-surface-color, white);\n",
       "                }\n",
       "            </style>\n",
       "            "
      ],
      "text/plain": [
       "<IPython.core.display.HTML object>"
      ]
     },
     "metadata": {},
     "output_type": "display_data"
    }
   ],
   "source": [
    "#Cortar imagenes\n",
    "def cortar(img):\n",
    "    return img.clip(roi).copyProperties(img,[\"system:time_start\"])"
   ]
  },
  {
   "cell_type": "code",
   "execution_count": 15,
   "id": "239390ed",
   "metadata": {},
   "outputs": [
    {
     "data": {
      "text/html": [
       "\n",
       "            <style>\n",
       "                .geemap-dark {\n",
       "                    --jp-widgets-color: white;\n",
       "                    --jp-widgets-label-color: white;\n",
       "                    --jp-ui-font-color1: white;\n",
       "                    --jp-layout-color2: #454545;\n",
       "                    background-color: #383838;\n",
       "                }\n",
       "                    \n",
       "                .geemap-dark .jupyter-button {\n",
       "                    --jp-layout-color3: #383838;\n",
       "                }\n",
       "                \n",
       "                .geemap-colab {\n",
       "                    background-color: var(--colab-primary-surface-color, white);\n",
       "                }\n",
       "                    \n",
       "                .geemap-colab .jupyter-button {\n",
       "                    --jp-layout-color3: var(--colab-primary-surface-color, white);\n",
       "                }\n",
       "            </style>\n",
       "            "
      ],
      "text/plain": [
       "<IPython.core.display.HTML object>"
      ]
     },
     "metadata": {},
     "output_type": "display_data"
    }
   ],
   "source": [
    "Imagenes_cortadas = Imagenes_sinNubes.map(cortar)"
   ]
  },
  {
   "cell_type": "markdown",
   "id": "6e6a71b2",
   "metadata": {},
   "source": [
    "# <font style=\"color:green\">1.3 Crear NDVI </font>"
   ]
  },
  {
   "cell_type": "code",
   "execution_count": 16,
   "id": "cc459ecd",
   "metadata": {},
   "outputs": [
    {
     "data": {
      "text/html": [
       "\n",
       "            <style>\n",
       "                .geemap-dark {\n",
       "                    --jp-widgets-color: white;\n",
       "                    --jp-widgets-label-color: white;\n",
       "                    --jp-ui-font-color1: white;\n",
       "                    --jp-layout-color2: #454545;\n",
       "                    background-color: #383838;\n",
       "                }\n",
       "                    \n",
       "                .geemap-dark .jupyter-button {\n",
       "                    --jp-layout-color3: #383838;\n",
       "                }\n",
       "                \n",
       "                .geemap-colab {\n",
       "                    background-color: var(--colab-primary-surface-color, white);\n",
       "                }\n",
       "                    \n",
       "                .geemap-colab .jupyter-button {\n",
       "                    --jp-layout-color3: var(--colab-primary-surface-color, white);\n",
       "                }\n",
       "            </style>\n",
       "            "
      ],
      "text/plain": [
       "<IPython.core.display.HTML object>"
      ]
     },
     "metadata": {},
     "output_type": "display_data"
    }
   ],
   "source": [
    "def toNDVI8(img):\n",
    "    ndvi = img.expression('((NIR - RED) / (NIR + RED))',\n",
    "    {'NIR': img.select('SR_B5'),\n",
    "    'RED': img.select('SR_B4')}).rename('NDVI').copyProperties(img, ['system:time_start'])\n",
    "    return img.addBands(ndvi)"
   ]
  },
  {
   "cell_type": "code",
   "execution_count": 17,
   "id": "912d6c4d",
   "metadata": {},
   "outputs": [
    {
     "data": {
      "text/html": [
       "\n",
       "            <style>\n",
       "                .geemap-dark {\n",
       "                    --jp-widgets-color: white;\n",
       "                    --jp-widgets-label-color: white;\n",
       "                    --jp-ui-font-color1: white;\n",
       "                    --jp-layout-color2: #454545;\n",
       "                    background-color: #383838;\n",
       "                }\n",
       "                    \n",
       "                .geemap-dark .jupyter-button {\n",
       "                    --jp-layout-color3: #383838;\n",
       "                }\n",
       "                \n",
       "                .geemap-colab {\n",
       "                    background-color: var(--colab-primary-surface-color, white);\n",
       "                }\n",
       "                    \n",
       "                .geemap-colab .jupyter-button {\n",
       "                    --jp-layout-color3: var(--colab-primary-surface-color, white);\n",
       "                }\n",
       "            </style>\n",
       "            "
      ],
      "text/plain": [
       "<IPython.core.display.HTML object>"
      ]
     },
     "metadata": {},
     "output_type": "display_data"
    }
   ],
   "source": [
    "Imagenes_cortadas = Imagenes_cortadas.map(toNDVI8)"
   ]
  },
  {
   "cell_type": "markdown",
   "id": "78ed9a4f",
   "metadata": {},
   "source": [
    "# <font style=\"color:green\">1.4 Crear imagenes promedio anuales </font>"
   ]
  },
  {
   "cell_type": "code",
   "execution_count": 18,
   "id": "a0d01c3f",
   "metadata": {},
   "outputs": [
    {
     "data": {
      "text/html": [
       "\n",
       "            <style>\n",
       "                .geemap-dark {\n",
       "                    --jp-widgets-color: white;\n",
       "                    --jp-widgets-label-color: white;\n",
       "                    --jp-ui-font-color1: white;\n",
       "                    --jp-layout-color2: #454545;\n",
       "                    background-color: #383838;\n",
       "                }\n",
       "                    \n",
       "                .geemap-dark .jupyter-button {\n",
       "                    --jp-layout-color3: #383838;\n",
       "                }\n",
       "                \n",
       "                .geemap-colab {\n",
       "                    background-color: var(--colab-primary-surface-color, white);\n",
       "                }\n",
       "                    \n",
       "                .geemap-colab .jupyter-button {\n",
       "                    --jp-layout-color3: var(--colab-primary-surface-color, white);\n",
       "                }\n",
       "            </style>\n",
       "            "
      ],
      "text/plain": [
       "<IPython.core.display.HTML object>"
      ]
     },
     "metadata": {},
     "output_type": "display_data"
    }
   ],
   "source": [
    "# Imagenes promedio por años\n",
    "LS2014 = Imagenes_cortadas.filterDate(\"2014-01-01\",\"2014-12-31\").mean()\n",
    "LS2015 = Imagenes_cortadas.filterDate(\"2015-01-01\",\"2015-12-31\").mean()\n",
    "LS2016 = Imagenes_cortadas.filterDate(\"2016-01-01\",\"2016-12-31\").mean()\n",
    "LS2017 = Imagenes_cortadas.filterDate(\"2017-01-01\",\"2017-12-31\").mean()\n",
    "LS2018 = Imagenes_cortadas.filterDate(\"2018-01-01\",\"2018-12-31\").mean()\n",
    "LS2019 = Imagenes_cortadas.filterDate(\"2019-01-01\",\"2019-12-31\").mean()\n",
    "LS2020 = Imagenes_cortadas.filterDate(\"2020-01-01\",\"2020-12-31\").mean()\n",
    "LS2021 = Imagenes_cortadas.filterDate(\"2021-01-01\",\"2021-12-31\").mean()\n",
    "LS2022 = Imagenes_cortadas.filterDate(\"2022-01-01\",\"2022-12-31\").mean()"
   ]
  },
  {
   "cell_type": "markdown",
   "id": "2b82e72c",
   "metadata": {},
   "source": [
    "# <font style=\"color:green\">1.5 Mostrar promedio anuales </font>"
   ]
  },
  {
   "cell_type": "code",
   "execution_count": 19,
   "id": "72c90aca",
   "metadata": {
    "scrolled": true
   },
   "outputs": [
    {
     "data": {
      "text/html": [
       "\n",
       "            <style>\n",
       "                .geemap-dark {\n",
       "                    --jp-widgets-color: white;\n",
       "                    --jp-widgets-label-color: white;\n",
       "                    --jp-ui-font-color1: white;\n",
       "                    --jp-layout-color2: #454545;\n",
       "                    background-color: #383838;\n",
       "                }\n",
       "                    \n",
       "                .geemap-dark .jupyter-button {\n",
       "                    --jp-layout-color3: #383838;\n",
       "                }\n",
       "                \n",
       "                .geemap-colab {\n",
       "                    background-color: var(--colab-primary-surface-color, white);\n",
       "                }\n",
       "                    \n",
       "                .geemap-colab .jupyter-button {\n",
       "                    --jp-layout-color3: var(--colab-primary-surface-color, white);\n",
       "                }\n",
       "            </style>\n",
       "            "
      ],
      "text/plain": [
       "<IPython.core.display.HTML object>"
      ]
     },
     "metadata": {},
     "output_type": "display_data"
    }
   ],
   "source": [
    "# Imprimir el resultado en el visor\n",
    "Map.addLayer(LS2014.select([\"SR_B4\",\"SR_B3\",\"SR_B2\"]), {\"min\":8256.6, \"max\":9647.4}, \"2014\")\n",
    "Map.addLayer(LS2015.select([\"SR_B4\",\"SR_B3\",\"SR_B2\"]), {\"min\":8256.6, \"max\":9647.4}, \"2015\")\n",
    "Map.addLayer(LS2016.select([\"SR_B4\",\"SR_B3\",\"SR_B2\"]), {\"min\":8256.6, \"max\":9647.4}, \"2016\")\n",
    "Map.addLayer(LS2017.select([\"SR_B4\",\"SR_B3\",\"SR_B2\"]), {\"min\":8256.6, \"max\":9647.4}, \"2017\")\n",
    "Map.addLayer(LS2018.select([\"SR_B4\",\"SR_B3\",\"SR_B2\"]), {\"min\":8256.6, \"max\":9647.4}, \"2018\")\n",
    "Map.addLayer(LS2019.select([\"SR_B4\",\"SR_B3\",\"SR_B2\"]), {\"min\":8256.6, \"max\":9647.4}, \"2019\")\n",
    "Map.addLayer(LS2020.select([\"SR_B4\",\"SR_B3\",\"SR_B2\"]), {\"min\":8256.6, \"max\":9647.4}, \"2020\")\n",
    "Map.addLayer(LS2021.select([\"SR_B4\",\"SR_B3\",\"SR_B2\"]), {\"min\":8256.6, \"max\":9647.4}, \"2021\")\n",
    "Map.addLayer(LS2022.select([\"SR_B4\",\"SR_B3\",\"SR_B2\"]), {\"min\":8256.6, \"max\":9647.4}, \"2022\")"
   ]
  },
  {
   "cell_type": "markdown",
   "id": "be07bb3c",
   "metadata": {},
   "source": [
    "# <font style=\"color:red\">2. SELECCIÓN DE PUNTOS DE ENTRENAMIENTO </font>"
   ]
  },
  {
   "cell_type": "markdown",
   "id": "1981f640",
   "metadata": {},
   "source": [
    "# <font style=\"color:green\">2.1 Año 2022 </font>"
   ]
  },
  {
   "cell_type": "code",
   "execution_count": 20,
   "id": "0d256ccb",
   "metadata": {},
   "outputs": [
    {
     "data": {
      "text/html": [
       "\n",
       "            <style>\n",
       "                .geemap-dark {\n",
       "                    --jp-widgets-color: white;\n",
       "                    --jp-widgets-label-color: white;\n",
       "                    --jp-ui-font-color1: white;\n",
       "                    --jp-layout-color2: #454545;\n",
       "                    background-color: #383838;\n",
       "                }\n",
       "                    \n",
       "                .geemap-dark .jupyter-button {\n",
       "                    --jp-layout-color3: #383838;\n",
       "                }\n",
       "                \n",
       "                .geemap-colab {\n",
       "                    background-color: var(--colab-primary-surface-color, white);\n",
       "                }\n",
       "                    \n",
       "                .geemap-colab .jupyter-button {\n",
       "                    --jp-layout-color3: var(--colab-primary-surface-color, white);\n",
       "                }\n",
       "            </style>\n",
       "            "
      ],
      "text/plain": [
       "<IPython.core.display.HTML object>"
      ]
     },
     "metadata": {},
     "output_type": "display_data"
    }
   ],
   "source": [
    "paleta = ['#8000ff', ' #7e03ff', ' #7c06ff', ' #7a09ff', ' #780dff', ' #7610ff', ' #7413ff', ' #7216ff', ' #7019ff', ' #6e1cff', ' #6c1fff', ' #6a22fe', ' #6826fe', ' #6629fe', ' #642cfe', ' #622ffe', ' #6032fe', ' #5e35fe', ' #5c38fd', ' #5a3bfd', ' #583efd', ' #5641fd', ' #5444fd', ' #5247fc', ' #504afc', ' #4e4dfc', ' #4c50fc', ' #4a53fb', ' #4856fb', ' #4659fb', ' #445cfb', ' #425ffa', ' #4062fa', ' #3e65fa', ' #3c68f9', ' #396bf9', ' #386df9', ' #3670f8', ' #3473f8', ' #3176f8', ' #3079f7', ' #2e7bf7', ' #2c7ef7', ' #2981f6', ' #2884f6', ' #2686f5', ' #2489f5', ' #218cf4', ' #208ef4', ' #1e91f3', ' #1c93f3', ' #1996f3', ' #1898f2', ' #169bf2', ' #149df1', ' #11a0f1', ' #10a2f0', ' #0ea5ef', ' #0ca7ef', ' #09a9ee', ' #08acee', ' #06aeed', ' #04b0ed', ' #01b3ec', ' #00b5eb', ' #02b7eb', ' #04b9ea', ' #07bbea', ' #08bee9', ' #0ac0e8', ' #0dc2e8', ' #0fc4e7', ' #10c6e6', ' #12c8e6', ' #14cae5', ' #17cbe4', ' #18cde4', ' #1acfe3', ' #1dd1e2', ' #1fd3e1', ' #20d5e1', ' #22d6e0', ' #24d8df', ' #27dade', ' #28dbde', ' #2adddd', ' #2ddedc', ' #2fe0db', ' #30e1da', ' #32e3da', ' #34e4d9', ' #37e6d8', ' #38e7d7', ' #3ae8d6', ' #3dead5', ' #3febd5', ' #40ecd4', ' #42edd3', ' #44eed2', ' #46efd1', ' #48f1d0', ' #4af2cf', ' #4df3ce', ' #4ef3cd', ' #50f4cc', ' #52f5cb', ' #54f6cb', ' #56f7ca', ' #58f8c9', ' #5af8c8', ' #5df9c7', ' #5efac6', ' #60fac5', ' #62fbc4', ' #64fbc3', ' #66fcc2', ' #68fcc1', ' #6afdc0', ' #6dfdbf', ' #6efebe', ' #70febc', ' #72febb', ' #74feba', ' #76ffb9', ' #78ffb8', ' #7affb7', ' #7dffb6', ' #7effb5', ' #80ffb4', ' #82ffb3', ' #84ffb2', ' #86ffb0', ' #88ffaf', ' #8bfeae', ' #8cfead', ' #8efeac', ' #90feab', ' #92fda9', ' #94fda8', ' #96fca7', ' #99fca6', ' #9bfba5', ' #9cfba4', ' #9efaa2', ' #a0faa1', ' #a2f9a0', ' #a4f89f', ' #a6f89d', ' #a8f79c', ' #abf69b', ' #acf59a', ' #aef498', ' #b0f397', ' #b2f396', ' #b4f295', ' #b6f193', ' #b9ef92', ' #bbee91', ' #bced8f', ' #beec8e', ' #c0eb8d', ' #c2ea8c', ' #c4e88a', ' #c6e789', ' #c8e688', ' #cbe486', ' #cce385', ' #cee184', ' #d0e082', ' #d2de81', ' #d4dd80', ' #d6db7e', ' #d9da7d', ' #dbd87b', ' #dcd67a', ' #ded579', ' #e0d377', ' #e2d176', ' #e4cf74', ' #e6cd73', ' #e8cb72', ' #ebca70', ' #ecc86f', ' #eec66d', ' #f0c46c', ' #f2c26b', ' #f4c069', ' #f6be68', ' #f9bb66', ' #fbb965', ' #fcb763', ' #feb562', ' #ffb360', ' #ffb05f', ' #ffae5e', ' #ffac5c', ' #ffa95b', ' #ffa759', ' #ffa558', ' #ffa256', ' #ffa055', ' #ff9d53', ' #ff9b52', ' #ff9850', ' #ff964f', ' #ff934d', ' #ff914c', ' #ff8e4a', ' #ff8c49', ' #ff8947', ' #ff8646', ' #ff8444', ' #ff8143', ' #ff7e41', ' #ff7b40', ' #ff793e', ' #ff763d', ' #ff733b', ' #ff703a', ' #ff6d38', ' #ff6b37', ' #ff6835', ' #ff6533', ' #ff6232', ' #ff5f30', ' #ff5c2f', ' #ff592d', ' #ff562c', ' #ff532a', ' #ff5029', ' #ff4d27', ' #ff4a26', ' #ff4724', ' #ff4422', ' #ff4121', ' #ff3e1f', ' #ff3b1e', ' #ff381c', ' #ff351b', ' #ff3219', ' #ff2f18', ' #ff2c16', ' #ff2914', ' #ff2613', ' #ff2211', ' #ff1f10', ' #ff1c0e', ' #ff190d', ' #ff160b', ' #ff1309', ' #ff1008', ' #ff0d06', ' #ff0905', ' #ff0603', ' #ff0302', ' #ff0000']"
   ]
  },
  {
   "cell_type": "code",
   "execution_count": 21,
   "id": "69b132e9",
   "metadata": {},
   "outputs": [
    {
     "data": {
      "text/html": [
       "\n",
       "            <style>\n",
       "                .geemap-dark {\n",
       "                    --jp-widgets-color: white;\n",
       "                    --jp-widgets-label-color: white;\n",
       "                    --jp-ui-font-color1: white;\n",
       "                    --jp-layout-color2: #454545;\n",
       "                    background-color: #383838;\n",
       "                }\n",
       "                    \n",
       "                .geemap-dark .jupyter-button {\n",
       "                    --jp-layout-color3: #383838;\n",
       "                }\n",
       "                \n",
       "                .geemap-colab {\n",
       "                    background-color: var(--colab-primary-surface-color, white);\n",
       "                }\n",
       "                    \n",
       "                .geemap-colab .jupyter-button {\n",
       "                    --jp-layout-color3: var(--colab-primary-surface-color, white);\n",
       "                }\n",
       "            </style>\n",
       "            "
      ],
      "text/plain": [
       "<IPython.core.display.HTML object>"
      ]
     },
     "metadata": {},
     "output_type": "display_data"
    }
   ],
   "source": [
    "Map.addLayer(LS2022.select(\"NDVI\"), {\"min\":0.2, \"max\":0.4, 'palette':paleta}, \"NDVI 2014\")"
   ]
  },
  {
   "cell_type": "code",
   "execution_count": 26,
   "id": "ac32b30b",
   "metadata": {},
   "outputs": [
    {
     "data": {
      "text/html": [
       "\n",
       "            <style>\n",
       "                .geemap-dark {\n",
       "                    --jp-widgets-color: white;\n",
       "                    --jp-widgets-label-color: white;\n",
       "                    --jp-ui-font-color1: white;\n",
       "                    --jp-layout-color2: #454545;\n",
       "                    background-color: #383838;\n",
       "                }\n",
       "                    \n",
       "                .geemap-dark .jupyter-button {\n",
       "                    --jp-layout-color3: #383838;\n",
       "                }\n",
       "                \n",
       "                .geemap-colab {\n",
       "                    background-color: var(--colab-primary-surface-color, white);\n",
       "                }\n",
       "                    \n",
       "                .geemap-colab .jupyter-button {\n",
       "                    --jp-layout-color3: var(--colab-primary-surface-color, white);\n",
       "                }\n",
       "            </style>\n",
       "            "
      ],
      "text/plain": [
       "<IPython.core.display.HTML object>"
      ]
     },
     "metadata": {},
     "output_type": "display_data"
    },
    {
     "data": {
      "application/vnd.jupyter.widget-view+json": {
       "model_id": "71c2f70783714380acb471b0e75963e3",
       "version_major": 2,
       "version_minor": 0
      },
      "text/plain": [
       "Map(bottom=8358454.0, center=[0.6534577799670713, -74.45564389228822], controls=(WidgetControl(options=['posit…"
      ]
     },
     "execution_count": 26,
     "metadata": {},
     "output_type": "execute_result"
    }
   ],
   "source": [
    "Map"
   ]
  },
  {
   "cell_type": "markdown",
   "id": "70e9c61f",
   "metadata": {},
   "source": [
    "# <font style=\"color:blue\">2.1.1 En esta opción vamos a traer los puntos que marquemos del visor </font>"
   ]
  },
  {
   "cell_type": "code",
   "execution_count": 22,
   "id": "30d7d887",
   "metadata": {},
   "outputs": [
    {
     "data": {
      "text/html": [
       "\n",
       "            <style>\n",
       "                .geemap-dark {\n",
       "                    --jp-widgets-color: white;\n",
       "                    --jp-widgets-label-color: white;\n",
       "                    --jp-ui-font-color1: white;\n",
       "                    --jp-layout-color2: #454545;\n",
       "                    background-color: #383838;\n",
       "                }\n",
       "                    \n",
       "                .geemap-dark .jupyter-button {\n",
       "                    --jp-layout-color3: #383838;\n",
       "                }\n",
       "                \n",
       "                .geemap-colab {\n",
       "                    background-color: var(--colab-primary-surface-color, white);\n",
       "                }\n",
       "                    \n",
       "                .geemap-colab .jupyter-button {\n",
       "                    --jp-layout-color3: var(--colab-primary-surface-color, white);\n",
       "                }\n",
       "            </style>\n",
       "            "
      ],
      "text/plain": [
       "<IPython.core.display.HTML object>"
      ]
     },
     "metadata": {},
     "output_type": "display_data"
    }
   ],
   "source": [
    "#Nota: seleccionar primero los puntos en el visor y luego correr la linea\n",
    "#Sin vegetación año 2014\n",
    "SV2014 = ee.FeatureCollection(Map.draw_features)"
   ]
  },
  {
   "cell_type": "code",
   "execution_count": 23,
   "id": "398ca9e6",
   "metadata": {
    "scrolled": false
   },
   "outputs": [
    {
     "data": {
      "text/html": [
       "\n",
       "            <style>\n",
       "                .geemap-dark {\n",
       "                    --jp-widgets-color: white;\n",
       "                    --jp-widgets-label-color: white;\n",
       "                    --jp-ui-font-color1: white;\n",
       "                    --jp-layout-color2: #454545;\n",
       "                    background-color: #383838;\n",
       "                }\n",
       "                    \n",
       "                .geemap-dark .jupyter-button {\n",
       "                    --jp-layout-color3: #383838;\n",
       "                }\n",
       "                \n",
       "                .geemap-colab {\n",
       "                    background-color: var(--colab-primary-surface-color, white);\n",
       "                }\n",
       "                    \n",
       "                .geemap-colab .jupyter-button {\n",
       "                    --jp-layout-color3: var(--colab-primary-surface-color, white);\n",
       "                }\n",
       "            </style>\n",
       "            "
      ],
      "text/plain": [
       "<IPython.core.display.HTML object>"
      ]
     },
     "metadata": {},
     "output_type": "display_data"
    },
    {
     "data": {
      "text/html": [
       "<div><style>:root {\n",
       "  --font-color-primary: var(--jp-content-font-color0, rgba(0, 0, 0, 1));\n",
       "  --font-color-secondary: var(--jp-content-font-color2, rgba(0, 0, 0, 0.6));\n",
       "  --font-color-accent: rgba(123, 31, 162, 1);\n",
       "  --border-color: var(--jp-border-color2, #e0e0e0);\n",
       "  --background-color: var(--jp-layout-color0, white);\n",
       "  --background-color-row-even: var(--jp-layout-color1, white);\n",
       "  --background-color-row-odd: var(--jp-layout-color2, #eeeeee);\n",
       "}\n",
       "\n",
       "html[theme=\"dark\"],\n",
       "body[data-theme=\"dark\"],\n",
       "body.vscode-dark {\n",
       "  --font-color-primary: rgba(255, 255, 255, 1);\n",
       "  --font-color-secondary: rgba(255, 255, 255, 0.6);\n",
       "  --font-color-accent: rgb(173, 132, 190);\n",
       "  --border-color: #2e2e2e;\n",
       "  --background-color: #111111;\n",
       "  --background-color-row-even: #111111;\n",
       "  --background-color-row-odd: #313131;\n",
       "}\n",
       "\n",
       ".ee {\n",
       "  padding: 1em;\n",
       "  line-height: 1.5em;\n",
       "  min-width: 300px;\n",
       "  max-width: 1200px;\n",
       "  overflow-y: scroll;\n",
       "  max-height: 600px;\n",
       "  border: 1px solid var(--border-color);\n",
       "  font-family: monospace;\n",
       "}\n",
       "\n",
       ".ee li {\n",
       "  list-style-type: none;\n",
       "}\n",
       "\n",
       ".ee ul {\n",
       "  padding-left: 1.5em !important;\n",
       "  margin: 0;\n",
       "}\n",
       "\n",
       ".ee > ul {\n",
       "  padding-left: 0 !important;\n",
       "}\n",
       "\n",
       ".ee-open,\n",
       ".ee-shut {\n",
       "  color: var(--font-color-secondary);\n",
       "  cursor: pointer;\n",
       "  margin: 0;\n",
       "}\n",
       "\n",
       ".ee-open:hover,\n",
       ".ee-shut:hover {\n",
       "  color: var(--font-color-primary);\n",
       "}\n",
       "\n",
       ".ee-k {\n",
       "  color: var(--font-color-accent);\n",
       "  margin-right: 6px;\n",
       "}\n",
       "\n",
       ".ee-v {\n",
       "  color: var(--font-color-primary);\n",
       "}\n",
       "\n",
       ".ee-toggle {\n",
       "  display: none;\n",
       "}\n",
       "\n",
       ".ee-shut + ul {\n",
       "  display: none;\n",
       "}\n",
       "\n",
       ".ee-open + ul {\n",
       "  display: block;\n",
       "}\n",
       "\n",
       ".ee-shut::before {\n",
       "  display: inline-block;\n",
       "  content: \"▼\";\n",
       "  margin-right: 6px;\n",
       "  transform: rotate(-90deg);\n",
       "  transition: transform 0.2s;\n",
       "}\n",
       "\n",
       ".ee-open::before {\n",
       "  transform: rotate(0deg);\n",
       "  display: inline-block;\n",
       "  content: \"▼\";\n",
       "  margin-right: 6px;\n",
       "  transition: transform 0.2s;\n",
       "}\n",
       "</style><div class='ee'><ul><li><label class='ee-shut'>FeatureCollection (5 elements, 1 column)<input type='checkbox' class='ee-toggle'></label><ul><li><span class='ee-k'>type:</span><span class='ee-v'>FeatureCollection</span></li><li><label class='ee-shut'>columns: Object (1 property)<input type='checkbox' class='ee-toggle'></label><ul><li><span class='ee-k'>system:index:</span><span class='ee-v'>String</span></li></ul></li><li><label class='ee-shut'>features: List (5 elements)<input type='checkbox' class='ee-toggle'></label><ul><li><label class='ee-shut'>0: Feature (Point, 0 properties)<input type='checkbox' class='ee-toggle'></label><ul><li><span class='ee-k'>type:</span><span class='ee-v'>Feature</span></li><li><span class='ee-k'>id:</span><span class='ee-v'>0</span></li><li><label class='ee-shut'>geometry: Point (-74.47, 0.66)<input type='checkbox' class='ee-toggle'></label><ul><li><span class='ee-k'>type:</span><span class='ee-v'>Point</span></li><li><label class='ee-shut'>coordinates: [-74.469001, 0.655861]<input type='checkbox' class='ee-toggle'></label><ul><li><span class='ee-k'>0:</span><span class='ee-v'>-74.469001</span></li><li><span class='ee-k'>1:</span><span class='ee-v'>0.655861</span></li></ul></li></ul></li><li><label class='ee-shut'>properties: Object (0 properties)<input type='checkbox' class='ee-toggle'></label><ul></ul></li></ul></li><li><label class='ee-shut'>1: Feature (Point, 0 properties)<input type='checkbox' class='ee-toggle'></label><ul><li><span class='ee-k'>type:</span><span class='ee-v'>Feature</span></li><li><span class='ee-k'>id:</span><span class='ee-v'>1</span></li><li><label class='ee-shut'>geometry: Point (-74.47, 0.66)<input type='checkbox' class='ee-toggle'></label><ul><li><span class='ee-k'>type:</span><span class='ee-v'>Point</span></li><li><label class='ee-shut'>coordinates: [-74.468036, 0.656097]<input type='checkbox' class='ee-toggle'></label><ul><li><span class='ee-k'>0:</span><span class='ee-v'>-74.468036</span></li><li><span class='ee-k'>1:</span><span class='ee-v'>0.656097</span></li></ul></li></ul></li><li><label class='ee-shut'>properties: Object (0 properties)<input type='checkbox' class='ee-toggle'></label><ul></ul></li></ul></li><li><label class='ee-shut'>2: Feature (Point, 0 properties)<input type='checkbox' class='ee-toggle'></label><ul><li><span class='ee-k'>type:</span><span class='ee-v'>Feature</span></li><li><span class='ee-k'>id:</span><span class='ee-v'>2</span></li><li><label class='ee-shut'>geometry: Point (-74.47, 0.66)<input type='checkbox' class='ee-toggle'></label><ul><li><span class='ee-k'>type:</span><span class='ee-v'>Point</span></li><li><label class='ee-shut'>coordinates: [-74.468851, 0.655239]<input type='checkbox' class='ee-toggle'></label><ul><li><span class='ee-k'>0:</span><span class='ee-v'>-74.468851</span></li><li><span class='ee-k'>1:</span><span class='ee-v'>0.655239</span></li></ul></li></ul></li><li><label class='ee-shut'>properties: Object (0 properties)<input type='checkbox' class='ee-toggle'></label><ul></ul></li></ul></li><li><label class='ee-shut'>3: Feature (Point, 0 properties)<input type='checkbox' class='ee-toggle'></label><ul><li><span class='ee-k'>type:</span><span class='ee-v'>Feature</span></li><li><span class='ee-k'>id:</span><span class='ee-v'>3</span></li><li><label class='ee-shut'>geometry: Point (-74.47, 0.65)<input type='checkbox' class='ee-toggle'></label><ul><li><span class='ee-k'>type:</span><span class='ee-v'>Point</span></li><li><label class='ee-shut'>coordinates: [-74.46928, 0.654187]<input type='checkbox' class='ee-toggle'></label><ul><li><span class='ee-k'>0:</span><span class='ee-v'>-74.46928</span></li><li><span class='ee-k'>1:</span><span class='ee-v'>0.654187</span></li></ul></li></ul></li><li><label class='ee-shut'>properties: Object (0 properties)<input type='checkbox' class='ee-toggle'></label><ul></ul></li></ul></li><li><label class='ee-shut'>4: Feature (Point, 0 properties)<input type='checkbox' class='ee-toggle'></label><ul><li><span class='ee-k'>type:</span><span class='ee-v'>Feature</span></li><li><span class='ee-k'>id:</span><span class='ee-v'>4</span></li><li><label class='ee-shut'>geometry: Point (-74.47, 0.65)<input type='checkbox' class='ee-toggle'></label><ul><li><span class='ee-k'>type:</span><span class='ee-v'>Point</span></li><li><label class='ee-shut'>coordinates: [-74.468229, 0.653587]<input type='checkbox' class='ee-toggle'></label><ul><li><span class='ee-k'>0:</span><span class='ee-v'>-74.468229</span></li><li><span class='ee-k'>1:</span><span class='ee-v'>0.653587</span></li></ul></li></ul></li><li><label class='ee-shut'>properties: Object (0 properties)<input type='checkbox' class='ee-toggle'></label><ul></ul></li></ul></li></ul></li></ul></li></ul></div><script>function toggleHeader() {\n",
       "    const parent = this.parentElement;\n",
       "    parent.className = parent.className === \"ee-open\" ? \"ee-shut\" : \"ee-open\";\n",
       "}\n",
       "\n",
       "for (let c of document.getElementsByClassName(\"ee-toggle\")) {\n",
       "    c.onclick = toggleHeader;\n",
       "}</script></div>"
      ],
      "text/plain": [
       "<ee.featurecollection.FeatureCollection at 0x18167bb8260>"
      ]
     },
     "execution_count": 23,
     "metadata": {},
     "output_type": "execute_result"
    }
   ],
   "source": [
    "SV2014"
   ]
  },
  {
   "cell_type": "code",
   "execution_count": 24,
   "id": "38d89d09",
   "metadata": {},
   "outputs": [
    {
     "data": {
      "text/html": [
       "\n",
       "            <style>\n",
       "                .geemap-dark {\n",
       "                    --jp-widgets-color: white;\n",
       "                    --jp-widgets-label-color: white;\n",
       "                    --jp-ui-font-color1: white;\n",
       "                    --jp-layout-color2: #454545;\n",
       "                    background-color: #383838;\n",
       "                }\n",
       "                    \n",
       "                .geemap-dark .jupyter-button {\n",
       "                    --jp-layout-color3: #383838;\n",
       "                }\n",
       "                \n",
       "                .geemap-colab {\n",
       "                    background-color: var(--colab-primary-surface-color, white);\n",
       "                }\n",
       "                    \n",
       "                .geemap-colab .jupyter-button {\n",
       "                    --jp-layout-color3: var(--colab-primary-surface-color, white);\n",
       "                }\n",
       "            </style>\n",
       "            "
      ],
      "text/plain": [
       "<IPython.core.display.HTML object>"
      ]
     },
     "metadata": {},
     "output_type": "display_data"
    }
   ],
   "source": [
    "SV2014 = SV2014.map(lambda feature: feature.set('zona', 0))"
   ]
  },
  {
   "cell_type": "code",
   "execution_count": 25,
   "id": "bb0c9674",
   "metadata": {},
   "outputs": [
    {
     "data": {
      "text/html": [
       "\n",
       "            <style>\n",
       "                .geemap-dark {\n",
       "                    --jp-widgets-color: white;\n",
       "                    --jp-widgets-label-color: white;\n",
       "                    --jp-ui-font-color1: white;\n",
       "                    --jp-layout-color2: #454545;\n",
       "                    background-color: #383838;\n",
       "                }\n",
       "                    \n",
       "                .geemap-dark .jupyter-button {\n",
       "                    --jp-layout-color3: #383838;\n",
       "                }\n",
       "                \n",
       "                .geemap-colab {\n",
       "                    background-color: var(--colab-primary-surface-color, white);\n",
       "                }\n",
       "                    \n",
       "                .geemap-colab .jupyter-button {\n",
       "                    --jp-layout-color3: var(--colab-primary-surface-color, white);\n",
       "                }\n",
       "            </style>\n",
       "            "
      ],
      "text/plain": [
       "<IPython.core.display.HTML object>"
      ]
     },
     "metadata": {},
     "output_type": "display_data"
    },
    {
     "data": {
      "text/html": [
       "<div><style>:root {\n",
       "  --font-color-primary: var(--jp-content-font-color0, rgba(0, 0, 0, 1));\n",
       "  --font-color-secondary: var(--jp-content-font-color2, rgba(0, 0, 0, 0.6));\n",
       "  --font-color-accent: rgba(123, 31, 162, 1);\n",
       "  --border-color: var(--jp-border-color2, #e0e0e0);\n",
       "  --background-color: var(--jp-layout-color0, white);\n",
       "  --background-color-row-even: var(--jp-layout-color1, white);\n",
       "  --background-color-row-odd: var(--jp-layout-color2, #eeeeee);\n",
       "}\n",
       "\n",
       "html[theme=\"dark\"],\n",
       "body[data-theme=\"dark\"],\n",
       "body.vscode-dark {\n",
       "  --font-color-primary: rgba(255, 255, 255, 1);\n",
       "  --font-color-secondary: rgba(255, 255, 255, 0.6);\n",
       "  --font-color-accent: rgb(173, 132, 190);\n",
       "  --border-color: #2e2e2e;\n",
       "  --background-color: #111111;\n",
       "  --background-color-row-even: #111111;\n",
       "  --background-color-row-odd: #313131;\n",
       "}\n",
       "\n",
       ".ee {\n",
       "  padding: 1em;\n",
       "  line-height: 1.5em;\n",
       "  min-width: 300px;\n",
       "  max-width: 1200px;\n",
       "  overflow-y: scroll;\n",
       "  max-height: 600px;\n",
       "  border: 1px solid var(--border-color);\n",
       "  font-family: monospace;\n",
       "}\n",
       "\n",
       ".ee li {\n",
       "  list-style-type: none;\n",
       "}\n",
       "\n",
       ".ee ul {\n",
       "  padding-left: 1.5em !important;\n",
       "  margin: 0;\n",
       "}\n",
       "\n",
       ".ee > ul {\n",
       "  padding-left: 0 !important;\n",
       "}\n",
       "\n",
       ".ee-open,\n",
       ".ee-shut {\n",
       "  color: var(--font-color-secondary);\n",
       "  cursor: pointer;\n",
       "  margin: 0;\n",
       "}\n",
       "\n",
       ".ee-open:hover,\n",
       ".ee-shut:hover {\n",
       "  color: var(--font-color-primary);\n",
       "}\n",
       "\n",
       ".ee-k {\n",
       "  color: var(--font-color-accent);\n",
       "  margin-right: 6px;\n",
       "}\n",
       "\n",
       ".ee-v {\n",
       "  color: var(--font-color-primary);\n",
       "}\n",
       "\n",
       ".ee-toggle {\n",
       "  display: none;\n",
       "}\n",
       "\n",
       ".ee-shut + ul {\n",
       "  display: none;\n",
       "}\n",
       "\n",
       ".ee-open + ul {\n",
       "  display: block;\n",
       "}\n",
       "\n",
       ".ee-shut::before {\n",
       "  display: inline-block;\n",
       "  content: \"▼\";\n",
       "  margin-right: 6px;\n",
       "  transform: rotate(-90deg);\n",
       "  transition: transform 0.2s;\n",
       "}\n",
       "\n",
       ".ee-open::before {\n",
       "  transform: rotate(0deg);\n",
       "  display: inline-block;\n",
       "  content: \"▼\";\n",
       "  margin-right: 6px;\n",
       "  transition: transform 0.2s;\n",
       "}\n",
       "</style><div class='ee'><ul><li><label class='ee-shut'>FeatureCollection (5 elements, 2 columns)<input type='checkbox' class='ee-toggle'></label><ul><li><span class='ee-k'>type:</span><span class='ee-v'>FeatureCollection</span></li><li><label class='ee-shut'>columns: Object (2 properties)<input type='checkbox' class='ee-toggle'></label><ul><li><span class='ee-k'>system:index:</span><span class='ee-v'>String</span></li><li><span class='ee-k'>zona:</span><span class='ee-v'>Integer</span></li></ul></li><li><label class='ee-shut'>features: List (5 elements)<input type='checkbox' class='ee-toggle'></label><ul><li><label class='ee-shut'>0: Feature (Point, 1 property)<input type='checkbox' class='ee-toggle'></label><ul><li><span class='ee-k'>type:</span><span class='ee-v'>Feature</span></li><li><span class='ee-k'>id:</span><span class='ee-v'>0</span></li><li><label class='ee-shut'>geometry: Point (-74.47, 0.66)<input type='checkbox' class='ee-toggle'></label><ul><li><span class='ee-k'>type:</span><span class='ee-v'>Point</span></li><li><label class='ee-shut'>coordinates: [-74.469001, 0.655861]<input type='checkbox' class='ee-toggle'></label><ul><li><span class='ee-k'>0:</span><span class='ee-v'>-74.469001</span></li><li><span class='ee-k'>1:</span><span class='ee-v'>0.655861</span></li></ul></li></ul></li><li><label class='ee-shut'>properties: Object (1 property)<input type='checkbox' class='ee-toggle'></label><ul><li><span class='ee-k'>zona:</span><span class='ee-v'>0</span></li></ul></li></ul></li><li><label class='ee-shut'>1: Feature (Point, 1 property)<input type='checkbox' class='ee-toggle'></label><ul><li><span class='ee-k'>type:</span><span class='ee-v'>Feature</span></li><li><span class='ee-k'>id:</span><span class='ee-v'>1</span></li><li><label class='ee-shut'>geometry: Point (-74.47, 0.66)<input type='checkbox' class='ee-toggle'></label><ul><li><span class='ee-k'>type:</span><span class='ee-v'>Point</span></li><li><label class='ee-shut'>coordinates: [-74.468036, 0.656097]<input type='checkbox' class='ee-toggle'></label><ul><li><span class='ee-k'>0:</span><span class='ee-v'>-74.468036</span></li><li><span class='ee-k'>1:</span><span class='ee-v'>0.656097</span></li></ul></li></ul></li><li><label class='ee-shut'>properties: Object (1 property)<input type='checkbox' class='ee-toggle'></label><ul><li><span class='ee-k'>zona:</span><span class='ee-v'>0</span></li></ul></li></ul></li><li><label class='ee-shut'>2: Feature (Point, 1 property)<input type='checkbox' class='ee-toggle'></label><ul><li><span class='ee-k'>type:</span><span class='ee-v'>Feature</span></li><li><span class='ee-k'>id:</span><span class='ee-v'>2</span></li><li><label class='ee-shut'>geometry: Point (-74.47, 0.66)<input type='checkbox' class='ee-toggle'></label><ul><li><span class='ee-k'>type:</span><span class='ee-v'>Point</span></li><li><label class='ee-shut'>coordinates: [-74.468851, 0.655239]<input type='checkbox' class='ee-toggle'></label><ul><li><span class='ee-k'>0:</span><span class='ee-v'>-74.468851</span></li><li><span class='ee-k'>1:</span><span class='ee-v'>0.655239</span></li></ul></li></ul></li><li><label class='ee-shut'>properties: Object (1 property)<input type='checkbox' class='ee-toggle'></label><ul><li><span class='ee-k'>zona:</span><span class='ee-v'>0</span></li></ul></li></ul></li><li><label class='ee-shut'>3: Feature (Point, 1 property)<input type='checkbox' class='ee-toggle'></label><ul><li><span class='ee-k'>type:</span><span class='ee-v'>Feature</span></li><li><span class='ee-k'>id:</span><span class='ee-v'>3</span></li><li><label class='ee-shut'>geometry: Point (-74.47, 0.65)<input type='checkbox' class='ee-toggle'></label><ul><li><span class='ee-k'>type:</span><span class='ee-v'>Point</span></li><li><label class='ee-shut'>coordinates: [-74.46928, 0.654187]<input type='checkbox' class='ee-toggle'></label><ul><li><span class='ee-k'>0:</span><span class='ee-v'>-74.46928</span></li><li><span class='ee-k'>1:</span><span class='ee-v'>0.654187</span></li></ul></li></ul></li><li><label class='ee-shut'>properties: Object (1 property)<input type='checkbox' class='ee-toggle'></label><ul><li><span class='ee-k'>zona:</span><span class='ee-v'>0</span></li></ul></li></ul></li><li><label class='ee-shut'>4: Feature (Point, 1 property)<input type='checkbox' class='ee-toggle'></label><ul><li><span class='ee-k'>type:</span><span class='ee-v'>Feature</span></li><li><span class='ee-k'>id:</span><span class='ee-v'>4</span></li><li><label class='ee-shut'>geometry: Point (-74.47, 0.65)<input type='checkbox' class='ee-toggle'></label><ul><li><span class='ee-k'>type:</span><span class='ee-v'>Point</span></li><li><label class='ee-shut'>coordinates: [-74.468229, 0.653587]<input type='checkbox' class='ee-toggle'></label><ul><li><span class='ee-k'>0:</span><span class='ee-v'>-74.468229</span></li><li><span class='ee-k'>1:</span><span class='ee-v'>0.653587</span></li></ul></li></ul></li><li><label class='ee-shut'>properties: Object (1 property)<input type='checkbox' class='ee-toggle'></label><ul><li><span class='ee-k'>zona:</span><span class='ee-v'>0</span></li></ul></li></ul></li></ul></li></ul></li></ul></div><script>function toggleHeader() {\n",
       "    const parent = this.parentElement;\n",
       "    parent.className = parent.className === \"ee-open\" ? \"ee-shut\" : \"ee-open\";\n",
       "}\n",
       "\n",
       "for (let c of document.getElementsByClassName(\"ee-toggle\")) {\n",
       "    c.onclick = toggleHeader;\n",
       "}</script></div>"
      ],
      "text/plain": [
       "<ee.featurecollection.FeatureCollection at 0x18167c33aa0>"
      ]
     },
     "execution_count": 25,
     "metadata": {},
     "output_type": "execute_result"
    }
   ],
   "source": [
    "SV2014"
   ]
  },
  {
   "cell_type": "code",
   "execution_count": 27,
   "id": "777a6316",
   "metadata": {},
   "outputs": [
    {
     "data": {
      "text/html": [
       "\n",
       "            <style>\n",
       "                .geemap-dark {\n",
       "                    --jp-widgets-color: white;\n",
       "                    --jp-widgets-label-color: white;\n",
       "                    --jp-ui-font-color1: white;\n",
       "                    --jp-layout-color2: #454545;\n",
       "                    background-color: #383838;\n",
       "                }\n",
       "                    \n",
       "                .geemap-dark .jupyter-button {\n",
       "                    --jp-layout-color3: #383838;\n",
       "                }\n",
       "                \n",
       "                .geemap-colab {\n",
       "                    background-color: var(--colab-primary-surface-color, white);\n",
       "                }\n",
       "                    \n",
       "                .geemap-colab .jupyter-button {\n",
       "                    --jp-layout-color3: var(--colab-primary-surface-color, white);\n",
       "                }\n",
       "            </style>\n",
       "            "
      ],
      "text/plain": [
       "<IPython.core.display.HTML object>"
      ]
     },
     "metadata": {},
     "output_type": "display_data"
    }
   ],
   "source": [
    "# Ahora vamos a seleccionar los punto que corresponden a la vegetación\n",
    "# Nota: en la opción \"delete layers\" del visor borren los puntos de la clase pasada para empezar una nueva\n",
    "CV2014 = ee.FeatureCollection(Map.draw_features)"
   ]
  },
  {
   "cell_type": "code",
   "execution_count": 28,
   "id": "62ba4448",
   "metadata": {
    "scrolled": true
   },
   "outputs": [
    {
     "data": {
      "text/html": [
       "\n",
       "            <style>\n",
       "                .geemap-dark {\n",
       "                    --jp-widgets-color: white;\n",
       "                    --jp-widgets-label-color: white;\n",
       "                    --jp-ui-font-color1: white;\n",
       "                    --jp-layout-color2: #454545;\n",
       "                    background-color: #383838;\n",
       "                }\n",
       "                    \n",
       "                .geemap-dark .jupyter-button {\n",
       "                    --jp-layout-color3: #383838;\n",
       "                }\n",
       "                \n",
       "                .geemap-colab {\n",
       "                    background-color: var(--colab-primary-surface-color, white);\n",
       "                }\n",
       "                    \n",
       "                .geemap-colab .jupyter-button {\n",
       "                    --jp-layout-color3: var(--colab-primary-surface-color, white);\n",
       "                }\n",
       "            </style>\n",
       "            "
      ],
      "text/plain": [
       "<IPython.core.display.HTML object>"
      ]
     },
     "metadata": {},
     "output_type": "display_data"
    },
    {
     "data": {
      "text/html": [
       "<div><style>:root {\n",
       "  --font-color-primary: var(--jp-content-font-color0, rgba(0, 0, 0, 1));\n",
       "  --font-color-secondary: var(--jp-content-font-color2, rgba(0, 0, 0, 0.6));\n",
       "  --font-color-accent: rgba(123, 31, 162, 1);\n",
       "  --border-color: var(--jp-border-color2, #e0e0e0);\n",
       "  --background-color: var(--jp-layout-color0, white);\n",
       "  --background-color-row-even: var(--jp-layout-color1, white);\n",
       "  --background-color-row-odd: var(--jp-layout-color2, #eeeeee);\n",
       "}\n",
       "\n",
       "html[theme=\"dark\"],\n",
       "body[data-theme=\"dark\"],\n",
       "body.vscode-dark {\n",
       "  --font-color-primary: rgba(255, 255, 255, 1);\n",
       "  --font-color-secondary: rgba(255, 255, 255, 0.6);\n",
       "  --font-color-accent: rgb(173, 132, 190);\n",
       "  --border-color: #2e2e2e;\n",
       "  --background-color: #111111;\n",
       "  --background-color-row-even: #111111;\n",
       "  --background-color-row-odd: #313131;\n",
       "}\n",
       "\n",
       ".ee {\n",
       "  padding: 1em;\n",
       "  line-height: 1.5em;\n",
       "  min-width: 300px;\n",
       "  max-width: 1200px;\n",
       "  overflow-y: scroll;\n",
       "  max-height: 600px;\n",
       "  border: 1px solid var(--border-color);\n",
       "  font-family: monospace;\n",
       "}\n",
       "\n",
       ".ee li {\n",
       "  list-style-type: none;\n",
       "}\n",
       "\n",
       ".ee ul {\n",
       "  padding-left: 1.5em !important;\n",
       "  margin: 0;\n",
       "}\n",
       "\n",
       ".ee > ul {\n",
       "  padding-left: 0 !important;\n",
       "}\n",
       "\n",
       ".ee-open,\n",
       ".ee-shut {\n",
       "  color: var(--font-color-secondary);\n",
       "  cursor: pointer;\n",
       "  margin: 0;\n",
       "}\n",
       "\n",
       ".ee-open:hover,\n",
       ".ee-shut:hover {\n",
       "  color: var(--font-color-primary);\n",
       "}\n",
       "\n",
       ".ee-k {\n",
       "  color: var(--font-color-accent);\n",
       "  margin-right: 6px;\n",
       "}\n",
       "\n",
       ".ee-v {\n",
       "  color: var(--font-color-primary);\n",
       "}\n",
       "\n",
       ".ee-toggle {\n",
       "  display: none;\n",
       "}\n",
       "\n",
       ".ee-shut + ul {\n",
       "  display: none;\n",
       "}\n",
       "\n",
       ".ee-open + ul {\n",
       "  display: block;\n",
       "}\n",
       "\n",
       ".ee-shut::before {\n",
       "  display: inline-block;\n",
       "  content: \"▼\";\n",
       "  margin-right: 6px;\n",
       "  transform: rotate(-90deg);\n",
       "  transition: transform 0.2s;\n",
       "}\n",
       "\n",
       ".ee-open::before {\n",
       "  transform: rotate(0deg);\n",
       "  display: inline-block;\n",
       "  content: \"▼\";\n",
       "  margin-right: 6px;\n",
       "  transition: transform 0.2s;\n",
       "}\n",
       "</style><div class='ee'><ul><li><label class='ee-shut'>FeatureCollection (5 elements, 1 column)<input type='checkbox' class='ee-toggle'></label><ul><li><span class='ee-k'>type:</span><span class='ee-v'>FeatureCollection</span></li><li><label class='ee-shut'>columns: Object (1 property)<input type='checkbox' class='ee-toggle'></label><ul><li><span class='ee-k'>system:index:</span><span class='ee-v'>String</span></li></ul></li><li><label class='ee-shut'>features: List (5 elements)<input type='checkbox' class='ee-toggle'></label><ul><li><label class='ee-shut'>0: Feature (Point, 0 properties)<input type='checkbox' class='ee-toggle'></label><ul><li><span class='ee-k'>type:</span><span class='ee-v'>Feature</span></li><li><span class='ee-k'>id:</span><span class='ee-v'>0</span></li><li><label class='ee-shut'>geometry: Point (-74.45, 0.66)<input type='checkbox' class='ee-toggle'></label><ul><li><span class='ee-k'>type:</span><span class='ee-v'>Point</span></li><li><label class='ee-shut'>coordinates: [-74.451814, 0.656311]<input type='checkbox' class='ee-toggle'></label><ul><li><span class='ee-k'>0:</span><span class='ee-v'>-74.451814</span></li><li><span class='ee-k'>1:</span><span class='ee-v'>0.656311</span></li></ul></li></ul></li><li><label class='ee-shut'>properties: Object (0 properties)<input type='checkbox' class='ee-toggle'></label><ul></ul></li></ul></li><li><label class='ee-shut'>1: Feature (Point, 0 properties)<input type='checkbox' class='ee-toggle'></label><ul><li><span class='ee-k'>type:</span><span class='ee-v'>Feature</span></li><li><span class='ee-k'>id:</span><span class='ee-v'>1</span></li><li><label class='ee-shut'>geometry: Point (-74.45, 0.66)<input type='checkbox' class='ee-toggle'></label><ul><li><span class='ee-k'>type:</span><span class='ee-v'>Point</span></li><li><label class='ee-shut'>coordinates: [-74.454195, 0.656676]<input type='checkbox' class='ee-toggle'></label><ul><li><span class='ee-k'>0:</span><span class='ee-v'>-74.454195</span></li><li><span class='ee-k'>1:</span><span class='ee-v'>0.656676</span></li></ul></li></ul></li><li><label class='ee-shut'>properties: Object (0 properties)<input type='checkbox' class='ee-toggle'></label><ul></ul></li></ul></li><li><label class='ee-shut'>2: Feature (Point, 0 properties)<input type='checkbox' class='ee-toggle'></label><ul><li><span class='ee-k'>type:</span><span class='ee-v'>Feature</span></li><li><span class='ee-k'>id:</span><span class='ee-v'>2</span></li><li><label class='ee-shut'>geometry: Point (-74.45, 0.65)<input type='checkbox' class='ee-toggle'></label><ul><li><span class='ee-k'>type:</span><span class='ee-v'>Point</span></li><li><label class='ee-shut'>coordinates: [-74.454474, 0.654552]<input type='checkbox' class='ee-toggle'></label><ul><li><span class='ee-k'>0:</span><span class='ee-v'>-74.454474</span></li><li><span class='ee-k'>1:</span><span class='ee-v'>0.654552</span></li></ul></li></ul></li><li><label class='ee-shut'>properties: Object (0 properties)<input type='checkbox' class='ee-toggle'></label><ul></ul></li></ul></li><li><label class='ee-shut'>3: Feature (Point, 0 properties)<input type='checkbox' class='ee-toggle'></label><ul><li><span class='ee-k'>type:</span><span class='ee-v'>Feature</span></li><li><span class='ee-k'>id:</span><span class='ee-v'>3</span></li><li><label class='ee-shut'>geometry: Point (-74.45, 0.65)<input type='checkbox' class='ee-toggle'></label><ul><li><span class='ee-k'>type:</span><span class='ee-v'>Point</span></li><li><label class='ee-shut'>coordinates: [-74.450397, 0.654402]<input type='checkbox' class='ee-toggle'></label><ul><li><span class='ee-k'>0:</span><span class='ee-v'>-74.450397</span></li><li><span class='ee-k'>1:</span><span class='ee-v'>0.654402</span></li></ul></li></ul></li><li><label class='ee-shut'>properties: Object (0 properties)<input type='checkbox' class='ee-toggle'></label><ul></ul></li></ul></li><li><label class='ee-shut'>4: Feature (Point, 0 properties)<input type='checkbox' class='ee-toggle'></label><ul><li><span class='ee-k'>type:</span><span class='ee-v'>Feature</span></li><li><span class='ee-k'>id:</span><span class='ee-v'>4</span></li><li><label class='ee-shut'>geometry: Point (-74.45, 0.66)<input type='checkbox' class='ee-toggle'></label><ul><li><span class='ee-k'>type:</span><span class='ee-v'>Point</span></li><li><label class='ee-shut'>coordinates: [-74.449775, 0.657449]<input type='checkbox' class='ee-toggle'></label><ul><li><span class='ee-k'>0:</span><span class='ee-v'>-74.449775</span></li><li><span class='ee-k'>1:</span><span class='ee-v'>0.657449</span></li></ul></li></ul></li><li><label class='ee-shut'>properties: Object (0 properties)<input type='checkbox' class='ee-toggle'></label><ul></ul></li></ul></li></ul></li></ul></li></ul></div><script>function toggleHeader() {\n",
       "    const parent = this.parentElement;\n",
       "    parent.className = parent.className === \"ee-open\" ? \"ee-shut\" : \"ee-open\";\n",
       "}\n",
       "\n",
       "for (let c of document.getElementsByClassName(\"ee-toggle\")) {\n",
       "    c.onclick = toggleHeader;\n",
       "}</script></div>"
      ],
      "text/plain": [
       "<ee.featurecollection.FeatureCollection at 0x18167b53710>"
      ]
     },
     "execution_count": 28,
     "metadata": {},
     "output_type": "execute_result"
    }
   ],
   "source": [
    "CV2014"
   ]
  },
  {
   "cell_type": "code",
   "execution_count": 29,
   "id": "b8104c89",
   "metadata": {},
   "outputs": [
    {
     "data": {
      "text/html": [
       "\n",
       "            <style>\n",
       "                .geemap-dark {\n",
       "                    --jp-widgets-color: white;\n",
       "                    --jp-widgets-label-color: white;\n",
       "                    --jp-ui-font-color1: white;\n",
       "                    --jp-layout-color2: #454545;\n",
       "                    background-color: #383838;\n",
       "                }\n",
       "                    \n",
       "                .geemap-dark .jupyter-button {\n",
       "                    --jp-layout-color3: #383838;\n",
       "                }\n",
       "                \n",
       "                .geemap-colab {\n",
       "                    background-color: var(--colab-primary-surface-color, white);\n",
       "                }\n",
       "                    \n",
       "                .geemap-colab .jupyter-button {\n",
       "                    --jp-layout-color3: var(--colab-primary-surface-color, white);\n",
       "                }\n",
       "            </style>\n",
       "            "
      ],
      "text/plain": [
       "<IPython.core.display.HTML object>"
      ]
     },
     "metadata": {},
     "output_type": "display_data"
    }
   ],
   "source": [
    "CV2014 = CV2014.map(lambda feature: feature.set('zona', 1))"
   ]
  },
  {
   "cell_type": "code",
   "execution_count": 30,
   "id": "709c36e8",
   "metadata": {
    "scrolled": true
   },
   "outputs": [
    {
     "data": {
      "text/html": [
       "\n",
       "            <style>\n",
       "                .geemap-dark {\n",
       "                    --jp-widgets-color: white;\n",
       "                    --jp-widgets-label-color: white;\n",
       "                    --jp-ui-font-color1: white;\n",
       "                    --jp-layout-color2: #454545;\n",
       "                    background-color: #383838;\n",
       "                }\n",
       "                    \n",
       "                .geemap-dark .jupyter-button {\n",
       "                    --jp-layout-color3: #383838;\n",
       "                }\n",
       "                \n",
       "                .geemap-colab {\n",
       "                    background-color: var(--colab-primary-surface-color, white);\n",
       "                }\n",
       "                    \n",
       "                .geemap-colab .jupyter-button {\n",
       "                    --jp-layout-color3: var(--colab-primary-surface-color, white);\n",
       "                }\n",
       "            </style>\n",
       "            "
      ],
      "text/plain": [
       "<IPython.core.display.HTML object>"
      ]
     },
     "metadata": {},
     "output_type": "display_data"
    },
    {
     "data": {
      "text/html": [
       "<div><style>:root {\n",
       "  --font-color-primary: var(--jp-content-font-color0, rgba(0, 0, 0, 1));\n",
       "  --font-color-secondary: var(--jp-content-font-color2, rgba(0, 0, 0, 0.6));\n",
       "  --font-color-accent: rgba(123, 31, 162, 1);\n",
       "  --border-color: var(--jp-border-color2, #e0e0e0);\n",
       "  --background-color: var(--jp-layout-color0, white);\n",
       "  --background-color-row-even: var(--jp-layout-color1, white);\n",
       "  --background-color-row-odd: var(--jp-layout-color2, #eeeeee);\n",
       "}\n",
       "\n",
       "html[theme=\"dark\"],\n",
       "body[data-theme=\"dark\"],\n",
       "body.vscode-dark {\n",
       "  --font-color-primary: rgba(255, 255, 255, 1);\n",
       "  --font-color-secondary: rgba(255, 255, 255, 0.6);\n",
       "  --font-color-accent: rgb(173, 132, 190);\n",
       "  --border-color: #2e2e2e;\n",
       "  --background-color: #111111;\n",
       "  --background-color-row-even: #111111;\n",
       "  --background-color-row-odd: #313131;\n",
       "}\n",
       "\n",
       ".ee {\n",
       "  padding: 1em;\n",
       "  line-height: 1.5em;\n",
       "  min-width: 300px;\n",
       "  max-width: 1200px;\n",
       "  overflow-y: scroll;\n",
       "  max-height: 600px;\n",
       "  border: 1px solid var(--border-color);\n",
       "  font-family: monospace;\n",
       "}\n",
       "\n",
       ".ee li {\n",
       "  list-style-type: none;\n",
       "}\n",
       "\n",
       ".ee ul {\n",
       "  padding-left: 1.5em !important;\n",
       "  margin: 0;\n",
       "}\n",
       "\n",
       ".ee > ul {\n",
       "  padding-left: 0 !important;\n",
       "}\n",
       "\n",
       ".ee-open,\n",
       ".ee-shut {\n",
       "  color: var(--font-color-secondary);\n",
       "  cursor: pointer;\n",
       "  margin: 0;\n",
       "}\n",
       "\n",
       ".ee-open:hover,\n",
       ".ee-shut:hover {\n",
       "  color: var(--font-color-primary);\n",
       "}\n",
       "\n",
       ".ee-k {\n",
       "  color: var(--font-color-accent);\n",
       "  margin-right: 6px;\n",
       "}\n",
       "\n",
       ".ee-v {\n",
       "  color: var(--font-color-primary);\n",
       "}\n",
       "\n",
       ".ee-toggle {\n",
       "  display: none;\n",
       "}\n",
       "\n",
       ".ee-shut + ul {\n",
       "  display: none;\n",
       "}\n",
       "\n",
       ".ee-open + ul {\n",
       "  display: block;\n",
       "}\n",
       "\n",
       ".ee-shut::before {\n",
       "  display: inline-block;\n",
       "  content: \"▼\";\n",
       "  margin-right: 6px;\n",
       "  transform: rotate(-90deg);\n",
       "  transition: transform 0.2s;\n",
       "}\n",
       "\n",
       ".ee-open::before {\n",
       "  transform: rotate(0deg);\n",
       "  display: inline-block;\n",
       "  content: \"▼\";\n",
       "  margin-right: 6px;\n",
       "  transition: transform 0.2s;\n",
       "}\n",
       "</style><div class='ee'><ul><li><label class='ee-shut'>FeatureCollection (5 elements, 2 columns)<input type='checkbox' class='ee-toggle'></label><ul><li><span class='ee-k'>type:</span><span class='ee-v'>FeatureCollection</span></li><li><label class='ee-shut'>columns: Object (2 properties)<input type='checkbox' class='ee-toggle'></label><ul><li><span class='ee-k'>system:index:</span><span class='ee-v'>String</span></li><li><span class='ee-k'>zona:</span><span class='ee-v'>Integer</span></li></ul></li><li><label class='ee-shut'>features: List (5 elements)<input type='checkbox' class='ee-toggle'></label><ul><li><label class='ee-shut'>0: Feature (Point, 1 property)<input type='checkbox' class='ee-toggle'></label><ul><li><span class='ee-k'>type:</span><span class='ee-v'>Feature</span></li><li><span class='ee-k'>id:</span><span class='ee-v'>0</span></li><li><label class='ee-shut'>geometry: Point (-74.45, 0.66)<input type='checkbox' class='ee-toggle'></label><ul><li><span class='ee-k'>type:</span><span class='ee-v'>Point</span></li><li><label class='ee-shut'>coordinates: [-74.451814, 0.656311]<input type='checkbox' class='ee-toggle'></label><ul><li><span class='ee-k'>0:</span><span class='ee-v'>-74.451814</span></li><li><span class='ee-k'>1:</span><span class='ee-v'>0.656311</span></li></ul></li></ul></li><li><label class='ee-shut'>properties: Object (1 property)<input type='checkbox' class='ee-toggle'></label><ul><li><span class='ee-k'>zona:</span><span class='ee-v'>1</span></li></ul></li></ul></li><li><label class='ee-shut'>1: Feature (Point, 1 property)<input type='checkbox' class='ee-toggle'></label><ul><li><span class='ee-k'>type:</span><span class='ee-v'>Feature</span></li><li><span class='ee-k'>id:</span><span class='ee-v'>1</span></li><li><label class='ee-shut'>geometry: Point (-74.45, 0.66)<input type='checkbox' class='ee-toggle'></label><ul><li><span class='ee-k'>type:</span><span class='ee-v'>Point</span></li><li><label class='ee-shut'>coordinates: [-74.454195, 0.656676]<input type='checkbox' class='ee-toggle'></label><ul><li><span class='ee-k'>0:</span><span class='ee-v'>-74.454195</span></li><li><span class='ee-k'>1:</span><span class='ee-v'>0.656676</span></li></ul></li></ul></li><li><label class='ee-shut'>properties: Object (1 property)<input type='checkbox' class='ee-toggle'></label><ul><li><span class='ee-k'>zona:</span><span class='ee-v'>1</span></li></ul></li></ul></li><li><label class='ee-shut'>2: Feature (Point, 1 property)<input type='checkbox' class='ee-toggle'></label><ul><li><span class='ee-k'>type:</span><span class='ee-v'>Feature</span></li><li><span class='ee-k'>id:</span><span class='ee-v'>2</span></li><li><label class='ee-shut'>geometry: Point (-74.45, 0.65)<input type='checkbox' class='ee-toggle'></label><ul><li><span class='ee-k'>type:</span><span class='ee-v'>Point</span></li><li><label class='ee-shut'>coordinates: [-74.454474, 0.654552]<input type='checkbox' class='ee-toggle'></label><ul><li><span class='ee-k'>0:</span><span class='ee-v'>-74.454474</span></li><li><span class='ee-k'>1:</span><span class='ee-v'>0.654552</span></li></ul></li></ul></li><li><label class='ee-shut'>properties: Object (1 property)<input type='checkbox' class='ee-toggle'></label><ul><li><span class='ee-k'>zona:</span><span class='ee-v'>1</span></li></ul></li></ul></li><li><label class='ee-shut'>3: Feature (Point, 1 property)<input type='checkbox' class='ee-toggle'></label><ul><li><span class='ee-k'>type:</span><span class='ee-v'>Feature</span></li><li><span class='ee-k'>id:</span><span class='ee-v'>3</span></li><li><label class='ee-shut'>geometry: Point (-74.45, 0.65)<input type='checkbox' class='ee-toggle'></label><ul><li><span class='ee-k'>type:</span><span class='ee-v'>Point</span></li><li><label class='ee-shut'>coordinates: [-74.450397, 0.654402]<input type='checkbox' class='ee-toggle'></label><ul><li><span class='ee-k'>0:</span><span class='ee-v'>-74.450397</span></li><li><span class='ee-k'>1:</span><span class='ee-v'>0.654402</span></li></ul></li></ul></li><li><label class='ee-shut'>properties: Object (1 property)<input type='checkbox' class='ee-toggle'></label><ul><li><span class='ee-k'>zona:</span><span class='ee-v'>1</span></li></ul></li></ul></li><li><label class='ee-shut'>4: Feature (Point, 1 property)<input type='checkbox' class='ee-toggle'></label><ul><li><span class='ee-k'>type:</span><span class='ee-v'>Feature</span></li><li><span class='ee-k'>id:</span><span class='ee-v'>4</span></li><li><label class='ee-shut'>geometry: Point (-74.45, 0.66)<input type='checkbox' class='ee-toggle'></label><ul><li><span class='ee-k'>type:</span><span class='ee-v'>Point</span></li><li><label class='ee-shut'>coordinates: [-74.449775, 0.657449]<input type='checkbox' class='ee-toggle'></label><ul><li><span class='ee-k'>0:</span><span class='ee-v'>-74.449775</span></li><li><span class='ee-k'>1:</span><span class='ee-v'>0.657449</span></li></ul></li></ul></li><li><label class='ee-shut'>properties: Object (1 property)<input type='checkbox' class='ee-toggle'></label><ul><li><span class='ee-k'>zona:</span><span class='ee-v'>1</span></li></ul></li></ul></li></ul></li></ul></li></ul></div><script>function toggleHeader() {\n",
       "    const parent = this.parentElement;\n",
       "    parent.className = parent.className === \"ee-open\" ? \"ee-shut\" : \"ee-open\";\n",
       "}\n",
       "\n",
       "for (let c of document.getElementsByClassName(\"ee-toggle\")) {\n",
       "    c.onclick = toggleHeader;\n",
       "}</script></div>"
      ],
      "text/plain": [
       "<ee.featurecollection.FeatureCollection at 0x18167c5bce0>"
      ]
     },
     "execution_count": 30,
     "metadata": {},
     "output_type": "execute_result"
    }
   ],
   "source": [
    "CV2014"
   ]
  },
  {
   "cell_type": "code",
   "execution_count": 31,
   "id": "1cd767ba",
   "metadata": {},
   "outputs": [
    {
     "data": {
      "text/html": [
       "\n",
       "            <style>\n",
       "                .geemap-dark {\n",
       "                    --jp-widgets-color: white;\n",
       "                    --jp-widgets-label-color: white;\n",
       "                    --jp-ui-font-color1: white;\n",
       "                    --jp-layout-color2: #454545;\n",
       "                    background-color: #383838;\n",
       "                }\n",
       "                    \n",
       "                .geemap-dark .jupyter-button {\n",
       "                    --jp-layout-color3: #383838;\n",
       "                }\n",
       "                \n",
       "                .geemap-colab {\n",
       "                    background-color: var(--colab-primary-surface-color, white);\n",
       "                }\n",
       "                    \n",
       "                .geemap-colab .jupyter-button {\n",
       "                    --jp-layout-color3: var(--colab-primary-surface-color, white);\n",
       "                }\n",
       "            </style>\n",
       "            "
      ],
      "text/plain": [
       "<IPython.core.display.HTML object>"
      ]
     },
     "metadata": {},
     "output_type": "display_data"
    }
   ],
   "source": [
    "#Ahora vamos a unificar las dos clases que hemos creado en una sola colección\n",
    "#Entrenamiento2014 =  ee.FeatureCollection(ee.List([SV2014,CV2014]))\n",
    "#Entrenamiento2014 =  SV2014.merge(CV2014)\n",
    "Entrenamiento2014 =  SV2014.merge(CV2014)"
   ]
  },
  {
   "cell_type": "code",
   "execution_count": 32,
   "id": "ab355607",
   "metadata": {
    "scrolled": true
   },
   "outputs": [
    {
     "data": {
      "text/html": [
       "\n",
       "            <style>\n",
       "                .geemap-dark {\n",
       "                    --jp-widgets-color: white;\n",
       "                    --jp-widgets-label-color: white;\n",
       "                    --jp-ui-font-color1: white;\n",
       "                    --jp-layout-color2: #454545;\n",
       "                    background-color: #383838;\n",
       "                }\n",
       "                    \n",
       "                .geemap-dark .jupyter-button {\n",
       "                    --jp-layout-color3: #383838;\n",
       "                }\n",
       "                \n",
       "                .geemap-colab {\n",
       "                    background-color: var(--colab-primary-surface-color, white);\n",
       "                }\n",
       "                    \n",
       "                .geemap-colab .jupyter-button {\n",
       "                    --jp-layout-color3: var(--colab-primary-surface-color, white);\n",
       "                }\n",
       "            </style>\n",
       "            "
      ],
      "text/plain": [
       "<IPython.core.display.HTML object>"
      ]
     },
     "metadata": {},
     "output_type": "display_data"
    },
    {
     "data": {
      "text/html": [
       "<div><style>:root {\n",
       "  --font-color-primary: var(--jp-content-font-color0, rgba(0, 0, 0, 1));\n",
       "  --font-color-secondary: var(--jp-content-font-color2, rgba(0, 0, 0, 0.6));\n",
       "  --font-color-accent: rgba(123, 31, 162, 1);\n",
       "  --border-color: var(--jp-border-color2, #e0e0e0);\n",
       "  --background-color: var(--jp-layout-color0, white);\n",
       "  --background-color-row-even: var(--jp-layout-color1, white);\n",
       "  --background-color-row-odd: var(--jp-layout-color2, #eeeeee);\n",
       "}\n",
       "\n",
       "html[theme=\"dark\"],\n",
       "body[data-theme=\"dark\"],\n",
       "body.vscode-dark {\n",
       "  --font-color-primary: rgba(255, 255, 255, 1);\n",
       "  --font-color-secondary: rgba(255, 255, 255, 0.6);\n",
       "  --font-color-accent: rgb(173, 132, 190);\n",
       "  --border-color: #2e2e2e;\n",
       "  --background-color: #111111;\n",
       "  --background-color-row-even: #111111;\n",
       "  --background-color-row-odd: #313131;\n",
       "}\n",
       "\n",
       ".ee {\n",
       "  padding: 1em;\n",
       "  line-height: 1.5em;\n",
       "  min-width: 300px;\n",
       "  max-width: 1200px;\n",
       "  overflow-y: scroll;\n",
       "  max-height: 600px;\n",
       "  border: 1px solid var(--border-color);\n",
       "  font-family: monospace;\n",
       "}\n",
       "\n",
       ".ee li {\n",
       "  list-style-type: none;\n",
       "}\n",
       "\n",
       ".ee ul {\n",
       "  padding-left: 1.5em !important;\n",
       "  margin: 0;\n",
       "}\n",
       "\n",
       ".ee > ul {\n",
       "  padding-left: 0 !important;\n",
       "}\n",
       "\n",
       ".ee-open,\n",
       ".ee-shut {\n",
       "  color: var(--font-color-secondary);\n",
       "  cursor: pointer;\n",
       "  margin: 0;\n",
       "}\n",
       "\n",
       ".ee-open:hover,\n",
       ".ee-shut:hover {\n",
       "  color: var(--font-color-primary);\n",
       "}\n",
       "\n",
       ".ee-k {\n",
       "  color: var(--font-color-accent);\n",
       "  margin-right: 6px;\n",
       "}\n",
       "\n",
       ".ee-v {\n",
       "  color: var(--font-color-primary);\n",
       "}\n",
       "\n",
       ".ee-toggle {\n",
       "  display: none;\n",
       "}\n",
       "\n",
       ".ee-shut + ul {\n",
       "  display: none;\n",
       "}\n",
       "\n",
       ".ee-open + ul {\n",
       "  display: block;\n",
       "}\n",
       "\n",
       ".ee-shut::before {\n",
       "  display: inline-block;\n",
       "  content: \"▼\";\n",
       "  margin-right: 6px;\n",
       "  transform: rotate(-90deg);\n",
       "  transition: transform 0.2s;\n",
       "}\n",
       "\n",
       ".ee-open::before {\n",
       "  transform: rotate(0deg);\n",
       "  display: inline-block;\n",
       "  content: \"▼\";\n",
       "  margin-right: 6px;\n",
       "  transition: transform 0.2s;\n",
       "}\n",
       "</style><div class='ee'><ul><li><label class='ee-shut'>FeatureCollection (10 elements, 2 columns)<input type='checkbox' class='ee-toggle'></label><ul><li><span class='ee-k'>type:</span><span class='ee-v'>FeatureCollection</span></li><li><label class='ee-shut'>columns: Object (2 properties)<input type='checkbox' class='ee-toggle'></label><ul><li><span class='ee-k'>system:index:</span><span class='ee-v'>String</span></li><li><span class='ee-k'>zona:</span><span class='ee-v'>Integer</span></li></ul></li><li><label class='ee-shut'>features: List (10 elements)<input type='checkbox' class='ee-toggle'></label><ul><li><label class='ee-shut'>0: Feature (Point, 1 property)<input type='checkbox' class='ee-toggle'></label><ul><li><span class='ee-k'>type:</span><span class='ee-v'>Feature</span></li><li><span class='ee-k'>id:</span><span class='ee-v'>1_0</span></li><li><label class='ee-shut'>geometry: Point (-74.47, 0.66)<input type='checkbox' class='ee-toggle'></label><ul><li><span class='ee-k'>type:</span><span class='ee-v'>Point</span></li><li><label class='ee-shut'>coordinates: [-74.469001, 0.655861]<input type='checkbox' class='ee-toggle'></label><ul><li><span class='ee-k'>0:</span><span class='ee-v'>-74.469001</span></li><li><span class='ee-k'>1:</span><span class='ee-v'>0.655861</span></li></ul></li></ul></li><li><label class='ee-shut'>properties: Object (1 property)<input type='checkbox' class='ee-toggle'></label><ul><li><span class='ee-k'>zona:</span><span class='ee-v'>0</span></li></ul></li></ul></li><li><label class='ee-shut'>1: Feature (Point, 1 property)<input type='checkbox' class='ee-toggle'></label><ul><li><span class='ee-k'>type:</span><span class='ee-v'>Feature</span></li><li><span class='ee-k'>id:</span><span class='ee-v'>1_1</span></li><li><label class='ee-shut'>geometry: Point (-74.47, 0.66)<input type='checkbox' class='ee-toggle'></label><ul><li><span class='ee-k'>type:</span><span class='ee-v'>Point</span></li><li><label class='ee-shut'>coordinates: [-74.468036, 0.656097]<input type='checkbox' class='ee-toggle'></label><ul><li><span class='ee-k'>0:</span><span class='ee-v'>-74.468036</span></li><li><span class='ee-k'>1:</span><span class='ee-v'>0.656097</span></li></ul></li></ul></li><li><label class='ee-shut'>properties: Object (1 property)<input type='checkbox' class='ee-toggle'></label><ul><li><span class='ee-k'>zona:</span><span class='ee-v'>0</span></li></ul></li></ul></li><li><label class='ee-shut'>2: Feature (Point, 1 property)<input type='checkbox' class='ee-toggle'></label><ul><li><span class='ee-k'>type:</span><span class='ee-v'>Feature</span></li><li><span class='ee-k'>id:</span><span class='ee-v'>1_2</span></li><li><label class='ee-shut'>geometry: Point (-74.47, 0.66)<input type='checkbox' class='ee-toggle'></label><ul><li><span class='ee-k'>type:</span><span class='ee-v'>Point</span></li><li><label class='ee-shut'>coordinates: [-74.468851, 0.655239]<input type='checkbox' class='ee-toggle'></label><ul><li><span class='ee-k'>0:</span><span class='ee-v'>-74.468851</span></li><li><span class='ee-k'>1:</span><span class='ee-v'>0.655239</span></li></ul></li></ul></li><li><label class='ee-shut'>properties: Object (1 property)<input type='checkbox' class='ee-toggle'></label><ul><li><span class='ee-k'>zona:</span><span class='ee-v'>0</span></li></ul></li></ul></li><li><label class='ee-shut'>3: Feature (Point, 1 property)<input type='checkbox' class='ee-toggle'></label><ul><li><span class='ee-k'>type:</span><span class='ee-v'>Feature</span></li><li><span class='ee-k'>id:</span><span class='ee-v'>1_3</span></li><li><label class='ee-shut'>geometry: Point (-74.47, 0.65)<input type='checkbox' class='ee-toggle'></label><ul><li><span class='ee-k'>type:</span><span class='ee-v'>Point</span></li><li><label class='ee-shut'>coordinates: [-74.46928, 0.654187]<input type='checkbox' class='ee-toggle'></label><ul><li><span class='ee-k'>0:</span><span class='ee-v'>-74.46928</span></li><li><span class='ee-k'>1:</span><span class='ee-v'>0.654187</span></li></ul></li></ul></li><li><label class='ee-shut'>properties: Object (1 property)<input type='checkbox' class='ee-toggle'></label><ul><li><span class='ee-k'>zona:</span><span class='ee-v'>0</span></li></ul></li></ul></li><li><label class='ee-shut'>4: Feature (Point, 1 property)<input type='checkbox' class='ee-toggle'></label><ul><li><span class='ee-k'>type:</span><span class='ee-v'>Feature</span></li><li><span class='ee-k'>id:</span><span class='ee-v'>1_4</span></li><li><label class='ee-shut'>geometry: Point (-74.47, 0.65)<input type='checkbox' class='ee-toggle'></label><ul><li><span class='ee-k'>type:</span><span class='ee-v'>Point</span></li><li><label class='ee-shut'>coordinates: [-74.468229, 0.653587]<input type='checkbox' class='ee-toggle'></label><ul><li><span class='ee-k'>0:</span><span class='ee-v'>-74.468229</span></li><li><span class='ee-k'>1:</span><span class='ee-v'>0.653587</span></li></ul></li></ul></li><li><label class='ee-shut'>properties: Object (1 property)<input type='checkbox' class='ee-toggle'></label><ul><li><span class='ee-k'>zona:</span><span class='ee-v'>0</span></li></ul></li></ul></li><li><label class='ee-shut'>5: Feature (Point, 1 property)<input type='checkbox' class='ee-toggle'></label><ul><li><span class='ee-k'>type:</span><span class='ee-v'>Feature</span></li><li><span class='ee-k'>id:</span><span class='ee-v'>2_0</span></li><li><label class='ee-shut'>geometry: Point (-74.45, 0.66)<input type='checkbox' class='ee-toggle'></label><ul><li><span class='ee-k'>type:</span><span class='ee-v'>Point</span></li><li><label class='ee-shut'>coordinates: [-74.451814, 0.656311]<input type='checkbox' class='ee-toggle'></label><ul><li><span class='ee-k'>0:</span><span class='ee-v'>-74.451814</span></li><li><span class='ee-k'>1:</span><span class='ee-v'>0.656311</span></li></ul></li></ul></li><li><label class='ee-shut'>properties: Object (1 property)<input type='checkbox' class='ee-toggle'></label><ul><li><span class='ee-k'>zona:</span><span class='ee-v'>1</span></li></ul></li></ul></li><li><label class='ee-shut'>6: Feature (Point, 1 property)<input type='checkbox' class='ee-toggle'></label><ul><li><span class='ee-k'>type:</span><span class='ee-v'>Feature</span></li><li><span class='ee-k'>id:</span><span class='ee-v'>2_1</span></li><li><label class='ee-shut'>geometry: Point (-74.45, 0.66)<input type='checkbox' class='ee-toggle'></label><ul><li><span class='ee-k'>type:</span><span class='ee-v'>Point</span></li><li><label class='ee-shut'>coordinates: [-74.454195, 0.656676]<input type='checkbox' class='ee-toggle'></label><ul><li><span class='ee-k'>0:</span><span class='ee-v'>-74.454195</span></li><li><span class='ee-k'>1:</span><span class='ee-v'>0.656676</span></li></ul></li></ul></li><li><label class='ee-shut'>properties: Object (1 property)<input type='checkbox' class='ee-toggle'></label><ul><li><span class='ee-k'>zona:</span><span class='ee-v'>1</span></li></ul></li></ul></li><li><label class='ee-shut'>7: Feature (Point, 1 property)<input type='checkbox' class='ee-toggle'></label><ul><li><span class='ee-k'>type:</span><span class='ee-v'>Feature</span></li><li><span class='ee-k'>id:</span><span class='ee-v'>2_2</span></li><li><label class='ee-shut'>geometry: Point (-74.45, 0.65)<input type='checkbox' class='ee-toggle'></label><ul><li><span class='ee-k'>type:</span><span class='ee-v'>Point</span></li><li><label class='ee-shut'>coordinates: [-74.454474, 0.654552]<input type='checkbox' class='ee-toggle'></label><ul><li><span class='ee-k'>0:</span><span class='ee-v'>-74.454474</span></li><li><span class='ee-k'>1:</span><span class='ee-v'>0.654552</span></li></ul></li></ul></li><li><label class='ee-shut'>properties: Object (1 property)<input type='checkbox' class='ee-toggle'></label><ul><li><span class='ee-k'>zona:</span><span class='ee-v'>1</span></li></ul></li></ul></li><li><label class='ee-shut'>8: Feature (Point, 1 property)<input type='checkbox' class='ee-toggle'></label><ul><li><span class='ee-k'>type:</span><span class='ee-v'>Feature</span></li><li><span class='ee-k'>id:</span><span class='ee-v'>2_3</span></li><li><label class='ee-shut'>geometry: Point (-74.45, 0.65)<input type='checkbox' class='ee-toggle'></label><ul><li><span class='ee-k'>type:</span><span class='ee-v'>Point</span></li><li><label class='ee-shut'>coordinates: [-74.450397, 0.654402]<input type='checkbox' class='ee-toggle'></label><ul><li><span class='ee-k'>0:</span><span class='ee-v'>-74.450397</span></li><li><span class='ee-k'>1:</span><span class='ee-v'>0.654402</span></li></ul></li></ul></li><li><label class='ee-shut'>properties: Object (1 property)<input type='checkbox' class='ee-toggle'></label><ul><li><span class='ee-k'>zona:</span><span class='ee-v'>1</span></li></ul></li></ul></li><li><label class='ee-shut'>9: Feature (Point, 1 property)<input type='checkbox' class='ee-toggle'></label><ul><li><span class='ee-k'>type:</span><span class='ee-v'>Feature</span></li><li><span class='ee-k'>id:</span><span class='ee-v'>2_4</span></li><li><label class='ee-shut'>geometry: Point (-74.45, 0.66)<input type='checkbox' class='ee-toggle'></label><ul><li><span class='ee-k'>type:</span><span class='ee-v'>Point</span></li><li><label class='ee-shut'>coordinates: [-74.449775, 0.657449]<input type='checkbox' class='ee-toggle'></label><ul><li><span class='ee-k'>0:</span><span class='ee-v'>-74.449775</span></li><li><span class='ee-k'>1:</span><span class='ee-v'>0.657449</span></li></ul></li></ul></li><li><label class='ee-shut'>properties: Object (1 property)<input type='checkbox' class='ee-toggle'></label><ul><li><span class='ee-k'>zona:</span><span class='ee-v'>1</span></li></ul></li></ul></li></ul></li></ul></li></ul></div><script>function toggleHeader() {\n",
       "    const parent = this.parentElement;\n",
       "    parent.className = parent.className === \"ee-open\" ? \"ee-shut\" : \"ee-open\";\n",
       "}\n",
       "\n",
       "for (let c of document.getElementsByClassName(\"ee-toggle\")) {\n",
       "    c.onclick = toggleHeader;\n",
       "}</script></div>"
      ],
      "text/plain": [
       "<ee.featurecollection.FeatureCollection at 0x18167c5b1a0>"
      ]
     },
     "execution_count": 32,
     "metadata": {},
     "output_type": "execute_result"
    }
   ],
   "source": [
    "Entrenamiento2014"
   ]
  },
  {
   "cell_type": "code",
   "execution_count": 33,
   "id": "da24bf75",
   "metadata": {
    "scrolled": true
   },
   "outputs": [
    {
     "data": {
      "text/html": [
       "\n",
       "            <style>\n",
       "                .geemap-dark {\n",
       "                    --jp-widgets-color: white;\n",
       "                    --jp-widgets-label-color: white;\n",
       "                    --jp-ui-font-color1: white;\n",
       "                    --jp-layout-color2: #454545;\n",
       "                    background-color: #383838;\n",
       "                }\n",
       "                    \n",
       "                .geemap-dark .jupyter-button {\n",
       "                    --jp-layout-color3: #383838;\n",
       "                }\n",
       "                \n",
       "                .geemap-colab {\n",
       "                    background-color: var(--colab-primary-surface-color, white);\n",
       "                }\n",
       "                    \n",
       "                .geemap-colab .jupyter-button {\n",
       "                    --jp-layout-color3: var(--colab-primary-surface-color, white);\n",
       "                }\n",
       "            </style>\n",
       "            "
      ],
      "text/plain": [
       "<IPython.core.display.HTML object>"
      ]
     },
     "metadata": {},
     "output_type": "display_data"
    },
    {
     "data": {
      "text/html": [
       "<div><style>:root {\n",
       "  --font-color-primary: var(--jp-content-font-color0, rgba(0, 0, 0, 1));\n",
       "  --font-color-secondary: var(--jp-content-font-color2, rgba(0, 0, 0, 0.6));\n",
       "  --font-color-accent: rgba(123, 31, 162, 1);\n",
       "  --border-color: var(--jp-border-color2, #e0e0e0);\n",
       "  --background-color: var(--jp-layout-color0, white);\n",
       "  --background-color-row-even: var(--jp-layout-color1, white);\n",
       "  --background-color-row-odd: var(--jp-layout-color2, #eeeeee);\n",
       "}\n",
       "\n",
       "html[theme=\"dark\"],\n",
       "body[data-theme=\"dark\"],\n",
       "body.vscode-dark {\n",
       "  --font-color-primary: rgba(255, 255, 255, 1);\n",
       "  --font-color-secondary: rgba(255, 255, 255, 0.6);\n",
       "  --font-color-accent: rgb(173, 132, 190);\n",
       "  --border-color: #2e2e2e;\n",
       "  --background-color: #111111;\n",
       "  --background-color-row-even: #111111;\n",
       "  --background-color-row-odd: #313131;\n",
       "}\n",
       "\n",
       ".ee {\n",
       "  padding: 1em;\n",
       "  line-height: 1.5em;\n",
       "  min-width: 300px;\n",
       "  max-width: 1200px;\n",
       "  overflow-y: scroll;\n",
       "  max-height: 600px;\n",
       "  border: 1px solid var(--border-color);\n",
       "  font-family: monospace;\n",
       "}\n",
       "\n",
       ".ee li {\n",
       "  list-style-type: none;\n",
       "}\n",
       "\n",
       ".ee ul {\n",
       "  padding-left: 1.5em !important;\n",
       "  margin: 0;\n",
       "}\n",
       "\n",
       ".ee > ul {\n",
       "  padding-left: 0 !important;\n",
       "}\n",
       "\n",
       ".ee-open,\n",
       ".ee-shut {\n",
       "  color: var(--font-color-secondary);\n",
       "  cursor: pointer;\n",
       "  margin: 0;\n",
       "}\n",
       "\n",
       ".ee-open:hover,\n",
       ".ee-shut:hover {\n",
       "  color: var(--font-color-primary);\n",
       "}\n",
       "\n",
       ".ee-k {\n",
       "  color: var(--font-color-accent);\n",
       "  margin-right: 6px;\n",
       "}\n",
       "\n",
       ".ee-v {\n",
       "  color: var(--font-color-primary);\n",
       "}\n",
       "\n",
       ".ee-toggle {\n",
       "  display: none;\n",
       "}\n",
       "\n",
       ".ee-shut + ul {\n",
       "  display: none;\n",
       "}\n",
       "\n",
       ".ee-open + ul {\n",
       "  display: block;\n",
       "}\n",
       "\n",
       ".ee-shut::before {\n",
       "  display: inline-block;\n",
       "  content: \"▼\";\n",
       "  margin-right: 6px;\n",
       "  transform: rotate(-90deg);\n",
       "  transition: transform 0.2s;\n",
       "}\n",
       "\n",
       ".ee-open::before {\n",
       "  transform: rotate(0deg);\n",
       "  display: inline-block;\n",
       "  content: \"▼\";\n",
       "  margin-right: 6px;\n",
       "  transition: transform 0.2s;\n",
       "}\n",
       "</style><div class='ee'><ul><li><label class='ee-shut'>FeatureCollection (5 elements, 2 columns)<input type='checkbox' class='ee-toggle'></label><ul><li><span class='ee-k'>type:</span><span class='ee-v'>FeatureCollection</span></li><li><label class='ee-shut'>columns: Object (2 properties)<input type='checkbox' class='ee-toggle'></label><ul><li><span class='ee-k'>system:index:</span><span class='ee-v'>String</span></li><li><span class='ee-k'>zona:</span><span class='ee-v'>Integer</span></li></ul></li><li><label class='ee-shut'>features: List (5 elements)<input type='checkbox' class='ee-toggle'></label><ul><li><label class='ee-shut'>0: Feature (Point, 1 property)<input type='checkbox' class='ee-toggle'></label><ul><li><span class='ee-k'>type:</span><span class='ee-v'>Feature</span></li><li><span class='ee-k'>id:</span><span class='ee-v'>1_0</span></li><li><label class='ee-shut'>geometry: Point (-74.47, 0.66)<input type='checkbox' class='ee-toggle'></label><ul><li><span class='ee-k'>type:</span><span class='ee-v'>Point</span></li><li><label class='ee-shut'>coordinates: [-74.469001, 0.655861]<input type='checkbox' class='ee-toggle'></label><ul><li><span class='ee-k'>0:</span><span class='ee-v'>-74.469001</span></li><li><span class='ee-k'>1:</span><span class='ee-v'>0.655861</span></li></ul></li></ul></li><li><label class='ee-shut'>properties: Object (1 property)<input type='checkbox' class='ee-toggle'></label><ul><li><span class='ee-k'>zona:</span><span class='ee-v'>0</span></li></ul></li></ul></li><li><label class='ee-shut'>1: Feature (Point, 1 property)<input type='checkbox' class='ee-toggle'></label><ul><li><span class='ee-k'>type:</span><span class='ee-v'>Feature</span></li><li><span class='ee-k'>id:</span><span class='ee-v'>1_1</span></li><li><label class='ee-shut'>geometry: Point (-74.47, 0.66)<input type='checkbox' class='ee-toggle'></label><ul><li><span class='ee-k'>type:</span><span class='ee-v'>Point</span></li><li><label class='ee-shut'>coordinates: [-74.468036, 0.656097]<input type='checkbox' class='ee-toggle'></label><ul><li><span class='ee-k'>0:</span><span class='ee-v'>-74.468036</span></li><li><span class='ee-k'>1:</span><span class='ee-v'>0.656097</span></li></ul></li></ul></li><li><label class='ee-shut'>properties: Object (1 property)<input type='checkbox' class='ee-toggle'></label><ul><li><span class='ee-k'>zona:</span><span class='ee-v'>0</span></li></ul></li></ul></li><li><label class='ee-shut'>2: Feature (Point, 1 property)<input type='checkbox' class='ee-toggle'></label><ul><li><span class='ee-k'>type:</span><span class='ee-v'>Feature</span></li><li><span class='ee-k'>id:</span><span class='ee-v'>1_2</span></li><li><label class='ee-shut'>geometry: Point (-74.47, 0.66)<input type='checkbox' class='ee-toggle'></label><ul><li><span class='ee-k'>type:</span><span class='ee-v'>Point</span></li><li><label class='ee-shut'>coordinates: [-74.468851, 0.655239]<input type='checkbox' class='ee-toggle'></label><ul><li><span class='ee-k'>0:</span><span class='ee-v'>-74.468851</span></li><li><span class='ee-k'>1:</span><span class='ee-v'>0.655239</span></li></ul></li></ul></li><li><label class='ee-shut'>properties: Object (1 property)<input type='checkbox' class='ee-toggle'></label><ul><li><span class='ee-k'>zona:</span><span class='ee-v'>0</span></li></ul></li></ul></li><li><label class='ee-shut'>3: Feature (Point, 1 property)<input type='checkbox' class='ee-toggle'></label><ul><li><span class='ee-k'>type:</span><span class='ee-v'>Feature</span></li><li><span class='ee-k'>id:</span><span class='ee-v'>1_3</span></li><li><label class='ee-shut'>geometry: Point (-74.47, 0.65)<input type='checkbox' class='ee-toggle'></label><ul><li><span class='ee-k'>type:</span><span class='ee-v'>Point</span></li><li><label class='ee-shut'>coordinates: [-74.46928, 0.654187]<input type='checkbox' class='ee-toggle'></label><ul><li><span class='ee-k'>0:</span><span class='ee-v'>-74.46928</span></li><li><span class='ee-k'>1:</span><span class='ee-v'>0.654187</span></li></ul></li></ul></li><li><label class='ee-shut'>properties: Object (1 property)<input type='checkbox' class='ee-toggle'></label><ul><li><span class='ee-k'>zona:</span><span class='ee-v'>0</span></li></ul></li></ul></li><li><label class='ee-shut'>4: Feature (Point, 1 property)<input type='checkbox' class='ee-toggle'></label><ul><li><span class='ee-k'>type:</span><span class='ee-v'>Feature</span></li><li><span class='ee-k'>id:</span><span class='ee-v'>1_4</span></li><li><label class='ee-shut'>geometry: Point (-74.47, 0.65)<input type='checkbox' class='ee-toggle'></label><ul><li><span class='ee-k'>type:</span><span class='ee-v'>Point</span></li><li><label class='ee-shut'>coordinates: [-74.468229, 0.653587]<input type='checkbox' class='ee-toggle'></label><ul><li><span class='ee-k'>0:</span><span class='ee-v'>-74.468229</span></li><li><span class='ee-k'>1:</span><span class='ee-v'>0.653587</span></li></ul></li></ul></li><li><label class='ee-shut'>properties: Object (1 property)<input type='checkbox' class='ee-toggle'></label><ul><li><span class='ee-k'>zona:</span><span class='ee-v'>0</span></li></ul></li></ul></li></ul></li></ul></li></ul></div><script>function toggleHeader() {\n",
       "    const parent = this.parentElement;\n",
       "    parent.className = parent.className === \"ee-open\" ? \"ee-shut\" : \"ee-open\";\n",
       "}\n",
       "\n",
       "for (let c of document.getElementsByClassName(\"ee-toggle\")) {\n",
       "    c.onclick = toggleHeader;\n",
       "}</script></div>"
      ],
      "text/plain": [
       "<ee.featurecollection.FeatureCollection at 0x18167c5ba10>"
      ]
     },
     "execution_count": 33,
     "metadata": {},
     "output_type": "execute_result"
    }
   ],
   "source": [
    "#Podemos revisar la primera colección \"SV\" empleando algunas de las propiedades que les asignamos\n",
    "Entrenamiento2014.filter(ee.Filter.eq('zona',0))"
   ]
  },
  {
   "cell_type": "code",
   "execution_count": 34,
   "id": "bc9a5211",
   "metadata": {},
   "outputs": [
    {
     "data": {
      "text/html": [
       "\n",
       "            <style>\n",
       "                .geemap-dark {\n",
       "                    --jp-widgets-color: white;\n",
       "                    --jp-widgets-label-color: white;\n",
       "                    --jp-ui-font-color1: white;\n",
       "                    --jp-layout-color2: #454545;\n",
       "                    background-color: #383838;\n",
       "                }\n",
       "                    \n",
       "                .geemap-dark .jupyter-button {\n",
       "                    --jp-layout-color3: #383838;\n",
       "                }\n",
       "                \n",
       "                .geemap-colab {\n",
       "                    background-color: var(--colab-primary-surface-color, white);\n",
       "                }\n",
       "                    \n",
       "                .geemap-colab .jupyter-button {\n",
       "                    --jp-layout-color3: var(--colab-primary-surface-color, white);\n",
       "                }\n",
       "            </style>\n",
       "            "
      ],
      "text/plain": [
       "<IPython.core.display.HTML object>"
      ]
     },
     "metadata": {},
     "output_type": "display_data"
    },
    {
     "data": {
      "text/html": [
       "<div><style>:root {\n",
       "  --font-color-primary: var(--jp-content-font-color0, rgba(0, 0, 0, 1));\n",
       "  --font-color-secondary: var(--jp-content-font-color2, rgba(0, 0, 0, 0.6));\n",
       "  --font-color-accent: rgba(123, 31, 162, 1);\n",
       "  --border-color: var(--jp-border-color2, #e0e0e0);\n",
       "  --background-color: var(--jp-layout-color0, white);\n",
       "  --background-color-row-even: var(--jp-layout-color1, white);\n",
       "  --background-color-row-odd: var(--jp-layout-color2, #eeeeee);\n",
       "}\n",
       "\n",
       "html[theme=\"dark\"],\n",
       "body[data-theme=\"dark\"],\n",
       "body.vscode-dark {\n",
       "  --font-color-primary: rgba(255, 255, 255, 1);\n",
       "  --font-color-secondary: rgba(255, 255, 255, 0.6);\n",
       "  --font-color-accent: rgb(173, 132, 190);\n",
       "  --border-color: #2e2e2e;\n",
       "  --background-color: #111111;\n",
       "  --background-color-row-even: #111111;\n",
       "  --background-color-row-odd: #313131;\n",
       "}\n",
       "\n",
       ".ee {\n",
       "  padding: 1em;\n",
       "  line-height: 1.5em;\n",
       "  min-width: 300px;\n",
       "  max-width: 1200px;\n",
       "  overflow-y: scroll;\n",
       "  max-height: 600px;\n",
       "  border: 1px solid var(--border-color);\n",
       "  font-family: monospace;\n",
       "}\n",
       "\n",
       ".ee li {\n",
       "  list-style-type: none;\n",
       "}\n",
       "\n",
       ".ee ul {\n",
       "  padding-left: 1.5em !important;\n",
       "  margin: 0;\n",
       "}\n",
       "\n",
       ".ee > ul {\n",
       "  padding-left: 0 !important;\n",
       "}\n",
       "\n",
       ".ee-open,\n",
       ".ee-shut {\n",
       "  color: var(--font-color-secondary);\n",
       "  cursor: pointer;\n",
       "  margin: 0;\n",
       "}\n",
       "\n",
       ".ee-open:hover,\n",
       ".ee-shut:hover {\n",
       "  color: var(--font-color-primary);\n",
       "}\n",
       "\n",
       ".ee-k {\n",
       "  color: var(--font-color-accent);\n",
       "  margin-right: 6px;\n",
       "}\n",
       "\n",
       ".ee-v {\n",
       "  color: var(--font-color-primary);\n",
       "}\n",
       "\n",
       ".ee-toggle {\n",
       "  display: none;\n",
       "}\n",
       "\n",
       ".ee-shut + ul {\n",
       "  display: none;\n",
       "}\n",
       "\n",
       ".ee-open + ul {\n",
       "  display: block;\n",
       "}\n",
       "\n",
       ".ee-shut::before {\n",
       "  display: inline-block;\n",
       "  content: \"▼\";\n",
       "  margin-right: 6px;\n",
       "  transform: rotate(-90deg);\n",
       "  transition: transform 0.2s;\n",
       "}\n",
       "\n",
       ".ee-open::before {\n",
       "  transform: rotate(0deg);\n",
       "  display: inline-block;\n",
       "  content: \"▼\";\n",
       "  margin-right: 6px;\n",
       "  transition: transform 0.2s;\n",
       "}\n",
       "</style><div class='ee'><ul><li><label class='ee-shut'>FeatureCollection (5 elements, 2 columns)<input type='checkbox' class='ee-toggle'></label><ul><li><span class='ee-k'>type:</span><span class='ee-v'>FeatureCollection</span></li><li><label class='ee-shut'>columns: Object (2 properties)<input type='checkbox' class='ee-toggle'></label><ul><li><span class='ee-k'>system:index:</span><span class='ee-v'>String</span></li><li><span class='ee-k'>zona:</span><span class='ee-v'>Integer</span></li></ul></li><li><label class='ee-shut'>features: List (5 elements)<input type='checkbox' class='ee-toggle'></label><ul><li><label class='ee-shut'>0: Feature (Point, 1 property)<input type='checkbox' class='ee-toggle'></label><ul><li><span class='ee-k'>type:</span><span class='ee-v'>Feature</span></li><li><span class='ee-k'>id:</span><span class='ee-v'>2_0</span></li><li><label class='ee-shut'>geometry: Point (-74.45, 0.66)<input type='checkbox' class='ee-toggle'></label><ul><li><span class='ee-k'>type:</span><span class='ee-v'>Point</span></li><li><label class='ee-shut'>coordinates: [-74.451814, 0.656311]<input type='checkbox' class='ee-toggle'></label><ul><li><span class='ee-k'>0:</span><span class='ee-v'>-74.451814</span></li><li><span class='ee-k'>1:</span><span class='ee-v'>0.656311</span></li></ul></li></ul></li><li><label class='ee-shut'>properties: Object (1 property)<input type='checkbox' class='ee-toggle'></label><ul><li><span class='ee-k'>zona:</span><span class='ee-v'>1</span></li></ul></li></ul></li><li><label class='ee-shut'>1: Feature (Point, 1 property)<input type='checkbox' class='ee-toggle'></label><ul><li><span class='ee-k'>type:</span><span class='ee-v'>Feature</span></li><li><span class='ee-k'>id:</span><span class='ee-v'>2_1</span></li><li><label class='ee-shut'>geometry: Point (-74.45, 0.66)<input type='checkbox' class='ee-toggle'></label><ul><li><span class='ee-k'>type:</span><span class='ee-v'>Point</span></li><li><label class='ee-shut'>coordinates: [-74.454195, 0.656676]<input type='checkbox' class='ee-toggle'></label><ul><li><span class='ee-k'>0:</span><span class='ee-v'>-74.454195</span></li><li><span class='ee-k'>1:</span><span class='ee-v'>0.656676</span></li></ul></li></ul></li><li><label class='ee-shut'>properties: Object (1 property)<input type='checkbox' class='ee-toggle'></label><ul><li><span class='ee-k'>zona:</span><span class='ee-v'>1</span></li></ul></li></ul></li><li><label class='ee-shut'>2: Feature (Point, 1 property)<input type='checkbox' class='ee-toggle'></label><ul><li><span class='ee-k'>type:</span><span class='ee-v'>Feature</span></li><li><span class='ee-k'>id:</span><span class='ee-v'>2_2</span></li><li><label class='ee-shut'>geometry: Point (-74.45, 0.65)<input type='checkbox' class='ee-toggle'></label><ul><li><span class='ee-k'>type:</span><span class='ee-v'>Point</span></li><li><label class='ee-shut'>coordinates: [-74.454474, 0.654552]<input type='checkbox' class='ee-toggle'></label><ul><li><span class='ee-k'>0:</span><span class='ee-v'>-74.454474</span></li><li><span class='ee-k'>1:</span><span class='ee-v'>0.654552</span></li></ul></li></ul></li><li><label class='ee-shut'>properties: Object (1 property)<input type='checkbox' class='ee-toggle'></label><ul><li><span class='ee-k'>zona:</span><span class='ee-v'>1</span></li></ul></li></ul></li><li><label class='ee-shut'>3: Feature (Point, 1 property)<input type='checkbox' class='ee-toggle'></label><ul><li><span class='ee-k'>type:</span><span class='ee-v'>Feature</span></li><li><span class='ee-k'>id:</span><span class='ee-v'>2_3</span></li><li><label class='ee-shut'>geometry: Point (-74.45, 0.65)<input type='checkbox' class='ee-toggle'></label><ul><li><span class='ee-k'>type:</span><span class='ee-v'>Point</span></li><li><label class='ee-shut'>coordinates: [-74.450397, 0.654402]<input type='checkbox' class='ee-toggle'></label><ul><li><span class='ee-k'>0:</span><span class='ee-v'>-74.450397</span></li><li><span class='ee-k'>1:</span><span class='ee-v'>0.654402</span></li></ul></li></ul></li><li><label class='ee-shut'>properties: Object (1 property)<input type='checkbox' class='ee-toggle'></label><ul><li><span class='ee-k'>zona:</span><span class='ee-v'>1</span></li></ul></li></ul></li><li><label class='ee-shut'>4: Feature (Point, 1 property)<input type='checkbox' class='ee-toggle'></label><ul><li><span class='ee-k'>type:</span><span class='ee-v'>Feature</span></li><li><span class='ee-k'>id:</span><span class='ee-v'>2_4</span></li><li><label class='ee-shut'>geometry: Point (-74.45, 0.66)<input type='checkbox' class='ee-toggle'></label><ul><li><span class='ee-k'>type:</span><span class='ee-v'>Point</span></li><li><label class='ee-shut'>coordinates: [-74.449775, 0.657449]<input type='checkbox' class='ee-toggle'></label><ul><li><span class='ee-k'>0:</span><span class='ee-v'>-74.449775</span></li><li><span class='ee-k'>1:</span><span class='ee-v'>0.657449</span></li></ul></li></ul></li><li><label class='ee-shut'>properties: Object (1 property)<input type='checkbox' class='ee-toggle'></label><ul><li><span class='ee-k'>zona:</span><span class='ee-v'>1</span></li></ul></li></ul></li></ul></li></ul></li></ul></div><script>function toggleHeader() {\n",
       "    const parent = this.parentElement;\n",
       "    parent.className = parent.className === \"ee-open\" ? \"ee-shut\" : \"ee-open\";\n",
       "}\n",
       "\n",
       "for (let c of document.getElementsByClassName(\"ee-toggle\")) {\n",
       "    c.onclick = toggleHeader;\n",
       "}</script></div>"
      ],
      "text/plain": [
       "<ee.featurecollection.FeatureCollection at 0x18167c59490>"
      ]
     },
     "execution_count": 34,
     "metadata": {},
     "output_type": "execute_result"
    }
   ],
   "source": [
    "#Podemos revisar la primera colección \"SV\" empleando algunas de las propiedades que les asignamos\n",
    "Entrenamiento2014.filter(ee.Filter.eq('zona',1))"
   ]
  },
  {
   "cell_type": "code",
   "execution_count": 36,
   "id": "44ac0bb8",
   "metadata": {},
   "outputs": [
    {
     "data": {
      "text/html": [
       "\n",
       "            <style>\n",
       "                .geemap-dark {\n",
       "                    --jp-widgets-color: white;\n",
       "                    --jp-widgets-label-color: white;\n",
       "                    --jp-ui-font-color1: white;\n",
       "                    --jp-layout-color2: #454545;\n",
       "                    background-color: #383838;\n",
       "                }\n",
       "                    \n",
       "                .geemap-dark .jupyter-button {\n",
       "                    --jp-layout-color3: #383838;\n",
       "                }\n",
       "                \n",
       "                .geemap-colab {\n",
       "                    background-color: var(--colab-primary-surface-color, white);\n",
       "                }\n",
       "                    \n",
       "                .geemap-colab .jupyter-button {\n",
       "                    --jp-layout-color3: var(--colab-primary-surface-color, white);\n",
       "                }\n",
       "            </style>\n",
       "            "
      ],
      "text/plain": [
       "<IPython.core.display.HTML object>"
      ]
     },
     "metadata": {},
     "output_type": "display_data"
    },
    {
     "name": "stdout",
     "output_type": "stream",
     "text": [
      "Generating URL ...\n",
      "Downloading data from https://earthengine.googleapis.com/v1/projects/earthengine-legacy/tables/70a2d06f289babad3e566985ae6fdd5f-7e12ba4e1f41aa86245b69b48ff8d9a4:getFeatures\n",
      "Please wait ...\n",
      "Data downloaded to c:\\Users\\ingju\\OneDrive\\Documentos\\GitHub\\MGITG\\GeoAI\\Análisis_Nevados\\GeoAI\\DatosEntrenamientoRF_2022.shp\n"
     ]
    }
   ],
   "source": [
    "# En esta opción podemos guardar nuestros datos de entrenamiento como un archivo .shp\n",
    "geemap.ee_to_shp(Entrenamiento2014, \"DatosEntrenamientoRF_2022.shp\")"
   ]
  },
  {
   "cell_type": "markdown",
   "id": "7a47b2d6",
   "metadata": {},
   "source": [
    "# <font style=\"color:green\">2.2 Bandas empleadas para la predicción </font>"
   ]
  },
  {
   "cell_type": "code",
   "execution_count": 25,
   "id": "e01e1500",
   "metadata": {},
   "outputs": [
    {
     "data": {
      "text/html": [
       "\n",
       "            <style>\n",
       "                .geemap-dark {\n",
       "                    --jp-widgets-color: white;\n",
       "                    --jp-widgets-label-color: white;\n",
       "                    --jp-ui-font-color1: white;\n",
       "                    --jp-layout-color2: #454545;\n",
       "                    background-color: #383838;\n",
       "                }\n",
       "                    \n",
       "                .geemap-dark .jupyter-button {\n",
       "                    --jp-layout-color3: #383838;\n",
       "                }\n",
       "                \n",
       "                .geemap-colab {\n",
       "                    background-color: var(--colab-primary-surface-color, white);\n",
       "                }\n",
       "                    \n",
       "                .geemap-colab .jupyter-button {\n",
       "                    --jp-layout-color3: var(--colab-primary-surface-color, white);\n",
       "                }\n",
       "            </style>\n",
       "            "
      ],
      "text/plain": [
       "<IPython.core.display.HTML object>"
      ]
     },
     "metadata": {},
     "output_type": "display_data"
    }
   ],
   "source": [
    "bandas = ['SR_B1','SR_B2','SR_B3','SR_B4','SR_B5','SR_B6','SR_B7','NDVI']"
   ]
  },
  {
   "cell_type": "code",
   "execution_count": 26,
   "id": "1f5abb80",
   "metadata": {},
   "outputs": [
    {
     "data": {
      "text/html": [
       "\n",
       "            <style>\n",
       "                .geemap-dark {\n",
       "                    --jp-widgets-color: white;\n",
       "                    --jp-widgets-label-color: white;\n",
       "                    --jp-ui-font-color1: white;\n",
       "                    --jp-layout-color2: #454545;\n",
       "                    background-color: #383838;\n",
       "                }\n",
       "                    \n",
       "                .geemap-dark .jupyter-button {\n",
       "                    --jp-layout-color3: #383838;\n",
       "                }\n",
       "                \n",
       "                .geemap-colab {\n",
       "                    background-color: var(--colab-primary-surface-color, white);\n",
       "                }\n",
       "                    \n",
       "                .geemap-colab .jupyter-button {\n",
       "                    --jp-layout-color3: var(--colab-primary-surface-color, white);\n",
       "                }\n",
       "            </style>\n",
       "            "
      ],
      "text/plain": [
       "<IPython.core.display.HTML object>"
      ]
     },
     "metadata": {},
     "output_type": "display_data"
    }
   ],
   "source": [
    "#Etique que contiene las propiedades de los puntos creados\n",
    "etiqueta = \"zona\""
   ]
  },
  {
   "cell_type": "markdown",
   "id": "8b4c08e3",
   "metadata": {},
   "source": [
    "# <font style=\"color:red\">3. ENTRENAMIENTO </font>"
   ]
  },
  {
   "cell_type": "code",
   "execution_count": 47,
   "id": "29bea162",
   "metadata": {},
   "outputs": [
    {
     "data": {
      "text/html": [
       "\n",
       "            <style>\n",
       "                .geemap-dark {\n",
       "                    --jp-widgets-color: white;\n",
       "                    --jp-widgets-label-color: white;\n",
       "                    --jp-ui-font-color1: white;\n",
       "                    --jp-layout-color2: #454545;\n",
       "                    background-color: #383838;\n",
       "                }\n",
       "                    \n",
       "                .geemap-dark .jupyter-button {\n",
       "                    --jp-layout-color3: #383838;\n",
       "                }\n",
       "                \n",
       "                .geemap-colab {\n",
       "                    background-color: var(--colab-primary-surface-color, white);\n",
       "                }\n",
       "                    \n",
       "                .geemap-colab .jupyter-button {\n",
       "                    --jp-layout-color3: var(--colab-primary-surface-color, white);\n",
       "                }\n",
       "            </style>\n",
       "            "
      ],
      "text/plain": [
       "<IPython.core.display.HTML object>"
      ]
     },
     "metadata": {},
     "output_type": "display_data"
    }
   ],
   "source": [
    "# https://developers.google.com/earth-engine/apidocs/ee-classifier-smilerandomforest#colab-python\n",
    "\n",
    "# https://geemap.org/notebooks/32_supervised_classification/#add-a-legend-to-the-map\n",
    "\n",
    "# https://www.youtube.com/playlist?list=PLLJHvBcuQLfWGHaUgtWYPu4mcyT6Wl3WR"
   ]
  },
  {
   "cell_type": "code",
   "execution_count": 39,
   "id": "ab610519",
   "metadata": {},
   "outputs": [
    {
     "data": {
      "text/html": [
       "\n",
       "            <style>\n",
       "                .geemap-dark {\n",
       "                    --jp-widgets-color: white;\n",
       "                    --jp-widgets-label-color: white;\n",
       "                    --jp-ui-font-color1: white;\n",
       "                    --jp-layout-color2: #454545;\n",
       "                    background-color: #383838;\n",
       "                }\n",
       "                    \n",
       "                .geemap-dark .jupyter-button {\n",
       "                    --jp-layout-color3: #383838;\n",
       "                }\n",
       "                \n",
       "                .geemap-colab {\n",
       "                    background-color: var(--colab-primary-surface-color, white);\n",
       "                }\n",
       "                    \n",
       "                .geemap-colab .jupyter-button {\n",
       "                    --jp-layout-color3: var(--colab-primary-surface-color, white);\n",
       "                }\n",
       "            </style>\n",
       "            "
      ],
      "text/plain": [
       "<IPython.core.display.HTML object>"
      ]
     },
     "metadata": {},
     "output_type": "display_data"
    }
   ],
   "source": [
    "entrenamiento = LS2022.select(bandas).sampleRegions(\n",
    "    **{'collection': Entrenamiento2014, 'properties': [etiqueta], 'scale': 30}\n",
    ")"
   ]
  },
  {
   "cell_type": "code",
   "execution_count": 40,
   "id": "79a3d795",
   "metadata": {},
   "outputs": [
    {
     "data": {
      "text/html": [
       "\n",
       "            <style>\n",
       "                .geemap-dark {\n",
       "                    --jp-widgets-color: white;\n",
       "                    --jp-widgets-label-color: white;\n",
       "                    --jp-ui-font-color1: white;\n",
       "                    --jp-layout-color2: #454545;\n",
       "                    background-color: #383838;\n",
       "                }\n",
       "                    \n",
       "                .geemap-dark .jupyter-button {\n",
       "                    --jp-layout-color3: #383838;\n",
       "                }\n",
       "                \n",
       "                .geemap-colab {\n",
       "                    background-color: var(--colab-primary-surface-color, white);\n",
       "                }\n",
       "                    \n",
       "                .geemap-colab .jupyter-button {\n",
       "                    --jp-layout-color3: var(--colab-primary-surface-color, white);\n",
       "                }\n",
       "            </style>\n",
       "            "
      ],
      "text/plain": [
       "<IPython.core.display.HTML object>"
      ]
     },
     "metadata": {},
     "output_type": "display_data"
    },
    {
     "data": {
      "text/html": [
       "<div><style>:root {\n",
       "  --font-color-primary: var(--jp-content-font-color0, rgba(0, 0, 0, 1));\n",
       "  --font-color-secondary: var(--jp-content-font-color2, rgba(0, 0, 0, 0.6));\n",
       "  --font-color-accent: rgba(123, 31, 162, 1);\n",
       "  --border-color: var(--jp-border-color2, #e0e0e0);\n",
       "  --background-color: var(--jp-layout-color0, white);\n",
       "  --background-color-row-even: var(--jp-layout-color1, white);\n",
       "  --background-color-row-odd: var(--jp-layout-color2, #eeeeee);\n",
       "}\n",
       "\n",
       "html[theme=\"dark\"],\n",
       "body[data-theme=\"dark\"],\n",
       "body.vscode-dark {\n",
       "  --font-color-primary: rgba(255, 255, 255, 1);\n",
       "  --font-color-secondary: rgba(255, 255, 255, 0.6);\n",
       "  --font-color-accent: rgb(173, 132, 190);\n",
       "  --border-color: #2e2e2e;\n",
       "  --background-color: #111111;\n",
       "  --background-color-row-even: #111111;\n",
       "  --background-color-row-odd: #313131;\n",
       "}\n",
       "\n",
       ".ee {\n",
       "  padding: 1em;\n",
       "  line-height: 1.5em;\n",
       "  min-width: 300px;\n",
       "  max-width: 1200px;\n",
       "  overflow-y: scroll;\n",
       "  max-height: 600px;\n",
       "  border: 1px solid var(--border-color);\n",
       "  font-family: monospace;\n",
       "}\n",
       "\n",
       ".ee li {\n",
       "  list-style-type: none;\n",
       "}\n",
       "\n",
       ".ee ul {\n",
       "  padding-left: 1.5em !important;\n",
       "  margin: 0;\n",
       "}\n",
       "\n",
       ".ee > ul {\n",
       "  padding-left: 0 !important;\n",
       "}\n",
       "\n",
       ".ee-open,\n",
       ".ee-shut {\n",
       "  color: var(--font-color-secondary);\n",
       "  cursor: pointer;\n",
       "  margin: 0;\n",
       "}\n",
       "\n",
       ".ee-open:hover,\n",
       ".ee-shut:hover {\n",
       "  color: var(--font-color-primary);\n",
       "}\n",
       "\n",
       ".ee-k {\n",
       "  color: var(--font-color-accent);\n",
       "  margin-right: 6px;\n",
       "}\n",
       "\n",
       ".ee-v {\n",
       "  color: var(--font-color-primary);\n",
       "}\n",
       "\n",
       ".ee-toggle {\n",
       "  display: none;\n",
       "}\n",
       "\n",
       ".ee-shut + ul {\n",
       "  display: none;\n",
       "}\n",
       "\n",
       ".ee-open + ul {\n",
       "  display: block;\n",
       "}\n",
       "\n",
       ".ee-shut::before {\n",
       "  display: inline-block;\n",
       "  content: \"▼\";\n",
       "  margin-right: 6px;\n",
       "  transform: rotate(-90deg);\n",
       "  transition: transform 0.2s;\n",
       "}\n",
       "\n",
       ".ee-open::before {\n",
       "  transform: rotate(0deg);\n",
       "  display: inline-block;\n",
       "  content: \"▼\";\n",
       "  margin-right: 6px;\n",
       "  transition: transform 0.2s;\n",
       "}\n",
       "</style><div class='ee'><ul><li><label class='ee-shut'>FeatureCollection (10 elements, 0 columns)<input type='checkbox' class='ee-toggle'></label><ul><li><span class='ee-k'>type:</span><span class='ee-v'>FeatureCollection</span></li><li><label class='ee-shut'>columns: Object (0 properties)<input type='checkbox' class='ee-toggle'></label><ul></ul></li><li><label class='ee-shut'>properties: Object (1 property)<input type='checkbox' class='ee-toggle'></label><ul><li><label class='ee-shut'>band_order: List (8 elements)<input type='checkbox' class='ee-toggle'></label><ul><li><span class='ee-k'>0:</span><span class='ee-v'>SR_B1</span></li><li><span class='ee-k'>1:</span><span class='ee-v'>SR_B2</span></li><li><span class='ee-k'>2:</span><span class='ee-v'>SR_B3</span></li><li><span class='ee-k'>3:</span><span class='ee-v'>SR_B4</span></li><li><span class='ee-k'>4:</span><span class='ee-v'>SR_B5</span></li><li><span class='ee-k'>5:</span><span class='ee-v'>SR_B6</span></li><li><span class='ee-k'>6:</span><span class='ee-v'>SR_B7</span></li><li><span class='ee-k'>7:</span><span class='ee-v'>NDVI</span></li></ul></li></ul></li><li><label class='ee-shut'>features: List (10 elements)<input type='checkbox' class='ee-toggle'></label><ul><li><label class='ee-shut'>0: Feature (9 properties)<input type='checkbox' class='ee-toggle'></label><ul><li><span class='ee-k'>type:</span><span class='ee-v'>Feature</span></li><li><span class='ee-k'>id:</span><span class='ee-v'>1_0_0</span></li><li><span class='ee-k'>geometry:</span><span class='ee-v'>None</span></li><li><label class='ee-shut'>properties: Object (9 properties)<input type='checkbox' class='ee-toggle'></label><ul><li><span class='ee-k'>NDVI:</span><span class='ee-v'>0.33881017565727234</span></li><li><span class='ee-k'>SR_B1:</span><span class='ee-v'>8879</span></li><li><span class='ee-k'>SR_B2:</span><span class='ee-v'>9074</span></li><li><span class='ee-k'>SR_B3:</span><span class='ee-v'>10192.333333333334</span></li><li><span class='ee-k'>SR_B4:</span><span class='ee-v'>9989</span></li><li><span class='ee-k'>SR_B5:</span><span class='ee-v'>20305.333333333332</span></li><li><span class='ee-k'>SR_B6:</span><span class='ee-v'>17403.666666666668</span></li><li><span class='ee-k'>SR_B7:</span><span class='ee-v'>12523.666666666666</span></li><li><span class='ee-k'>zona:</span><span class='ee-v'>0</span></li></ul></li></ul></li><li><label class='ee-shut'>1: Feature (9 properties)<input type='checkbox' class='ee-toggle'></label><ul><li><span class='ee-k'>type:</span><span class='ee-v'>Feature</span></li><li><span class='ee-k'>id:</span><span class='ee-v'>1_1_0</span></li><li><span class='ee-k'>geometry:</span><span class='ee-v'>None</span></li><li><label class='ee-shut'>properties: Object (9 properties)<input type='checkbox' class='ee-toggle'></label><ul><li><span class='ee-k'>NDVI:</span><span class='ee-v'>0.32455480098724365</span></li><li><span class='ee-k'>SR_B1:</span><span class='ee-v'>7891.666666666667</span></li><li><span class='ee-k'>SR_B2:</span><span class='ee-v'>8293.333333333334</span></li><li><span class='ee-k'>SR_B3:</span><span class='ee-v'>9646.666666666666</span></li><li><span class='ee-k'>SR_B4:</span><span class='ee-v'>9530</span></li><li><span class='ee-k'>SR_B5:</span><span class='ee-v'>18772.666666666668</span></li><li><span class='ee-k'>SR_B6:</span><span class='ee-v'>16636.666666666668</span></li><li><span class='ee-k'>SR_B7:</span><span class='ee-v'>12306.666666666666</span></li><li><span class='ee-k'>zona:</span><span class='ee-v'>0</span></li></ul></li></ul></li><li><label class='ee-shut'>2: Feature (9 properties)<input type='checkbox' class='ee-toggle'></label><ul><li><span class='ee-k'>type:</span><span class='ee-v'>Feature</span></li><li><span class='ee-k'>id:</span><span class='ee-v'>1_2_0</span></li><li><span class='ee-k'>geometry:</span><span class='ee-v'>None</span></li><li><label class='ee-shut'>properties: Object (9 properties)<input type='checkbox' class='ee-toggle'></label><ul><li><span class='ee-k'>NDVI:</span><span class='ee-v'>0.3528537154197693</span></li><li><span class='ee-k'>SR_B1:</span><span class='ee-v'>8339.666666666666</span></li><li><span class='ee-k'>SR_B2:</span><span class='ee-v'>8666.333333333334</span></li><li><span class='ee-k'>SR_B3:</span><span class='ee-v'>10094.666666666666</span></li><li><span class='ee-k'>SR_B4:</span><span class='ee-v'>9909</span></li><li><span class='ee-k'>SR_B5:</span><span class='ee-v'>20770.333333333332</span></li><li><span class='ee-k'>SR_B6:</span><span class='ee-v'>17436.333333333332</span></li><li><span class='ee-k'>SR_B7:</span><span class='ee-v'>12423.666666666666</span></li><li><span class='ee-k'>zona:</span><span class='ee-v'>0</span></li></ul></li></ul></li><li><label class='ee-shut'>3: Feature (9 properties)<input type='checkbox' class='ee-toggle'></label><ul><li><span class='ee-k'>type:</span><span class='ee-v'>Feature</span></li><li><span class='ee-k'>id:</span><span class='ee-v'>1_3_0</span></li><li><span class='ee-k'>geometry:</span><span class='ee-v'>None</span></li><li><label class='ee-shut'>properties: Object (9 properties)<input type='checkbox' class='ee-toggle'></label><ul><li><span class='ee-k'>NDVI:</span><span class='ee-v'>0.32977116107940674</span></li><li><span class='ee-k'>SR_B1:</span><span class='ee-v'>6812</span></li><li><span class='ee-k'>SR_B2:</span><span class='ee-v'>7676.666666666667</span></li><li><span class='ee-k'>SR_B3:</span><span class='ee-v'>9795.666666666666</span></li><li><span class='ee-k'>SR_B4:</span><span class='ee-v'>9756.333333333334</span></li><li><span class='ee-k'>SR_B5:</span><span class='ee-v'>19390</span></li><li><span class='ee-k'>SR_B6:</span><span class='ee-v'>16460</span></li><li><span class='ee-k'>SR_B7:</span><span class='ee-v'>11997</span></li><li><span class='ee-k'>zona:</span><span class='ee-v'>0</span></li></ul></li></ul></li><li><label class='ee-shut'>4: Feature (9 properties)<input type='checkbox' class='ee-toggle'></label><ul><li><span class='ee-k'>type:</span><span class='ee-v'>Feature</span></li><li><span class='ee-k'>id:</span><span class='ee-v'>1_4_0</span></li><li><span class='ee-k'>geometry:</span><span class='ee-v'>None</span></li><li><label class='ee-shut'>properties: Object (9 properties)<input type='checkbox' class='ee-toggle'></label><ul><li><span class='ee-k'>NDVI:</span><span class='ee-v'>0.2819361686706543</span></li><li><span class='ee-k'>SR_B1:</span><span class='ee-v'>8826</span></li><li><span class='ee-k'>SR_B2:</span><span class='ee-v'>9137</span></li><li><span class='ee-k'>SR_B3:</span><span class='ee-v'>10414</span></li><li><span class='ee-k'>SR_B4:</span><span class='ee-v'>10236</span></li><li><span class='ee-k'>SR_B5:</span><span class='ee-v'>18274</span></li><li><span class='ee-k'>SR_B6:</span><span class='ee-v'>17403</span></li><li><span class='ee-k'>SR_B7:</span><span class='ee-v'>12898</span></li><li><span class='ee-k'>zona:</span><span class='ee-v'>0</span></li></ul></li></ul></li><li><label class='ee-shut'>5: Feature (9 properties)<input type='checkbox' class='ee-toggle'></label><ul><li><span class='ee-k'>type:</span><span class='ee-v'>Feature</span></li><li><span class='ee-k'>id:</span><span class='ee-v'>2_0_0</span></li><li><span class='ee-k'>geometry:</span><span class='ee-v'>None</span></li><li><label class='ee-shut'>properties: Object (9 properties)<input type='checkbox' class='ee-toggle'></label><ul><li><span class='ee-k'>NDVI:</span><span class='ee-v'>0.4439326822757721</span></li><li><span class='ee-k'>SR_B1:</span><span class='ee-v'>7953.666666666667</span></li><li><span class='ee-k'>SR_B2:</span><span class='ee-v'>8068</span></li><li><span class='ee-k'>SR_B3:</span><span class='ee-v'>8984.666666666666</span></li><li><span class='ee-k'>SR_B4:</span><span class='ee-v'>8191.333333333333</span></li><li><span class='ee-k'>SR_B5:</span><span class='ee-v'>21288</span></li><li><span class='ee-k'>SR_B6:</span><span class='ee-v'>13195</span></li><li><span class='ee-k'>SR_B7:</span><span class='ee-v'>9461.333333333334</span></li><li><span class='ee-k'>zona:</span><span class='ee-v'>1</span></li></ul></li></ul></li><li><label class='ee-shut'>6: Feature (9 properties)<input type='checkbox' class='ee-toggle'></label><ul><li><span class='ee-k'>type:</span><span class='ee-v'>Feature</span></li><li><span class='ee-k'>id:</span><span class='ee-v'>2_1_0</span></li><li><span class='ee-k'>geometry:</span><span class='ee-v'>None</span></li><li><label class='ee-shut'>properties: Object (9 properties)<input type='checkbox' class='ee-toggle'></label><ul><li><span class='ee-k'>NDVI:</span><span class='ee-v'>0.42453113198280334</span></li><li><span class='ee-k'>SR_B1:</span><span class='ee-v'>7960</span></li><li><span class='ee-k'>SR_B2:</span><span class='ee-v'>8324</span></li><li><span class='ee-k'>SR_B3:</span><span class='ee-v'>9461</span></li><li><span class='ee-k'>SR_B4:</span><span class='ee-v'>8668</span></li><li><span class='ee-k'>SR_B5:</span><span class='ee-v'>21457</span></li><li><span class='ee-k'>SR_B6:</span><span class='ee-v'>14112</span></li><li><span class='ee-k'>SR_B7:</span><span class='ee-v'>9998</span></li><li><span class='ee-k'>zona:</span><span class='ee-v'>1</span></li></ul></li></ul></li><li><label class='ee-shut'>7: Feature (9 properties)<input type='checkbox' class='ee-toggle'></label><ul><li><span class='ee-k'>type:</span><span class='ee-v'>Feature</span></li><li><span class='ee-k'>id:</span><span class='ee-v'>2_2_0</span></li><li><span class='ee-k'>geometry:</span><span class='ee-v'>None</span></li><li><label class='ee-shut'>properties: Object (9 properties)<input type='checkbox' class='ee-toggle'></label><ul><li><span class='ee-k'>NDVI:</span><span class='ee-v'>0.40573516488075256</span></li><li><span class='ee-k'>SR_B1:</span><span class='ee-v'>7834</span></li><li><span class='ee-k'>SR_B2:</span><span class='ee-v'>8219</span></li><li><span class='ee-k'>SR_B3:</span><span class='ee-v'>9379</span></li><li><span class='ee-k'>SR_B4:</span><span class='ee-v'>8621</span></li><li><span class='ee-k'>SR_B5:</span><span class='ee-v'>20393</span></li><li><span class='ee-k'>SR_B6:</span><span class='ee-v'>13836</span></li><li><span class='ee-k'>SR_B7:</span><span class='ee-v'>9901</span></li><li><span class='ee-k'>zona:</span><span class='ee-v'>1</span></li></ul></li></ul></li><li><label class='ee-shut'>8: Feature (9 properties)<input type='checkbox' class='ee-toggle'></label><ul><li><span class='ee-k'>type:</span><span class='ee-v'>Feature</span></li><li><span class='ee-k'>id:</span><span class='ee-v'>2_3_0</span></li><li><span class='ee-k'>geometry:</span><span class='ee-v'>None</span></li><li><label class='ee-shut'>properties: Object (9 properties)<input type='checkbox' class='ee-toggle'></label><ul><li><span class='ee-k'>NDVI:</span><span class='ee-v'>0.39529114961624146</span></li><li><span class='ee-k'>SR_B1:</span><span class='ee-v'>7746</span></li><li><span class='ee-k'>SR_B2:</span><span class='ee-v'>8027</span></li><li><span class='ee-k'>SR_B3:</span><span class='ee-v'>9161</span></li><li><span class='ee-k'>SR_B4:</span><span class='ee-v'>8522</span></li><li><span class='ee-k'>SR_B5:</span><span class='ee-v'>19663.5</span></li><li><span class='ee-k'>SR_B6:</span><span class='ee-v'>13269</span></li><li><span class='ee-k'>SR_B7:</span><span class='ee-v'>9905.5</span></li><li><span class='ee-k'>zona:</span><span class='ee-v'>1</span></li></ul></li></ul></li><li><label class='ee-shut'>9: Feature (9 properties)<input type='checkbox' class='ee-toggle'></label><ul><li><span class='ee-k'>type:</span><span class='ee-v'>Feature</span></li><li><span class='ee-k'>id:</span><span class='ee-v'>2_4_0</span></li><li><span class='ee-k'>geometry:</span><span class='ee-v'>None</span></li><li><label class='ee-shut'>properties: Object (9 properties)<input type='checkbox' class='ee-toggle'></label><ul><li><span class='ee-k'>NDVI:</span><span class='ee-v'>0.4569859802722931</span></li><li><span class='ee-k'>SR_B1:</span><span class='ee-v'>7799.666666666667</span></li><li><span class='ee-k'>SR_B2:</span><span class='ee-v'>7931.333333333333</span></li><li><span class='ee-k'>SR_B3:</span><span class='ee-v'>8831</span></li><li><span class='ee-k'>SR_B4:</span><span class='ee-v'>8119.666666666667</span></li><li><span class='ee-k'>SR_B5:</span><span class='ee-v'>21828.333333333332</span></li><li><span class='ee-k'>SR_B6:</span><span class='ee-v'>13390.333333333334</span></li><li><span class='ee-k'>SR_B7:</span><span class='ee-v'>9508.333333333334</span></li><li><span class='ee-k'>zona:</span><span class='ee-v'>1</span></li></ul></li></ul></li></ul></li></ul></li></ul></div><script>function toggleHeader() {\n",
       "    const parent = this.parentElement;\n",
       "    parent.className = parent.className === \"ee-open\" ? \"ee-shut\" : \"ee-open\";\n",
       "}\n",
       "\n",
       "for (let c of document.getElementsByClassName(\"ee-toggle\")) {\n",
       "    c.onclick = toggleHeader;\n",
       "}</script></div>"
      ],
      "text/plain": [
       "<ee.featurecollection.FeatureCollection at 0x18167c5a390>"
      ]
     },
     "execution_count": 40,
     "metadata": {},
     "output_type": "execute_result"
    }
   ],
   "source": [
    "entrenamiento"
   ]
  },
  {
   "cell_type": "code",
   "execution_count": 41,
   "id": "99162e62",
   "metadata": {},
   "outputs": [
    {
     "data": {
      "text/html": [
       "\n",
       "            <style>\n",
       "                .geemap-dark {\n",
       "                    --jp-widgets-color: white;\n",
       "                    --jp-widgets-label-color: white;\n",
       "                    --jp-ui-font-color1: white;\n",
       "                    --jp-layout-color2: #454545;\n",
       "                    background-color: #383838;\n",
       "                }\n",
       "                    \n",
       "                .geemap-dark .jupyter-button {\n",
       "                    --jp-layout-color3: #383838;\n",
       "                }\n",
       "                \n",
       "                .geemap-colab {\n",
       "                    background-color: var(--colab-primary-surface-color, white);\n",
       "                }\n",
       "                    \n",
       "                .geemap-colab .jupyter-button {\n",
       "                    --jp-layout-color3: var(--colab-primary-surface-color, white);\n",
       "                }\n",
       "            </style>\n",
       "            "
      ],
      "text/plain": [
       "<IPython.core.display.HTML object>"
      ]
     },
     "metadata": {},
     "output_type": "display_data"
    },
    {
     "name": "stdout",
     "output_type": "stream",
     "text": [
      "{'type': 'Feature', 'geometry': None, 'id': '1_0_0', 'properties': {'NDVI': 0.33881017565727234, 'SR_B1': 8879, 'SR_B2': 9074, 'SR_B3': 10192.333333333334, 'SR_B4': 9989, 'SR_B5': 20305.333333333332, 'SR_B6': 17403.666666666668, 'SR_B7': 12523.666666666666, 'zona': 0}}\n"
     ]
    }
   ],
   "source": [
    "print(entrenamiento.first().getInfo())"
   ]
  },
  {
   "cell_type": "code",
   "execution_count": 42,
   "id": "81742932",
   "metadata": {},
   "outputs": [
    {
     "data": {
      "text/html": [
       "\n",
       "            <style>\n",
       "                .geemap-dark {\n",
       "                    --jp-widgets-color: white;\n",
       "                    --jp-widgets-label-color: white;\n",
       "                    --jp-ui-font-color1: white;\n",
       "                    --jp-layout-color2: #454545;\n",
       "                    background-color: #383838;\n",
       "                }\n",
       "                    \n",
       "                .geemap-dark .jupyter-button {\n",
       "                    --jp-layout-color3: #383838;\n",
       "                }\n",
       "                \n",
       "                .geemap-colab {\n",
       "                    background-color: var(--colab-primary-surface-color, white);\n",
       "                }\n",
       "                    \n",
       "                .geemap-colab .jupyter-button {\n",
       "                    --jp-layout-color3: var(--colab-primary-surface-color, white);\n",
       "                }\n",
       "            </style>\n",
       "            "
      ],
      "text/plain": [
       "<IPython.core.display.HTML object>"
      ]
     },
     "metadata": {},
     "output_type": "display_data"
    }
   ],
   "source": [
    "#Vamos a emplear Random Forest\n",
    "#Opciones: numberOfTrees, variablesPerSplit, minLeafPopulation, bagFraction, maxNodes, seed\n",
    "\n",
    "#numberOfTrees\tNúmero de árboles a crear (número entero)\n",
    "#variablesPerSplit\tpor defecto: nulo\tEl número de variables por división. Si no se especifica, utiliza la raíz cuadrada del número de variables.(entero)\n",
    "#minLeafPopulation\tpor defecto: 1\tCree únicamente nodos cuyo conjunto de entrenamiento contenga al menos esta cantidad de puntos (entero)\n",
    "#bagFraction\tpor defecto: 0.5\tTLa fracción de entrada al bag por árbol (flotante)\n",
    "#maxNodes\tpor defecto: nulo\tEl número máximo de nodos de hojas en cada árbol. Si no se especifica, el valor predeterminado es sin límite (entero)\n",
    "#seed\tpor defecto: 0\tLa semilla de la aleatorización (entero)\n",
    "\n",
    "DatosEntrenados = ee.Classifier.smileRandomForest(**{\"numberOfTrees\":100}).train(entrenamiento, etiqueta, bandas)"
   ]
  },
  {
   "cell_type": "code",
   "execution_count": 43,
   "id": "331da445",
   "metadata": {
    "scrolled": true
   },
   "outputs": [
    {
     "data": {
      "text/html": [
       "\n",
       "            <style>\n",
       "                .geemap-dark {\n",
       "                    --jp-widgets-color: white;\n",
       "                    --jp-widgets-label-color: white;\n",
       "                    --jp-ui-font-color1: white;\n",
       "                    --jp-layout-color2: #454545;\n",
       "                    background-color: #383838;\n",
       "                }\n",
       "                    \n",
       "                .geemap-dark .jupyter-button {\n",
       "                    --jp-layout-color3: #383838;\n",
       "                }\n",
       "                \n",
       "                .geemap-colab {\n",
       "                    background-color: var(--colab-primary-surface-color, white);\n",
       "                }\n",
       "                    \n",
       "                .geemap-colab .jupyter-button {\n",
       "                    --jp-layout-color3: var(--colab-primary-surface-color, white);\n",
       "                }\n",
       "            </style>\n",
       "            "
      ],
      "text/plain": [
       "<IPython.core.display.HTML object>"
      ]
     },
     "metadata": {},
     "output_type": "display_data"
    },
    {
     "data": {
      "text/plain": [
       "'Resultados del entrenamiento con RF'"
      ]
     },
     "metadata": {},
     "output_type": "display_data"
    },
    {
     "data": {
      "text/html": [
       "<div><style>:root {\n",
       "  --font-color-primary: var(--jp-content-font-color0, rgba(0, 0, 0, 1));\n",
       "  --font-color-secondary: var(--jp-content-font-color2, rgba(0, 0, 0, 0.6));\n",
       "  --font-color-accent: rgba(123, 31, 162, 1);\n",
       "  --border-color: var(--jp-border-color2, #e0e0e0);\n",
       "  --background-color: var(--jp-layout-color0, white);\n",
       "  --background-color-row-even: var(--jp-layout-color1, white);\n",
       "  --background-color-row-odd: var(--jp-layout-color2, #eeeeee);\n",
       "}\n",
       "\n",
       "html[theme=\"dark\"],\n",
       "body[data-theme=\"dark\"],\n",
       "body.vscode-dark {\n",
       "  --font-color-primary: rgba(255, 255, 255, 1);\n",
       "  --font-color-secondary: rgba(255, 255, 255, 0.6);\n",
       "  --font-color-accent: rgb(173, 132, 190);\n",
       "  --border-color: #2e2e2e;\n",
       "  --background-color: #111111;\n",
       "  --background-color-row-even: #111111;\n",
       "  --background-color-row-odd: #313131;\n",
       "}\n",
       "\n",
       ".ee {\n",
       "  padding: 1em;\n",
       "  line-height: 1.5em;\n",
       "  min-width: 300px;\n",
       "  max-width: 1200px;\n",
       "  overflow-y: scroll;\n",
       "  max-height: 600px;\n",
       "  border: 1px solid var(--border-color);\n",
       "  font-family: monospace;\n",
       "}\n",
       "\n",
       ".ee li {\n",
       "  list-style-type: none;\n",
       "}\n",
       "\n",
       ".ee ul {\n",
       "  padding-left: 1.5em !important;\n",
       "  margin: 0;\n",
       "}\n",
       "\n",
       ".ee > ul {\n",
       "  padding-left: 0 !important;\n",
       "}\n",
       "\n",
       ".ee-open,\n",
       ".ee-shut {\n",
       "  color: var(--font-color-secondary);\n",
       "  cursor: pointer;\n",
       "  margin: 0;\n",
       "}\n",
       "\n",
       ".ee-open:hover,\n",
       ".ee-shut:hover {\n",
       "  color: var(--font-color-primary);\n",
       "}\n",
       "\n",
       ".ee-k {\n",
       "  color: var(--font-color-accent);\n",
       "  margin-right: 6px;\n",
       "}\n",
       "\n",
       ".ee-v {\n",
       "  color: var(--font-color-primary);\n",
       "}\n",
       "\n",
       ".ee-toggle {\n",
       "  display: none;\n",
       "}\n",
       "\n",
       ".ee-shut + ul {\n",
       "  display: none;\n",
       "}\n",
       "\n",
       ".ee-open + ul {\n",
       "  display: block;\n",
       "}\n",
       "\n",
       ".ee-shut::before {\n",
       "  display: inline-block;\n",
       "  content: \"▼\";\n",
       "  margin-right: 6px;\n",
       "  transform: rotate(-90deg);\n",
       "  transition: transform 0.2s;\n",
       "}\n",
       "\n",
       ".ee-open::before {\n",
       "  transform: rotate(0deg);\n",
       "  display: inline-block;\n",
       "  content: \"▼\";\n",
       "  margin-right: 6px;\n",
       "  transition: transform 0.2s;\n",
       "}\n",
       "</style><div class='ee'><ul><li><label class='ee-shut'>Object (5 properties)<input type='checkbox' class='ee-toggle'></label><ul><li><label class='ee-shut'>classes: [0, 1]<input type='checkbox' class='ee-toggle'></label><ul><li><span class='ee-k'>0:</span><span class='ee-v'>0</span></li><li><span class='ee-k'>1:</span><span class='ee-v'>1</span></li></ul></li><li><label class='ee-shut'>importance: Object (8 properties)<input type='checkbox' class='ee-toggle'></label><ul><li><span class='ee-k'>NDVI:</span><span class='ee-v'>7.875</span></li><li><span class='ee-k'>SR_B1:</span><span class='ee-v'>1.5</span></li><li><span class='ee-k'>SR_B2:</span><span class='ee-v'>4.75</span></li><li><span class='ee-k'>SR_B3:</span><span class='ee-v'>10.25</span></li><li><span class='ee-k'>SR_B4:</span><span class='ee-v'>6.5</span></li><li><span class='ee-k'>SR_B5:</span><span class='ee-v'>3</span></li><li><span class='ee-k'>SR_B6:</span><span class='ee-v'>8.875</span></li><li><span class='ee-k'>SR_B7:</span><span class='ee-v'>8.625</span></li></ul></li><li><span class='ee-k'>numberOfTrees:</span><span class='ee-v'>100</span></li><li><span class='ee-k'>outOfBagErrorEstimate:</span><span class='ee-v'>0</span></li><li><label class='ee-shut'>trees: List (100 elements)<input type='checkbox' class='ee-toggle'></label><ul><li><span class='ee-k'>0:</span><span class='ee-v'>n= 6\n",
       "node), split, n, loss, yval, (yprob)\n",
       "* denotes terminal node\n",
       "1) root 6 3.0000 0 (0.50000 0.50000)\n",
       " 2) SR_B4<=9188.67 3 0.0000 1 (0.20000 0.80000) *\n",
       " 3) SR_B4>9188.67 3 0.0000 0 (0.80000 0.20000) *\n",
       "</span></li><li><span class='ee-k'>1:</span><span class='ee-v'>n= 6\n",
       "node), split, n, loss, yval, (yprob)\n",
       "* denotes terminal node\n",
       "1) root 6 3.0000 0 (0.50000 0.50000)\n",
       " 2) SR_B2<=8495.17 3 0.0000 1 (0.20000 0.80000) *\n",
       " 3) SR_B2>8495.17 3 0.0000 0 (0.80000 0.20000) *\n",
       "</span></li><li><span class='ee-k'>2:</span><span class='ee-v'>n= 6\n",
       "node), split, n, loss, yval, (yprob)\n",
       "* denotes terminal node\n",
       "1) root 6 3.0000 0 (0.50000 0.50000)\n",
       " 2) NDVI<=0.367051 3 0.0000 0 (0.80000 0.20000) *\n",
       " 3) NDVI>0.367051 3 0.0000 1 (0.20000 0.80000) *\n",
       "</span></li><li><span class='ee-k'>3:</span><span class='ee-v'>n= 6\n",
       "node), split, n, loss, yval, (yprob)\n",
       "* denotes terminal node\n",
       "1) root 6 3.0000 0 (0.50000 0.50000)\n",
       " 2) SR_B2<=8180.67 3 0.0000 1 (0.20000 0.80000) *\n",
       " 3) SR_B2>8180.67 3 0.0000 0 (0.80000 0.20000) *\n",
       "</span></li><li><span class='ee-k'>4:</span><span class='ee-v'>n= 6\n",
       "node), split, n, loss, yval, (yprob)\n",
       "* denotes terminal node\n",
       "1) root 6 3.0000 0 (0.50000 0.50000)\n",
       " 2) SR_B6<=15148.0 3 0.0000 1 (0.20000 0.80000) *\n",
       " 3) SR_B6>15148.0 3 0.0000 0 (0.80000 0.20000) *\n",
       "</span></li><li><span class='ee-k'>5:</span><span class='ee-v'>n= 6\n",
       "node), split, n, loss, yval, (yprob)\n",
       "* denotes terminal node\n",
       "1) root 6 3.0000 0 (0.50000 0.50000)\n",
       " 2) SR_B3<=9553.83 3 0.0000 1 (0.20000 0.80000) *\n",
       " 3) SR_B3>9553.83 3 0.0000 0 (0.80000 0.20000) *\n",
       "</span></li><li><span class='ee-k'>6:</span><span class='ee-v'>n= 6\n",
       "node), split, n, loss, yval, (yprob)\n",
       "* denotes terminal node\n",
       "1) root 6 3.0000 0 (0.50000 0.50000)\n",
       " 2) SR_B1<=8146.67 3 0.0000 1 (0.20000 0.80000) *\n",
       " 3) SR_B1>8146.67 3 0.0000 0 (0.80000 0.20000) *\n",
       "</span></li><li><span class='ee-k'>7:</span><span class='ee-v'>n= 6\n",
       "node), split, n, loss, yval, (yprob)\n",
       "* denotes terminal node\n",
       "1) root 6 3.0000 0 (0.50000 0.50000)\n",
       " 2) SR_B3<=9628.33 3 0.0000 1 (0.20000 0.80000) *\n",
       " 3) SR_B3>9628.33 3 0.0000 0 (0.80000 0.20000) *\n",
       "</span></li><li><span class='ee-k'>8:</span><span class='ee-v'>n= 6\n",
       "node), split, n, loss, yval, (yprob)\n",
       "* denotes terminal node\n",
       "1) root 6 3.0000 0 (0.50000 0.50000)\n",
       " 2) SR_B4<=9099.00 3 0.0000 1 (0.20000 0.80000) *\n",
       " 3) SR_B4>9099.00 3 0.0000 0 (0.80000 0.20000) *\n",
       "</span></li><li><span class='ee-k'>9:</span><span class='ee-v'>n= 6\n",
       "node), split, n, loss, yval, (yprob)\n",
       "* denotes terminal node\n",
       "1) root 6 3.0000 0 (0.50000 0.50000)\n",
       " 2) SR_B6<=15286.0 3 0.0000 1 (0.20000 0.80000) *\n",
       " 3) SR_B6>15286.0 3 0.0000 0 (0.80000 0.20000) *\n",
       "</span></li><li><span class='ee-k'>10:</span><span class='ee-v'>n= 6\n",
       "node), split, n, loss, yval, (yprob)\n",
       "* denotes terminal node\n",
       "1) root 6 3.0000 0 (0.50000 0.50000)\n",
       " 2) SR_B6<=15619.5 3 0.0000 1 (0.20000 0.80000) *\n",
       " 3) SR_B6>15619.5 3 0.0000 0 (0.80000 0.20000) *\n",
       "</span></li><li><span class='ee-k'>11:</span><span class='ee-v'>n= 6\n",
       "node), split, n, loss, yval, (yprob)\n",
       "* denotes terminal node\n",
       "1) root 6 3.0000 0 (0.50000 0.50000)\n",
       " 2) SR_B7<=10951.3 3 0.0000 1 (0.20000 0.80000) *\n",
       " 3) SR_B7>10951.3 3 0.0000 0 (0.80000 0.20000) *\n",
       "</span></li><li><span class='ee-k'>12:</span><span class='ee-v'>n= 6\n",
       "node), split, n, loss, yval, (yprob)\n",
       "* denotes terminal node\n",
       "1) root 6 3.0000 0 (0.50000 0.50000)\n",
       " 2) SR_B3<=9587.33 3 0.0000 1 (0.20000 0.80000) *\n",
       " 3) SR_B3>9587.33 3 0.0000 0 (0.80000 0.20000) *\n",
       "</span></li><li><span class='ee-k'>13:</span><span class='ee-v'>n= 6\n",
       "node), split, n, loss, yval, (yprob)\n",
       "* denotes terminal node\n",
       "1) root 6 3.0000 0 (0.50000 0.50000)\n",
       " 2) SR_B4<=9139.17 3 0.0000 1 (0.20000 0.80000) *\n",
       " 3) SR_B4>9139.17 3 0.0000 0 (0.80000 0.20000) *\n",
       "</span></li><li><span class='ee-k'>14:</span><span class='ee-v'>n= 6\n",
       "node), split, n, loss, yval, (yprob)\n",
       "* denotes terminal node\n",
       "1) root 6 3.0000 0 (0.50000 0.50000)\n",
       " 2) SR_B4<=9026.00 3 0.0000 1 (0.20000 0.80000) *\n",
       " 3) SR_B4>9026.00 3 0.0000 0 (0.80000 0.20000) *\n",
       "</span></li><li><span class='ee-k'>15:</span><span class='ee-v'>n= 6\n",
       "node), split, n, loss, yval, (yprob)\n",
       "* denotes terminal node\n",
       "1) root 6 3.0000 0 (0.50000 0.50000)\n",
       " 2) SR_B6<=14925.2 3 0.0000 1 (0.20000 0.80000) *\n",
       " 3) SR_B6>14925.2 3 0.0000 0 (0.80000 0.20000) *\n",
       "</span></li><li><span class='ee-k'>16:</span><span class='ee-v'>n= 6\n",
       "node), split, n, loss, yval, (yprob)\n",
       "* denotes terminal node\n",
       "1) root 6 3.0000 0 (0.50000 0.50000)\n",
       " 2) SR_B3<=9553.83 3 0.0000 1 (0.20000 0.80000) *\n",
       " 3) SR_B3>9553.83 3 0.0000 0 (0.80000 0.20000) *\n",
       "</span></li><li><span class='ee-k'>17:</span><span class='ee-v'>n= 6\n",
       "node), split, n, loss, yval, (yprob)\n",
       "* denotes terminal node\n",
       "1) root 6 3.0000 0 (0.50000 0.50000)\n",
       " 2) SR_B3<=9587.33 3 0.0000 1 (0.20000 0.80000) *\n",
       " 3) SR_B3>9587.33 3 0.0000 0 (0.80000 0.20000) *\n",
       "</span></li><li><span class='ee-k'>18:</span><span class='ee-v'>n= 6\n",
       "node), split, n, loss, yval, (yprob)\n",
       "* denotes terminal node\n",
       "1) root 6 3.0000 0 (0.50000 0.50000)\n",
       " 2) NDVI<=0.374072 3 0.0000 0 (0.80000 0.20000) *\n",
       " 3) NDVI>0.374072 3 0.0000 1 (0.20000 0.80000) *\n",
       "</span></li><li><span class='ee-k'>19:</span><span class='ee-v'>n= 6\n",
       "node), split, n, loss, yval, (yprob)\n",
       "* denotes terminal node\n",
       "1) root 6 3.0000 0 (0.50000 0.50000)\n",
       " 2) NDVI<=0.374072 3 0.0000 0 (0.80000 0.20000) *\n",
       " 3) NDVI>0.374072 3 0.0000 1 (0.20000 0.80000) *\n",
       "</span></li><li><span class='ee-k'>20:</span><span class='ee-v'>n= 6\n",
       "node), split, n, loss, yval, (yprob)\n",
       "* denotes terminal node\n",
       "1) root 6 3.0000 0 (0.50000 0.50000)\n",
       " 2) SR_B2<=8256.17 4 1.5000 1 (0.33333 0.66667)\n",
       "  4) SR_B5<=19891.5 1 0.0000 0 (0.66667 0.33333) *\n",
       "  5) SR_B5>19891.5 3 0.0000 1 (0.20000 0.80000) *\n",
       " 3) SR_B2>8256.17 2 0.0000 0 (0.75000 0.25000) *\n",
       "</span></li><li><span class='ee-k'>21:</span><span class='ee-v'>n= 6\n",
       "node), split, n, loss, yval, (yprob)\n",
       "* denotes terminal node\n",
       "1) root 6 3.0000 0 (0.50000 0.50000)\n",
       " 2) SR_B3<=9512.83 3 0.0000 1 (0.20000 0.80000) *\n",
       " 3) SR_B3>9512.83 3 0.0000 0 (0.80000 0.20000) *\n",
       "</span></li><li><span class='ee-k'>22:</span><span class='ee-v'>n= 6\n",
       "node), split, n, loss, yval, (yprob)\n",
       "* denotes terminal node\n",
       "1) root 6 3.0000 0 (0.50000 0.50000)\n",
       " 2) SR_B7<=10997.5 3 0.0000 1 (0.20000 0.80000) *\n",
       " 3) SR_B7>10997.5 3 0.0000 0 (0.80000 0.20000) *\n",
       "</span></li><li><span class='ee-k'>23:</span><span class='ee-v'>n= 6\n",
       "node), split, n, loss, yval, (yprob)\n",
       "* denotes terminal node\n",
       "1) root 6 3.0000 0 (0.50000 0.50000)\n",
       " 2) SR_B7<=11152.3 3 0.0000 1 (0.20000 0.80000) *\n",
       " 3) SR_B7>11152.3 3 0.0000 0 (0.80000 0.20000) *\n",
       "</span></li><li><span class='ee-k'>24:</span><span class='ee-v'>n= 6\n",
       "node), split, n, loss, yval, (yprob)\n",
       "* denotes terminal node\n",
       "1) root 6 3.0000 0 (0.50000 0.50000)\n",
       " 2) SR_B6<=15148.0 3 0.0000 1 (0.20000 0.80000) *\n",
       " 3) SR_B6>15148.0 3 0.0000 0 (0.80000 0.20000) *\n",
       "</span></li><li><span class='ee-k'>25:</span><span class='ee-v'>n= 6\n",
       "node), split, n, loss, yval, (yprob)\n",
       "* denotes terminal node\n",
       "1) root 6 3.0000 0 (0.50000 0.50000)\n",
       " 2) NDVI<=0.367051 3 0.0000 0 (0.80000 0.20000) *\n",
       " 3) NDVI>0.367051 3 0.0000 1 (0.20000 0.80000) *\n",
       "</span></li><li><span class='ee-k'>26:</span><span class='ee-v'>n= 6\n",
       "node), split, n, loss, yval, (yprob)\n",
       "* denotes terminal node\n",
       "1) root 6 3.0000 0 (0.50000 0.50000)\n",
       " 2) SR_B6<=15286.0 3 0.0000 1 (0.20000 0.80000) *\n",
       " 3) SR_B6>15286.0 3 0.0000 0 (0.80000 0.20000) *\n",
       "</span></li><li><span class='ee-k'>27:</span><span class='ee-v'>n= 6\n",
       "node), split, n, loss, yval, (yprob)\n",
       "* denotes terminal node\n",
       "1) root 6 3.0000 0 (0.50000 0.50000)\n",
       " 2) SR_B6<=15286.0 3 0.0000 1 (0.20000 0.80000) *\n",
       " 3) SR_B6>15286.0 3 0.0000 0 (0.80000 0.20000) *\n",
       "</span></li><li><span class='ee-k'>28:</span><span class='ee-v'>n= 6\n",
       "node), split, n, loss, yval, (yprob)\n",
       "* denotes terminal node\n",
       "1) root 6 3.0000 0 (0.50000 0.50000)\n",
       " 2) NDVI<=0.367051 3 0.0000 0 (0.80000 0.20000) *\n",
       " 3) NDVI>0.367051 3 0.0000 1 (0.20000 0.80000) *\n",
       "</span></li><li><span class='ee-k'>29:</span><span class='ee-v'>n= 6\n",
       "node), split, n, loss, yval, (yprob)\n",
       "* denotes terminal node\n",
       "1) root 6 3.0000 0 (0.50000 0.50000)\n",
       " 2) SR_B2<=8571.00 4 1.5000 1 (0.33333 0.66667)\n",
       "  4) SR_B3<=9478.33 3 0.0000 1 (0.20000 0.80000) *\n",
       "  5) SR_B3>9478.33 1 0.0000 0 (0.66667 0.33333) *\n",
       " 3) SR_B2>8571.00 2 0.0000 0 (0.75000 0.25000) *\n",
       "</span></li><li><span class='ee-k'>30:</span><span class='ee-v'>n= 6\n",
       "node), split, n, loss, yval, (yprob)\n",
       "* denotes terminal node\n",
       "1) root 6 3.0000 0 (0.50000 0.50000)\n",
       " 2) SR_B2<=8256.17 3 0.0000 1 (0.20000 0.80000) *\n",
       " 3) SR_B2>8256.17 3 0.0000 0 (0.80000 0.20000) *\n",
       "</span></li><li><span class='ee-k'>31:</span><span class='ee-v'>n= 6\n",
       "node), split, n, loss, yval, (yprob)\n",
       "* denotes terminal node\n",
       "1) root 6 3.0000 0 (0.50000 0.50000)\n",
       " 2) SR_B4<=9026.00 3 0.0000 1 (0.20000 0.80000) *\n",
       " 3) SR_B4>9026.00 3 0.0000 0 (0.80000 0.20000) *\n",
       "</span></li><li><span class='ee-k'>32:</span><span class='ee-v'>n= 6\n",
       "node), split, n, loss, yval, (yprob)\n",
       "* denotes terminal node\n",
       "1) root 6 3.0000 0 (0.50000 0.50000)\n",
       " 2) SR_B7<=11152.3 3 0.0000 1 (0.20000 0.80000) *\n",
       " 3) SR_B7>11152.3 3 0.0000 0 (0.80000 0.20000) *\n",
       "</span></li><li><span class='ee-k'>33:</span><span class='ee-v'>n= 6\n",
       "node), split, n, loss, yval, (yprob)\n",
       "* denotes terminal node\n",
       "1) root 6 3.0000 0 (0.50000 0.50000)\n",
       " 2) SR_B1<=7862.83 3 0.0000 1 (0.20000 0.80000) *\n",
       " 3) SR_B1>7862.83 3 0.0000 0 (0.80000 0.20000) *\n",
       "</span></li><li><span class='ee-k'>34:</span><span class='ee-v'>n= 6\n",
       "node), split, n, loss, yval, (yprob)\n",
       "* denotes terminal node\n",
       "1) root 6 3.0000 0 (0.50000 0.50000)\n",
       " 2) NDVI<=0.374072 3 0.0000 0 (0.80000 0.20000) *\n",
       " 3) NDVI>0.374072 3 0.0000 1 (0.20000 0.80000) *\n",
       "</span></li><li><span class='ee-k'>35:</span><span class='ee-v'>n= 6\n",
       "node), split, n, loss, yval, (yprob)\n",
       "* denotes terminal node\n",
       "1) root 6 3.0000 0 (0.50000 0.50000)\n",
       " 2) SR_B4<=9139.17 3 0.0000 1 (0.20000 0.80000) *\n",
       " 3) SR_B4>9139.17 3 0.0000 0 (0.80000 0.20000) *\n",
       "</span></li><li><span class='ee-k'>36:</span><span class='ee-v'>n= 6\n",
       "node), split, n, loss, yval, (yprob)\n",
       "* denotes terminal node\n",
       "1) root 6 3.0000 0 (0.50000 0.50000)\n",
       " 2) SR_B3<=9553.83 3 0.0000 1 (0.20000 0.80000) *\n",
       " 3) SR_B3>9553.83 3 0.0000 0 (0.80000 0.20000) *\n",
       "</span></li><li><span class='ee-k'>37:</span><span class='ee-v'>n= 6\n",
       "node), split, n, loss, yval, (yprob)\n",
       "* denotes terminal node\n",
       "1) root 6 3.0000 0 (0.50000 0.50000)\n",
       " 2) SR_B3<=9553.83 3 0.0000 1 (0.20000 0.80000) *\n",
       " 3) SR_B3>9553.83 3 0.0000 0 (0.80000 0.20000) *\n",
       "</span></li><li><span class='ee-k'>38:</span><span class='ee-v'>n= 6\n",
       "node), split, n, loss, yval, (yprob)\n",
       "* denotes terminal node\n",
       "1) root 6 3.0000 0 (0.50000 0.50000)\n",
       " 2) NDVI<=0.374072 3 0.0000 0 (0.80000 0.20000) *\n",
       " 3) NDVI>0.374072 3 0.0000 1 (0.20000 0.80000) *\n",
       "</span></li><li><span class='ee-k'>39:</span><span class='ee-v'>n= 6\n",
       "node), split, n, loss, yval, (yprob)\n",
       "* denotes terminal node\n",
       "1) root 6 3.0000 0 (0.50000 0.50000)\n",
       " 2) SR_B3<=9628.33 3 0.0000 1 (0.20000 0.80000) *\n",
       " 3) SR_B3>9628.33 3 0.0000 0 (0.80000 0.20000) *\n",
       "</span></li><li><span class='ee-k'>40:</span><span class='ee-v'>n= 6\n",
       "node), split, n, loss, yval, (yprob)\n",
       "* denotes terminal node\n",
       "1) root 6 3.0000 0 (0.50000 0.50000)\n",
       " 2) SR_B2<=8256.17 2 0.0000 1 (0.25000 0.75000) *\n",
       " 3) SR_B2>8256.17 4 1.5000 0 (0.66667 0.33333)\n",
       "  6) SR_B5<=21113.7 3 0.0000 0 (0.80000 0.20000) *\n",
       "  7) SR_B5>21113.7 1 0.0000 1 (0.33333 0.66667) *\n",
       "</span></li><li><span class='ee-k'>41:</span><span class='ee-v'>n= 6\n",
       "node), split, n, loss, yval, (yprob)\n",
       "* denotes terminal node\n",
       "1) root 6 3.0000 0 (0.50000 0.50000)\n",
       " 2) SR_B6<=15286.0 3 0.0000 1 (0.20000 0.80000) *\n",
       " 3) SR_B6>15286.0 3 0.0000 0 (0.80000 0.20000) *\n",
       "</span></li><li><span class='ee-k'>42:</span><span class='ee-v'>n= 6\n",
       "node), split, n, loss, yval, (yprob)\n",
       "* denotes terminal node\n",
       "1) root 6 3.0000 0 (0.50000 0.50000)\n",
       " 2) SR_B4<=9099.00 3 0.0000 1 (0.20000 0.80000) *\n",
       " 3) SR_B4>9099.00 3 0.0000 0 (0.80000 0.20000) *\n",
       "</span></li><li><span class='ee-k'>43:</span><span class='ee-v'>n= 6\n",
       "node), split, n, loss, yval, (yprob)\n",
       "* denotes terminal node\n",
       "1) root 6 3.0000 0 (0.50000 0.50000)\n",
       " 2) SR_B7<=10997.5 3 0.0000 1 (0.20000 0.80000) *\n",
       " 3) SR_B7>10997.5 3 0.0000 0 (0.80000 0.20000) *\n",
       "</span></li><li><span class='ee-k'>44:</span><span class='ee-v'>n= 6\n",
       "node), split, n, loss, yval, (yprob)\n",
       "* denotes terminal node\n",
       "1) root 6 3.0000 0 (0.50000 0.50000)\n",
       " 2) SR_B4<=9075.50 3 0.0000 1 (0.20000 0.80000) *\n",
       " 3) SR_B4>9075.50 3 0.0000 0 (0.80000 0.20000) *\n",
       "</span></li><li><span class='ee-k'>45:</span><span class='ee-v'>n= 6\n",
       "node), split, n, loss, yval, (yprob)\n",
       "* denotes terminal node\n",
       "1) root 6 3.0000 0 (0.50000 0.50000)\n",
       " 2) SR_B3<=9403.83 3 0.0000 1 (0.20000 0.80000) *\n",
       " 3) SR_B3>9403.83 3 0.0000 0 (0.80000 0.20000) *\n",
       "</span></li><li><span class='ee-k'>46:</span><span class='ee-v'>n= 6\n",
       "node), split, n, loss, yval, (yprob)\n",
       "* denotes terminal node\n",
       "1) root 6 3.0000 0 (0.50000 0.50000)\n",
       " 2) SR_B6<=15619.5 3 0.0000 1 (0.20000 0.80000) *\n",
       " 3) SR_B6>15619.5 3 0.0000 0 (0.80000 0.20000) *\n",
       "</span></li><li><span class='ee-k'>47:</span><span class='ee-v'>n= 6\n",
       "node), split, n, loss, yval, (yprob)\n",
       "* denotes terminal node\n",
       "1) root 6 3.0000 0 (0.50000 0.50000)\n",
       " 2) SR_B7<=10951.3 3 0.0000 1 (0.20000 0.80000) *\n",
       " 3) SR_B7>10951.3 3 0.0000 0 (0.80000 0.20000) *\n",
       "</span></li><li><span class='ee-k'>48:</span><span class='ee-v'>n= 6\n",
       "node), split, n, loss, yval, (yprob)\n",
       "* denotes terminal node\n",
       "1) root 6 3.0000 0 (0.50000 0.50000)\n",
       " 2) SR_B6<=15374.3 3 0.0000 1 (0.20000 0.80000) *\n",
       " 3) SR_B6>15374.3 3 0.0000 0 (0.80000 0.20000) *\n",
       "</span></li><li><span class='ee-k'>49:</span><span class='ee-v'>n= 6\n",
       "node), split, n, loss, yval, (yprob)\n",
       "* denotes terminal node\n",
       "1) root 6 3.0000 0 (0.50000 0.50000)\n",
       " 2) SR_B1<=8393.00 4 1.5000 1 (0.33333 0.66667)\n",
       "  4) SR_B5<=19582.8 1 0.0000 0 (0.66667 0.33333) *\n",
       "  5) SR_B5>19582.8 3 0.0000 1 (0.20000 0.80000) *\n",
       " 3) SR_B1>8393.00 2 0.0000 0 (0.75000 0.25000) *\n",
       "</span></li><li><span class='ee-k'>50:</span><span class='ee-v'>n= 6\n",
       "node), split, n, loss, yval, (yprob)\n",
       "* denotes terminal node\n",
       "1) root 6 3.0000 0 (0.50000 0.50000)\n",
       " 2) SR_B7<=11152.3 3 0.0000 1 (0.20000 0.80000) *\n",
       " 3) SR_B7>11152.3 3 0.0000 0 (0.80000 0.20000) *\n",
       "</span></li><li><span class='ee-k'>51:</span><span class='ee-v'>n= 6\n",
       "node), split, n, loss, yval, (yprob)\n",
       "* denotes terminal node\n",
       "1) root 6 3.0000 0 (0.50000 0.50000)\n",
       " 2) SR_B6<=15236.3 3 0.0000 1 (0.20000 0.80000) *\n",
       " 3) SR_B6>15236.3 3 0.0000 0 (0.80000 0.20000) *\n",
       "</span></li><li><span class='ee-k'>52:</span><span class='ee-v'>n= 6\n",
       "node), split, n, loss, yval, (yprob)\n",
       "* denotes terminal node\n",
       "1) root 6 3.0000 0 (0.50000 0.50000)\n",
       " 2) SR_B2<=8180.67 2 0.0000 1 (0.25000 0.75000) *\n",
       " 3) SR_B2>8180.67 4 1.5000 0 (0.66667 0.33333)\n",
       "  6) SR_B5<=21113.7 3 0.0000 0 (0.80000 0.20000) *\n",
       "  7) SR_B5>21113.7 1 0.0000 1 (0.33333 0.66667) *\n",
       "</span></li><li><span class='ee-k'>53:</span><span class='ee-v'>n= 6\n",
       "node), split, n, loss, yval, (yprob)\n",
       "* denotes terminal node\n",
       "1) root 6 3.0000 0 (0.50000 0.50000)\n",
       " 2) SR_B6<=15374.3 3 0.0000 1 (0.20000 0.80000) *\n",
       " 3) SR_B6>15374.3 3 0.0000 0 (0.80000 0.20000) *\n",
       "</span></li><li><span class='ee-k'>54:</span><span class='ee-v'>n= 6\n",
       "node), split, n, loss, yval, (yprob)\n",
       "* denotes terminal node\n",
       "1) root 6 3.0000 0 (0.50000 0.50000)\n",
       " 2) SR_B1<=8146.67 4 1.5000 1 (0.33333 0.66667)\n",
       "  4) SR_B7<=10951.3 3 0.0000 1 (0.20000 0.80000) *\n",
       "  5) SR_B7>10951.3 1 0.0000 0 (0.66667 0.33333) *\n",
       " 3) SR_B1>8146.67 2 0.0000 0 (0.75000 0.25000) *\n",
       "</span></li><li><span class='ee-k'>55:</span><span class='ee-v'>n= 6\n",
       "node), split, n, loss, yval, (yprob)\n",
       "* denotes terminal node\n",
       "1) root 6 3.0000 0 (0.50000 0.50000)\n",
       " 2) SR_B3<=9512.83 3 0.0000 1 (0.20000 0.80000) *\n",
       " 3) SR_B3>9512.83 3 0.0000 0 (0.80000 0.20000) *\n",
       "</span></li><li><span class='ee-k'>56:</span><span class='ee-v'>n= 6\n",
       "node), split, n, loss, yval, (yprob)\n",
       "* denotes terminal node\n",
       "1) root 6 3.0000 0 (0.50000 0.50000)\n",
       " 2) NDVI<=0.367051 3 0.0000 0 (0.80000 0.20000) *\n",
       " 3) NDVI>0.367051 3 0.0000 1 (0.20000 0.80000) *\n",
       "</span></li><li><span class='ee-k'>57:</span><span class='ee-v'>n= 6\n",
       "node), split, n, loss, yval, (yprob)\n",
       "* denotes terminal node\n",
       "1) root 6 3.0000 0 (0.50000 0.50000)\n",
       " 2) SR_B4<=9288.50 3 0.0000 1 (0.20000 0.80000) *\n",
       " 3) SR_B4>9288.50 3 0.0000 0 (0.80000 0.20000) *\n",
       "</span></li><li><span class='ee-k'>58:</span><span class='ee-v'>n= 6\n",
       "node), split, n, loss, yval, (yprob)\n",
       "* denotes terminal node\n",
       "1) root 6 3.0000 0 (0.50000 0.50000)\n",
       " 2) SR_B3<=9512.83 3 0.0000 1 (0.20000 0.80000) *\n",
       " 3) SR_B3>9512.83 3 0.0000 0 (0.80000 0.20000) *\n",
       "</span></li><li><span class='ee-k'>59:</span><span class='ee-v'>n= 6\n",
       "node), split, n, loss, yval, (yprob)\n",
       "* denotes terminal node\n",
       "1) root 6 3.0000 0 (0.50000 0.50000)\n",
       " 2) SR_B3<=9628.33 3 0.0000 1 (0.20000 0.80000) *\n",
       " 3) SR_B3>9628.33 3 0.0000 0 (0.80000 0.20000) *\n",
       "</span></li><li><span class='ee-k'>60:</span><span class='ee-v'>n= 6\n",
       "node), split, n, loss, yval, (yprob)\n",
       "* denotes terminal node\n",
       "1) root 6 3.0000 0 (0.50000 0.50000)\n",
       " 2) SR_B3<=9553.83 3 0.0000 1 (0.20000 0.80000) *\n",
       " 3) SR_B3>9553.83 3 0.0000 0 (0.80000 0.20000) *\n",
       "</span></li><li><span class='ee-k'>61:</span><span class='ee-v'>n= 6\n",
       "node), split, n, loss, yval, (yprob)\n",
       "* denotes terminal node\n",
       "1) root 6 3.0000 0 (0.50000 0.50000)\n",
       " 2) NDVI<=0.374072 3 0.0000 0 (0.80000 0.20000) *\n",
       " 3) NDVI>0.374072 3 0.0000 1 (0.20000 0.80000) *\n",
       "</span></li><li><span class='ee-k'>62:</span><span class='ee-v'>n= 6\n",
       "node), split, n, loss, yval, (yprob)\n",
       "* denotes terminal node\n",
       "1) root 6 3.0000 0 (0.50000 0.50000)\n",
       " 2) SR_B5<=19218.1 2 0.0000 0 (0.75000 0.25000) *\n",
       " 3) SR_B5>19218.1 4 1.5000 1 (0.33333 0.66667)\n",
       "  6) NDVI<=0.374072 1 0.0000 0 (0.66667 0.33333) *\n",
       "  7) NDVI>0.374072 3 0.0000 1 (0.20000 0.80000) *\n",
       "</span></li><li><span class='ee-k'>63:</span><span class='ee-v'>n= 6\n",
       "node), split, n, loss, yval, (yprob)\n",
       "* denotes terminal node\n",
       "1) root 6 3.0000 0 (0.50000 0.50000)\n",
       " 2) NDVI<=0.374072 3 0.0000 0 (0.80000 0.20000) *\n",
       " 3) NDVI>0.374072 3 0.0000 1 (0.20000 0.80000) *\n",
       "</span></li><li><span class='ee-k'>64:</span><span class='ee-v'>n= 6\n",
       "node), split, n, loss, yval, (yprob)\n",
       "* denotes terminal node\n",
       "1) root 6 3.0000 0 (0.50000 0.50000)\n",
       " 2) SR_B4<=9099.00 3 0.0000 1 (0.20000 0.80000) *\n",
       " 3) SR_B4>9099.00 3 0.0000 0 (0.80000 0.20000) *\n",
       "</span></li><li><span class='ee-k'>65:</span><span class='ee-v'>n= 6\n",
       "node), split, n, loss, yval, (yprob)\n",
       "* denotes terminal node\n",
       "1) root 6 3.0000 0 (0.50000 0.50000)\n",
       " 2) SR_B7<=11162.3 3 0.0000 1 (0.20000 0.80000) *\n",
       " 3) SR_B7>11162.3 3 0.0000 0 (0.80000 0.20000) *\n",
       "</span></li><li><span class='ee-k'>66:</span><span class='ee-v'>n= 6\n",
       "node), split, n, loss, yval, (yprob)\n",
       "* denotes terminal node\n",
       "1) root 6 3.0000 0 (0.50000 0.50000)\n",
       " 2) SR_B3<=9553.83 3 0.0000 1 (0.20000 0.80000) *\n",
       " 3) SR_B3>9553.83 3 0.0000 0 (0.80000 0.20000) *\n",
       "</span></li><li><span class='ee-k'>67:</span><span class='ee-v'>n= 6\n",
       "node), split, n, loss, yval, (yprob)\n",
       "* denotes terminal node\n",
       "1) root 6 3.0000 0 (0.50000 0.50000)\n",
       " 2) SR_B7<=11210.8 3 0.0000 1 (0.20000 0.80000) *\n",
       " 3) SR_B7>11210.8 3 0.0000 0 (0.80000 0.20000) *\n",
       "</span></li><li><span class='ee-k'>68:</span><span class='ee-v'>n= 6\n",
       "node), split, n, loss, yval, (yprob)\n",
       "* denotes terminal node\n",
       "1) root 6 3.0000 0 (0.50000 0.50000)\n",
       " 2) SR_B4<=9075.50 3 0.0000 1 (0.20000 0.80000) *\n",
       " 3) SR_B4>9075.50 3 0.0000 0 (0.80000 0.20000) *\n",
       "</span></li><li><span class='ee-k'>69:</span><span class='ee-v'>n= 6\n",
       "node), split, n, loss, yval, (yprob)\n",
       "* denotes terminal node\n",
       "1) root 6 3.0000 0 (0.50000 0.50000)\n",
       " 2) SR_B2<=8256.17 4 1.5000 1 (0.33333 0.66667)\n",
       "  4) SR_B7<=10951.3 3 0.0000 1 (0.20000 0.80000) *\n",
       "  5) SR_B7>10951.3 1 0.0000 0 (0.66667 0.33333) *\n",
       " 3) SR_B2>8256.17 2 0.0000 0 (0.75000 0.25000) *\n",
       "</span></li><li><span class='ee-k'>70:</span><span class='ee-v'>n= 6\n",
       "node), split, n, loss, yval, (yprob)\n",
       "* denotes terminal node\n",
       "1) root 6 3.0000 0 (0.50000 0.50000)\n",
       " 2) SR_B7<=10997.5 3 0.0000 1 (0.20000 0.80000) *\n",
       " 3) SR_B7>10997.5 3 0.0000 0 (0.80000 0.20000) *\n",
       "</span></li><li><span class='ee-k'>71:</span><span class='ee-v'>n= 6\n",
       "node), split, n, loss, yval, (yprob)\n",
       "* denotes terminal node\n",
       "1) root 6 3.0000 0 (0.50000 0.50000)\n",
       " 2) NDVI<=0.374072 3 0.0000 0 (0.80000 0.20000) *\n",
       " 3) NDVI>0.374072 3 0.0000 1 (0.20000 0.80000) *\n",
       "</span></li><li><span class='ee-k'>72:</span><span class='ee-v'>n= 6\n",
       "node), split, n, loss, yval, (yprob)\n",
       "* denotes terminal node\n",
       "1) root 6 3.0000 0 (0.50000 0.50000)\n",
       " 2) SR_B6<=15286.0 3 0.0000 1 (0.20000 0.80000) *\n",
       " 3) SR_B6>15286.0 3 0.0000 0 (0.80000 0.20000) *\n",
       "</span></li><li><span class='ee-k'>73:</span><span class='ee-v'>n= 6\n",
       "node), split, n, loss, yval, (yprob)\n",
       "* denotes terminal node\n",
       "1) root 6 3.0000 0 (0.50000 0.50000)\n",
       " 2) SR_B6<=15286.0 3 0.0000 1 (0.20000 0.80000) *\n",
       " 3) SR_B6>15286.0 3 0.0000 0 (0.80000 0.20000) *\n",
       "</span></li><li><span class='ee-k'>74:</span><span class='ee-v'>n= 6\n",
       "node), split, n, loss, yval, (yprob)\n",
       "* denotes terminal node\n",
       "1) root 6 3.0000 0 (0.50000 0.50000)\n",
       " 2) SR_B6<=15374.3 3 0.0000 1 (0.20000 0.80000) *\n",
       " 3) SR_B6>15374.3 3 0.0000 0 (0.80000 0.20000) *\n",
       "</span></li><li><span class='ee-k'>75:</span><span class='ee-v'>n= 6\n",
       "node), split, n, loss, yval, (yprob)\n",
       "* denotes terminal node\n",
       "1) root 6 3.0000 0 (0.50000 0.50000)\n",
       " 2) SR_B7<=10997.5 3 0.0000 1 (0.20000 0.80000) *\n",
       " 3) SR_B7>10997.5 3 0.0000 0 (0.80000 0.20000) *\n",
       "</span></li><li><span class='ee-k'>76:</span><span class='ee-v'>n= 6\n",
       "node), split, n, loss, yval, (yprob)\n",
       "* denotes terminal node\n",
       "1) root 6 3.0000 0 (0.50000 0.50000)\n",
       " 2) SR_B7<=10951.3 3 0.0000 1 (0.20000 0.80000) *\n",
       " 3) SR_B7>10951.3 3 0.0000 0 (0.80000 0.20000) *\n",
       "</span></li><li><span class='ee-k'>77:</span><span class='ee-v'>n= 6\n",
       "node), split, n, loss, yval, (yprob)\n",
       "* denotes terminal node\n",
       "1) root 6 3.0000 0 (0.50000 0.50000)\n",
       " 2) SR_B7<=10951.3 3 0.0000 1 (0.20000 0.80000) *\n",
       " 3) SR_B7>10951.3 3 0.0000 0 (0.80000 0.20000) *\n",
       "</span></li><li><span class='ee-k'>78:</span><span class='ee-v'>n= 6\n",
       "node), split, n, loss, yval, (yprob)\n",
       "* denotes terminal node\n",
       "1) root 6 3.0000 0 (0.50000 0.50000)\n",
       " 2) SR_B2<=8256.17 3 0.0000 1 (0.20000 0.80000) *\n",
       " 3) SR_B2>8256.17 3 0.0000 0 (0.80000 0.20000) *\n",
       "</span></li><li><span class='ee-k'>79:</span><span class='ee-v'>n= 6\n",
       "node), split, n, loss, yval, (yprob)\n",
       "* denotes terminal node\n",
       "1) root 6 3.0000 0 (0.50000 0.50000)\n",
       " 2) SR_B7<=11152.3 3 0.0000 1 (0.20000 0.80000) *\n",
       " 3) SR_B7>11152.3 3 0.0000 0 (0.80000 0.20000) *\n",
       "</span></li><li><span class='ee-k'>80:</span><span class='ee-v'>n= 6\n",
       "node), split, n, loss, yval, (yprob)\n",
       "* denotes terminal node\n",
       "1) root 6 3.0000 0 (0.50000 0.50000)\n",
       " 2) SR_B6<=14925.2 3 0.0000 1 (0.20000 0.80000) *\n",
       " 3) SR_B6>14925.2 3 0.0000 0 (0.80000 0.20000) *\n",
       "</span></li><li><span class='ee-k'>81:</span><span class='ee-v'>n= 6\n",
       "node), split, n, loss, yval, (yprob)\n",
       "* denotes terminal node\n",
       "1) root 6 3.0000 0 (0.50000 0.50000)\n",
       " 2) SR_B7<=10997.5 3 0.0000 1 (0.20000 0.80000) *\n",
       " 3) SR_B7>10997.5 3 0.0000 0 (0.80000 0.20000) *\n",
       "</span></li><li><span class='ee-k'>82:</span><span class='ee-v'>n= 6\n",
       "node), split, n, loss, yval, (yprob)\n",
       "* denotes terminal node\n",
       "1) root 6 3.0000 0 (0.50000 0.50000)\n",
       " 2) NDVI<=0.388692 3 0.0000 0 (0.80000 0.20000) *\n",
       " 3) NDVI>0.388692 3 0.0000 1 (0.20000 0.80000) *\n",
       "</span></li><li><span class='ee-k'>83:</span><span class='ee-v'>n= 6\n",
       "node), split, n, loss, yval, (yprob)\n",
       "* denotes terminal node\n",
       "1) root 6 3.0000 0 (0.50000 0.50000)\n",
       " 2) SR_B3<=9512.83 3 0.0000 1 (0.20000 0.80000) *\n",
       " 3) SR_B3>9512.83 3 0.0000 0 (0.80000 0.20000) *\n",
       "</span></li><li><span class='ee-k'>84:</span><span class='ee-v'>n= 6\n",
       "node), split, n, loss, yval, (yprob)\n",
       "* denotes terminal node\n",
       "1) root 6 3.0000 0 (0.50000 0.50000)\n",
       " 2) SR_B2<=8442.67 3 0.0000 1 (0.20000 0.80000) *\n",
       " 3) SR_B2>8442.67 3 0.0000 0 (0.80000 0.20000) *\n",
       "</span></li><li><span class='ee-k'>85:</span><span class='ee-v'>n= 6\n",
       "node), split, n, loss, yval, (yprob)\n",
       "* denotes terminal node\n",
       "1) root 6 3.0000 0 (0.50000 0.50000)\n",
       " 2) SR_B3<=9553.83 3 0.0000 1 (0.20000 0.80000) *\n",
       " 3) SR_B3>9553.83 3 0.0000 0 (0.80000 0.20000) *\n",
       "</span></li><li><span class='ee-k'>86:</span><span class='ee-v'>n= 6\n",
       "node), split, n, loss, yval, (yprob)\n",
       "* denotes terminal node\n",
       "1) root 6 3.0000 0 (0.50000 0.50000)\n",
       " 2) SR_B3<=9628.33 3 0.0000 1 (0.20000 0.80000) *\n",
       " 3) SR_B3>9628.33 3 0.0000 0 (0.80000 0.20000) *\n",
       "</span></li><li><span class='ee-k'>87:</span><span class='ee-v'>n= 6\n",
       "node), split, n, loss, yval, (yprob)\n",
       "* denotes terminal node\n",
       "1) root 6 3.0000 0 (0.50000 0.50000)\n",
       " 2) SR_B4<=9099.00 3 0.0000 1 (0.20000 0.80000) *\n",
       " 3) SR_B4>9099.00 3 0.0000 0 (0.80000 0.20000) *\n",
       "</span></li><li><span class='ee-k'>88:</span><span class='ee-v'>n= 6\n",
       "node), split, n, loss, yval, (yprob)\n",
       "* denotes terminal node\n",
       "1) root 6 3.0000 0 (0.50000 0.50000)\n",
       " 2) SR_B5<=19526.8 2 0.0000 0 (0.75000 0.25000) *\n",
       " 3) SR_B5>19526.8 4 1.5000 1 (0.33333 0.66667)\n",
       "  6) SR_B3<=9777.83 3 0.0000 1 (0.20000 0.80000) *\n",
       "  7) SR_B3>9777.83 1 0.0000 0 (0.66667 0.33333) *\n",
       "</span></li><li><span class='ee-k'>89:</span><span class='ee-v'>n= 6\n",
       "node), split, n, loss, yval, (yprob)\n",
       "* denotes terminal node\n",
       "1) root 6 3.0000 0 (0.50000 0.50000)\n",
       " 2) SR_B6<=15236.3 3 0.0000 1 (0.20000 0.80000) *\n",
       " 3) SR_B6>15236.3 3 0.0000 0 (0.80000 0.20000) *\n",
       "</span></li><li><span class='ee-k'>90:</span><span class='ee-v'>n= 6\n",
       "node), split, n, loss, yval, (yprob)\n",
       "* denotes terminal node\n",
       "1) root 6 3.0000 0 (0.50000 0.50000)\n",
       " 2) SR_B3<=9478.33 3 0.0000 1 (0.20000 0.80000) *\n",
       " 3) SR_B3>9478.33 3 0.0000 0 (0.80000 0.20000) *\n",
       "</span></li><li><span class='ee-k'>91:</span><span class='ee-v'>n= 6\n",
       "node), split, n, loss, yval, (yprob)\n",
       "* denotes terminal node\n",
       "1) root 6 3.0000 0 (0.50000 0.50000)\n",
       " 2) NDVI<=0.374072 3 0.0000 0 (0.80000 0.20000) *\n",
       " 3) NDVI>0.374072 3 0.0000 1 (0.20000 0.80000) *\n",
       "</span></li><li><span class='ee-k'>92:</span><span class='ee-v'>n= 6\n",
       "node), split, n, loss, yval, (yprob)\n",
       "* denotes terminal node\n",
       "1) root 6 3.0000 0 (0.50000 0.50000)\n",
       " 2) NDVI<=0.374072 3 0.0000 0 (0.80000 0.20000) *\n",
       " 3) NDVI>0.374072 3 0.0000 1 (0.20000 0.80000) *\n",
       "</span></li><li><span class='ee-k'>93:</span><span class='ee-v'>n= 6\n",
       "node), split, n, loss, yval, (yprob)\n",
       "* denotes terminal node\n",
       "1) root 6 3.0000 0 (0.50000 0.50000)\n",
       " 2) SR_B2<=8495.17 4 1.5000 1 (0.33333 0.66667)\n",
       "  4) SR_B7<=10997.5 3 0.0000 1 (0.20000 0.80000) *\n",
       "  5) SR_B7>10997.5 1 0.0000 0 (0.66667 0.33333) *\n",
       " 3) SR_B2>8495.17 2 0.0000 0 (0.75000 0.25000) *\n",
       "</span></li><li><span class='ee-k'>94:</span><span class='ee-v'>n= 6\n",
       "node), split, n, loss, yval, (yprob)\n",
       "* denotes terminal node\n",
       "1) root 6 3.0000 0 (0.50000 0.50000)\n",
       " 2) SR_B5<=20349.2 3 0.0000 0 (0.80000 0.20000) *\n",
       " 3) SR_B5>20349.2 3 0.0000 1 (0.20000 0.80000) *\n",
       "</span></li><li><span class='ee-k'>95:</span><span class='ee-v'>n= 6\n",
       "node), split, n, loss, yval, (yprob)\n",
       "* denotes terminal node\n",
       "1) root 6 3.0000 0 (0.50000 0.50000)\n",
       " 2) SR_B2<=8160.17 2 0.0000 1 (0.25000 0.75000) *\n",
       " 3) SR_B2>8160.17 4 1.5000 0 (0.66667 0.33333)\n",
       "  6) SR_B6<=15374.3 1 0.0000 1 (0.33333 0.66667) *\n",
       "  7) SR_B6>15374.3 3 0.0000 0 (0.80000 0.20000) *\n",
       "</span></li><li><span class='ee-k'>96:</span><span class='ee-v'>n= 6\n",
       "node), split, n, loss, yval, (yprob)\n",
       "* denotes terminal node\n",
       "1) root 6 3.0000 0 (0.50000 0.50000)\n",
       " 2) SR_B4<=9075.50 3 0.0000 1 (0.20000 0.80000) *\n",
       " 3) SR_B4>9075.50 3 0.0000 0 (0.80000 0.20000) *\n",
       "</span></li><li><span class='ee-k'>97:</span><span class='ee-v'>n= 6\n",
       "node), split, n, loss, yval, (yprob)\n",
       "* denotes terminal node\n",
       "1) root 6 3.0000 0 (0.50000 0.50000)\n",
       " 2) SR_B5<=19526.8 3 0.0000 0 (0.80000 0.20000) *\n",
       " 3) SR_B5>19526.8 3 0.0000 1 (0.20000 0.80000) *\n",
       "</span></li><li><span class='ee-k'>98:</span><span class='ee-v'>n= 6\n",
       "node), split, n, loss, yval, (yprob)\n",
       "* denotes terminal node\n",
       "1) root 6 3.0000 0 (0.50000 0.50000)\n",
       " 2) NDVI<=0.381671 3 0.0000 0 (0.80000 0.20000) *\n",
       " 3) NDVI>0.381671 3 0.0000 1 (0.20000 0.80000) *\n",
       "</span></li><li><span class='ee-k'>99:</span><span class='ee-v'>n= 6\n",
       "node), split, n, loss, yval, (yprob)\n",
       "* denotes terminal node\n",
       "1) root 6 3.0000 0 (0.50000 0.50000)\n",
       " 2) SR_B2<=8442.67 3 0.0000 1 (0.20000 0.80000) *\n",
       " 3) SR_B2>8442.67 3 0.0000 0 (0.80000 0.20000) *\n",
       "</span></li></ul></li></ul></li></ul></div><script>function toggleHeader() {\n",
       "    const parent = this.parentElement;\n",
       "    parent.className = parent.className === \"ee-open\" ? \"ee-shut\" : \"ee-open\";\n",
       "}\n",
       "\n",
       "for (let c of document.getElementsByClassName(\"ee-toggle\")) {\n",
       "    c.onclick = toggleHeader;\n",
       "}</script></div>"
      ],
      "text/plain": [
       "<ee.dictionary.Dictionary at 0x18167c585f0>"
      ]
     },
     "metadata": {},
     "output_type": "display_data"
    }
   ],
   "source": [
    "# Información de los datos entrenados por el clasificador\n",
    "display('Resultados del entrenamiento con RF', DatosEntrenados.explain())"
   ]
  },
  {
   "cell_type": "code",
   "execution_count": 44,
   "id": "013fc9a9",
   "metadata": {},
   "outputs": [
    {
     "data": {
      "text/html": [
       "\n",
       "            <style>\n",
       "                .geemap-dark {\n",
       "                    --jp-widgets-color: white;\n",
       "                    --jp-widgets-label-color: white;\n",
       "                    --jp-ui-font-color1: white;\n",
       "                    --jp-layout-color2: #454545;\n",
       "                    background-color: #383838;\n",
       "                }\n",
       "                    \n",
       "                .geemap-dark .jupyter-button {\n",
       "                    --jp-layout-color3: #383838;\n",
       "                }\n",
       "                \n",
       "                .geemap-colab {\n",
       "                    background-color: var(--colab-primary-surface-color, white);\n",
       "                }\n",
       "                    \n",
       "                .geemap-colab .jupyter-button {\n",
       "                    --jp-layout-color3: var(--colab-primary-surface-color, white);\n",
       "                }\n",
       "            </style>\n",
       "            "
      ],
      "text/plain": [
       "<IPython.core.display.HTML object>"
      ]
     },
     "metadata": {},
     "output_type": "display_data"
    }
   ],
   "source": [
    "ExactitudEntrenamiento = DatosEntrenados.confusionMatrix()"
   ]
  },
  {
   "cell_type": "code",
   "execution_count": 45,
   "id": "805ca212",
   "metadata": {},
   "outputs": [
    {
     "data": {
      "text/html": [
       "\n",
       "            <style>\n",
       "                .geemap-dark {\n",
       "                    --jp-widgets-color: white;\n",
       "                    --jp-widgets-label-color: white;\n",
       "                    --jp-ui-font-color1: white;\n",
       "                    --jp-layout-color2: #454545;\n",
       "                    background-color: #383838;\n",
       "                }\n",
       "                    \n",
       "                .geemap-dark .jupyter-button {\n",
       "                    --jp-layout-color3: #383838;\n",
       "                }\n",
       "                \n",
       "                .geemap-colab {\n",
       "                    background-color: var(--colab-primary-surface-color, white);\n",
       "                }\n",
       "                    \n",
       "                .geemap-colab .jupyter-button {\n",
       "                    --jp-layout-color3: var(--colab-primary-surface-color, white);\n",
       "                }\n",
       "            </style>\n",
       "            "
      ],
      "text/plain": [
       "<IPython.core.display.HTML object>"
      ]
     },
     "metadata": {},
     "output_type": "display_data"
    },
    {
     "data": {
      "text/plain": [
       "'Matriz de confusión'"
      ]
     },
     "metadata": {},
     "output_type": "display_data"
    },
    {
     "data": {
      "text/html": [
       "<div><style>:root {\n",
       "  --font-color-primary: var(--jp-content-font-color0, rgba(0, 0, 0, 1));\n",
       "  --font-color-secondary: var(--jp-content-font-color2, rgba(0, 0, 0, 0.6));\n",
       "  --font-color-accent: rgba(123, 31, 162, 1);\n",
       "  --border-color: var(--jp-border-color2, #e0e0e0);\n",
       "  --background-color: var(--jp-layout-color0, white);\n",
       "  --background-color-row-even: var(--jp-layout-color1, white);\n",
       "  --background-color-row-odd: var(--jp-layout-color2, #eeeeee);\n",
       "}\n",
       "\n",
       "html[theme=\"dark\"],\n",
       "body[data-theme=\"dark\"],\n",
       "body.vscode-dark {\n",
       "  --font-color-primary: rgba(255, 255, 255, 1);\n",
       "  --font-color-secondary: rgba(255, 255, 255, 0.6);\n",
       "  --font-color-accent: rgb(173, 132, 190);\n",
       "  --border-color: #2e2e2e;\n",
       "  --background-color: #111111;\n",
       "  --background-color-row-even: #111111;\n",
       "  --background-color-row-odd: #313131;\n",
       "}\n",
       "\n",
       ".ee {\n",
       "  padding: 1em;\n",
       "  line-height: 1.5em;\n",
       "  min-width: 300px;\n",
       "  max-width: 1200px;\n",
       "  overflow-y: scroll;\n",
       "  max-height: 600px;\n",
       "  border: 1px solid var(--border-color);\n",
       "  font-family: monospace;\n",
       "}\n",
       "\n",
       ".ee li {\n",
       "  list-style-type: none;\n",
       "}\n",
       "\n",
       ".ee ul {\n",
       "  padding-left: 1.5em !important;\n",
       "  margin: 0;\n",
       "}\n",
       "\n",
       ".ee > ul {\n",
       "  padding-left: 0 !important;\n",
       "}\n",
       "\n",
       ".ee-open,\n",
       ".ee-shut {\n",
       "  color: var(--font-color-secondary);\n",
       "  cursor: pointer;\n",
       "  margin: 0;\n",
       "}\n",
       "\n",
       ".ee-open:hover,\n",
       ".ee-shut:hover {\n",
       "  color: var(--font-color-primary);\n",
       "}\n",
       "\n",
       ".ee-k {\n",
       "  color: var(--font-color-accent);\n",
       "  margin-right: 6px;\n",
       "}\n",
       "\n",
       ".ee-v {\n",
       "  color: var(--font-color-primary);\n",
       "}\n",
       "\n",
       ".ee-toggle {\n",
       "  display: none;\n",
       "}\n",
       "\n",
       ".ee-shut + ul {\n",
       "  display: none;\n",
       "}\n",
       "\n",
       ".ee-open + ul {\n",
       "  display: block;\n",
       "}\n",
       "\n",
       ".ee-shut::before {\n",
       "  display: inline-block;\n",
       "  content: \"▼\";\n",
       "  margin-right: 6px;\n",
       "  transform: rotate(-90deg);\n",
       "  transition: transform 0.2s;\n",
       "}\n",
       "\n",
       ".ee-open::before {\n",
       "  transform: rotate(0deg);\n",
       "  display: inline-block;\n",
       "  content: \"▼\";\n",
       "  margin-right: 6px;\n",
       "  transition: transform 0.2s;\n",
       "}\n",
       "</style><div class='ee'><ul><li><label class='ee-shut'>[[5, 0], [0, 5]]<input type='checkbox' class='ee-toggle'></label><ul><li><label class='ee-shut'>0: [5, 0]<input type='checkbox' class='ee-toggle'></label><ul><li><span class='ee-k'>0:</span><span class='ee-v'>5</span></li><li><span class='ee-k'>1:</span><span class='ee-v'>0</span></li></ul></li><li><label class='ee-shut'>1: [0, 5]<input type='checkbox' class='ee-toggle'></label><ul><li><span class='ee-k'>0:</span><span class='ee-v'>0</span></li><li><span class='ee-k'>1:</span><span class='ee-v'>5</span></li></ul></li></ul></li></ul></div><script>function toggleHeader() {\n",
       "    const parent = this.parentElement;\n",
       "    parent.className = parent.className === \"ee-open\" ? \"ee-shut\" : \"ee-open\";\n",
       "}\n",
       "\n",
       "for (let c of document.getElementsByClassName(\"ee-toggle\")) {\n",
       "    c.onclick = toggleHeader;\n",
       "}</script></div>"
      ],
      "text/plain": [
       "<ee.ConfusionMatrix at 0x18167c5a960>"
      ]
     },
     "metadata": {},
     "output_type": "display_data"
    }
   ],
   "source": [
    "display('Matriz de confusión', ExactitudEntrenamiento)"
   ]
  },
  {
   "cell_type": "code",
   "execution_count": 46,
   "id": "985eb149",
   "metadata": {},
   "outputs": [
    {
     "data": {
      "text/html": [
       "\n",
       "            <style>\n",
       "                .geemap-dark {\n",
       "                    --jp-widgets-color: white;\n",
       "                    --jp-widgets-label-color: white;\n",
       "                    --jp-ui-font-color1: white;\n",
       "                    --jp-layout-color2: #454545;\n",
       "                    background-color: #383838;\n",
       "                }\n",
       "                    \n",
       "                .geemap-dark .jupyter-button {\n",
       "                    --jp-layout-color3: #383838;\n",
       "                }\n",
       "                \n",
       "                .geemap-colab {\n",
       "                    background-color: var(--colab-primary-surface-color, white);\n",
       "                }\n",
       "                    \n",
       "                .geemap-colab .jupyter-button {\n",
       "                    --jp-layout-color3: var(--colab-primary-surface-color, white);\n",
       "                }\n",
       "            </style>\n",
       "            "
      ],
      "text/plain": [
       "<IPython.core.display.HTML object>"
      ]
     },
     "metadata": {},
     "output_type": "display_data"
    },
    {
     "data": {
      "text/plain": [
       "'Exactitud general del entrenamiento'"
      ]
     },
     "metadata": {},
     "output_type": "display_data"
    },
    {
     "data": {
      "text/html": [
       "<div><style>:root {\n",
       "  --font-color-primary: var(--jp-content-font-color0, rgba(0, 0, 0, 1));\n",
       "  --font-color-secondary: var(--jp-content-font-color2, rgba(0, 0, 0, 0.6));\n",
       "  --font-color-accent: rgba(123, 31, 162, 1);\n",
       "  --border-color: var(--jp-border-color2, #e0e0e0);\n",
       "  --background-color: var(--jp-layout-color0, white);\n",
       "  --background-color-row-even: var(--jp-layout-color1, white);\n",
       "  --background-color-row-odd: var(--jp-layout-color2, #eeeeee);\n",
       "}\n",
       "\n",
       "html[theme=\"dark\"],\n",
       "body[data-theme=\"dark\"],\n",
       "body.vscode-dark {\n",
       "  --font-color-primary: rgba(255, 255, 255, 1);\n",
       "  --font-color-secondary: rgba(255, 255, 255, 0.6);\n",
       "  --font-color-accent: rgb(173, 132, 190);\n",
       "  --border-color: #2e2e2e;\n",
       "  --background-color: #111111;\n",
       "  --background-color-row-even: #111111;\n",
       "  --background-color-row-odd: #313131;\n",
       "}\n",
       "\n",
       ".ee {\n",
       "  padding: 1em;\n",
       "  line-height: 1.5em;\n",
       "  min-width: 300px;\n",
       "  max-width: 1200px;\n",
       "  overflow-y: scroll;\n",
       "  max-height: 600px;\n",
       "  border: 1px solid var(--border-color);\n",
       "  font-family: monospace;\n",
       "}\n",
       "\n",
       ".ee li {\n",
       "  list-style-type: none;\n",
       "}\n",
       "\n",
       ".ee ul {\n",
       "  padding-left: 1.5em !important;\n",
       "  margin: 0;\n",
       "}\n",
       "\n",
       ".ee > ul {\n",
       "  padding-left: 0 !important;\n",
       "}\n",
       "\n",
       ".ee-open,\n",
       ".ee-shut {\n",
       "  color: var(--font-color-secondary);\n",
       "  cursor: pointer;\n",
       "  margin: 0;\n",
       "}\n",
       "\n",
       ".ee-open:hover,\n",
       ".ee-shut:hover {\n",
       "  color: var(--font-color-primary);\n",
       "}\n",
       "\n",
       ".ee-k {\n",
       "  color: var(--font-color-accent);\n",
       "  margin-right: 6px;\n",
       "}\n",
       "\n",
       ".ee-v {\n",
       "  color: var(--font-color-primary);\n",
       "}\n",
       "\n",
       ".ee-toggle {\n",
       "  display: none;\n",
       "}\n",
       "\n",
       ".ee-shut + ul {\n",
       "  display: none;\n",
       "}\n",
       "\n",
       ".ee-open + ul {\n",
       "  display: block;\n",
       "}\n",
       "\n",
       ".ee-shut::before {\n",
       "  display: inline-block;\n",
       "  content: \"▼\";\n",
       "  margin-right: 6px;\n",
       "  transform: rotate(-90deg);\n",
       "  transition: transform 0.2s;\n",
       "}\n",
       "\n",
       ".ee-open::before {\n",
       "  transform: rotate(0deg);\n",
       "  display: inline-block;\n",
       "  content: \"▼\";\n",
       "  margin-right: 6px;\n",
       "  transition: transform 0.2s;\n",
       "}\n",
       "</style><div class='ee'><ul><li><span class='ee-v'>1</span></li></ul></div><script>function toggleHeader() {\n",
       "    const parent = this.parentElement;\n",
       "    parent.className = parent.className === \"ee-open\" ? \"ee-shut\" : \"ee-open\";\n",
       "}\n",
       "\n",
       "for (let c of document.getElementsByClassName(\"ee-toggle\")) {\n",
       "    c.onclick = toggleHeader;\n",
       "}</script></div>"
      ],
      "text/plain": [
       "<ee.ee_number.Number at 0x18167c5be30>"
      ]
     },
     "metadata": {},
     "output_type": "display_data"
    }
   ],
   "source": [
    "display('Exactitud general del entrenamiento', ExactitudEntrenamiento.accuracy())"
   ]
  },
  {
   "cell_type": "markdown",
   "id": "540f834a",
   "metadata": {},
   "source": [
    "# <font style=\"color:red\">4. CLASIFICACIÓN </font>"
   ]
  },
  {
   "cell_type": "code",
   "execution_count": 48,
   "id": "807ea6c6",
   "metadata": {},
   "outputs": [
    {
     "data": {
      "text/html": [
       "\n",
       "            <style>\n",
       "                .geemap-dark {\n",
       "                    --jp-widgets-color: white;\n",
       "                    --jp-widgets-label-color: white;\n",
       "                    --jp-ui-font-color1: white;\n",
       "                    --jp-layout-color2: #454545;\n",
       "                    background-color: #383838;\n",
       "                }\n",
       "                    \n",
       "                .geemap-dark .jupyter-button {\n",
       "                    --jp-layout-color3: #383838;\n",
       "                }\n",
       "                \n",
       "                .geemap-colab {\n",
       "                    background-color: var(--colab-primary-surface-color, white);\n",
       "                }\n",
       "                    \n",
       "                .geemap-colab .jupyter-button {\n",
       "                    --jp-layout-color3: var(--colab-primary-surface-color, white);\n",
       "                }\n",
       "            </style>\n",
       "            "
      ],
      "text/plain": [
       "<IPython.core.display.HTML object>"
      ]
     },
     "metadata": {},
     "output_type": "display_data"
    },
    {
     "data": {
      "text/html": [
       "<div><style>:root {\n",
       "  --font-color-primary: var(--jp-content-font-color0, rgba(0, 0, 0, 1));\n",
       "  --font-color-secondary: var(--jp-content-font-color2, rgba(0, 0, 0, 0.6));\n",
       "  --font-color-accent: rgba(123, 31, 162, 1);\n",
       "  --border-color: var(--jp-border-color2, #e0e0e0);\n",
       "  --background-color: var(--jp-layout-color0, white);\n",
       "  --background-color-row-even: var(--jp-layout-color1, white);\n",
       "  --background-color-row-odd: var(--jp-layout-color2, #eeeeee);\n",
       "}\n",
       "\n",
       "html[theme=\"dark\"],\n",
       "body[data-theme=\"dark\"],\n",
       "body.vscode-dark {\n",
       "  --font-color-primary: rgba(255, 255, 255, 1);\n",
       "  --font-color-secondary: rgba(255, 255, 255, 0.6);\n",
       "  --font-color-accent: rgb(173, 132, 190);\n",
       "  --border-color: #2e2e2e;\n",
       "  --background-color: #111111;\n",
       "  --background-color-row-even: #111111;\n",
       "  --background-color-row-odd: #313131;\n",
       "}\n",
       "\n",
       ".ee {\n",
       "  padding: 1em;\n",
       "  line-height: 1.5em;\n",
       "  min-width: 300px;\n",
       "  max-width: 1200px;\n",
       "  overflow-y: scroll;\n",
       "  max-height: 600px;\n",
       "  border: 1px solid var(--border-color);\n",
       "  font-family: monospace;\n",
       "}\n",
       "\n",
       ".ee li {\n",
       "  list-style-type: none;\n",
       "}\n",
       "\n",
       ".ee ul {\n",
       "  padding-left: 1.5em !important;\n",
       "  margin: 0;\n",
       "}\n",
       "\n",
       ".ee > ul {\n",
       "  padding-left: 0 !important;\n",
       "}\n",
       "\n",
       ".ee-open,\n",
       ".ee-shut {\n",
       "  color: var(--font-color-secondary);\n",
       "  cursor: pointer;\n",
       "  margin: 0;\n",
       "}\n",
       "\n",
       ".ee-open:hover,\n",
       ".ee-shut:hover {\n",
       "  color: var(--font-color-primary);\n",
       "}\n",
       "\n",
       ".ee-k {\n",
       "  color: var(--font-color-accent);\n",
       "  margin-right: 6px;\n",
       "}\n",
       "\n",
       ".ee-v {\n",
       "  color: var(--font-color-primary);\n",
       "}\n",
       "\n",
       ".ee-toggle {\n",
       "  display: none;\n",
       "}\n",
       "\n",
       ".ee-shut + ul {\n",
       "  display: none;\n",
       "}\n",
       "\n",
       ".ee-open + ul {\n",
       "  display: block;\n",
       "}\n",
       "\n",
       ".ee-shut::before {\n",
       "  display: inline-block;\n",
       "  content: \"▼\";\n",
       "  margin-right: 6px;\n",
       "  transform: rotate(-90deg);\n",
       "  transition: transform 0.2s;\n",
       "}\n",
       "\n",
       ".ee-open::before {\n",
       "  transform: rotate(0deg);\n",
       "  display: inline-block;\n",
       "  content: \"▼\";\n",
       "  margin-right: 6px;\n",
       "  transition: transform 0.2s;\n",
       "}\n",
       "</style><div class='ee'><ul><li><label class='ee-shut'>Image (1 band)<input type='checkbox' class='ee-toggle'></label><ul><li><span class='ee-k'>type:</span><span class='ee-v'>Image</span></li><li><label class='ee-shut'>bands: List (1 element)<input type='checkbox' class='ee-toggle'></label><ul><li><label class='ee-shut'>0: \"classification\", signed int32, EPSG:4326<input type='checkbox' class='ee-toggle'></label><ul><li><span class='ee-k'>id:</span><span class='ee-v'>classification</span></li><li><span class='ee-k'>crs:</span><span class='ee-v'>EPSG:4326</span></li><li><label class='ee-shut'>crs_transform: [1, 0, 0, 0, 1, 0]<input type='checkbox' class='ee-toggle'></label><ul><li><span class='ee-k'>0:</span><span class='ee-v'>1</span></li><li><span class='ee-k'>1:</span><span class='ee-v'>0</span></li><li><span class='ee-k'>2:</span><span class='ee-v'>0</span></li><li><span class='ee-k'>3:</span><span class='ee-v'>0</span></li><li><span class='ee-k'>4:</span><span class='ee-v'>1</span></li><li><span class='ee-k'>5:</span><span class='ee-v'>0</span></li></ul></li><li><label class='ee-shut'>data_type: signed int32<input type='checkbox' class='ee-toggle'></label><ul><li><span class='ee-k'>type:</span><span class='ee-v'>PixelType</span></li><li><span class='ee-k'>max:</span><span class='ee-v'>2147483647</span></li><li><span class='ee-k'>min:</span><span class='ee-v'>-2147483648</span></li><li><span class='ee-k'>precision:</span><span class='ee-v'>int</span></li></ul></li></ul></li></ul></li></ul></li></ul></div><script>function toggleHeader() {\n",
       "    const parent = this.parentElement;\n",
       "    parent.className = parent.className === \"ee-open\" ? \"ee-shut\" : \"ee-open\";\n",
       "}\n",
       "\n",
       "for (let c of document.getElementsByClassName(\"ee-toggle\")) {\n",
       "    c.onclick = toggleHeader;\n",
       "}</script></div>"
      ],
      "text/plain": [
       "<ee.image.Image at 0x18167c59a60>"
      ]
     },
     "execution_count": 48,
     "metadata": {},
     "output_type": "execute_result"
    }
   ],
   "source": [
    "resultados"
   ]
  },
  {
   "cell_type": "code",
   "execution_count": 49,
   "id": "b2a32254",
   "metadata": {},
   "outputs": [
    {
     "data": {
      "text/html": [
       "\n",
       "            <style>\n",
       "                .geemap-dark {\n",
       "                    --jp-widgets-color: white;\n",
       "                    --jp-widgets-label-color: white;\n",
       "                    --jp-ui-font-color1: white;\n",
       "                    --jp-layout-color2: #454545;\n",
       "                    background-color: #383838;\n",
       "                }\n",
       "                    \n",
       "                .geemap-dark .jupyter-button {\n",
       "                    --jp-layout-color3: #383838;\n",
       "                }\n",
       "                \n",
       "                .geemap-colab {\n",
       "                    background-color: var(--colab-primary-surface-color, white);\n",
       "                }\n",
       "                    \n",
       "                .geemap-colab .jupyter-button {\n",
       "                    --jp-layout-color3: var(--colab-primary-surface-color, white);\n",
       "                }\n",
       "            </style>\n",
       "            "
      ],
      "text/plain": [
       "<IPython.core.display.HTML object>"
      ]
     },
     "metadata": {},
     "output_type": "display_data"
    }
   ],
   "source": [
    "Map.addLayer(resultados.randomVisualizer(), {}, 'coverturas 2014')"
   ]
  },
  {
   "cell_type": "code",
   "execution_count": 50,
   "id": "b5ee3ff6",
   "metadata": {},
   "outputs": [
    {
     "data": {
      "text/html": [
       "\n",
       "            <style>\n",
       "                .geemap-dark {\n",
       "                    --jp-widgets-color: white;\n",
       "                    --jp-widgets-label-color: white;\n",
       "                    --jp-ui-font-color1: white;\n",
       "                    --jp-layout-color2: #454545;\n",
       "                    background-color: #383838;\n",
       "                }\n",
       "                    \n",
       "                .geemap-dark .jupyter-button {\n",
       "                    --jp-layout-color3: #383838;\n",
       "                }\n",
       "                \n",
       "                .geemap-colab {\n",
       "                    background-color: var(--colab-primary-surface-color, white);\n",
       "                }\n",
       "                    \n",
       "                .geemap-colab .jupyter-button {\n",
       "                    --jp-layout-color3: var(--colab-primary-surface-color, white);\n",
       "                }\n",
       "            </style>\n",
       "            "
      ],
      "text/plain": [
       "<IPython.core.display.HTML object>"
      ]
     },
     "metadata": {},
     "output_type": "display_data"
    },
    {
     "data": {
      "application/vnd.jupyter.widget-view+json": {
       "model_id": "71c2f70783714380acb471b0e75963e3",
       "version_major": 2,
       "version_minor": 0
      },
      "text/plain": [
       "Map(bottom=8358399.0, center=[0.6546378750410355, -74.44714665412904], controls=(WidgetControl(options=['posit…"
      ]
     },
     "execution_count": 50,
     "metadata": {},
     "output_type": "execute_result"
    }
   ],
   "source": [
    "Map"
   ]
  },
  {
   "cell_type": "markdown",
   "id": "ef8aa231",
   "metadata": {},
   "source": [
    "# <font style=\"color:red\">5. CALCULAR ÁREAS </font>"
   ]
  },
  {
   "cell_type": "code",
   "execution_count": 51,
   "id": "1f348c36",
   "metadata": {},
   "outputs": [
    {
     "data": {
      "text/html": [
       "\n",
       "            <style>\n",
       "                .geemap-dark {\n",
       "                    --jp-widgets-color: white;\n",
       "                    --jp-widgets-label-color: white;\n",
       "                    --jp-ui-font-color1: white;\n",
       "                    --jp-layout-color2: #454545;\n",
       "                    background-color: #383838;\n",
       "                }\n",
       "                    \n",
       "                .geemap-dark .jupyter-button {\n",
       "                    --jp-layout-color3: #383838;\n",
       "                }\n",
       "                \n",
       "                .geemap-colab {\n",
       "                    background-color: var(--colab-primary-surface-color, white);\n",
       "                }\n",
       "                    \n",
       "                .geemap-colab .jupyter-button {\n",
       "                    --jp-layout-color3: var(--colab-primary-surface-color, white);\n",
       "                }\n",
       "            </style>\n",
       "            "
      ],
      "text/plain": [
       "<IPython.core.display.HTML object>"
      ]
     },
     "metadata": {},
     "output_type": "display_data"
    },
    {
     "data": {
      "text/html": [
       "<div><style>:root {\n",
       "  --font-color-primary: var(--jp-content-font-color0, rgba(0, 0, 0, 1));\n",
       "  --font-color-secondary: var(--jp-content-font-color2, rgba(0, 0, 0, 0.6));\n",
       "  --font-color-accent: rgba(123, 31, 162, 1);\n",
       "  --border-color: var(--jp-border-color2, #e0e0e0);\n",
       "  --background-color: var(--jp-layout-color0, white);\n",
       "  --background-color-row-even: var(--jp-layout-color1, white);\n",
       "  --background-color-row-odd: var(--jp-layout-color2, #eeeeee);\n",
       "}\n",
       "\n",
       "html[theme=\"dark\"],\n",
       "body[data-theme=\"dark\"],\n",
       "body.vscode-dark {\n",
       "  --font-color-primary: rgba(255, 255, 255, 1);\n",
       "  --font-color-secondary: rgba(255, 255, 255, 0.6);\n",
       "  --font-color-accent: rgb(173, 132, 190);\n",
       "  --border-color: #2e2e2e;\n",
       "  --background-color: #111111;\n",
       "  --background-color-row-even: #111111;\n",
       "  --background-color-row-odd: #313131;\n",
       "}\n",
       "\n",
       ".ee {\n",
       "  padding: 1em;\n",
       "  line-height: 1.5em;\n",
       "  min-width: 300px;\n",
       "  max-width: 1200px;\n",
       "  overflow-y: scroll;\n",
       "  max-height: 600px;\n",
       "  border: 1px solid var(--border-color);\n",
       "  font-family: monospace;\n",
       "}\n",
       "\n",
       ".ee li {\n",
       "  list-style-type: none;\n",
       "}\n",
       "\n",
       ".ee ul {\n",
       "  padding-left: 1.5em !important;\n",
       "  margin: 0;\n",
       "}\n",
       "\n",
       ".ee > ul {\n",
       "  padding-left: 0 !important;\n",
       "}\n",
       "\n",
       ".ee-open,\n",
       ".ee-shut {\n",
       "  color: var(--font-color-secondary);\n",
       "  cursor: pointer;\n",
       "  margin: 0;\n",
       "}\n",
       "\n",
       ".ee-open:hover,\n",
       ".ee-shut:hover {\n",
       "  color: var(--font-color-primary);\n",
       "}\n",
       "\n",
       ".ee-k {\n",
       "  color: var(--font-color-accent);\n",
       "  margin-right: 6px;\n",
       "}\n",
       "\n",
       ".ee-v {\n",
       "  color: var(--font-color-primary);\n",
       "}\n",
       "\n",
       ".ee-toggle {\n",
       "  display: none;\n",
       "}\n",
       "\n",
       ".ee-shut + ul {\n",
       "  display: none;\n",
       "}\n",
       "\n",
       ".ee-open + ul {\n",
       "  display: block;\n",
       "}\n",
       "\n",
       ".ee-shut::before {\n",
       "  display: inline-block;\n",
       "  content: \"▼\";\n",
       "  margin-right: 6px;\n",
       "  transform: rotate(-90deg);\n",
       "  transition: transform 0.2s;\n",
       "}\n",
       "\n",
       ".ee-open::before {\n",
       "  transform: rotate(0deg);\n",
       "  display: inline-block;\n",
       "  content: \"▼\";\n",
       "  margin-right: 6px;\n",
       "  transition: transform 0.2s;\n",
       "}\n",
       "</style><div class='ee'><ul><li><span class='ee-v'>257.9263800093988</span></li></ul></div><script>function toggleHeader() {\n",
       "    const parent = this.parentElement;\n",
       "    parent.className = parent.className === \"ee-open\" ? \"ee-shut\" : \"ee-open\";\n",
       "}\n",
       "\n",
       "for (let c of document.getElementsByClassName(\"ee-toggle\")) {\n",
       "    c.onclick = toggleHeader;\n",
       "}</script></div>"
      ],
      "text/plain": [
       "<ee.ee_number.Number at 0x18167c59b20>"
      ]
     },
     "execution_count": 51,
     "metadata": {},
     "output_type": "execute_result"
    }
   ],
   "source": [
    "#Área de mi poligono en km^2\n",
    "\n",
    "roi.area().divide(1000000)"
   ]
  },
  {
   "cell_type": "code",
   "execution_count": 75,
   "id": "2e0ffc36",
   "metadata": {},
   "outputs": [
    {
     "data": {
      "text/html": [
       "\n",
       "            <style>\n",
       "                .geemap-dark {\n",
       "                    --jp-widgets-color: white;\n",
       "                    --jp-widgets-label-color: white;\n",
       "                    --jp-ui-font-color1: white;\n",
       "                    --jp-layout-color2: #454545;\n",
       "                    background-color: #383838;\n",
       "                }\n",
       "                    \n",
       "                .geemap-dark .jupyter-button {\n",
       "                    --jp-layout-color3: #383838;\n",
       "                }\n",
       "                \n",
       "                .geemap-colab {\n",
       "                    background-color: var(--colab-primary-surface-color, white);\n",
       "                }\n",
       "                    \n",
       "                .geemap-colab .jupyter-button {\n",
       "                    --jp-layout-color3: var(--colab-primary-surface-color, white);\n",
       "                }\n",
       "            </style>\n",
       "            "
      ],
      "text/plain": [
       "<IPython.core.display.HTML object>"
      ]
     },
     "metadata": {},
     "output_type": "display_data"
    }
   ],
   "source": [
    "resultados = LS2022.select(bandas).classify(EntrenamientoRF)"
   ]
  },
  {
   "cell_type": "code",
   "execution_count": 76,
   "id": "22e270fb",
   "metadata": {},
   "outputs": [
    {
     "data": {
      "text/html": [
       "\n",
       "            <style>\n",
       "                .geemap-dark {\n",
       "                    --jp-widgets-color: white;\n",
       "                    --jp-widgets-label-color: white;\n",
       "                    --jp-ui-font-color1: white;\n",
       "                    --jp-layout-color2: #454545;\n",
       "                    background-color: #383838;\n",
       "                }\n",
       "                    \n",
       "                .geemap-dark .jupyter-button {\n",
       "                    --jp-layout-color3: #383838;\n",
       "                }\n",
       "                \n",
       "                .geemap-colab {\n",
       "                    background-color: var(--colab-primary-surface-color, white);\n",
       "                }\n",
       "                    \n",
       "                .geemap-colab .jupyter-button {\n",
       "                    --jp-layout-color3: var(--colab-primary-surface-color, white);\n",
       "                }\n",
       "            </style>\n",
       "            "
      ],
      "text/plain": [
       "<IPython.core.display.HTML object>"
      ]
     },
     "metadata": {},
     "output_type": "display_data"
    },
    {
     "name": "stdout",
     "output_type": "stream",
     "text": [
      "Calculating area for group 0 ...\n",
      "Calculating area for group 1 ...\n"
     ]
    },
    {
     "data": {
      "text/html": [
       "<div>\n",
       "<style scoped>\n",
       "    .dataframe tbody tr th:only-of-type {\n",
       "        vertical-align: middle;\n",
       "    }\n",
       "\n",
       "    .dataframe tbody tr th {\n",
       "        vertical-align: top;\n",
       "    }\n",
       "\n",
       "    .dataframe thead th {\n",
       "        text-align: right;\n",
       "    }\n",
       "</style>\n",
       "<table border=\"1\" class=\"dataframe\">\n",
       "  <thead>\n",
       "    <tr style=\"text-align: right;\">\n",
       "      <th></th>\n",
       "      <th>area</th>\n",
       "      <th>percentage</th>\n",
       "    </tr>\n",
       "    <tr>\n",
       "      <th>group</th>\n",
       "      <th></th>\n",
       "      <th></th>\n",
       "    </tr>\n",
       "  </thead>\n",
       "  <tbody>\n",
       "    <tr>\n",
       "      <th>0</th>\n",
       "      <td>18.4662</td>\n",
       "      <td>0.0719</td>\n",
       "    </tr>\n",
       "    <tr>\n",
       "      <th>1</th>\n",
       "      <td>238.2155</td>\n",
       "      <td>0.9281</td>\n",
       "    </tr>\n",
       "  </tbody>\n",
       "</table>\n",
       "</div>"
      ],
      "text/plain": [
       "           area  percentage\n",
       "group                      \n",
       "0       18.4662      0.0719\n",
       "1      238.2155      0.9281"
      ]
     },
     "execution_count": 76,
     "metadata": {},
     "output_type": "execute_result"
    }
   ],
   "source": [
    "#Área clasificada como deforestada (0) y con vegetación (1) en km^2\n",
    "\n",
    "df = geemap.image_area_by_group(\n",
    "    resultados, scale=1000, denominator=1e6, decimal_places=4, verbose=True\n",
    ")\n",
    "df"
   ]
  },
  {
   "cell_type": "code",
   "execution_count": 78,
   "id": "ec18a64c",
   "metadata": {},
   "outputs": [
    {
     "data": {
      "text/html": [
       "\n",
       "            <style>\n",
       "                .geemap-dark {\n",
       "                    --jp-widgets-color: white;\n",
       "                    --jp-widgets-label-color: white;\n",
       "                    --jp-ui-font-color1: white;\n",
       "                    --jp-layout-color2: #454545;\n",
       "                    background-color: #383838;\n",
       "                }\n",
       "                    \n",
       "                .geemap-dark .jupyter-button {\n",
       "                    --jp-layout-color3: #383838;\n",
       "                }\n",
       "                \n",
       "                .geemap-colab {\n",
       "                    background-color: var(--colab-primary-surface-color, white);\n",
       "                }\n",
       "                    \n",
       "                .geemap-colab .jupyter-button {\n",
       "                    --jp-layout-color3: var(--colab-primary-surface-color, white);\n",
       "                }\n",
       "            </style>\n",
       "            "
      ],
      "text/plain": [
       "<IPython.core.display.HTML object>"
      ]
     },
     "metadata": {},
     "output_type": "display_data"
    },
    {
     "data": {
      "text/plain": [
       "29.800699999999978"
      ]
     },
     "execution_count": 78,
     "metadata": {},
     "output_type": "execute_result"
    }
   ],
   "source": [
    "238.2155-208.4148"
   ]
  },
  {
   "cell_type": "markdown",
   "id": "4e79c289",
   "metadata": {},
   "source": [
    "# <font style=\"color:red\">6. REALIZAR RF CON LOS DATOS DE ENTRENAMIENTO DESCARGADOS </font>"
   ]
  },
  {
   "cell_type": "code",
   "execution_count": 22,
   "id": "2a8373ab",
   "metadata": {},
   "outputs": [
    {
     "data": {
      "text/html": [
       "\n",
       "            <style>\n",
       "                .geemap-dark {\n",
       "                    --jp-widgets-color: white;\n",
       "                    --jp-widgets-label-color: white;\n",
       "                    --jp-ui-font-color1: white;\n",
       "                    --jp-layout-color2: #454545;\n",
       "                    background-color: #383838;\n",
       "                }\n",
       "                    \n",
       "                .geemap-dark .jupyter-button {\n",
       "                    --jp-layout-color3: #383838;\n",
       "                }\n",
       "                \n",
       "                .geemap-colab {\n",
       "                    background-color: var(--colab-primary-surface-color, white);\n",
       "                }\n",
       "                    \n",
       "                .geemap-colab .jupyter-button {\n",
       "                    --jp-layout-color3: var(--colab-primary-surface-color, white);\n",
       "                }\n",
       "            </style>\n",
       "            "
      ],
      "text/plain": [
       "<IPython.core.display.HTML object>"
      ]
     },
     "metadata": {},
     "output_type": "display_data"
    }
   ],
   "source": [
    "PuntoEntrenamiento = geemap.shp_to_ee(\"DatosEntrenamientoRF_2022.shp\")"
   ]
  },
  {
   "cell_type": "code",
   "execution_count": 23,
   "id": "7a92f941",
   "metadata": {},
   "outputs": [
    {
     "data": {
      "text/html": [
       "\n",
       "            <style>\n",
       "                .geemap-dark {\n",
       "                    --jp-widgets-color: white;\n",
       "                    --jp-widgets-label-color: white;\n",
       "                    --jp-ui-font-color1: white;\n",
       "                    --jp-layout-color2: #454545;\n",
       "                    background-color: #383838;\n",
       "                }\n",
       "                    \n",
       "                .geemap-dark .jupyter-button {\n",
       "                    --jp-layout-color3: #383838;\n",
       "                }\n",
       "                \n",
       "                .geemap-colab {\n",
       "                    background-color: var(--colab-primary-surface-color, white);\n",
       "                }\n",
       "                    \n",
       "                .geemap-colab .jupyter-button {\n",
       "                    --jp-layout-color3: var(--colab-primary-surface-color, white);\n",
       "                }\n",
       "            </style>\n",
       "            "
      ],
      "text/plain": [
       "<IPython.core.display.HTML object>"
      ]
     },
     "metadata": {},
     "output_type": "display_data"
    },
    {
     "data": {
      "text/html": [
       "<div><style>:root {\n",
       "  --font-color-primary: var(--jp-content-font-color0, rgba(0, 0, 0, 1));\n",
       "  --font-color-secondary: var(--jp-content-font-color2, rgba(0, 0, 0, 0.6));\n",
       "  --font-color-accent: rgba(123, 31, 162, 1);\n",
       "  --border-color: var(--jp-border-color2, #e0e0e0);\n",
       "  --background-color: var(--jp-layout-color0, white);\n",
       "  --background-color-row-even: var(--jp-layout-color1, white);\n",
       "  --background-color-row-odd: var(--jp-layout-color2, #eeeeee);\n",
       "}\n",
       "\n",
       "html[theme=\"dark\"],\n",
       "body[data-theme=\"dark\"],\n",
       "body.vscode-dark {\n",
       "  --font-color-primary: rgba(255, 255, 255, 1);\n",
       "  --font-color-secondary: rgba(255, 255, 255, 0.6);\n",
       "  --font-color-accent: rgb(173, 132, 190);\n",
       "  --border-color: #2e2e2e;\n",
       "  --background-color: #111111;\n",
       "  --background-color-row-even: #111111;\n",
       "  --background-color-row-odd: #313131;\n",
       "}\n",
       "\n",
       ".ee {\n",
       "  padding: 1em;\n",
       "  line-height: 1.5em;\n",
       "  min-width: 300px;\n",
       "  max-width: 1200px;\n",
       "  overflow-y: scroll;\n",
       "  max-height: 600px;\n",
       "  border: 1px solid var(--border-color);\n",
       "  font-family: monospace;\n",
       "}\n",
       "\n",
       ".ee li {\n",
       "  list-style-type: none;\n",
       "}\n",
       "\n",
       ".ee ul {\n",
       "  padding-left: 1.5em !important;\n",
       "  margin: 0;\n",
       "}\n",
       "\n",
       ".ee > ul {\n",
       "  padding-left: 0 !important;\n",
       "}\n",
       "\n",
       ".ee-open,\n",
       ".ee-shut {\n",
       "  color: var(--font-color-secondary);\n",
       "  cursor: pointer;\n",
       "  margin: 0;\n",
       "}\n",
       "\n",
       ".ee-open:hover,\n",
       ".ee-shut:hover {\n",
       "  color: var(--font-color-primary);\n",
       "}\n",
       "\n",
       ".ee-k {\n",
       "  color: var(--font-color-accent);\n",
       "  margin-right: 6px;\n",
       "}\n",
       "\n",
       ".ee-v {\n",
       "  color: var(--font-color-primary);\n",
       "}\n",
       "\n",
       ".ee-toggle {\n",
       "  display: none;\n",
       "}\n",
       "\n",
       ".ee-shut + ul {\n",
       "  display: none;\n",
       "}\n",
       "\n",
       ".ee-open + ul {\n",
       "  display: block;\n",
       "}\n",
       "\n",
       ".ee-shut::before {\n",
       "  display: inline-block;\n",
       "  content: \"▼\";\n",
       "  margin-right: 6px;\n",
       "  transform: rotate(-90deg);\n",
       "  transition: transform 0.2s;\n",
       "}\n",
       "\n",
       ".ee-open::before {\n",
       "  transform: rotate(0deg);\n",
       "  display: inline-block;\n",
       "  content: \"▼\";\n",
       "  margin-right: 6px;\n",
       "  transition: transform 0.2s;\n",
       "}\n",
       "</style><div class='ee'><ul><li><label class='ee-shut'>FeatureCollection (10 elements, 2 columns)<input type='checkbox' class='ee-toggle'></label><ul><li><span class='ee-k'>type:</span><span class='ee-v'>FeatureCollection</span></li><li><label class='ee-shut'>columns: Object (2 properties)<input type='checkbox' class='ee-toggle'></label><ul><li><span class='ee-k'>system:index:</span><span class='ee-v'>String</span></li><li><span class='ee-k'>zona:</span><span class='ee-v'>Integer</span></li></ul></li><li><label class='ee-shut'>features: List (10 elements)<input type='checkbox' class='ee-toggle'></label><ul><li><label class='ee-shut'>0: Feature (Point, 1 property)<input type='checkbox' class='ee-toggle'></label><ul><li><span class='ee-k'>type:</span><span class='ee-v'>Feature</span></li><li><span class='ee-k'>id:</span><span class='ee-v'>0</span></li><li><label class='ee-shut'>geometry: Point (-74.47, 0.66)<input type='checkbox' class='ee-toggle'></label><ul><li><span class='ee-k'>type:</span><span class='ee-v'>Point</span></li><li><label class='ee-shut'>coordinates: [-74.469001, 0.655861]<input type='checkbox' class='ee-toggle'></label><ul><li><span class='ee-k'>0:</span><span class='ee-v'>-74.469001</span></li><li><span class='ee-k'>1:</span><span class='ee-v'>0.655861</span></li></ul></li></ul></li><li><label class='ee-shut'>properties: Object (1 property)<input type='checkbox' class='ee-toggle'></label><ul><li><span class='ee-k'>zona:</span><span class='ee-v'>0</span></li></ul></li></ul></li><li><label class='ee-shut'>1: Feature (Point, 1 property)<input type='checkbox' class='ee-toggle'></label><ul><li><span class='ee-k'>type:</span><span class='ee-v'>Feature</span></li><li><span class='ee-k'>id:</span><span class='ee-v'>1</span></li><li><label class='ee-shut'>geometry: Point (-74.47, 0.66)<input type='checkbox' class='ee-toggle'></label><ul><li><span class='ee-k'>type:</span><span class='ee-v'>Point</span></li><li><label class='ee-shut'>coordinates: [-74.468036, 0.656097]<input type='checkbox' class='ee-toggle'></label><ul><li><span class='ee-k'>0:</span><span class='ee-v'>-74.468036</span></li><li><span class='ee-k'>1:</span><span class='ee-v'>0.656097</span></li></ul></li></ul></li><li><label class='ee-shut'>properties: Object (1 property)<input type='checkbox' class='ee-toggle'></label><ul><li><span class='ee-k'>zona:</span><span class='ee-v'>0</span></li></ul></li></ul></li><li><label class='ee-shut'>2: Feature (Point, 1 property)<input type='checkbox' class='ee-toggle'></label><ul><li><span class='ee-k'>type:</span><span class='ee-v'>Feature</span></li><li><span class='ee-k'>id:</span><span class='ee-v'>2</span></li><li><label class='ee-shut'>geometry: Point (-74.47, 0.66)<input type='checkbox' class='ee-toggle'></label><ul><li><span class='ee-k'>type:</span><span class='ee-v'>Point</span></li><li><label class='ee-shut'>coordinates: [-74.468851, 0.655239]<input type='checkbox' class='ee-toggle'></label><ul><li><span class='ee-k'>0:</span><span class='ee-v'>-74.468851</span></li><li><span class='ee-k'>1:</span><span class='ee-v'>0.655239</span></li></ul></li></ul></li><li><label class='ee-shut'>properties: Object (1 property)<input type='checkbox' class='ee-toggle'></label><ul><li><span class='ee-k'>zona:</span><span class='ee-v'>0</span></li></ul></li></ul></li><li><label class='ee-shut'>3: Feature (Point, 1 property)<input type='checkbox' class='ee-toggle'></label><ul><li><span class='ee-k'>type:</span><span class='ee-v'>Feature</span></li><li><span class='ee-k'>id:</span><span class='ee-v'>3</span></li><li><label class='ee-shut'>geometry: Point (-74.47, 0.65)<input type='checkbox' class='ee-toggle'></label><ul><li><span class='ee-k'>type:</span><span class='ee-v'>Point</span></li><li><label class='ee-shut'>coordinates: [-74.46928, 0.654187]<input type='checkbox' class='ee-toggle'></label><ul><li><span class='ee-k'>0:</span><span class='ee-v'>-74.46928</span></li><li><span class='ee-k'>1:</span><span class='ee-v'>0.654187</span></li></ul></li></ul></li><li><label class='ee-shut'>properties: Object (1 property)<input type='checkbox' class='ee-toggle'></label><ul><li><span class='ee-k'>zona:</span><span class='ee-v'>0</span></li></ul></li></ul></li><li><label class='ee-shut'>4: Feature (Point, 1 property)<input type='checkbox' class='ee-toggle'></label><ul><li><span class='ee-k'>type:</span><span class='ee-v'>Feature</span></li><li><span class='ee-k'>id:</span><span class='ee-v'>4</span></li><li><label class='ee-shut'>geometry: Point (-74.47, 0.65)<input type='checkbox' class='ee-toggle'></label><ul><li><span class='ee-k'>type:</span><span class='ee-v'>Point</span></li><li><label class='ee-shut'>coordinates: [-74.468229, 0.653587]<input type='checkbox' class='ee-toggle'></label><ul><li><span class='ee-k'>0:</span><span class='ee-v'>-74.468229</span></li><li><span class='ee-k'>1:</span><span class='ee-v'>0.653587</span></li></ul></li></ul></li><li><label class='ee-shut'>properties: Object (1 property)<input type='checkbox' class='ee-toggle'></label><ul><li><span class='ee-k'>zona:</span><span class='ee-v'>0</span></li></ul></li></ul></li><li><label class='ee-shut'>5: Feature (Point, 1 property)<input type='checkbox' class='ee-toggle'></label><ul><li><span class='ee-k'>type:</span><span class='ee-v'>Feature</span></li><li><span class='ee-k'>id:</span><span class='ee-v'>5</span></li><li><label class='ee-shut'>geometry: Point (-74.45, 0.66)<input type='checkbox' class='ee-toggle'></label><ul><li><span class='ee-k'>type:</span><span class='ee-v'>Point</span></li><li><label class='ee-shut'>coordinates: [-74.451814, 0.656311]<input type='checkbox' class='ee-toggle'></label><ul><li><span class='ee-k'>0:</span><span class='ee-v'>-74.451814</span></li><li><span class='ee-k'>1:</span><span class='ee-v'>0.656311</span></li></ul></li></ul></li><li><label class='ee-shut'>properties: Object (1 property)<input type='checkbox' class='ee-toggle'></label><ul><li><span class='ee-k'>zona:</span><span class='ee-v'>1</span></li></ul></li></ul></li><li><label class='ee-shut'>6: Feature (Point, 1 property)<input type='checkbox' class='ee-toggle'></label><ul><li><span class='ee-k'>type:</span><span class='ee-v'>Feature</span></li><li><span class='ee-k'>id:</span><span class='ee-v'>6</span></li><li><label class='ee-shut'>geometry: Point (-74.45, 0.66)<input type='checkbox' class='ee-toggle'></label><ul><li><span class='ee-k'>type:</span><span class='ee-v'>Point</span></li><li><label class='ee-shut'>coordinates: [-74.454195, 0.656676]<input type='checkbox' class='ee-toggle'></label><ul><li><span class='ee-k'>0:</span><span class='ee-v'>-74.454195</span></li><li><span class='ee-k'>1:</span><span class='ee-v'>0.656676</span></li></ul></li></ul></li><li><label class='ee-shut'>properties: Object (1 property)<input type='checkbox' class='ee-toggle'></label><ul><li><span class='ee-k'>zona:</span><span class='ee-v'>1</span></li></ul></li></ul></li><li><label class='ee-shut'>7: Feature (Point, 1 property)<input type='checkbox' class='ee-toggle'></label><ul><li><span class='ee-k'>type:</span><span class='ee-v'>Feature</span></li><li><span class='ee-k'>id:</span><span class='ee-v'>7</span></li><li><label class='ee-shut'>geometry: Point (-74.45, 0.65)<input type='checkbox' class='ee-toggle'></label><ul><li><span class='ee-k'>type:</span><span class='ee-v'>Point</span></li><li><label class='ee-shut'>coordinates: [-74.454474, 0.654552]<input type='checkbox' class='ee-toggle'></label><ul><li><span class='ee-k'>0:</span><span class='ee-v'>-74.454474</span></li><li><span class='ee-k'>1:</span><span class='ee-v'>0.654552</span></li></ul></li></ul></li><li><label class='ee-shut'>properties: Object (1 property)<input type='checkbox' class='ee-toggle'></label><ul><li><span class='ee-k'>zona:</span><span class='ee-v'>1</span></li></ul></li></ul></li><li><label class='ee-shut'>8: Feature (Point, 1 property)<input type='checkbox' class='ee-toggle'></label><ul><li><span class='ee-k'>type:</span><span class='ee-v'>Feature</span></li><li><span class='ee-k'>id:</span><span class='ee-v'>8</span></li><li><label class='ee-shut'>geometry: Point (-74.45, 0.65)<input type='checkbox' class='ee-toggle'></label><ul><li><span class='ee-k'>type:</span><span class='ee-v'>Point</span></li><li><label class='ee-shut'>coordinates: [-74.450397, 0.654402]<input type='checkbox' class='ee-toggle'></label><ul><li><span class='ee-k'>0:</span><span class='ee-v'>-74.450397</span></li><li><span class='ee-k'>1:</span><span class='ee-v'>0.654402</span></li></ul></li></ul></li><li><label class='ee-shut'>properties: Object (1 property)<input type='checkbox' class='ee-toggle'></label><ul><li><span class='ee-k'>zona:</span><span class='ee-v'>1</span></li></ul></li></ul></li><li><label class='ee-shut'>9: Feature (Point, 1 property)<input type='checkbox' class='ee-toggle'></label><ul><li><span class='ee-k'>type:</span><span class='ee-v'>Feature</span></li><li><span class='ee-k'>id:</span><span class='ee-v'>9</span></li><li><label class='ee-shut'>geometry: Point (-74.45, 0.66)<input type='checkbox' class='ee-toggle'></label><ul><li><span class='ee-k'>type:</span><span class='ee-v'>Point</span></li><li><label class='ee-shut'>coordinates: [-74.449775, 0.657449]<input type='checkbox' class='ee-toggle'></label><ul><li><span class='ee-k'>0:</span><span class='ee-v'>-74.449775</span></li><li><span class='ee-k'>1:</span><span class='ee-v'>0.657449</span></li></ul></li></ul></li><li><label class='ee-shut'>properties: Object (1 property)<input type='checkbox' class='ee-toggle'></label><ul><li><span class='ee-k'>zona:</span><span class='ee-v'>1</span></li></ul></li></ul></li></ul></li></ul></li></ul></div><script>function toggleHeader() {\n",
       "    const parent = this.parentElement;\n",
       "    parent.className = parent.className === \"ee-open\" ? \"ee-shut\" : \"ee-open\";\n",
       "}\n",
       "\n",
       "for (let c of document.getElementsByClassName(\"ee-toggle\")) {\n",
       "    c.onclick = toggleHeader;\n",
       "}</script></div>"
      ],
      "text/plain": [
       "<ee.featurecollection.FeatureCollection at 0x238b2137140>"
      ]
     },
     "execution_count": 23,
     "metadata": {},
     "output_type": "execute_result"
    }
   ],
   "source": [
    "PuntoEntrenamiento"
   ]
  },
  {
   "cell_type": "code",
   "execution_count": 47,
   "id": "1df8696e",
   "metadata": {},
   "outputs": [
    {
     "data": {
      "text/html": [
       "\n",
       "            <style>\n",
       "                .geemap-dark {\n",
       "                    --jp-widgets-color: white;\n",
       "                    --jp-widgets-label-color: white;\n",
       "                    --jp-ui-font-color1: white;\n",
       "                    --jp-layout-color2: #454545;\n",
       "                    background-color: #383838;\n",
       "                }\n",
       "                    \n",
       "                .geemap-dark .jupyter-button {\n",
       "                    --jp-layout-color3: #383838;\n",
       "                }\n",
       "                \n",
       "                .geemap-colab {\n",
       "                    background-color: var(--colab-primary-surface-color, white);\n",
       "                }\n",
       "                    \n",
       "                .geemap-colab .jupyter-button {\n",
       "                    --jp-layout-color3: var(--colab-primary-surface-color, white);\n",
       "                }\n",
       "            </style>\n",
       "            "
      ],
      "text/plain": [
       "<IPython.core.display.HTML object>"
      ]
     },
     "metadata": {},
     "output_type": "display_data"
    }
   ],
   "source": [
    "Muestraentrenamiento = LS2022.select(bandas).sampleRegions(\n",
    "    **{'collection': PuntoEntrenamiento, 'properties': [etiqueta], 'scale': 30}\n",
    ")"
   ]
  },
  {
   "cell_type": "code",
   "execution_count": 48,
   "id": "c836e04f",
   "metadata": {},
   "outputs": [
    {
     "data": {
      "text/html": [
       "\n",
       "            <style>\n",
       "                .geemap-dark {\n",
       "                    --jp-widgets-color: white;\n",
       "                    --jp-widgets-label-color: white;\n",
       "                    --jp-ui-font-color1: white;\n",
       "                    --jp-layout-color2: #454545;\n",
       "                    background-color: #383838;\n",
       "                }\n",
       "                    \n",
       "                .geemap-dark .jupyter-button {\n",
       "                    --jp-layout-color3: #383838;\n",
       "                }\n",
       "                \n",
       "                .geemap-colab {\n",
       "                    background-color: var(--colab-primary-surface-color, white);\n",
       "                }\n",
       "                    \n",
       "                .geemap-colab .jupyter-button {\n",
       "                    --jp-layout-color3: var(--colab-primary-surface-color, white);\n",
       "                }\n",
       "            </style>\n",
       "            "
      ],
      "text/plain": [
       "<IPython.core.display.HTML object>"
      ]
     },
     "metadata": {},
     "output_type": "display_data"
    },
    {
     "name": "stdout",
     "output_type": "stream",
     "text": [
      "{'type': 'Feature', 'geometry': None, 'id': '0_0', 'properties': {'NDVI': 0.2577095329761505, 'SR_B1': 8795.533333333333, 'SR_B2': 9097.533333333333, 'SR_B3': 10177.533333333333, 'SR_B4': 10443, 'SR_B5': 17828.533333333333, 'SR_B6': 17785.133333333335, 'SR_B7': 13246.2, 'zona': 0}}\n"
     ]
    }
   ],
   "source": [
    "print(Muestraentrenamiento.first().getInfo())"
   ]
  },
  {
   "cell_type": "code",
   "execution_count": 49,
   "id": "9bbf1c12",
   "metadata": {},
   "outputs": [
    {
     "data": {
      "text/html": [
       "\n",
       "            <style>\n",
       "                .geemap-dark {\n",
       "                    --jp-widgets-color: white;\n",
       "                    --jp-widgets-label-color: white;\n",
       "                    --jp-ui-font-color1: white;\n",
       "                    --jp-layout-color2: #454545;\n",
       "                    background-color: #383838;\n",
       "                }\n",
       "                    \n",
       "                .geemap-dark .jupyter-button {\n",
       "                    --jp-layout-color3: #383838;\n",
       "                }\n",
       "                \n",
       "                .geemap-colab {\n",
       "                    background-color: var(--colab-primary-surface-color, white);\n",
       "                }\n",
       "                    \n",
       "                .geemap-colab .jupyter-button {\n",
       "                    --jp-layout-color3: var(--colab-primary-surface-color, white);\n",
       "                }\n",
       "            </style>\n",
       "            "
      ],
      "text/plain": [
       "<IPython.core.display.HTML object>"
      ]
     },
     "metadata": {},
     "output_type": "display_data"
    }
   ],
   "source": [
    "#Vamos a tomar una muestra de cada clase de los puntos de entrenamiento que creamos\n",
    "\n",
    "muestra = Muestraentrenamiento.randomColumn() #Entre más puntos de entrenamiento tengamos es mejor"
   ]
  },
  {
   "cell_type": "code",
   "execution_count": 50,
   "id": "dcc7cec5",
   "metadata": {},
   "outputs": [
    {
     "data": {
      "text/html": [
       "\n",
       "            <style>\n",
       "                .geemap-dark {\n",
       "                    --jp-widgets-color: white;\n",
       "                    --jp-widgets-label-color: white;\n",
       "                    --jp-ui-font-color1: white;\n",
       "                    --jp-layout-color2: #454545;\n",
       "                    background-color: #383838;\n",
       "                }\n",
       "                    \n",
       "                .geemap-dark .jupyter-button {\n",
       "                    --jp-layout-color3: #383838;\n",
       "                }\n",
       "                \n",
       "                .geemap-colab {\n",
       "                    background-color: var(--colab-primary-surface-color, white);\n",
       "                }\n",
       "                    \n",
       "                .geemap-colab .jupyter-button {\n",
       "                    --jp-layout-color3: var(--colab-primary-surface-color, white);\n",
       "                }\n",
       "            </style>\n",
       "            "
      ],
      "text/plain": [
       "<IPython.core.display.HTML object>"
      ]
     },
     "metadata": {},
     "output_type": "display_data"
    }
   ],
   "source": [
    "muestraEntrenamiento = muestra.filter('random <= 0.8') #Tomamos el 80% de los datos para entrenar el modelo"
   ]
  },
  {
   "cell_type": "code",
   "execution_count": 51,
   "id": "60e7e693",
   "metadata": {},
   "outputs": [
    {
     "data": {
      "text/html": [
       "\n",
       "            <style>\n",
       "                .geemap-dark {\n",
       "                    --jp-widgets-color: white;\n",
       "                    --jp-widgets-label-color: white;\n",
       "                    --jp-ui-font-color1: white;\n",
       "                    --jp-layout-color2: #454545;\n",
       "                    background-color: #383838;\n",
       "                }\n",
       "                    \n",
       "                .geemap-dark .jupyter-button {\n",
       "                    --jp-layout-color3: #383838;\n",
       "                }\n",
       "                \n",
       "                .geemap-colab {\n",
       "                    background-color: var(--colab-primary-surface-color, white);\n",
       "                }\n",
       "                    \n",
       "                .geemap-colab .jupyter-button {\n",
       "                    --jp-layout-color3: var(--colab-primary-surface-color, white);\n",
       "                }\n",
       "            </style>\n",
       "            "
      ],
      "text/plain": [
       "<IPython.core.display.HTML object>"
      ]
     },
     "metadata": {},
     "output_type": "display_data"
    }
   ],
   "source": [
    "muestraValidacion = muestra.filter('random > 0.8') #Tomamos el 20% de los datos para validar el modelo"
   ]
  },
  {
   "cell_type": "code",
   "execution_count": 52,
   "id": "55df1ef7",
   "metadata": {},
   "outputs": [
    {
     "data": {
      "text/html": [
       "\n",
       "            <style>\n",
       "                .geemap-dark {\n",
       "                    --jp-widgets-color: white;\n",
       "                    --jp-widgets-label-color: white;\n",
       "                    --jp-ui-font-color1: white;\n",
       "                    --jp-layout-color2: #454545;\n",
       "                    background-color: #383838;\n",
       "                }\n",
       "                    \n",
       "                .geemap-dark .jupyter-button {\n",
       "                    --jp-layout-color3: #383838;\n",
       "                }\n",
       "                \n",
       "                .geemap-colab {\n",
       "                    background-color: var(--colab-primary-surface-color, white);\n",
       "                }\n",
       "                    \n",
       "                .geemap-colab .jupyter-button {\n",
       "                    --jp-layout-color3: var(--colab-primary-surface-color, white);\n",
       "                }\n",
       "            </style>\n",
       "            "
      ],
      "text/plain": [
       "<IPython.core.display.HTML object>"
      ]
     },
     "metadata": {},
     "output_type": "display_data"
    },
    {
     "data": {
      "text/html": [
       "<div><style>:root {\n",
       "  --font-color-primary: var(--jp-content-font-color0, rgba(0, 0, 0, 1));\n",
       "  --font-color-secondary: var(--jp-content-font-color2, rgba(0, 0, 0, 0.6));\n",
       "  --font-color-accent: rgba(123, 31, 162, 1);\n",
       "  --border-color: var(--jp-border-color2, #e0e0e0);\n",
       "  --background-color: var(--jp-layout-color0, white);\n",
       "  --background-color-row-even: var(--jp-layout-color1, white);\n",
       "  --background-color-row-odd: var(--jp-layout-color2, #eeeeee);\n",
       "}\n",
       "\n",
       "html[theme=\"dark\"],\n",
       "body[data-theme=\"dark\"],\n",
       "body.vscode-dark {\n",
       "  --font-color-primary: rgba(255, 255, 255, 1);\n",
       "  --font-color-secondary: rgba(255, 255, 255, 0.6);\n",
       "  --font-color-accent: rgb(173, 132, 190);\n",
       "  --border-color: #2e2e2e;\n",
       "  --background-color: #111111;\n",
       "  --background-color-row-even: #111111;\n",
       "  --background-color-row-odd: #313131;\n",
       "}\n",
       "\n",
       ".ee {\n",
       "  padding: 1em;\n",
       "  line-height: 1.5em;\n",
       "  min-width: 300px;\n",
       "  max-width: 1200px;\n",
       "  overflow-y: scroll;\n",
       "  max-height: 600px;\n",
       "  border: 1px solid var(--border-color);\n",
       "  font-family: monospace;\n",
       "}\n",
       "\n",
       ".ee li {\n",
       "  list-style-type: none;\n",
       "}\n",
       "\n",
       ".ee ul {\n",
       "  padding-left: 1.5em !important;\n",
       "  margin: 0;\n",
       "}\n",
       "\n",
       ".ee > ul {\n",
       "  padding-left: 0 !important;\n",
       "}\n",
       "\n",
       ".ee-open,\n",
       ".ee-shut {\n",
       "  color: var(--font-color-secondary);\n",
       "  cursor: pointer;\n",
       "  margin: 0;\n",
       "}\n",
       "\n",
       ".ee-open:hover,\n",
       ".ee-shut:hover {\n",
       "  color: var(--font-color-primary);\n",
       "}\n",
       "\n",
       ".ee-k {\n",
       "  color: var(--font-color-accent);\n",
       "  margin-right: 6px;\n",
       "}\n",
       "\n",
       ".ee-v {\n",
       "  color: var(--font-color-primary);\n",
       "}\n",
       "\n",
       ".ee-toggle {\n",
       "  display: none;\n",
       "}\n",
       "\n",
       ".ee-shut + ul {\n",
       "  display: none;\n",
       "}\n",
       "\n",
       ".ee-open + ul {\n",
       "  display: block;\n",
       "}\n",
       "\n",
       ".ee-shut::before {\n",
       "  display: inline-block;\n",
       "  content: \"▼\";\n",
       "  margin-right: 6px;\n",
       "  transform: rotate(-90deg);\n",
       "  transition: transform 0.2s;\n",
       "}\n",
       "\n",
       ".ee-open::before {\n",
       "  transform: rotate(0deg);\n",
       "  display: inline-block;\n",
       "  content: \"▼\";\n",
       "  margin-right: 6px;\n",
       "  transition: transform 0.2s;\n",
       "}\n",
       "</style><div class='ee'><ul><li><label class='ee-shut'>FeatureCollection (8 elements, 1 column)<input type='checkbox' class='ee-toggle'></label><ul><li><span class='ee-k'>type:</span><span class='ee-v'>FeatureCollection</span></li><li><label class='ee-shut'>columns: Object (1 property)<input type='checkbox' class='ee-toggle'></label><ul><li><span class='ee-k'>random:</span><span class='ee-v'><any></span></li></ul></li><li><label class='ee-shut'>features: List (8 elements)<input type='checkbox' class='ee-toggle'></label><ul><li><label class='ee-shut'>0: Feature (10 properties)<input type='checkbox' class='ee-toggle'></label><ul><li><span class='ee-k'>type:</span><span class='ee-v'>Feature</span></li><li><span class='ee-k'>id:</span><span class='ee-v'>1_0</span></li><li><span class='ee-k'>geometry:</span><span class='ee-v'>None</span></li><li><label class='ee-shut'>properties: Object (10 properties)<input type='checkbox' class='ee-toggle'></label><ul><li><span class='ee-k'>NDVI:</span><span class='ee-v'>0.25027477741241455</span></li><li><span class='ee-k'>SR_B1:</span><span class='ee-v'>8835.4</span></li><li><span class='ee-k'>SR_B2:</span><span class='ee-v'>9153.466666666667</span></li><li><span class='ee-k'>SR_B3:</span><span class='ee-v'>10226.6</span></li><li><span class='ee-k'>SR_B4:</span><span class='ee-v'>10585.266666666666</span></li><li><span class='ee-k'>SR_B5:</span><span class='ee-v'>17694.333333333332</span></li><li><span class='ee-k'>SR_B6:</span><span class='ee-v'>18436.333333333332</span></li><li><span class='ee-k'>SR_B7:</span><span class='ee-v'>13660.6</span></li><li><span class='ee-k'>random:</span><span class='ee-v'>0.30894004732487534</span></li><li><span class='ee-k'>zona:</span><span class='ee-v'>0</span></li></ul></li></ul></li><li><label class='ee-shut'>1: Feature (10 properties)<input type='checkbox' class='ee-toggle'></label><ul><li><span class='ee-k'>type:</span><span class='ee-v'>Feature</span></li><li><span class='ee-k'>id:</span><span class='ee-v'>2_0</span></li><li><span class='ee-k'>geometry:</span><span class='ee-v'>None</span></li><li><label class='ee-shut'>properties: Object (10 properties)<input type='checkbox' class='ee-toggle'></label><ul><li><span class='ee-k'>NDVI:</span><span class='ee-v'>0.270461767911911</span></li><li><span class='ee-k'>SR_B1:</span><span class='ee-v'>8726.866666666667</span></li><li><span class='ee-k'>SR_B2:</span><span class='ee-v'>9000</span></li><li><span class='ee-k'>SR_B3:</span><span class='ee-v'>10110.6</span></li><li><span class='ee-k'>SR_B4:</span><span class='ee-v'>10251.066666666668</span></li><li><span class='ee-k'>SR_B5:</span><span class='ee-v'>18015.266666666666</span></li><li><span class='ee-k'>SR_B6:</span><span class='ee-v'>17263.866666666665</span></li><li><span class='ee-k'>SR_B7:</span><span class='ee-v'>12825.266666666666</span></li><li><span class='ee-k'>random:</span><span class='ee-v'>0.1840193252825958</span></li><li><span class='ee-k'>zona:</span><span class='ee-v'>0</span></li></ul></li></ul></li><li><label class='ee-shut'>2: Feature (10 properties)<input type='checkbox' class='ee-toggle'></label><ul><li><span class='ee-k'>type:</span><span class='ee-v'>Feature</span></li><li><span class='ee-k'>id:</span><span class='ee-v'>3_0</span></li><li><span class='ee-k'>geometry:</span><span class='ee-v'>None</span></li><li><label class='ee-shut'>properties: Object (10 properties)<input type='checkbox' class='ee-toggle'></label><ul><li><span class='ee-k'>NDVI:</span><span class='ee-v'>0.23474323749542236</span></li><li><span class='ee-k'>SR_B1:</span><span class='ee-v'>9096.92857142857</span></li><li><span class='ee-k'>SR_B2:</span><span class='ee-v'>9375.92857142857</span></li><li><span class='ee-k'>SR_B3:</span><span class='ee-v'>10354.857142857143</span></li><li><span class='ee-k'>SR_B4:</span><span class='ee-v'>10795.92857142857</span></li><li><span class='ee-k'>SR_B5:</span><span class='ee-v'>17585.85714285714</span></li><li><span class='ee-k'>SR_B6:</span><span class='ee-v'>19147.428571428572</span></li><li><span class='ee-k'>SR_B7:</span><span class='ee-v'>14341.92857142857</span></li><li><span class='ee-k'>random:</span><span class='ee-v'>0.6321610021560121</span></li><li><span class='ee-k'>zona:</span><span class='ee-v'>0</span></li></ul></li></ul></li><li><label class='ee-shut'>3: Feature (10 properties)<input type='checkbox' class='ee-toggle'></label><ul><li><span class='ee-k'>type:</span><span class='ee-v'>Feature</span></li><li><span class='ee-k'>id:</span><span class='ee-v'>5_0</span></li><li><span class='ee-k'>geometry:</span><span class='ee-v'>None</span></li><li><label class='ee-shut'>properties: Object (10 properties)<input type='checkbox' class='ee-toggle'></label><ul><li><span class='ee-k'>NDVI:</span><span class='ee-v'>0.41353413462638855</span></li><li><span class='ee-k'>SR_B1:</span><span class='ee-v'>7858.266666666666</span></li><li><span class='ee-k'>SR_B2:</span><span class='ee-v'>7986.733333333334</span></li><li><span class='ee-k'>SR_B3:</span><span class='ee-v'>8867.333333333334</span></li><li><span class='ee-k'>SR_B4:</span><span class='ee-v'>8211.866666666667</span></li><li><span class='ee-k'>SR_B5:</span><span class='ee-v'>19968.066666666666</span></li><li><span class='ee-k'>SR_B6:</span><span class='ee-v'>12602.866666666667</span></li><li><span class='ee-k'>SR_B7:</span><span class='ee-v'>9285.933333333332</span></li><li><span class='ee-k'>random:</span><span class='ee-v'>0.7591030060201918</span></li><li><span class='ee-k'>zona:</span><span class='ee-v'>1</span></li></ul></li></ul></li><li><label class='ee-shut'>4: Feature (10 properties)<input type='checkbox' class='ee-toggle'></label><ul><li><span class='ee-k'>type:</span><span class='ee-v'>Feature</span></li><li><span class='ee-k'>id:</span><span class='ee-v'>6_0</span></li><li><span class='ee-k'>geometry:</span><span class='ee-v'>None</span></li><li><label class='ee-shut'>properties: Object (10 properties)<input type='checkbox' class='ee-toggle'></label><ul><li><span class='ee-k'>NDVI:</span><span class='ee-v'>0.42320409417152405</span></li><li><span class='ee-k'>SR_B1:</span><span class='ee-v'>7679.333333333333</span></li><li><span class='ee-k'>SR_B2:</span><span class='ee-v'>8095.333333333333</span></li><li><span class='ee-k'>SR_B3:</span><span class='ee-v'>9423.8</span></li><li><span class='ee-k'>SR_B4:</span><span class='ee-v'>8714.733333333334</span></li><li><span class='ee-k'>SR_B5:</span><span class='ee-v'>21501.266666666666</span></li><li><span class='ee-k'>SR_B6:</span><span class='ee-v'>13514.933333333332</span></li><li><span class='ee-k'>SR_B7:</span><span class='ee-v'>9871.8</span></li><li><span class='ee-k'>random:</span><span class='ee-v'>0.7987686623207384</span></li><li><span class='ee-k'>zona:</span><span class='ee-v'>1</span></li></ul></li></ul></li><li><label class='ee-shut'>5: Feature (10 properties)<input type='checkbox' class='ee-toggle'></label><ul><li><span class='ee-k'>type:</span><span class='ee-v'>Feature</span></li><li><span class='ee-k'>id:</span><span class='ee-v'>7_0</span></li><li><span class='ee-k'>geometry:</span><span class='ee-v'>None</span></li><li><label class='ee-shut'>properties: Object (10 properties)<input type='checkbox' class='ee-toggle'></label><ul><li><span class='ee-k'>NDVI:</span><span class='ee-v'>0.43726733326911926</span></li><li><span class='ee-k'>SR_B1:</span><span class='ee-v'>7969.466666666666</span></li><li><span class='ee-k'>SR_B2:</span><span class='ee-v'>8086.933333333333</span></li><li><span class='ee-k'>SR_B3:</span><span class='ee-v'>9011</span></li><li><span class='ee-k'>SR_B4:</span><span class='ee-v'>8298.933333333332</span></li><li><span class='ee-k'>SR_B5:</span><span class='ee-v'>21266.333333333332</span></li><li><span class='ee-k'>SR_B6:</span><span class='ee-v'>13073.8</span></li><li><span class='ee-k'>SR_B7:</span><span class='ee-v'>9490.933333333332</span></li><li><span class='ee-k'>random:</span><span class='ee-v'>0.7944119306323835</span></li><li><span class='ee-k'>zona:</span><span class='ee-v'>1</span></li></ul></li></ul></li><li><label class='ee-shut'>6: Feature (10 properties)<input type='checkbox' class='ee-toggle'></label><ul><li><span class='ee-k'>type:</span><span class='ee-v'>Feature</span></li><li><span class='ee-k'>id:</span><span class='ee-v'>8_0</span></li><li><span class='ee-k'>geometry:</span><span class='ee-v'>None</span></li><li><label class='ee-shut'>properties: Object (10 properties)<input type='checkbox' class='ee-toggle'></label><ul><li><span class='ee-k'>NDVI:</span><span class='ee-v'>0.4240695834159851</span></li><li><span class='ee-k'>SR_B1:</span><span class='ee-v'>7934.642857142857</span></li><li><span class='ee-k'>SR_B2:</span><span class='ee-v'>8013.071428571428</span></li><li><span class='ee-k'>SR_B3:</span><span class='ee-v'>8749.857142857143</span></li><li><span class='ee-k'>SR_B4:</span><span class='ee-v'>8141.142857142857</span></li><li><span class='ee-k'>SR_B5:</span><span class='ee-v'>20191.214285714286</span></li><li><span class='ee-k'>SR_B6:</span><span class='ee-v'>12646.92857142857</span></li><li><span class='ee-k'>SR_B7:</span><span class='ee-v'>9281.714285714286</span></li><li><span class='ee-k'>random:</span><span class='ee-v'>0.04954860067857192</span></li><li><span class='ee-k'>zona:</span><span class='ee-v'>1</span></li></ul></li></ul></li><li><label class='ee-shut'>7: Feature (10 properties)<input type='checkbox' class='ee-toggle'></label><ul><li><span class='ee-k'>type:</span><span class='ee-v'>Feature</span></li><li><span class='ee-k'>id:</span><span class='ee-v'>9_0</span></li><li><span class='ee-k'>geometry:</span><span class='ee-v'>None</span></li><li><label class='ee-shut'>properties: Object (10 properties)<input type='checkbox' class='ee-toggle'></label><ul><li><span class='ee-k'>NDVI:</span><span class='ee-v'>0.4299037456512451</span></li><li><span class='ee-k'>SR_B1:</span><span class='ee-v'>7949.357142857143</span></li><li><span class='ee-k'>SR_B2:</span><span class='ee-v'>8022.214285714285</span></li><li><span class='ee-k'>SR_B3:</span><span class='ee-v'>8787.285714285714</span></li><li><span class='ee-k'>SR_B4:</span><span class='ee-v'>8147.785714285715</span></li><li><span class='ee-k'>SR_B5:</span><span class='ee-v'>20514.428571428572</span></li><li><span class='ee-k'>SR_B6:</span><span class='ee-v'>12943.42857142857</span></li><li><span class='ee-k'>SR_B7:</span><span class='ee-v'>9354.57142857143</span></li><li><span class='ee-k'>random:</span><span class='ee-v'>0.3033452563827489</span></li><li><span class='ee-k'>zona:</span><span class='ee-v'>1</span></li></ul></li></ul></li></ul></li></ul></li></ul></div><script>function toggleHeader() {\n",
       "    const parent = this.parentElement;\n",
       "    parent.className = parent.className === \"ee-open\" ? \"ee-shut\" : \"ee-open\";\n",
       "}\n",
       "\n",
       "for (let c of document.getElementsByClassName(\"ee-toggle\")) {\n",
       "    c.onclick = toggleHeader;\n",
       "}</script></div>"
      ],
      "text/plain": [
       "<ee.featurecollection.FeatureCollection at 0x238b35b4da0>"
      ]
     },
     "execution_count": 52,
     "metadata": {},
     "output_type": "execute_result"
    }
   ],
   "source": [
    "muestraEntrenamiento"
   ]
  },
  {
   "cell_type": "code",
   "execution_count": 53,
   "id": "b31e2ae0",
   "metadata": {},
   "outputs": [
    {
     "data": {
      "text/html": [
       "\n",
       "            <style>\n",
       "                .geemap-dark {\n",
       "                    --jp-widgets-color: white;\n",
       "                    --jp-widgets-label-color: white;\n",
       "                    --jp-ui-font-color1: white;\n",
       "                    --jp-layout-color2: #454545;\n",
       "                    background-color: #383838;\n",
       "                }\n",
       "                    \n",
       "                .geemap-dark .jupyter-button {\n",
       "                    --jp-layout-color3: #383838;\n",
       "                }\n",
       "                \n",
       "                .geemap-colab {\n",
       "                    background-color: var(--colab-primary-surface-color, white);\n",
       "                }\n",
       "                    \n",
       "                .geemap-colab .jupyter-button {\n",
       "                    --jp-layout-color3: var(--colab-primary-surface-color, white);\n",
       "                }\n",
       "            </style>\n",
       "            "
      ],
      "text/plain": [
       "<IPython.core.display.HTML object>"
      ]
     },
     "metadata": {},
     "output_type": "display_data"
    },
    {
     "data": {
      "text/html": [
       "<div><style>:root {\n",
       "  --font-color-primary: var(--jp-content-font-color0, rgba(0, 0, 0, 1));\n",
       "  --font-color-secondary: var(--jp-content-font-color2, rgba(0, 0, 0, 0.6));\n",
       "  --font-color-accent: rgba(123, 31, 162, 1);\n",
       "  --border-color: var(--jp-border-color2, #e0e0e0);\n",
       "  --background-color: var(--jp-layout-color0, white);\n",
       "  --background-color-row-even: var(--jp-layout-color1, white);\n",
       "  --background-color-row-odd: var(--jp-layout-color2, #eeeeee);\n",
       "}\n",
       "\n",
       "html[theme=\"dark\"],\n",
       "body[data-theme=\"dark\"],\n",
       "body.vscode-dark {\n",
       "  --font-color-primary: rgba(255, 255, 255, 1);\n",
       "  --font-color-secondary: rgba(255, 255, 255, 0.6);\n",
       "  --font-color-accent: rgb(173, 132, 190);\n",
       "  --border-color: #2e2e2e;\n",
       "  --background-color: #111111;\n",
       "  --background-color-row-even: #111111;\n",
       "  --background-color-row-odd: #313131;\n",
       "}\n",
       "\n",
       ".ee {\n",
       "  padding: 1em;\n",
       "  line-height: 1.5em;\n",
       "  min-width: 300px;\n",
       "  max-width: 1200px;\n",
       "  overflow-y: scroll;\n",
       "  max-height: 600px;\n",
       "  border: 1px solid var(--border-color);\n",
       "  font-family: monospace;\n",
       "}\n",
       "\n",
       ".ee li {\n",
       "  list-style-type: none;\n",
       "}\n",
       "\n",
       ".ee ul {\n",
       "  padding-left: 1.5em !important;\n",
       "  margin: 0;\n",
       "}\n",
       "\n",
       ".ee > ul {\n",
       "  padding-left: 0 !important;\n",
       "}\n",
       "\n",
       ".ee-open,\n",
       ".ee-shut {\n",
       "  color: var(--font-color-secondary);\n",
       "  cursor: pointer;\n",
       "  margin: 0;\n",
       "}\n",
       "\n",
       ".ee-open:hover,\n",
       ".ee-shut:hover {\n",
       "  color: var(--font-color-primary);\n",
       "}\n",
       "\n",
       ".ee-k {\n",
       "  color: var(--font-color-accent);\n",
       "  margin-right: 6px;\n",
       "}\n",
       "\n",
       ".ee-v {\n",
       "  color: var(--font-color-primary);\n",
       "}\n",
       "\n",
       ".ee-toggle {\n",
       "  display: none;\n",
       "}\n",
       "\n",
       ".ee-shut + ul {\n",
       "  display: none;\n",
       "}\n",
       "\n",
       ".ee-open + ul {\n",
       "  display: block;\n",
       "}\n",
       "\n",
       ".ee-shut::before {\n",
       "  display: inline-block;\n",
       "  content: \"▼\";\n",
       "  margin-right: 6px;\n",
       "  transform: rotate(-90deg);\n",
       "  transition: transform 0.2s;\n",
       "}\n",
       "\n",
       ".ee-open::before {\n",
       "  transform: rotate(0deg);\n",
       "  display: inline-block;\n",
       "  content: \"▼\";\n",
       "  margin-right: 6px;\n",
       "  transition: transform 0.2s;\n",
       "}\n",
       "</style><div class='ee'><ul><li><label class='ee-shut'>FeatureCollection (2 elements, 1 column)<input type='checkbox' class='ee-toggle'></label><ul><li><span class='ee-k'>type:</span><span class='ee-v'>FeatureCollection</span></li><li><label class='ee-shut'>columns: Object (1 property)<input type='checkbox' class='ee-toggle'></label><ul><li><span class='ee-k'>random:</span><span class='ee-v'><any></span></li></ul></li><li><label class='ee-shut'>features: List (2 elements)<input type='checkbox' class='ee-toggle'></label><ul><li><label class='ee-shut'>0: Feature (10 properties)<input type='checkbox' class='ee-toggle'></label><ul><li><span class='ee-k'>type:</span><span class='ee-v'>Feature</span></li><li><span class='ee-k'>id:</span><span class='ee-v'>0_0</span></li><li><span class='ee-k'>geometry:</span><span class='ee-v'>None</span></li><li><label class='ee-shut'>properties: Object (10 properties)<input type='checkbox' class='ee-toggle'></label><ul><li><span class='ee-k'>NDVI:</span><span class='ee-v'>0.2577095329761505</span></li><li><span class='ee-k'>SR_B1:</span><span class='ee-v'>8795.533333333333</span></li><li><span class='ee-k'>SR_B2:</span><span class='ee-v'>9097.533333333333</span></li><li><span class='ee-k'>SR_B3:</span><span class='ee-v'>10177.533333333333</span></li><li><span class='ee-k'>SR_B4:</span><span class='ee-v'>10443</span></li><li><span class='ee-k'>SR_B5:</span><span class='ee-v'>17828.533333333333</span></li><li><span class='ee-k'>SR_B6:</span><span class='ee-v'>17785.133333333335</span></li><li><span class='ee-k'>SR_B7:</span><span class='ee-v'>13246.2</span></li><li><span class='ee-k'>random:</span><span class='ee-v'>0.8957651433713898</span></li><li><span class='ee-k'>zona:</span><span class='ee-v'>0</span></li></ul></li></ul></li><li><label class='ee-shut'>1: Feature (10 properties)<input type='checkbox' class='ee-toggle'></label><ul><li><span class='ee-k'>type:</span><span class='ee-v'>Feature</span></li><li><span class='ee-k'>id:</span><span class='ee-v'>4_0</span></li><li><span class='ee-k'>geometry:</span><span class='ee-v'>None</span></li><li><label class='ee-shut'>properties: Object (10 properties)<input type='checkbox' class='ee-toggle'></label><ul><li><span class='ee-k'>NDVI:</span><span class='ee-v'>0.2621449828147888</span></li><li><span class='ee-k'>SR_B1:</span><span class='ee-v'>8871.066666666668</span></li><li><span class='ee-k'>SR_B2:</span><span class='ee-v'>9151.533333333333</span></li><li><span class='ee-k'>SR_B3:</span><span class='ee-v'>10209.266666666666</span></li><li><span class='ee-k'>SR_B4:</span><span class='ee-v'>10443.333333333334</span></li><li><span class='ee-k'>SR_B5:</span><span class='ee-v'>17986.866666666665</span></li><li><span class='ee-k'>SR_B6:</span><span class='ee-v'>18095.933333333334</span></li><li><span class='ee-k'>SR_B7:</span><span class='ee-v'>13414.066666666668</span></li><li><span class='ee-k'>random:</span><span class='ee-v'>0.8410224303799018</span></li><li><span class='ee-k'>zona:</span><span class='ee-v'>0</span></li></ul></li></ul></li></ul></li></ul></li></ul></div><script>function toggleHeader() {\n",
       "    const parent = this.parentElement;\n",
       "    parent.className = parent.className === \"ee-open\" ? \"ee-shut\" : \"ee-open\";\n",
       "}\n",
       "\n",
       "for (let c of document.getElementsByClassName(\"ee-toggle\")) {\n",
       "    c.onclick = toggleHeader;\n",
       "}</script></div>"
      ],
      "text/plain": [
       "<ee.featurecollection.FeatureCollection at 0x238b363d0a0>"
      ]
     },
     "execution_count": 53,
     "metadata": {},
     "output_type": "execute_result"
    }
   ],
   "source": [
    "muestraValidacion"
   ]
  },
  {
   "cell_type": "code",
   "execution_count": 54,
   "id": "2b356588",
   "metadata": {},
   "outputs": [
    {
     "data": {
      "text/html": [
       "\n",
       "            <style>\n",
       "                .geemap-dark {\n",
       "                    --jp-widgets-color: white;\n",
       "                    --jp-widgets-label-color: white;\n",
       "                    --jp-ui-font-color1: white;\n",
       "                    --jp-layout-color2: #454545;\n",
       "                    background-color: #383838;\n",
       "                }\n",
       "                    \n",
       "                .geemap-dark .jupyter-button {\n",
       "                    --jp-layout-color3: #383838;\n",
       "                }\n",
       "                \n",
       "                .geemap-colab {\n",
       "                    background-color: var(--colab-primary-surface-color, white);\n",
       "                }\n",
       "                    \n",
       "                .geemap-colab .jupyter-button {\n",
       "                    --jp-layout-color3: var(--colab-primary-surface-color, white);\n",
       "                }\n",
       "            </style>\n",
       "            "
      ],
      "text/plain": [
       "<IPython.core.display.HTML object>"
      ]
     },
     "metadata": {},
     "output_type": "display_data"
    }
   ],
   "source": [
    "# Entrenar el clasificador con 10 árboles\n",
    "\n",
    "EntrenamientoRF = ee.Classifier.smileRandomForest(**{\"numberOfTrees\":10}).train(muestraEntrenamiento,etiqueta,bandas)"
   ]
  },
  {
   "cell_type": "code",
   "execution_count": 55,
   "id": "808d9534",
   "metadata": {},
   "outputs": [
    {
     "data": {
      "text/html": [
       "\n",
       "            <style>\n",
       "                .geemap-dark {\n",
       "                    --jp-widgets-color: white;\n",
       "                    --jp-widgets-label-color: white;\n",
       "                    --jp-ui-font-color1: white;\n",
       "                    --jp-layout-color2: #454545;\n",
       "                    background-color: #383838;\n",
       "                }\n",
       "                    \n",
       "                .geemap-dark .jupyter-button {\n",
       "                    --jp-layout-color3: #383838;\n",
       "                }\n",
       "                \n",
       "                .geemap-colab {\n",
       "                    background-color: var(--colab-primary-surface-color, white);\n",
       "                }\n",
       "                    \n",
       "                .geemap-colab .jupyter-button {\n",
       "                    --jp-layout-color3: var(--colab-primary-surface-color, white);\n",
       "                }\n",
       "            </style>\n",
       "            "
      ],
      "text/plain": [
       "<IPython.core.display.HTML object>"
      ]
     },
     "metadata": {},
     "output_type": "display_data"
    },
    {
     "data": {
      "text/plain": [
       "'Resultados del entrenamiento'"
      ]
     },
     "metadata": {},
     "output_type": "display_data"
    },
    {
     "data": {
      "text/html": [
       "<div><style>:root {\n",
       "  --font-color-primary: var(--jp-content-font-color0, rgba(0, 0, 0, 1));\n",
       "  --font-color-secondary: var(--jp-content-font-color2, rgba(0, 0, 0, 0.6));\n",
       "  --font-color-accent: rgba(123, 31, 162, 1);\n",
       "  --border-color: var(--jp-border-color2, #e0e0e0);\n",
       "  --background-color: var(--jp-layout-color0, white);\n",
       "  --background-color-row-even: var(--jp-layout-color1, white);\n",
       "  --background-color-row-odd: var(--jp-layout-color2, #eeeeee);\n",
       "}\n",
       "\n",
       "html[theme=\"dark\"],\n",
       "body[data-theme=\"dark\"],\n",
       "body.vscode-dark {\n",
       "  --font-color-primary: rgba(255, 255, 255, 1);\n",
       "  --font-color-secondary: rgba(255, 255, 255, 0.6);\n",
       "  --font-color-accent: rgb(173, 132, 190);\n",
       "  --border-color: #2e2e2e;\n",
       "  --background-color: #111111;\n",
       "  --background-color-row-even: #111111;\n",
       "  --background-color-row-odd: #313131;\n",
       "}\n",
       "\n",
       ".ee {\n",
       "  padding: 1em;\n",
       "  line-height: 1.5em;\n",
       "  min-width: 300px;\n",
       "  max-width: 1200px;\n",
       "  overflow-y: scroll;\n",
       "  max-height: 600px;\n",
       "  border: 1px solid var(--border-color);\n",
       "  font-family: monospace;\n",
       "}\n",
       "\n",
       ".ee li {\n",
       "  list-style-type: none;\n",
       "}\n",
       "\n",
       ".ee ul {\n",
       "  padding-left: 1.5em !important;\n",
       "  margin: 0;\n",
       "}\n",
       "\n",
       ".ee > ul {\n",
       "  padding-left: 0 !important;\n",
       "}\n",
       "\n",
       ".ee-open,\n",
       ".ee-shut {\n",
       "  color: var(--font-color-secondary);\n",
       "  cursor: pointer;\n",
       "  margin: 0;\n",
       "}\n",
       "\n",
       ".ee-open:hover,\n",
       ".ee-shut:hover {\n",
       "  color: var(--font-color-primary);\n",
       "}\n",
       "\n",
       ".ee-k {\n",
       "  color: var(--font-color-accent);\n",
       "  margin-right: 6px;\n",
       "}\n",
       "\n",
       ".ee-v {\n",
       "  color: var(--font-color-primary);\n",
       "}\n",
       "\n",
       ".ee-toggle {\n",
       "  display: none;\n",
       "}\n",
       "\n",
       ".ee-shut + ul {\n",
       "  display: none;\n",
       "}\n",
       "\n",
       ".ee-open + ul {\n",
       "  display: block;\n",
       "}\n",
       "\n",
       ".ee-shut::before {\n",
       "  display: inline-block;\n",
       "  content: \"▼\";\n",
       "  margin-right: 6px;\n",
       "  transform: rotate(-90deg);\n",
       "  transition: transform 0.2s;\n",
       "}\n",
       "\n",
       ".ee-open::before {\n",
       "  transform: rotate(0deg);\n",
       "  display: inline-block;\n",
       "  content: \"▼\";\n",
       "  margin-right: 6px;\n",
       "  transition: transform 0.2s;\n",
       "}\n",
       "</style><div class='ee'><ul><li><label class='ee-shut'>Object (5 properties)<input type='checkbox' class='ee-toggle'></label><ul><li><label class='ee-shut'>classes: [0, 1]<input type='checkbox' class='ee-toggle'></label><ul><li><span class='ee-k'>0:</span><span class='ee-v'>0</span></li><li><span class='ee-k'>1:</span><span class='ee-v'>1</span></li></ul></li><li><label class='ee-shut'>importance: Object (8 properties)<input type='checkbox' class='ee-toggle'></label><ul><li><span class='ee-k'>NDVI:</span><span class='ee-v'>0.48</span></li><li><span class='ee-k'>SR_B1:</span><span class='ee-v'>0</span></li><li><span class='ee-k'>SR_B2:</span><span class='ee-v'>0.48</span></li><li><span class='ee-k'>SR_B3:</span><span class='ee-v'>0.48</span></li><li><span class='ee-k'>SR_B4:</span><span class='ee-v'>1.44</span></li><li><span class='ee-k'>SR_B5:</span><span class='ee-v'>0.48</span></li><li><span class='ee-k'>SR_B6:</span><span class='ee-v'>0.48</span></li><li><span class='ee-k'>SR_B7:</span><span class='ee-v'>0.96</span></li></ul></li><li><span class='ee-k'>numberOfTrees:</span><span class='ee-v'>10</span></li><li><span class='ee-k'>outOfBagErrorEstimate:</span><span class='ee-v'>0</span></li><li><label class='ee-shut'>trees: List (10 elements)<input type='checkbox' class='ee-toggle'></label><ul><li><span class='ee-k'>0:</span><span class='ee-v'>n= 5\n",
       "node), split, n, loss, yval, (yprob)\n",
       "* denotes terminal node\n",
       "1) root 5 2.4000 1 (0.42857 0.57143)\n",
       " 2) SR_B7<=11089.9 3 0.0000 1 (0.20000 0.80000) *\n",
       " 3) SR_B7>11089.9 2 0.0000 0 (0.75000 0.25000) *\n",
       "</span></li><li><span class='ee-k'>1:</span><span class='ee-v'>n= 5\n",
       "node), split, n, loss, yval, (yprob)\n",
       "* denotes terminal node\n",
       "1) root 5 2.4000 1 (0.42857 0.57143)\n",
       " 2) SR_B6<=15389.4 3 0.0000 1 (0.20000 0.80000) *\n",
       " 3) SR_B6>15389.4 2 0.0000 0 (0.75000 0.25000) *\n",
       "</span></li><li><span class='ee-k'>2:</span><span class='ee-v'>n= 5\n",
       "node), split, n, loss, yval, (yprob)\n",
       "* denotes terminal node\n",
       "1) root 5 2.4000 1 (0.42857 0.57143)\n",
       " 2) SR_B4<=9275.00 3 0.0000 1 (0.20000 0.80000) *\n",
       " 3) SR_B4>9275.00 2 0.0000 0 (0.75000 0.25000) *\n",
       "</span></li><li><span class='ee-k'>3:</span><span class='ee-v'>n= 5\n",
       "node), split, n, loss, yval, (yprob)\n",
       "* denotes terminal node\n",
       "1) root 5 2.4000 1 (0.42857 0.57143)\n",
       " 2) SR_B7<=11158.1 3 0.0000 1 (0.20000 0.80000) *\n",
       " 3) SR_B7>11158.1 2 0.0000 0 (0.75000 0.25000) *\n",
       "</span></li><li><span class='ee-k'>4:</span><span class='ee-v'>n= 5\n",
       "node), split, n, loss, yval, (yprob)\n",
       "* denotes terminal node\n",
       "1) root 5 2.4000 1 (0.42857 0.57143)\n",
       " 2) SR_B4<=9650.00 3 0.0000 1 (0.20000 0.80000) *\n",
       " 3) SR_B4>9650.00 2 0.0000 0 (0.75000 0.25000) *\n",
       "</span></li><li><span class='ee-k'>5:</span><span class='ee-v'>n= 5\n",
       "node), split, n, loss, yval, (yprob)\n",
       "* denotes terminal node\n",
       "1) root 5 2.4000 1 (0.42857 0.57143)\n",
       " 2) SR_B3<=9825.20 3 0.0000 1 (0.20000 0.80000) *\n",
       " 3) SR_B3>9825.20 2 0.0000 0 (0.75000 0.25000) *\n",
       "</span></li><li><span class='ee-k'>6:</span><span class='ee-v'>n= 5\n",
       "node), split, n, loss, yval, (yprob)\n",
       "* denotes terminal node\n",
       "1) root 5 2.4000 1 (0.42857 0.57143)\n",
       " 2) NDVI<=0.346833 2 0.0000 0 (0.75000 0.25000) *\n",
       " 3) NDVI>0.346833 3 0.0000 1 (0.20000 0.80000) *\n",
       "</span></li><li><span class='ee-k'>7:</span><span class='ee-v'>n= 5\n",
       "node), split, n, loss, yval, (yprob)\n",
       "* denotes terminal node\n",
       "1) root 5 2.4000 1 (0.42857 0.57143)\n",
       " 2) SR_B2<=8543.47 3 0.0000 1 (0.20000 0.80000) *\n",
       " 3) SR_B2>8543.47 2 0.0000 0 (0.75000 0.25000) *\n",
       "</span></li><li><span class='ee-k'>8:</span><span class='ee-v'>n= 5\n",
       "node), split, n, loss, yval, (yprob)\n",
       "* denotes terminal node\n",
       "1) root 5 2.4000 1 (0.42857 0.57143)\n",
       " 2) SR_B4<=9275.00 3 0.0000 1 (0.20000 0.80000) *\n",
       " 3) SR_B4>9275.00 2 0.0000 0 (0.75000 0.25000) *\n",
       "</span></li><li><span class='ee-k'>9:</span><span class='ee-v'>n= 5\n",
       "node), split, n, loss, yval, (yprob)\n",
       "* denotes terminal node\n",
       "1) root 5 2.4000 1 (0.42857 0.57143)\n",
       " 2) SR_B5<=18991.7 2 0.0000 0 (0.75000 0.25000) *\n",
       " 3) SR_B5>18991.7 3 0.0000 1 (0.20000 0.80000) *\n",
       "</span></li></ul></li></ul></li></ul></div><script>function toggleHeader() {\n",
       "    const parent = this.parentElement;\n",
       "    parent.className = parent.className === \"ee-open\" ? \"ee-shut\" : \"ee-open\";\n",
       "}\n",
       "\n",
       "for (let c of document.getElementsByClassName(\"ee-toggle\")) {\n",
       "    c.onclick = toggleHeader;\n",
       "}</script></div>"
      ],
      "text/plain": [
       "<ee.dictionary.Dictionary at 0x238b363f560>"
      ]
     },
     "metadata": {},
     "output_type": "display_data"
    }
   ],
   "source": [
    "#Proyectamos los resultados del entrenamiento para el modelo RF\n",
    "\n",
    "display('Resultados del entrenamiento', EntrenamientoRF.explain())"
   ]
  },
  {
   "cell_type": "code",
   "execution_count": 56,
   "id": "85414d3a",
   "metadata": {},
   "outputs": [
    {
     "data": {
      "text/html": [
       "\n",
       "            <style>\n",
       "                .geemap-dark {\n",
       "                    --jp-widgets-color: white;\n",
       "                    --jp-widgets-label-color: white;\n",
       "                    --jp-ui-font-color1: white;\n",
       "                    --jp-layout-color2: #454545;\n",
       "                    background-color: #383838;\n",
       "                }\n",
       "                    \n",
       "                .geemap-dark .jupyter-button {\n",
       "                    --jp-layout-color3: #383838;\n",
       "                }\n",
       "                \n",
       "                .geemap-colab {\n",
       "                    background-color: var(--colab-primary-surface-color, white);\n",
       "                }\n",
       "                    \n",
       "                .geemap-colab .jupyter-button {\n",
       "                    --jp-layout-color3: var(--colab-primary-surface-color, white);\n",
       "                }\n",
       "            </style>\n",
       "            "
      ],
      "text/plain": [
       "<IPython.core.display.HTML object>"
      ]
     },
     "metadata": {},
     "output_type": "display_data"
    }
   ],
   "source": [
    "#Matriz de confusión del entrenamiento\n",
    "\n",
    "exactitudEntrenamiento = EntrenamientoRF.confusionMatrix()"
   ]
  },
  {
   "cell_type": "code",
   "execution_count": 57,
   "id": "be4cab16",
   "metadata": {},
   "outputs": [
    {
     "data": {
      "text/html": [
       "\n",
       "            <style>\n",
       "                .geemap-dark {\n",
       "                    --jp-widgets-color: white;\n",
       "                    --jp-widgets-label-color: white;\n",
       "                    --jp-ui-font-color1: white;\n",
       "                    --jp-layout-color2: #454545;\n",
       "                    background-color: #383838;\n",
       "                }\n",
       "                    \n",
       "                .geemap-dark .jupyter-button {\n",
       "                    --jp-layout-color3: #383838;\n",
       "                }\n",
       "                \n",
       "                .geemap-colab {\n",
       "                    background-color: var(--colab-primary-surface-color, white);\n",
       "                }\n",
       "                    \n",
       "                .geemap-colab .jupyter-button {\n",
       "                    --jp-layout-color3: var(--colab-primary-surface-color, white);\n",
       "                }\n",
       "            </style>\n",
       "            "
      ],
      "text/plain": [
       "<IPython.core.display.HTML object>"
      ]
     },
     "metadata": {},
     "output_type": "display_data"
    },
    {
     "data": {
      "text/plain": [
       "'Matriz de confusión del entrenamiento'"
      ]
     },
     "metadata": {},
     "output_type": "display_data"
    },
    {
     "data": {
      "text/html": [
       "<div><style>:root {\n",
       "  --font-color-primary: var(--jp-content-font-color0, rgba(0, 0, 0, 1));\n",
       "  --font-color-secondary: var(--jp-content-font-color2, rgba(0, 0, 0, 0.6));\n",
       "  --font-color-accent: rgba(123, 31, 162, 1);\n",
       "  --border-color: var(--jp-border-color2, #e0e0e0);\n",
       "  --background-color: var(--jp-layout-color0, white);\n",
       "  --background-color-row-even: var(--jp-layout-color1, white);\n",
       "  --background-color-row-odd: var(--jp-layout-color2, #eeeeee);\n",
       "}\n",
       "\n",
       "html[theme=\"dark\"],\n",
       "body[data-theme=\"dark\"],\n",
       "body.vscode-dark {\n",
       "  --font-color-primary: rgba(255, 255, 255, 1);\n",
       "  --font-color-secondary: rgba(255, 255, 255, 0.6);\n",
       "  --font-color-accent: rgb(173, 132, 190);\n",
       "  --border-color: #2e2e2e;\n",
       "  --background-color: #111111;\n",
       "  --background-color-row-even: #111111;\n",
       "  --background-color-row-odd: #313131;\n",
       "}\n",
       "\n",
       ".ee {\n",
       "  padding: 1em;\n",
       "  line-height: 1.5em;\n",
       "  min-width: 300px;\n",
       "  max-width: 1200px;\n",
       "  overflow-y: scroll;\n",
       "  max-height: 600px;\n",
       "  border: 1px solid var(--border-color);\n",
       "  font-family: monospace;\n",
       "}\n",
       "\n",
       ".ee li {\n",
       "  list-style-type: none;\n",
       "}\n",
       "\n",
       ".ee ul {\n",
       "  padding-left: 1.5em !important;\n",
       "  margin: 0;\n",
       "}\n",
       "\n",
       ".ee > ul {\n",
       "  padding-left: 0 !important;\n",
       "}\n",
       "\n",
       ".ee-open,\n",
       ".ee-shut {\n",
       "  color: var(--font-color-secondary);\n",
       "  cursor: pointer;\n",
       "  margin: 0;\n",
       "}\n",
       "\n",
       ".ee-open:hover,\n",
       ".ee-shut:hover {\n",
       "  color: var(--font-color-primary);\n",
       "}\n",
       "\n",
       ".ee-k {\n",
       "  color: var(--font-color-accent);\n",
       "  margin-right: 6px;\n",
       "}\n",
       "\n",
       ".ee-v {\n",
       "  color: var(--font-color-primary);\n",
       "}\n",
       "\n",
       ".ee-toggle {\n",
       "  display: none;\n",
       "}\n",
       "\n",
       ".ee-shut + ul {\n",
       "  display: none;\n",
       "}\n",
       "\n",
       ".ee-open + ul {\n",
       "  display: block;\n",
       "}\n",
       "\n",
       ".ee-shut::before {\n",
       "  display: inline-block;\n",
       "  content: \"▼\";\n",
       "  margin-right: 6px;\n",
       "  transform: rotate(-90deg);\n",
       "  transition: transform 0.2s;\n",
       "}\n",
       "\n",
       ".ee-open::before {\n",
       "  transform: rotate(0deg);\n",
       "  display: inline-block;\n",
       "  content: \"▼\";\n",
       "  margin-right: 6px;\n",
       "  transition: transform 0.2s;\n",
       "}\n",
       "</style><div class='ee'><ul><li><label class='ee-shut'>[[3, 0], [0, 5]]<input type='checkbox' class='ee-toggle'></label><ul><li><label class='ee-shut'>0: [3, 0]<input type='checkbox' class='ee-toggle'></label><ul><li><span class='ee-k'>0:</span><span class='ee-v'>3</span></li><li><span class='ee-k'>1:</span><span class='ee-v'>0</span></li></ul></li><li><label class='ee-shut'>1: [0, 5]<input type='checkbox' class='ee-toggle'></label><ul><li><span class='ee-k'>0:</span><span class='ee-v'>0</span></li><li><span class='ee-k'>1:</span><span class='ee-v'>5</span></li></ul></li></ul></li></ul></div><script>function toggleHeader() {\n",
       "    const parent = this.parentElement;\n",
       "    parent.className = parent.className === \"ee-open\" ? \"ee-shut\" : \"ee-open\";\n",
       "}\n",
       "\n",
       "for (let c of document.getElementsByClassName(\"ee-toggle\")) {\n",
       "    c.onclick = toggleHeader;\n",
       "}</script></div>"
      ],
      "text/plain": [
       "<ee.ConfusionMatrix at 0x238b363e750>"
      ]
     },
     "metadata": {},
     "output_type": "display_data"
    }
   ],
   "source": [
    "display('Matriz de confusión del entrenamiento', exactitudEntrenamiento)"
   ]
  },
  {
   "cell_type": "code",
   "execution_count": 58,
   "id": "9e609ac8",
   "metadata": {},
   "outputs": [
    {
     "data": {
      "text/html": [
       "\n",
       "            <style>\n",
       "                .geemap-dark {\n",
       "                    --jp-widgets-color: white;\n",
       "                    --jp-widgets-label-color: white;\n",
       "                    --jp-ui-font-color1: white;\n",
       "                    --jp-layout-color2: #454545;\n",
       "                    background-color: #383838;\n",
       "                }\n",
       "                    \n",
       "                .geemap-dark .jupyter-button {\n",
       "                    --jp-layout-color3: #383838;\n",
       "                }\n",
       "                \n",
       "                .geemap-colab {\n",
       "                    background-color: var(--colab-primary-surface-color, white);\n",
       "                }\n",
       "                    \n",
       "                .geemap-colab .jupyter-button {\n",
       "                    --jp-layout-color3: var(--colab-primary-surface-color, white);\n",
       "                }\n",
       "            </style>\n",
       "            "
      ],
      "text/plain": [
       "<IPython.core.display.HTML object>"
      ]
     },
     "metadata": {},
     "output_type": "display_data"
    },
    {
     "data": {
      "text/plain": [
       "'Exactitud global del entrenamiento'"
      ]
     },
     "metadata": {},
     "output_type": "display_data"
    },
    {
     "data": {
      "text/html": [
       "<div><style>:root {\n",
       "  --font-color-primary: var(--jp-content-font-color0, rgba(0, 0, 0, 1));\n",
       "  --font-color-secondary: var(--jp-content-font-color2, rgba(0, 0, 0, 0.6));\n",
       "  --font-color-accent: rgba(123, 31, 162, 1);\n",
       "  --border-color: var(--jp-border-color2, #e0e0e0);\n",
       "  --background-color: var(--jp-layout-color0, white);\n",
       "  --background-color-row-even: var(--jp-layout-color1, white);\n",
       "  --background-color-row-odd: var(--jp-layout-color2, #eeeeee);\n",
       "}\n",
       "\n",
       "html[theme=\"dark\"],\n",
       "body[data-theme=\"dark\"],\n",
       "body.vscode-dark {\n",
       "  --font-color-primary: rgba(255, 255, 255, 1);\n",
       "  --font-color-secondary: rgba(255, 255, 255, 0.6);\n",
       "  --font-color-accent: rgb(173, 132, 190);\n",
       "  --border-color: #2e2e2e;\n",
       "  --background-color: #111111;\n",
       "  --background-color-row-even: #111111;\n",
       "  --background-color-row-odd: #313131;\n",
       "}\n",
       "\n",
       ".ee {\n",
       "  padding: 1em;\n",
       "  line-height: 1.5em;\n",
       "  min-width: 300px;\n",
       "  max-width: 1200px;\n",
       "  overflow-y: scroll;\n",
       "  max-height: 600px;\n",
       "  border: 1px solid var(--border-color);\n",
       "  font-family: monospace;\n",
       "}\n",
       "\n",
       ".ee li {\n",
       "  list-style-type: none;\n",
       "}\n",
       "\n",
       ".ee ul {\n",
       "  padding-left: 1.5em !important;\n",
       "  margin: 0;\n",
       "}\n",
       "\n",
       ".ee > ul {\n",
       "  padding-left: 0 !important;\n",
       "}\n",
       "\n",
       ".ee-open,\n",
       ".ee-shut {\n",
       "  color: var(--font-color-secondary);\n",
       "  cursor: pointer;\n",
       "  margin: 0;\n",
       "}\n",
       "\n",
       ".ee-open:hover,\n",
       ".ee-shut:hover {\n",
       "  color: var(--font-color-primary);\n",
       "}\n",
       "\n",
       ".ee-k {\n",
       "  color: var(--font-color-accent);\n",
       "  margin-right: 6px;\n",
       "}\n",
       "\n",
       ".ee-v {\n",
       "  color: var(--font-color-primary);\n",
       "}\n",
       "\n",
       ".ee-toggle {\n",
       "  display: none;\n",
       "}\n",
       "\n",
       ".ee-shut + ul {\n",
       "  display: none;\n",
       "}\n",
       "\n",
       ".ee-open + ul {\n",
       "  display: block;\n",
       "}\n",
       "\n",
       ".ee-shut::before {\n",
       "  display: inline-block;\n",
       "  content: \"▼\";\n",
       "  margin-right: 6px;\n",
       "  transform: rotate(-90deg);\n",
       "  transition: transform 0.2s;\n",
       "}\n",
       "\n",
       ".ee-open::before {\n",
       "  transform: rotate(0deg);\n",
       "  display: inline-block;\n",
       "  content: \"▼\";\n",
       "  margin-right: 6px;\n",
       "  transition: transform 0.2s;\n",
       "}\n",
       "</style><div class='ee'><ul><li><span class='ee-v'>1</span></li></ul></div><script>function toggleHeader() {\n",
       "    const parent = this.parentElement;\n",
       "    parent.className = parent.className === \"ee-open\" ? \"ee-shut\" : \"ee-open\";\n",
       "}\n",
       "\n",
       "for (let c of document.getElementsByClassName(\"ee-toggle\")) {\n",
       "    c.onclick = toggleHeader;\n",
       "}</script></div>"
      ],
      "text/plain": [
       "<ee.ee_number.Number at 0x238b35cbdd0>"
      ]
     },
     "metadata": {},
     "output_type": "display_data"
    }
   ],
   "source": [
    "display('Exactitud global del entrenamiento', exactitudEntrenamiento.accuracy())"
   ]
  },
  {
   "cell_type": "code",
   "execution_count": 59,
   "id": "b7697bd2",
   "metadata": {},
   "outputs": [
    {
     "data": {
      "text/html": [
       "\n",
       "            <style>\n",
       "                .geemap-dark {\n",
       "                    --jp-widgets-color: white;\n",
       "                    --jp-widgets-label-color: white;\n",
       "                    --jp-ui-font-color1: white;\n",
       "                    --jp-layout-color2: #454545;\n",
       "                    background-color: #383838;\n",
       "                }\n",
       "                    \n",
       "                .geemap-dark .jupyter-button {\n",
       "                    --jp-layout-color3: #383838;\n",
       "                }\n",
       "                \n",
       "                .geemap-colab {\n",
       "                    background-color: var(--colab-primary-surface-color, white);\n",
       "                }\n",
       "                    \n",
       "                .geemap-colab .jupyter-button {\n",
       "                    --jp-layout-color3: var(--colab-primary-surface-color, white);\n",
       "                }\n",
       "            </style>\n",
       "            "
      ],
      "text/plain": [
       "<IPython.core.display.HTML object>"
      ]
     },
     "metadata": {},
     "output_type": "display_data"
    }
   ],
   "source": [
    "# Ahora vamos a realizar la validación, esto se hace ya con los datos entrenados\n",
    "\n",
    "validacionDeDatos = muestraValidacion.classify(EntrenamientoRF)"
   ]
  },
  {
   "cell_type": "code",
   "execution_count": 60,
   "id": "1a5f8065",
   "metadata": {},
   "outputs": [
    {
     "data": {
      "text/html": [
       "\n",
       "            <style>\n",
       "                .geemap-dark {\n",
       "                    --jp-widgets-color: white;\n",
       "                    --jp-widgets-label-color: white;\n",
       "                    --jp-ui-font-color1: white;\n",
       "                    --jp-layout-color2: #454545;\n",
       "                    background-color: #383838;\n",
       "                }\n",
       "                    \n",
       "                .geemap-dark .jupyter-button {\n",
       "                    --jp-layout-color3: #383838;\n",
       "                }\n",
       "                \n",
       "                .geemap-colab {\n",
       "                    background-color: var(--colab-primary-surface-color, white);\n",
       "                }\n",
       "                    \n",
       "                .geemap-colab .jupyter-button {\n",
       "                    --jp-layout-color3: var(--colab-primary-surface-color, white);\n",
       "                }\n",
       "            </style>\n",
       "            "
      ],
      "text/plain": [
       "<IPython.core.display.HTML object>"
      ]
     },
     "metadata": {},
     "output_type": "display_data"
    }
   ],
   "source": [
    "exactitudValidacion = validacionDeDatos.errorMatrix(etiqueta, 'classification')"
   ]
  },
  {
   "cell_type": "code",
   "execution_count": 61,
   "id": "f070780b",
   "metadata": {},
   "outputs": [
    {
     "data": {
      "text/html": [
       "\n",
       "            <style>\n",
       "                .geemap-dark {\n",
       "                    --jp-widgets-color: white;\n",
       "                    --jp-widgets-label-color: white;\n",
       "                    --jp-ui-font-color1: white;\n",
       "                    --jp-layout-color2: #454545;\n",
       "                    background-color: #383838;\n",
       "                }\n",
       "                    \n",
       "                .geemap-dark .jupyter-button {\n",
       "                    --jp-layout-color3: #383838;\n",
       "                }\n",
       "                \n",
       "                .geemap-colab {\n",
       "                    background-color: var(--colab-primary-surface-color, white);\n",
       "                }\n",
       "                    \n",
       "                .geemap-colab .jupyter-button {\n",
       "                    --jp-layout-color3: var(--colab-primary-surface-color, white);\n",
       "                }\n",
       "            </style>\n",
       "            "
      ],
      "text/plain": [
       "<IPython.core.display.HTML object>"
      ]
     },
     "metadata": {},
     "output_type": "display_data"
    },
    {
     "data": {
      "text/plain": [
       "'Matriz de confusión de la validacion'"
      ]
     },
     "metadata": {},
     "output_type": "display_data"
    },
    {
     "data": {
      "text/html": [
       "<div><style>:root {\n",
       "  --font-color-primary: var(--jp-content-font-color0, rgba(0, 0, 0, 1));\n",
       "  --font-color-secondary: var(--jp-content-font-color2, rgba(0, 0, 0, 0.6));\n",
       "  --font-color-accent: rgba(123, 31, 162, 1);\n",
       "  --border-color: var(--jp-border-color2, #e0e0e0);\n",
       "  --background-color: var(--jp-layout-color0, white);\n",
       "  --background-color-row-even: var(--jp-layout-color1, white);\n",
       "  --background-color-row-odd: var(--jp-layout-color2, #eeeeee);\n",
       "}\n",
       "\n",
       "html[theme=\"dark\"],\n",
       "body[data-theme=\"dark\"],\n",
       "body.vscode-dark {\n",
       "  --font-color-primary: rgba(255, 255, 255, 1);\n",
       "  --font-color-secondary: rgba(255, 255, 255, 0.6);\n",
       "  --font-color-accent: rgb(173, 132, 190);\n",
       "  --border-color: #2e2e2e;\n",
       "  --background-color: #111111;\n",
       "  --background-color-row-even: #111111;\n",
       "  --background-color-row-odd: #313131;\n",
       "}\n",
       "\n",
       ".ee {\n",
       "  padding: 1em;\n",
       "  line-height: 1.5em;\n",
       "  min-width: 300px;\n",
       "  max-width: 1200px;\n",
       "  overflow-y: scroll;\n",
       "  max-height: 600px;\n",
       "  border: 1px solid var(--border-color);\n",
       "  font-family: monospace;\n",
       "}\n",
       "\n",
       ".ee li {\n",
       "  list-style-type: none;\n",
       "}\n",
       "\n",
       ".ee ul {\n",
       "  padding-left: 1.5em !important;\n",
       "  margin: 0;\n",
       "}\n",
       "\n",
       ".ee > ul {\n",
       "  padding-left: 0 !important;\n",
       "}\n",
       "\n",
       ".ee-open,\n",
       ".ee-shut {\n",
       "  color: var(--font-color-secondary);\n",
       "  cursor: pointer;\n",
       "  margin: 0;\n",
       "}\n",
       "\n",
       ".ee-open:hover,\n",
       ".ee-shut:hover {\n",
       "  color: var(--font-color-primary);\n",
       "}\n",
       "\n",
       ".ee-k {\n",
       "  color: var(--font-color-accent);\n",
       "  margin-right: 6px;\n",
       "}\n",
       "\n",
       ".ee-v {\n",
       "  color: var(--font-color-primary);\n",
       "}\n",
       "\n",
       ".ee-toggle {\n",
       "  display: none;\n",
       "}\n",
       "\n",
       ".ee-shut + ul {\n",
       "  display: none;\n",
       "}\n",
       "\n",
       ".ee-open + ul {\n",
       "  display: block;\n",
       "}\n",
       "\n",
       ".ee-shut::before {\n",
       "  display: inline-block;\n",
       "  content: \"▼\";\n",
       "  margin-right: 6px;\n",
       "  transform: rotate(-90deg);\n",
       "  transition: transform 0.2s;\n",
       "}\n",
       "\n",
       ".ee-open::before {\n",
       "  transform: rotate(0deg);\n",
       "  display: inline-block;\n",
       "  content: \"▼\";\n",
       "  margin-right: 6px;\n",
       "  transition: transform 0.2s;\n",
       "}\n",
       "</style><div class='ee'><ul><li><label class='ee-shut'>[[2]]<input type='checkbox' class='ee-toggle'></label><ul><li><label class='ee-shut'>0: [2]<input type='checkbox' class='ee-toggle'></label><ul><li><span class='ee-k'>0:</span><span class='ee-v'>2</span></li></ul></li></ul></li></ul></div><script>function toggleHeader() {\n",
       "    const parent = this.parentElement;\n",
       "    parent.className = parent.className === \"ee-open\" ? \"ee-shut\" : \"ee-open\";\n",
       "}\n",
       "\n",
       "for (let c of document.getElementsByClassName(\"ee-toggle\")) {\n",
       "    c.onclick = toggleHeader;\n",
       "}</script></div>"
      ],
      "text/plain": [
       "<ee.ConfusionMatrix at 0x238b35995e0>"
      ]
     },
     "metadata": {},
     "output_type": "display_data"
    }
   ],
   "source": [
    "display('Matriz de confusión de la validacion', exactitudValidacion)"
   ]
  },
  {
   "cell_type": "code",
   "execution_count": 62,
   "id": "e4871ddb",
   "metadata": {},
   "outputs": [
    {
     "data": {
      "text/html": [
       "\n",
       "            <style>\n",
       "                .geemap-dark {\n",
       "                    --jp-widgets-color: white;\n",
       "                    --jp-widgets-label-color: white;\n",
       "                    --jp-ui-font-color1: white;\n",
       "                    --jp-layout-color2: #454545;\n",
       "                    background-color: #383838;\n",
       "                }\n",
       "                    \n",
       "                .geemap-dark .jupyter-button {\n",
       "                    --jp-layout-color3: #383838;\n",
       "                }\n",
       "                \n",
       "                .geemap-colab {\n",
       "                    background-color: var(--colab-primary-surface-color, white);\n",
       "                }\n",
       "                    \n",
       "                .geemap-colab .jupyter-button {\n",
       "                    --jp-layout-color3: var(--colab-primary-surface-color, white);\n",
       "                }\n",
       "            </style>\n",
       "            "
      ],
      "text/plain": [
       "<IPython.core.display.HTML object>"
      ]
     },
     "metadata": {},
     "output_type": "display_data"
    },
    {
     "data": {
      "text/plain": [
       "'Exactitud de la validación'"
      ]
     },
     "metadata": {},
     "output_type": "display_data"
    },
    {
     "data": {
      "text/html": [
       "<div><style>:root {\n",
       "  --font-color-primary: var(--jp-content-font-color0, rgba(0, 0, 0, 1));\n",
       "  --font-color-secondary: var(--jp-content-font-color2, rgba(0, 0, 0, 0.6));\n",
       "  --font-color-accent: rgba(123, 31, 162, 1);\n",
       "  --border-color: var(--jp-border-color2, #e0e0e0);\n",
       "  --background-color: var(--jp-layout-color0, white);\n",
       "  --background-color-row-even: var(--jp-layout-color1, white);\n",
       "  --background-color-row-odd: var(--jp-layout-color2, #eeeeee);\n",
       "}\n",
       "\n",
       "html[theme=\"dark\"],\n",
       "body[data-theme=\"dark\"],\n",
       "body.vscode-dark {\n",
       "  --font-color-primary: rgba(255, 255, 255, 1);\n",
       "  --font-color-secondary: rgba(255, 255, 255, 0.6);\n",
       "  --font-color-accent: rgb(173, 132, 190);\n",
       "  --border-color: #2e2e2e;\n",
       "  --background-color: #111111;\n",
       "  --background-color-row-even: #111111;\n",
       "  --background-color-row-odd: #313131;\n",
       "}\n",
       "\n",
       ".ee {\n",
       "  padding: 1em;\n",
       "  line-height: 1.5em;\n",
       "  min-width: 300px;\n",
       "  max-width: 1200px;\n",
       "  overflow-y: scroll;\n",
       "  max-height: 600px;\n",
       "  border: 1px solid var(--border-color);\n",
       "  font-family: monospace;\n",
       "}\n",
       "\n",
       ".ee li {\n",
       "  list-style-type: none;\n",
       "}\n",
       "\n",
       ".ee ul {\n",
       "  padding-left: 1.5em !important;\n",
       "  margin: 0;\n",
       "}\n",
       "\n",
       ".ee > ul {\n",
       "  padding-left: 0 !important;\n",
       "}\n",
       "\n",
       ".ee-open,\n",
       ".ee-shut {\n",
       "  color: var(--font-color-secondary);\n",
       "  cursor: pointer;\n",
       "  margin: 0;\n",
       "}\n",
       "\n",
       ".ee-open:hover,\n",
       ".ee-shut:hover {\n",
       "  color: var(--font-color-primary);\n",
       "}\n",
       "\n",
       ".ee-k {\n",
       "  color: var(--font-color-accent);\n",
       "  margin-right: 6px;\n",
       "}\n",
       "\n",
       ".ee-v {\n",
       "  color: var(--font-color-primary);\n",
       "}\n",
       "\n",
       ".ee-toggle {\n",
       "  display: none;\n",
       "}\n",
       "\n",
       ".ee-shut + ul {\n",
       "  display: none;\n",
       "}\n",
       "\n",
       ".ee-open + ul {\n",
       "  display: block;\n",
       "}\n",
       "\n",
       ".ee-shut::before {\n",
       "  display: inline-block;\n",
       "  content: \"▼\";\n",
       "  margin-right: 6px;\n",
       "  transform: rotate(-90deg);\n",
       "  transition: transform 0.2s;\n",
       "}\n",
       "\n",
       ".ee-open::before {\n",
       "  transform: rotate(0deg);\n",
       "  display: inline-block;\n",
       "  content: \"▼\";\n",
       "  margin-right: 6px;\n",
       "  transition: transform 0.2s;\n",
       "}\n",
       "</style><div class='ee'><ul><li><span class='ee-v'>1</span></li></ul></div><script>function toggleHeader() {\n",
       "    const parent = this.parentElement;\n",
       "    parent.className = parent.className === \"ee-open\" ? \"ee-shut\" : \"ee-open\";\n",
       "}\n",
       "\n",
       "for (let c of document.getElementsByClassName(\"ee-toggle\")) {\n",
       "    c.onclick = toggleHeader;\n",
       "}</script></div>"
      ],
      "text/plain": [
       "<ee.ee_number.Number at 0x238b363e960>"
      ]
     },
     "metadata": {},
     "output_type": "display_data"
    }
   ],
   "source": [
    "display('Exactitud de la validación', exactitudValidacion.accuracy())"
   ]
  },
  {
   "cell_type": "code",
   "execution_count": 65,
   "id": "879349ba",
   "metadata": {},
   "outputs": [
    {
     "data": {
      "text/html": [
       "\n",
       "            <style>\n",
       "                .geemap-dark {\n",
       "                    --jp-widgets-color: white;\n",
       "                    --jp-widgets-label-color: white;\n",
       "                    --jp-ui-font-color1: white;\n",
       "                    --jp-layout-color2: #454545;\n",
       "                    background-color: #383838;\n",
       "                }\n",
       "                    \n",
       "                .geemap-dark .jupyter-button {\n",
       "                    --jp-layout-color3: #383838;\n",
       "                }\n",
       "                \n",
       "                .geemap-colab {\n",
       "                    background-color: var(--colab-primary-surface-color, white);\n",
       "                }\n",
       "                    \n",
       "                .geemap-colab .jupyter-button {\n",
       "                    --jp-layout-color3: var(--colab-primary-surface-color, white);\n",
       "                }\n",
       "            </style>\n",
       "            "
      ],
      "text/plain": [
       "<IPython.core.display.HTML object>"
      ]
     },
     "metadata": {},
     "output_type": "display_data"
    }
   ],
   "source": [
    "#Vamos a clasificar nuevamente nuestra imagen\n",
    "\n",
    "img_clasificada_2014 = LS2022.select(bandas).classify(EntrenamientoRF)"
   ]
  },
  {
   "cell_type": "code",
   "execution_count": 66,
   "id": "7ba3c235",
   "metadata": {},
   "outputs": [
    {
     "data": {
      "text/html": [
       "\n",
       "            <style>\n",
       "                .geemap-dark {\n",
       "                    --jp-widgets-color: white;\n",
       "                    --jp-widgets-label-color: white;\n",
       "                    --jp-ui-font-color1: white;\n",
       "                    --jp-layout-color2: #454545;\n",
       "                    background-color: #383838;\n",
       "                }\n",
       "                    \n",
       "                .geemap-dark .jupyter-button {\n",
       "                    --jp-layout-color3: #383838;\n",
       "                }\n",
       "                \n",
       "                .geemap-colab {\n",
       "                    background-color: var(--colab-primary-surface-color, white);\n",
       "                }\n",
       "                    \n",
       "                .geemap-colab .jupyter-button {\n",
       "                    --jp-layout-color3: var(--colab-primary-surface-color, white);\n",
       "                }\n",
       "            </style>\n",
       "            "
      ],
      "text/plain": [
       "<IPython.core.display.HTML object>"
      ]
     },
     "metadata": {},
     "output_type": "display_data"
    },
    {
     "data": {
      "text/html": [
       "<div><style>:root {\n",
       "  --font-color-primary: var(--jp-content-font-color0, rgba(0, 0, 0, 1));\n",
       "  --font-color-secondary: var(--jp-content-font-color2, rgba(0, 0, 0, 0.6));\n",
       "  --font-color-accent: rgba(123, 31, 162, 1);\n",
       "  --border-color: var(--jp-border-color2, #e0e0e0);\n",
       "  --background-color: var(--jp-layout-color0, white);\n",
       "  --background-color-row-even: var(--jp-layout-color1, white);\n",
       "  --background-color-row-odd: var(--jp-layout-color2, #eeeeee);\n",
       "}\n",
       "\n",
       "html[theme=\"dark\"],\n",
       "body[data-theme=\"dark\"],\n",
       "body.vscode-dark {\n",
       "  --font-color-primary: rgba(255, 255, 255, 1);\n",
       "  --font-color-secondary: rgba(255, 255, 255, 0.6);\n",
       "  --font-color-accent: rgb(173, 132, 190);\n",
       "  --border-color: #2e2e2e;\n",
       "  --background-color: #111111;\n",
       "  --background-color-row-even: #111111;\n",
       "  --background-color-row-odd: #313131;\n",
       "}\n",
       "\n",
       ".ee {\n",
       "  padding: 1em;\n",
       "  line-height: 1.5em;\n",
       "  min-width: 300px;\n",
       "  max-width: 1200px;\n",
       "  overflow-y: scroll;\n",
       "  max-height: 600px;\n",
       "  border: 1px solid var(--border-color);\n",
       "  font-family: monospace;\n",
       "}\n",
       "\n",
       ".ee li {\n",
       "  list-style-type: none;\n",
       "}\n",
       "\n",
       ".ee ul {\n",
       "  padding-left: 1.5em !important;\n",
       "  margin: 0;\n",
       "}\n",
       "\n",
       ".ee > ul {\n",
       "  padding-left: 0 !important;\n",
       "}\n",
       "\n",
       ".ee-open,\n",
       ".ee-shut {\n",
       "  color: var(--font-color-secondary);\n",
       "  cursor: pointer;\n",
       "  margin: 0;\n",
       "}\n",
       "\n",
       ".ee-open:hover,\n",
       ".ee-shut:hover {\n",
       "  color: var(--font-color-primary);\n",
       "}\n",
       "\n",
       ".ee-k {\n",
       "  color: var(--font-color-accent);\n",
       "  margin-right: 6px;\n",
       "}\n",
       "\n",
       ".ee-v {\n",
       "  color: var(--font-color-primary);\n",
       "}\n",
       "\n",
       ".ee-toggle {\n",
       "  display: none;\n",
       "}\n",
       "\n",
       ".ee-shut + ul {\n",
       "  display: none;\n",
       "}\n",
       "\n",
       ".ee-open + ul {\n",
       "  display: block;\n",
       "}\n",
       "\n",
       ".ee-shut::before {\n",
       "  display: inline-block;\n",
       "  content: \"▼\";\n",
       "  margin-right: 6px;\n",
       "  transform: rotate(-90deg);\n",
       "  transition: transform 0.2s;\n",
       "}\n",
       "\n",
       ".ee-open::before {\n",
       "  transform: rotate(0deg);\n",
       "  display: inline-block;\n",
       "  content: \"▼\";\n",
       "  margin-right: 6px;\n",
       "  transition: transform 0.2s;\n",
       "}\n",
       "</style><div class='ee'><ul><li><label class='ee-shut'>Image (1 band)<input type='checkbox' class='ee-toggle'></label><ul><li><span class='ee-k'>type:</span><span class='ee-v'>Image</span></li><li><label class='ee-shut'>bands: List (1 element)<input type='checkbox' class='ee-toggle'></label><ul><li><label class='ee-shut'>0: \"classification\", signed int32, EPSG:4326<input type='checkbox' class='ee-toggle'></label><ul><li><span class='ee-k'>id:</span><span class='ee-v'>classification</span></li><li><span class='ee-k'>crs:</span><span class='ee-v'>EPSG:4326</span></li><li><label class='ee-shut'>crs_transform: [1, 0, 0, 0, 1, 0]<input type='checkbox' class='ee-toggle'></label><ul><li><span class='ee-k'>0:</span><span class='ee-v'>1</span></li><li><span class='ee-k'>1:</span><span class='ee-v'>0</span></li><li><span class='ee-k'>2:</span><span class='ee-v'>0</span></li><li><span class='ee-k'>3:</span><span class='ee-v'>0</span></li><li><span class='ee-k'>4:</span><span class='ee-v'>1</span></li><li><span class='ee-k'>5:</span><span class='ee-v'>0</span></li></ul></li><li><label class='ee-shut'>data_type: signed int32<input type='checkbox' class='ee-toggle'></label><ul><li><span class='ee-k'>type:</span><span class='ee-v'>PixelType</span></li><li><span class='ee-k'>max:</span><span class='ee-v'>2147483647</span></li><li><span class='ee-k'>min:</span><span class='ee-v'>-2147483648</span></li><li><span class='ee-k'>precision:</span><span class='ee-v'>int</span></li></ul></li></ul></li></ul></li></ul></li></ul></div><script>function toggleHeader() {\n",
       "    const parent = this.parentElement;\n",
       "    parent.className = parent.className === \"ee-open\" ? \"ee-shut\" : \"ee-open\";\n",
       "}\n",
       "\n",
       "for (let c of document.getElementsByClassName(\"ee-toggle\")) {\n",
       "    c.onclick = toggleHeader;\n",
       "}</script></div>"
      ],
      "text/plain": [
       "<ee.image.Image at 0x238b363c320>"
      ]
     },
     "execution_count": 66,
     "metadata": {},
     "output_type": "execute_result"
    }
   ],
   "source": [
    "img_clasificada_2014"
   ]
  },
  {
   "cell_type": "code",
   "execution_count": 67,
   "id": "8ca8c080",
   "metadata": {},
   "outputs": [
    {
     "data": {
      "text/html": [
       "\n",
       "            <style>\n",
       "                .geemap-dark {\n",
       "                    --jp-widgets-color: white;\n",
       "                    --jp-widgets-label-color: white;\n",
       "                    --jp-ui-font-color1: white;\n",
       "                    --jp-layout-color2: #454545;\n",
       "                    background-color: #383838;\n",
       "                }\n",
       "                    \n",
       "                .geemap-dark .jupyter-button {\n",
       "                    --jp-layout-color3: #383838;\n",
       "                }\n",
       "                \n",
       "                .geemap-colab {\n",
       "                    background-color: var(--colab-primary-surface-color, white);\n",
       "                }\n",
       "                    \n",
       "                .geemap-colab .jupyter-button {\n",
       "                    --jp-layout-color3: var(--colab-primary-surface-color, white);\n",
       "                }\n",
       "            </style>\n",
       "            "
      ],
      "text/plain": [
       "<IPython.core.display.HTML object>"
      ]
     },
     "metadata": {},
     "output_type": "display_data"
    }
   ],
   "source": [
    "Map.addLayer(img_clasificada_2014.select(\"classification\"), {}, 'coverturas 2014 segunda prueba')"
   ]
  },
  {
   "cell_type": "code",
   "execution_count": 68,
   "id": "aae7404f",
   "metadata": {},
   "outputs": [
    {
     "data": {
      "text/html": [
       "\n",
       "            <style>\n",
       "                .geemap-dark {\n",
       "                    --jp-widgets-color: white;\n",
       "                    --jp-widgets-label-color: white;\n",
       "                    --jp-ui-font-color1: white;\n",
       "                    --jp-layout-color2: #454545;\n",
       "                    background-color: #383838;\n",
       "                }\n",
       "                    \n",
       "                .geemap-dark .jupyter-button {\n",
       "                    --jp-layout-color3: #383838;\n",
       "                }\n",
       "                \n",
       "                .geemap-colab {\n",
       "                    background-color: var(--colab-primary-surface-color, white);\n",
       "                }\n",
       "                    \n",
       "                .geemap-colab .jupyter-button {\n",
       "                    --jp-layout-color3: var(--colab-primary-surface-color, white);\n",
       "                }\n",
       "            </style>\n",
       "            "
      ],
      "text/plain": [
       "<IPython.core.display.HTML object>"
      ]
     },
     "metadata": {},
     "output_type": "display_data"
    },
    {
     "data": {
      "application/vnd.jupyter.widget-view+json": {
       "model_id": "6727576889d54faa8bbcf41f6e2faa1a",
       "version_major": 2,
       "version_minor": 0
      },
      "text/plain": [
       "Map(bottom=261315.0, center=[0.7751991265755049, -74.34551239013673], controls=(WidgetControl(options=['positi…"
      ]
     },
     "execution_count": 68,
     "metadata": {},
     "output_type": "execute_result"
    }
   ],
   "source": [
    "Map"
   ]
  },
  {
   "cell_type": "code",
   "execution_count": 69,
   "id": "13c6a288",
   "metadata": {},
   "outputs": [
    {
     "data": {
      "text/html": [
       "\n",
       "            <style>\n",
       "                .geemap-dark {\n",
       "                    --jp-widgets-color: white;\n",
       "                    --jp-widgets-label-color: white;\n",
       "                    --jp-ui-font-color1: white;\n",
       "                    --jp-layout-color2: #454545;\n",
       "                    background-color: #383838;\n",
       "                }\n",
       "                    \n",
       "                .geemap-dark .jupyter-button {\n",
       "                    --jp-layout-color3: #383838;\n",
       "                }\n",
       "                \n",
       "                .geemap-colab {\n",
       "                    background-color: var(--colab-primary-surface-color, white);\n",
       "                }\n",
       "                    \n",
       "                .geemap-colab .jupyter-button {\n",
       "                    --jp-layout-color3: var(--colab-primary-surface-color, white);\n",
       "                }\n",
       "            </style>\n",
       "            "
      ],
      "text/plain": [
       "<IPython.core.display.HTML object>"
      ]
     },
     "metadata": {},
     "output_type": "display_data"
    },
    {
     "name": "stdout",
     "output_type": "stream",
     "text": [
      "Generating URL ...\n",
      "Downloading data from https://earthengine.googleapis.com/v1/projects/earthengine-legacy/thumbnails/8f0e8212a0104095ee296380da2dc712-5372e63daa469ac0976647ac301e4510:getPixels\n",
      "Please wait ...\n",
      "Data downloaded to c:\\Users\\ingju\\OneDrive\\Documentos\\GitHub\\MGITG\\GeoAI\\Análisis_Nevados\\GeoAI\\Cobertura2022.tif\n"
     ]
    }
   ],
   "source": [
    "geemap.ee_export_image(img_clasificada_2014,\"Cobertura2022.tif\",scale=30,crs=None,crs_transform=None,region=ee.Geometry.Polygon([\n",
    "    [[-74.481355,0.932196],\n",
    "    [-74.481355,0.631389],\n",
    "    [-74.412,0.631389],\n",
    "    [-74.412,0.932196]]\n",
    "]),dimensions=None,file_per_band=False,)"
   ]
  },
  {
   "attachments": {
    "image.png": {
     "image/png": "[encoded data removed]"
    }
   },
   "cell_type": "markdown",
   "id": "81dc4cc7",
   "metadata": {},
   "source": [
    "![image.png](attachment:image.png)"
   ]
  },
  {
   "attachments": {
    "image.png": {
     "image/png": "[encoded data removed]"
    }
   },
   "cell_type": "markdown",
   "id": "21540465",
   "metadata": {},
   "source": [
    "![image.png](attachment:image.png)"
   ]
  }
 ],
 "metadata": {
  "kernelspec": {
   "display_name": "Python 3 (ipykernel)",
   "language": "python",
   "name": "python3"
  },
  "language_info": {
   "codemirror_mode": {
    "name": "ipython",
    "version": 3
   },
   "file_extension": ".py",
   "mimetype": "text/x-python",
   "name": "python",
   "nbconvert_exporter": "python",
   "pygments_lexer": "ipython3",
   "version": "3.12.0"
  }
 },
 "nbformat": 4,
 "nbformat_minor": 5
}
