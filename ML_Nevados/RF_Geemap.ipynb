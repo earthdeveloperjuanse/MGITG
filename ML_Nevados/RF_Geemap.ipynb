{
 "cells": [
  {
   "cell_type": "markdown",
   "id": "6f41f99e",
   "metadata": {},
   "source": [
    "<h3> Análisis de migración de la margen de hielo en Nevados de Colombia 2000 - 2022 </h3>\n",
    "<p><strong>Nombre: </strong> Juan Sebastián Hernández Santana </p>\n",
    "<p><strong>Fecha: </strong> 06 de Enero de 2024 </p>"
   ]
  },
  {
   "cell_type": "code",
   "execution_count": 27,
   "id": "c857587f",
   "metadata": {},
   "outputs": [
    {
     "data": {
      "text/html": [
       "\n",
       "            <style>\n",
       "                .geemap-dark {\n",
       "                    --jp-widgets-color: white;\n",
       "                    --jp-widgets-label-color: white;\n",
       "                    --jp-ui-font-color1: white;\n",
       "                    --jp-layout-color2: #454545;\n",
       "                    background-color: #383838;\n",
       "                }\n",
       "                    \n",
       "                .geemap-dark .jupyter-button {\n",
       "                    --jp-layout-color3: #383838;\n",
       "                }\n",
       "                \n",
       "                .geemap-colab {\n",
       "                    background-color: var(--colab-primary-surface-color, white);\n",
       "                }\n",
       "                    \n",
       "                .geemap-colab .jupyter-button {\n",
       "                    --jp-layout-color3: var(--colab-primary-surface-color, white);\n",
       "                }\n",
       "            </style>\n",
       "            "
      ],
      "text/plain": [
       "<IPython.core.display.HTML object>"
      ]
     },
     "metadata": {},
     "output_type": "display_data"
    }
   ],
   "source": [
    "# Conexión con la versión desarrollador de Google Earth Engine\n",
    "import ee\n",
    "import geemap\n",
    "# Manejo de datos\n",
    "import pandas as pd\n",
    "import numpy as np\n",
    "# Manejo de gráficos\n",
    "import matplotlib.pyplot as plt\n",
    "import seaborn as sns\n",
    "# Machine learning\n",
    "from geemap import ml\n",
    "from sklearn import ensemble"
   ]
  },
  {
   "cell_type": "code",
   "execution_count": 32,
   "id": "65d01849",
   "metadata": {},
   "outputs": [
    {
     "data": {
      "text/html": [
       "\n",
       "            <style>\n",
       "                .geemap-dark {\n",
       "                    --jp-widgets-color: white;\n",
       "                    --jp-widgets-label-color: white;\n",
       "                    --jp-ui-font-color1: white;\n",
       "                    --jp-layout-color2: #454545;\n",
       "                    background-color: #383838;\n",
       "                }\n",
       "                    \n",
       "                .geemap-dark .jupyter-button {\n",
       "                    --jp-layout-color3: #383838;\n",
       "                }\n",
       "                \n",
       "                .geemap-colab {\n",
       "                    background-color: var(--colab-primary-surface-color, white);\n",
       "                }\n",
       "                    \n",
       "                .geemap-colab .jupyter-button {\n",
       "                    --jp-layout-color3: var(--colab-primary-surface-color, white);\n",
       "                }\n",
       "            </style>\n",
       "            "
      ],
      "text/plain": [
       "<IPython.core.display.HTML object>"
      ]
     },
     "metadata": {},
     "output_type": "display_data"
    }
   ],
   "source": [
    "# Funciones\n",
    "# Enmascaramiento de nubes\n",
    "def maskL7sr(img):\n",
    "    cloudShadowBitMask = (1 << 3)\n",
    "    cloudsBitMask = (1 << 4)\n",
    "    qa = img.select('QA_PIXEL')\n",
    "    mask = qa.bitwiseAnd(cloudShadowBitMask).eq(0).And(qa.bitwiseAnd(cloudsBitMask).eq(0))\n",
    "    return img.updateMask(mask)\n",
    "# Cortar colección de imágenes\n",
    "def clip_collection(img):\n",
    "    return img.clip(nevado).copyProperties(img,[\"system:time_start\"])\n",
    "# Cálculo de índice glaciar diferencial normalizado NDGI\n",
    "def NDGI_4_5_7(img):\n",
    "    ndgi = img.expression('((NIR - GREEN) / (NIR + GREEN))',\n",
    "    {'NIR': img.select('SR_B4'),\n",
    "    'GREEN': img.select('SR_B2')}).rename('NDGI').copyProperties(img, ['system:time_start'])\n",
    "    return img.addBands(ndgi)\n",
    "def NDGI_8(img):\n",
    "    ndgi = img.expression('((NIR - GREEN) / (NIR + GREEN))',\n",
    "    {'NIR': img.select('SR_B5'),\n",
    "    'GREEN': img.select('SR_B3')}).rename('NDGI').copyProperties(img, ['system:time_start'])\n",
    "    return img.addBands(ndgi)\n",
    "# Seleccionar la colección de imágenes según el sensor\n",
    "def getLandsatImages(sensor):\n",
    "    if sensor == \"L4\":\n",
    "        collection = ee.ImageCollection(\"LANDSAT/LT04/C02/T1_L2\")\n",
    "    elif sensor == \"L5\":\n",
    "        collection = ee.ImageCollection(\"LANDSAT/LT05/C02/T1_L2\")\n",
    "    elif sensor == \"L7\":\n",
    "        collection = ee.ImageCollection(\"LANDSAT/LE07/C02/T1_L2\")\n",
    "    elif sensor == \"L8\":\n",
    "        collection = ee.ImageCollection(\"LANDSAT/LC08/C02/T1_L2\")\n",
    "    else:\n",
    "        return None\n",
    "# Exportar imagen\n",
    "def exportImageLocal(image, filename):\n",
    "    task = geemap.ee_export_image(\n",
    "        image, filename, scale = 30, crs = None, crs_transform = None, region = aoi, dimensions=None,file_per_band=False,\n",
    "    )"
   ]
  },
  {
   "cell_type": "code",
   "execution_count": 33,
   "id": "04415f4b",
   "metadata": {},
   "outputs": [
    {
     "data": {
      "text/html": [
       "\n",
       "            <style>\n",
       "                .geemap-dark {\n",
       "                    --jp-widgets-color: white;\n",
       "                    --jp-widgets-label-color: white;\n",
       "                    --jp-ui-font-color1: white;\n",
       "                    --jp-layout-color2: #454545;\n",
       "                    background-color: #383838;\n",
       "                }\n",
       "                    \n",
       "                .geemap-dark .jupyter-button {\n",
       "                    --jp-layout-color3: #383838;\n",
       "                }\n",
       "                \n",
       "                .geemap-colab {\n",
       "                    background-color: var(--colab-primary-surface-color, white);\n",
       "                }\n",
       "                    \n",
       "                .geemap-colab .jupyter-button {\n",
       "                    --jp-layout-color3: var(--colab-primary-surface-color, white);\n",
       "                }\n",
       "            </style>\n",
       "            "
      ],
      "text/plain": [
       "<IPython.core.display.HTML object>"
      ]
     },
     "metadata": {},
     "output_type": "display_data"
    }
   ],
   "source": [
    "ee.Authenticate()\n",
    "ee.Initialize()"
   ]
  },
  {
   "cell_type": "markdown",
   "id": "6105e4d4",
   "metadata": {},
   "source": [
    "<p> 1. Área de ínteres (Nevados, Purace) </p>"
   ]
  },
  {
   "cell_type": "markdown",
   "id": "7e4f6b50",
   "metadata": {},
   "source": [
    "<p> 1.1. Parámetros de entrada </p>"
   ]
  },
  {
   "cell_type": "code",
   "execution_count": 34,
   "id": "05a4e041",
   "metadata": {},
   "outputs": [
    {
     "data": {
      "text/html": [
       "\n",
       "            <style>\n",
       "                .geemap-dark {\n",
       "                    --jp-widgets-color: white;\n",
       "                    --jp-widgets-label-color: white;\n",
       "                    --jp-ui-font-color1: white;\n",
       "                    --jp-layout-color2: #454545;\n",
       "                    background-color: #383838;\n",
       "                }\n",
       "                    \n",
       "                .geemap-dark .jupyter-button {\n",
       "                    --jp-layout-color3: #383838;\n",
       "                }\n",
       "                \n",
       "                .geemap-colab {\n",
       "                    background-color: var(--colab-primary-surface-color, white);\n",
       "                }\n",
       "                    \n",
       "                .geemap-colab .jupyter-button {\n",
       "                    --jp-layout-color3: var(--colab-primary-surface-color, white);\n",
       "                }\n",
       "            </style>\n",
       "            "
      ],
      "text/plain": [
       "<IPython.core.display.HTML object>"
      ]
     },
     "metadata": {},
     "output_type": "display_data"
    }
   ],
   "source": [
    "'''\n",
    "list_nevados = ['Nevado_Cocuy', 'Nevado_Huila', 'Nevado_Purace', 'Nevado_Nevados']\n",
    "name_nevado = list_nevados[3] # Seleccionar el nevado de interés\n",
    "list_year = ['1990', '1995', '2000', '2005', '2010']#, '2015', '2020']\n",
    "\n",
    "nevado = geemap.shp_to_ee('./Shapefile_Nevados/{}.shp'.format(name_nevado))\n",
    "'''\n",
    "\n",
    "# 0: Sierra Nevada de Santa Marta\n",
    "# 1: Nevado del Cocuy\n",
    "\n",
    "select_nevado = 0\n",
    "\n",
    "if select_nevado == 0:\n",
    "    name_nevado = 'Sierra Nevada de Santa Marta'\n",
    "    xmin, ymin, xmax, ymax = -73.8336032327945, 10.730927735740165, -73.46047211631704, 10.923352122454183\n",
    "elif select_nevado == 1:\n",
    "    name_nevado = 'Nevado del Cocuy'\n",
    "    xmin, ymin, xmax, ymax = -73.8336032327945, 10.730927735740165, -73.46047211631704, 10.923352122454183\n",
    "\n",
    "aoi = ee.Geometry.Rectangle([xmin, ymin, xmax, ymax])\n",
    "nevado = ee.Feature(aoi, {'Nombre': name_nevado})\n",
    "\n",
    "Map = geemap.Map(basemap = 'HYBRID')\n",
    "Map.add_basemap('Esri.WorldImagery')\n",
    "\n",
    "Map.addLayer(nevado, {}, 'Nevado de la Sierra Nevada de Santa Marta')\n",
    "Map.centerObject(nevado, 10)"
   ]
  },
  {
   "cell_type": "code",
   "execution_count": 37,
   "id": "574392f3",
   "metadata": {},
   "outputs": [
    {
     "data": {
      "text/html": [
       "\n",
       "            <style>\n",
       "                .geemap-dark {\n",
       "                    --jp-widgets-color: white;\n",
       "                    --jp-widgets-label-color: white;\n",
       "                    --jp-ui-font-color1: white;\n",
       "                    --jp-layout-color2: #454545;\n",
       "                    background-color: #383838;\n",
       "                }\n",
       "                    \n",
       "                .geemap-dark .jupyter-button {\n",
       "                    --jp-layout-color3: #383838;\n",
       "                }\n",
       "                \n",
       "                .geemap-colab {\n",
       "                    background-color: var(--colab-primary-surface-color, white);\n",
       "                }\n",
       "                    \n",
       "                .geemap-colab .jupyter-button {\n",
       "                    --jp-layout-color3: var(--colab-primary-surface-color, white);\n",
       "                }\n",
       "            </style>\n",
       "            "
      ],
      "text/plain": [
       "<IPython.core.display.HTML object>"
      ]
     },
     "metadata": {},
     "output_type": "display_data"
    },
    {
     "name": "stdout",
     "output_type": "stream",
     "text": [
      "Generating URL ...\n",
      "Downloading data from https://earthengine.googleapis.com/v1/projects/earthengine-legacy/thumbnails/9cd82d4a81e756c85318040bfc7bd8c7-5dc2c2910fed06174136a4b1af56d8f1:getPixels\n",
      "Please wait ...\n",
      "Data downloaded to c:\\Users\\ingju\\OneDrive\\Documentos\\GitHub\\MGITG\\GeoAI\\ML_Nevados\\NDGI_1990-11-01_Sierra Nevada de Santa Marta.tif\n",
      "Generating URL ...\n",
      "Downloading data from https://earthengine.googleapis.com/v1/projects/earthengine-legacy/thumbnails/6486999a3b8f8813b44ca667b3c936ea-dc7d6745fd417526622d2009f83e1185:getPixels\n",
      "Please wait ...\n",
      "Data downloaded to c:\\Users\\ingju\\OneDrive\\Documentos\\GitHub\\MGITG\\GeoAI\\ML_Nevados\\NDGI_1995-12-01_Sierra Nevada de Santa Marta.tif\n",
      "Generating URL ...\n",
      "Downloading data from https://earthengine.googleapis.com/v1/projects/earthengine-legacy/thumbnails/9320c5f967ee048fd1470aeaaa847d4d-314fab3323b066f2e9dd37f4d152ebfa:getPixels\n",
      "Please wait ...\n",
      "Data downloaded to c:\\Users\\ingju\\OneDrive\\Documentos\\GitHub\\MGITG\\GeoAI\\ML_Nevados\\NDGI_2000-09-01_Sierra Nevada de Santa Marta.tif\n",
      "Generating URL ...\n",
      "Downloading data from https://earthengine.googleapis.com/v1/projects/earthengine-legacy/thumbnails/6aba80be16089ca2daa6f99092273e46-0690a2a7ccb4c66a7a19b83b11fbfbde:getPixels\n",
      "Please wait ...\n",
      "Data downloaded to c:\\Users\\ingju\\OneDrive\\Documentos\\GitHub\\MGITG\\GeoAI\\ML_Nevados\\NDGI_2005-12-01_Sierra Nevada de Santa Marta.tif\n",
      "Generating URL ...\n",
      "Downloading data from https://earthengine.googleapis.com/v1/projects/earthengine-legacy/thumbnails/2c304d5485063ab0b10b524f3fc40de4-32560bda71b40f3c9a5148ace3317c30:getPixels\n",
      "Please wait ...\n",
      "Data downloaded to c:\\Users\\ingju\\OneDrive\\Documentos\\GitHub\\MGITG\\GeoAI\\ML_Nevados\\NDGI_2010-01-01_Sierra Nevada de Santa Marta.tif\n",
      "Generating URL ...\n",
      "Downloading data from https://earthengine.googleapis.com/v1/projects/earthengine-legacy/thumbnails/067e87b3b0dd2c992ef61ab819dd0978-89b40271de17389cbe91033fa1a7a55a:getPixels\n",
      "Please wait ...\n",
      "Data downloaded to c:\\Users\\ingju\\OneDrive\\Documentos\\GitHub\\MGITG\\GeoAI\\ML_Nevados\\NDGI_2015-03-07_Sierra Nevada de Santa Marta.tif\n",
      "Generating URL ...\n",
      "Downloading data from https://earthengine.googleapis.com/v1/projects/earthengine-legacy/thumbnails/bb64dd38ef47f7f99d2108af3da8bcb5-55b515112e0db0510840d966699d516d:getPixels\n",
      "Please wait ...\n",
      "Data downloaded to c:\\Users\\ingju\\OneDrive\\Documentos\\GitHub\\MGITG\\GeoAI\\ML_Nevados\\NDGI_2020-12-01_Sierra Nevada de Santa Marta.tif\n",
      "Generating URL ...\n",
      "Downloading data from https://earthengine.googleapis.com/v1/projects/earthengine-legacy/thumbnails/8f037e0fef75db9c488ba680a0ddcbec-7639826fd55007a0631c0e9dbda395cf:getPixels\n",
      "Please wait ...\n",
      "Data downloaded to c:\\Users\\ingju\\OneDrive\\Documentos\\GitHub\\MGITG\\GeoAI\\ML_Nevados\\NDGI_2023-12-01_Sierra Nevada de Santa Marta.tif\n"
     ]
    }
   ],
   "source": [
    "def getLandsatImages(sensor):\n",
    "    if sensor == \"L4\":\n",
    "        return ee.ImageCollection(\"LANDSAT/LT04/C02/T1_L2\").filterMetadata('CLOUD_COVER', 'less_than', 70).map(NDGI_4_5_7)\n",
    "    elif sensor == \"L5\":\n",
    "        return ee.ImageCollection(\"LANDSAT/LT05/C02/T1_L2\").filterMetadata('CLOUD_COVER', 'less_than', 70).map(NDGI_4_5_7)\n",
    "    elif sensor == \"L7\":\n",
    "        return ee.ImageCollection(\"LANDSAT/LE07/C02/T1_L2\").filterMetadata('CLOUD_COVER', 'less_than', 70).map(NDGI_4_5_7)\n",
    "    elif sensor == \"L8\":\n",
    "        return ee.ImageCollection(\"LANDSAT/LC08/C02/T1_L2\").filterMetadata('CLOUD_COVER', 'less_than', 70).map(NDGI_8)\n",
    "    else:\n",
    "        return None\n",
    "\n",
    "data = {\n",
    "    'date_initial': [\"1990-11-01\", \"1995-12-01\", \"2000-09-01\", \"2005-12-01\", \"2010-01-01\", \"2015-03-07\", \"2020-12-01\", \"2023-12-01\"],\n",
    "    'date_end': [\"1990-11-30\", \"1995-12-30\", \"2000-09-30\",  \"2005-12-30\", \"2010-01-30\", \"2015-03-11\", \"2020-12-30\",  \"2023-12-30\"],\n",
    "    'sensor': [\"L4\", \"L5\", \"L5\", \"L7\", \"L7\", \"L8\", \"L8\", \"L8\"]\n",
    "}\n",
    "df_dates = pd.DataFrame(data)\n",
    "\n",
    "for i in range(len(df_dates)):\n",
    "    collection = getLandsatImages(df_dates['sensor'][i])\n",
    "\n",
    "    if collection is not None:\n",
    "        images = (\n",
    "            collection\n",
    "            .filterDate(df_dates['date_initial'][i], df_dates['date_end'][i])\n",
    "            # .map(maskL7sr)\n",
    "            .map(clip_collection)\n",
    "            .mean()\n",
    "        )\n",
    "        \n",
    "        # Map.addLayer(images.select([\"SR_B4\", \"SR_B5\", \"SR_B1\"]), {}, '{}'.format(df_dates['date_initial'][i]))\n",
    "        customPalette = ['lightblue', 'blue', 'cyan', 'green', 'yellow', 'orange', 'red']\n",
    "        Map.addLayer(images.select(\"NDGI\"), {\"min\": -1, \"max\": 1, \"palette\": customPalette}, \"NDGI {}\".format(df_dates['date_initial'][i]))\n",
    "\n",
    "        exportImageLocal(images.select(\"NDGI\"), \"NDGI_{}_{}.tif\".format(df_dates['date_initial'][i], name_nevado))\n",
    "\n",
    "    else:\n",
    "        print(\"Sensor no válido:\", df_dates['sensor'][i])\n"
   ]
  },
  {
   "cell_type": "markdown",
   "id": "bebfd521",
   "metadata": {},
   "source": [
    "<p> 1.2. Selección de puntos para entrenamiento </p>"
   ]
  },
  {
   "cell_type": "code",
   "execution_count": 38,
   "id": "2a8373ab",
   "metadata": {},
   "outputs": [
    {
     "data": {
      "text/html": [
       "\n",
       "            <style>\n",
       "                .geemap-dark {\n",
       "                    --jp-widgets-color: white;\n",
       "                    --jp-widgets-label-color: white;\n",
       "                    --jp-ui-font-color1: white;\n",
       "                    --jp-layout-color2: #454545;\n",
       "                    background-color: #383838;\n",
       "                }\n",
       "                    \n",
       "                .geemap-dark .jupyter-button {\n",
       "                    --jp-layout-color3: #383838;\n",
       "                }\n",
       "                \n",
       "                .geemap-colab {\n",
       "                    background-color: var(--colab-primary-surface-color, white);\n",
       "                }\n",
       "                    \n",
       "                .geemap-colab .jupyter-button {\n",
       "                    --jp-layout-color3: var(--colab-primary-surface-color, white);\n",
       "                }\n",
       "            </style>\n",
       "            "
      ],
      "text/plain": [
       "<IPython.core.display.HTML object>"
      ]
     },
     "metadata": {},
     "output_type": "display_data"
    }
   ],
   "source": [
    "PuntoEntrenamiento = geemap.shp_to_ee(r\"C:\\Users\\ingju\\OneDrive\\Documentos\\GitHub\\MGITG\\GeoAI\\ML_Nevados\\Shapefile_Muestras\\Sample_2023.shp\")"
   ]
  },
  {
   "cell_type": "code",
   "execution_count": 41,
   "id": "f9e75f00",
   "metadata": {},
   "outputs": [
    {
     "data": {
      "text/html": [
       "\n",
       "            <style>\n",
       "                .geemap-dark {\n",
       "                    --jp-widgets-color: white;\n",
       "                    --jp-widgets-label-color: white;\n",
       "                    --jp-ui-font-color1: white;\n",
       "                    --jp-layout-color2: #454545;\n",
       "                    background-color: #383838;\n",
       "                }\n",
       "                    \n",
       "                .geemap-dark .jupyter-button {\n",
       "                    --jp-layout-color3: #383838;\n",
       "                }\n",
       "                \n",
       "                .geemap-colab {\n",
       "                    background-color: var(--colab-primary-surface-color, white);\n",
       "                }\n",
       "                    \n",
       "                .geemap-colab .jupyter-button {\n",
       "                    --jp-layout-color3: var(--colab-primary-surface-color, white);\n",
       "                }\n",
       "            </style>\n",
       "            "
      ],
      "text/plain": [
       "<IPython.core.display.HTML object>"
      ]
     },
     "metadata": {},
     "output_type": "display_data"
    },
    {
     "name": "stdout",
     "output_type": "stream",
     "text": [
      "Generating URL ...\n",
      "Downloading data from https://earthengine.googleapis.com/v1/projects/earthengine-legacy/thumbnails/8f037e0fef75db9c488ba680a0ddcbec-f908d6a59c4819b90957adf2a69e09f8:getPixels\n",
      "Please wait ...\n",
      "Data downloaded to c:\\Users\\ingju\\OneDrive\\Documentos\\GitHub\\MGITG\\GeoAI\\ML_Nevados\\NDGI_2023-12-01_Sierra Nevada de Santa Marta.tif\n"
     ]
    }
   ],
   "source": [
    "def getLandsatImages(sensor):\n",
    "    if sensor == \"L4\":\n",
    "        return ee.ImageCollection(\"LANDSAT/LT04/C02/T1_L2\").filterMetadata('CLOUD_COVER', 'less_than', 70).map(NDGI_4_5_7)\n",
    "    elif sensor == \"L5\":\n",
    "        return ee.ImageCollection(\"LANDSAT/LT05/C02/T1_L2\").filterMetadata('CLOUD_COVER', 'less_than', 70).map(NDGI_4_5_7)\n",
    "    elif sensor == \"L7\":\n",
    "        return ee.ImageCollection(\"LANDSAT/LE07/C02/T1_L2\").filterMetadata('CLOUD_COVER', 'less_than', 70).map(NDGI_4_5_7)\n",
    "    elif sensor == \"L8\":\n",
    "        return ee.ImageCollection(\"LANDSAT/LC08/C02/T1_L2\").filterMetadata('CLOUD_COVER', 'less_than', 70).map(NDGI_8)\n",
    "    else:\n",
    "        return None\n",
    "\n",
    "data = {\n",
    "    'date_initial': [\"1990-11-01\", \"1995-12-01\", \"2000-09-01\", \"2005-12-01\", \"2010-01-01\", \"2015-03-07\", \"2020-12-01\", \"2023-12-01\"],\n",
    "    'date_end': [\"1990-11-30\", \"1995-12-30\", \"2000-09-30\",  \"2005-12-30\", \"2010-01-30\", \"2015-03-11\", \"2020-12-30\",  \"2023-12-30\"],\n",
    "    'sensor': [\"L4\", \"L5\", \"L5\", \"L7\", \"L7\", \"L8\", \"L8\", \"L8\"]\n",
    "}\n",
    "df_dates = pd.DataFrame(data)\n",
    "\n",
    "for i in range(len(df_dates) - 1, len(df_dates) ):\n",
    "    collection = getLandsatImages(df_dates['sensor'][i])\n",
    "\n",
    "    if collection is not None:\n",
    "        images = (\n",
    "            collection\n",
    "            .filterDate(df_dates['date_initial'][i], df_dates['date_end'][i])\n",
    "            # .map(maskL7sr)\n",
    "            .map(clip_collection)\n",
    "            .mean()\n",
    "        )\n",
    "        \n",
    "        # Map.addLayer(images.select([\"SR_B4\", \"SR_B5\", \"SR_B1\"]), {}, '{}'.format(df_dates['date_initial'][i]))\n",
    "        customPalette = ['lightblue', 'blue', 'cyan', 'green', 'yellow', 'orange', 'red']\n",
    "        Map.addLayer(images.select(\"NDGI\"), {\"min\": -1, \"max\": 1, \"palette\": customPalette}, \"NDGI {}\".format(df_dates['date_initial'][i]))\n",
    "\n",
    "        exportImageLocal(images.select(\"NDGI\"), \"NDGI_{}_{}.tif\".format(df_dates['date_initial'][i], name_nevado))\n",
    "\n",
    "    else:\n",
    "        print(\"Sensor no válido:\", df_dates['sensor'][i])"
   ]
  },
  {
   "cell_type": "code",
   "execution_count": 44,
   "id": "5a6a5195",
   "metadata": {},
   "outputs": [
    {
     "data": {
      "text/html": [
       "\n",
       "            <style>\n",
       "                .geemap-dark {\n",
       "                    --jp-widgets-color: white;\n",
       "                    --jp-widgets-label-color: white;\n",
       "                    --jp-ui-font-color1: white;\n",
       "                    --jp-layout-color2: #454545;\n",
       "                    background-color: #383838;\n",
       "                }\n",
       "                    \n",
       "                .geemap-dark .jupyter-button {\n",
       "                    --jp-layout-color3: #383838;\n",
       "                }\n",
       "                \n",
       "                .geemap-colab {\n",
       "                    background-color: var(--colab-primary-surface-color, white);\n",
       "                }\n",
       "                    \n",
       "                .geemap-colab .jupyter-button {\n",
       "                    --jp-layout-color3: var(--colab-primary-surface-color, white);\n",
       "                }\n",
       "            </style>\n",
       "            "
      ],
      "text/plain": [
       "<IPython.core.display.HTML object>"
      ]
     },
     "metadata": {},
     "output_type": "display_data"
    }
   ],
   "source": [
    "bandas = ['SR_B1','SR_B2','SR_B3','SR_B4','SR_B5','SR_B6','SR_B7','NDGI']\n",
    "etiqueta = \"zona\"\n",
    "\n",
    "PuntoEntrenamiento = geemap.shp_to_ee(r\"C:\\Users\\ingju\\OneDrive\\Documentos\\GitHub\\MGITG\\GeoAI\\ML_Nevados\\Shapefile_Muestras\\Sample_2023.shp\")\n",
    "\n",
    "Muestraentrenamiento = images.select(bandas).sampleRegions(\n",
    "    **{'collection': PuntoEntrenamiento, 'properties': [etiqueta], 'scale': 30}\n",
    ")\n",
    "muestra = Muestraentrenamiento.randomColumn()\n",
    "\n",
    "muestraEntrenamiento = muestra.filter('random <= 0.8') #Tomamos el 80% de los datos para entrenar el modelo\n",
    "muestraValidacion = muestra.filter('random > 0.8') #Tomamos el 20% de los datos para validar el modelo\n",
    "\n",
    "EntrenamientoRF = ee.Classifier.smileRandomForest(**{\"numberOfTrees\":10}).train(muestraEntrenamiento,etiqueta,bandas)\n",
    "\n",
    "exactitudEntrenamiento = EntrenamientoRF.confusionMatrix()\n",
    "\n",
    "validacionDeDatos = muestraValidacion.classify(EntrenamientoRF)\n",
    "\n",
    "exactitudValidacion = validacionDeDatos.errorMatrix(etiqueta, 'classification')\n",
    "\n",
    "img_clasificada_2014 = images.select(bandas).classify(EntrenamientoRF)\n",
    "Map.addLayer(img_clasificada_2014.select(\"classification\"), {}, 'coBerturas 2014 segunda prueba')"
   ]
  },
  {
   "cell_type": "code",
   "execution_count": 1,
   "id": "808d9534",
   "metadata": {},
   "outputs": [
    {
     "ename": "NameError",
     "evalue": "name 'EntrenamientoRF' is not defined",
     "output_type": "error",
     "traceback": [
      "\u001b[1;31m---------------------------------------------------------------------------\u001b[0m",
      "\u001b[1;31mNameError\u001b[0m                                 Traceback (most recent call last)",
      "Cell \u001b[1;32mIn[1], line 1\u001b[0m\n\u001b[1;32m----> 1\u001b[0m display(\u001b[38;5;124m'\u001b[39m\u001b[38;5;124mResultados del entrenamiento\u001b[39m\u001b[38;5;124m'\u001b[39m, \u001b[43mEntrenamientoRF\u001b[49m\u001b[38;5;241m.\u001b[39mexplain())\n",
      "\u001b[1;31mNameError\u001b[0m: name 'EntrenamientoRF' is not defined"
     ]
    }
   ],
   "source": [
    "display('Resultados del entrenamiento', EntrenamientoRF.explain())"
   ]
  },
  {
   "cell_type": "code",
   "execution_count": 56,
   "id": "be4cab16",
   "metadata": {},
   "outputs": [
    {
     "data": {
      "text/html": [
       "\n",
       "            <style>\n",
       "                .geemap-dark {\n",
       "                    --jp-widgets-color: white;\n",
       "                    --jp-widgets-label-color: white;\n",
       "                    --jp-ui-font-color1: white;\n",
       "                    --jp-layout-color2: #454545;\n",
       "                    background-color: #383838;\n",
       "                }\n",
       "                    \n",
       "                .geemap-dark .jupyter-button {\n",
       "                    --jp-layout-color3: #383838;\n",
       "                }\n",
       "                \n",
       "                .geemap-colab {\n",
       "                    background-color: var(--colab-primary-surface-color, white);\n",
       "                }\n",
       "                    \n",
       "                .geemap-colab .jupyter-button {\n",
       "                    --jp-layout-color3: var(--colab-primary-surface-color, white);\n",
       "                }\n",
       "            </style>\n",
       "            "
      ],
      "text/plain": [
       "<IPython.core.display.HTML object>"
      ]
     },
     "metadata": {},
     "output_type": "display_data"
    },
    {
     "data": {
      "text/plain": [
       "'Matriz de confusión del entrenamiento'"
      ]
     },
     "metadata": {},
     "output_type": "display_data"
    },
    {
     "data": {
      "text/html": [
       "<div><style>:root {\n",
       "  --font-color-primary: var(--jp-content-font-color0, rgba(0, 0, 0, 1));\n",
       "  --font-color-secondary: var(--jp-content-font-color2, rgba(0, 0, 0, 0.6));\n",
       "  --font-color-accent: rgba(123, 31, 162, 1);\n",
       "  --border-color: var(--jp-border-color2, #e0e0e0);\n",
       "  --background-color: var(--jp-layout-color0, white);\n",
       "  --background-color-row-even: var(--jp-layout-color1, white);\n",
       "  --background-color-row-odd: var(--jp-layout-color2, #eeeeee);\n",
       "}\n",
       "\n",
       "html[theme=\"dark\"],\n",
       "body[data-theme=\"dark\"],\n",
       "body.vscode-dark {\n",
       "  --font-color-primary: rgba(255, 255, 255, 1);\n",
       "  --font-color-secondary: rgba(255, 255, 255, 0.6);\n",
       "  --font-color-accent: rgb(173, 132, 190);\n",
       "  --border-color: #2e2e2e;\n",
       "  --background-color: #111111;\n",
       "  --background-color-row-even: #111111;\n",
       "  --background-color-row-odd: #313131;\n",
       "}\n",
       "\n",
       ".ee {\n",
       "  padding: 1em;\n",
       "  line-height: 1.5em;\n",
       "  min-width: 300px;\n",
       "  max-width: 1200px;\n",
       "  overflow-y: scroll;\n",
       "  max-height: 600px;\n",
       "  border: 1px solid var(--border-color);\n",
       "  font-family: monospace;\n",
       "}\n",
       "\n",
       ".ee li {\n",
       "  list-style-type: none;\n",
       "}\n",
       "\n",
       ".ee ul {\n",
       "  padding-left: 1.5em !important;\n",
       "  margin: 0;\n",
       "}\n",
       "\n",
       ".ee > ul {\n",
       "  padding-left: 0 !important;\n",
       "}\n",
       "\n",
       ".ee-open,\n",
       ".ee-shut {\n",
       "  color: var(--font-color-secondary);\n",
       "  cursor: pointer;\n",
       "  margin: 0;\n",
       "}\n",
       "\n",
       ".ee-open:hover,\n",
       ".ee-shut:hover {\n",
       "  color: var(--font-color-primary);\n",
       "}\n",
       "\n",
       ".ee-k {\n",
       "  color: var(--font-color-accent);\n",
       "  margin-right: 6px;\n",
       "}\n",
       "\n",
       ".ee-v {\n",
       "  color: var(--font-color-primary);\n",
       "}\n",
       "\n",
       ".ee-toggle {\n",
       "  display: none;\n",
       "}\n",
       "\n",
       ".ee-shut + ul {\n",
       "  display: none;\n",
       "}\n",
       "\n",
       ".ee-open + ul {\n",
       "  display: block;\n",
       "}\n",
       "\n",
       ".ee-shut::before {\n",
       "  display: inline-block;\n",
       "  content: \"▼\";\n",
       "  margin-right: 6px;\n",
       "  transform: rotate(-90deg);\n",
       "  transition: transform 0.2s;\n",
       "}\n",
       "\n",
       ".ee-open::before {\n",
       "  transform: rotate(0deg);\n",
       "  display: inline-block;\n",
       "  content: \"▼\";\n",
       "  margin-right: 6px;\n",
       "  transition: transform 0.2s;\n",
       "}\n",
       "</style><div class='ee'><ul><li><label class='ee-shut'>[[57, 0], [0, 55]]<input type='checkbox' class='ee-toggle'></label><ul><li><label class='ee-shut'>0: [57, 0]<input type='checkbox' class='ee-toggle'></label><ul><li><span class='ee-k'>0:</span><span class='ee-v'>57</span></li><li><span class='ee-k'>1:</span><span class='ee-v'>0</span></li></ul></li><li><label class='ee-shut'>1: [0, 55]<input type='checkbox' class='ee-toggle'></label><ul><li><span class='ee-k'>0:</span><span class='ee-v'>0</span></li><li><span class='ee-k'>1:</span><span class='ee-v'>55</span></li></ul></li></ul></li></ul></div><script>function toggleHeader() {\n",
       "    const parent = this.parentElement;\n",
       "    parent.className = parent.className === \"ee-open\" ? \"ee-shut\" : \"ee-open\";\n",
       "}\n",
       "\n",
       "for (let c of document.getElementsByClassName(\"ee-toggle\")) {\n",
       "    c.onclick = toggleHeader;\n",
       "}</script></div>"
      ],
      "text/plain": [
       "<ee.ConfusionMatrix at 0x1fdf30dab70>"
      ]
     },
     "metadata": {},
     "output_type": "display_data"
    }
   ],
   "source": [
    "display('Matriz de confusión del entrenamiento', exactitudEntrenamiento)"
   ]
  },
  {
   "cell_type": "code",
   "execution_count": 57,
   "id": "9e609ac8",
   "metadata": {},
   "outputs": [
    {
     "data": {
      "text/html": [
       "\n",
       "            <style>\n",
       "                .geemap-dark {\n",
       "                    --jp-widgets-color: white;\n",
       "                    --jp-widgets-label-color: white;\n",
       "                    --jp-ui-font-color1: white;\n",
       "                    --jp-layout-color2: #454545;\n",
       "                    background-color: #383838;\n",
       "                }\n",
       "                    \n",
       "                .geemap-dark .jupyter-button {\n",
       "                    --jp-layout-color3: #383838;\n",
       "                }\n",
       "                \n",
       "                .geemap-colab {\n",
       "                    background-color: var(--colab-primary-surface-color, white);\n",
       "                }\n",
       "                    \n",
       "                .geemap-colab .jupyter-button {\n",
       "                    --jp-layout-color3: var(--colab-primary-surface-color, white);\n",
       "                }\n",
       "            </style>\n",
       "            "
      ],
      "text/plain": [
       "<IPython.core.display.HTML object>"
      ]
     },
     "metadata": {},
     "output_type": "display_data"
    },
    {
     "data": {
      "text/plain": [
       "'Exactitud global del entrenamiento'"
      ]
     },
     "metadata": {},
     "output_type": "display_data"
    },
    {
     "data": {
      "text/html": [
       "<div><style>:root {\n",
       "  --font-color-primary: var(--jp-content-font-color0, rgba(0, 0, 0, 1));\n",
       "  --font-color-secondary: var(--jp-content-font-color2, rgba(0, 0, 0, 0.6));\n",
       "  --font-color-accent: rgba(123, 31, 162, 1);\n",
       "  --border-color: var(--jp-border-color2, #e0e0e0);\n",
       "  --background-color: var(--jp-layout-color0, white);\n",
       "  --background-color-row-even: var(--jp-layout-color1, white);\n",
       "  --background-color-row-odd: var(--jp-layout-color2, #eeeeee);\n",
       "}\n",
       "\n",
       "html[theme=\"dark\"],\n",
       "body[data-theme=\"dark\"],\n",
       "body.vscode-dark {\n",
       "  --font-color-primary: rgba(255, 255, 255, 1);\n",
       "  --font-color-secondary: rgba(255, 255, 255, 0.6);\n",
       "  --font-color-accent: rgb(173, 132, 190);\n",
       "  --border-color: #2e2e2e;\n",
       "  --background-color: #111111;\n",
       "  --background-color-row-even: #111111;\n",
       "  --background-color-row-odd: #313131;\n",
       "}\n",
       "\n",
       ".ee {\n",
       "  padding: 1em;\n",
       "  line-height: 1.5em;\n",
       "  min-width: 300px;\n",
       "  max-width: 1200px;\n",
       "  overflow-y: scroll;\n",
       "  max-height: 600px;\n",
       "  border: 1px solid var(--border-color);\n",
       "  font-family: monospace;\n",
       "}\n",
       "\n",
       ".ee li {\n",
       "  list-style-type: none;\n",
       "}\n",
       "\n",
       ".ee ul {\n",
       "  padding-left: 1.5em !important;\n",
       "  margin: 0;\n",
       "}\n",
       "\n",
       ".ee > ul {\n",
       "  padding-left: 0 !important;\n",
       "}\n",
       "\n",
       ".ee-open,\n",
       ".ee-shut {\n",
       "  color: var(--font-color-secondary);\n",
       "  cursor: pointer;\n",
       "  margin: 0;\n",
       "}\n",
       "\n",
       ".ee-open:hover,\n",
       ".ee-shut:hover {\n",
       "  color: var(--font-color-primary);\n",
       "}\n",
       "\n",
       ".ee-k {\n",
       "  color: var(--font-color-accent);\n",
       "  margin-right: 6px;\n",
       "}\n",
       "\n",
       ".ee-v {\n",
       "  color: var(--font-color-primary);\n",
       "}\n",
       "\n",
       ".ee-toggle {\n",
       "  display: none;\n",
       "}\n",
       "\n",
       ".ee-shut + ul {\n",
       "  display: none;\n",
       "}\n",
       "\n",
       ".ee-open + ul {\n",
       "  display: block;\n",
       "}\n",
       "\n",
       ".ee-shut::before {\n",
       "  display: inline-block;\n",
       "  content: \"▼\";\n",
       "  margin-right: 6px;\n",
       "  transform: rotate(-90deg);\n",
       "  transition: transform 0.2s;\n",
       "}\n",
       "\n",
       ".ee-open::before {\n",
       "  transform: rotate(0deg);\n",
       "  display: inline-block;\n",
       "  content: \"▼\";\n",
       "  margin-right: 6px;\n",
       "  transition: transform 0.2s;\n",
       "}\n",
       "</style><div class='ee'><ul><li><span class='ee-v'>1</span></li></ul></div><script>function toggleHeader() {\n",
       "    const parent = this.parentElement;\n",
       "    parent.className = parent.className === \"ee-open\" ? \"ee-shut\" : \"ee-open\";\n",
       "}\n",
       "\n",
       "for (let c of document.getElementsByClassName(\"ee-toggle\")) {\n",
       "    c.onclick = toggleHeader;\n",
       "}</script></div>"
      ],
      "text/plain": [
       "<ee.ee_number.Number at 0x1fdf30d9c10>"
      ]
     },
     "metadata": {},
     "output_type": "display_data"
    }
   ],
   "source": [
    "display('Exactitud global del entrenamiento', exactitudEntrenamiento.accuracy())"
   ]
  },
  {
   "cell_type": "code",
   "execution_count": 60,
   "id": "f070780b",
   "metadata": {},
   "outputs": [
    {
     "data": {
      "text/html": [
       "\n",
       "            <style>\n",
       "                .geemap-dark {\n",
       "                    --jp-widgets-color: white;\n",
       "                    --jp-widgets-label-color: white;\n",
       "                    --jp-ui-font-color1: white;\n",
       "                    --jp-layout-color2: #454545;\n",
       "                    background-color: #383838;\n",
       "                }\n",
       "                    \n",
       "                .geemap-dark .jupyter-button {\n",
       "                    --jp-layout-color3: #383838;\n",
       "                }\n",
       "                \n",
       "                .geemap-colab {\n",
       "                    background-color: var(--colab-primary-surface-color, white);\n",
       "                }\n",
       "                    \n",
       "                .geemap-colab .jupyter-button {\n",
       "                    --jp-layout-color3: var(--colab-primary-surface-color, white);\n",
       "                }\n",
       "            </style>\n",
       "            "
      ],
      "text/plain": [
       "<IPython.core.display.HTML object>"
      ]
     },
     "metadata": {},
     "output_type": "display_data"
    },
    {
     "data": {
      "text/plain": [
       "'Matriz de confusión de la validacion'"
      ]
     },
     "metadata": {},
     "output_type": "display_data"
    },
    {
     "data": {
      "text/html": [
       "<div><style>:root {\n",
       "  --font-color-primary: var(--jp-content-font-color0, rgba(0, 0, 0, 1));\n",
       "  --font-color-secondary: var(--jp-content-font-color2, rgba(0, 0, 0, 0.6));\n",
       "  --font-color-accent: rgba(123, 31, 162, 1);\n",
       "  --border-color: var(--jp-border-color2, #e0e0e0);\n",
       "  --background-color: var(--jp-layout-color0, white);\n",
       "  --background-color-row-even: var(--jp-layout-color1, white);\n",
       "  --background-color-row-odd: var(--jp-layout-color2, #eeeeee);\n",
       "}\n",
       "\n",
       "html[theme=\"dark\"],\n",
       "body[data-theme=\"dark\"],\n",
       "body.vscode-dark {\n",
       "  --font-color-primary: rgba(255, 255, 255, 1);\n",
       "  --font-color-secondary: rgba(255, 255, 255, 0.6);\n",
       "  --font-color-accent: rgb(173, 132, 190);\n",
       "  --border-color: #2e2e2e;\n",
       "  --background-color: #111111;\n",
       "  --background-color-row-even: #111111;\n",
       "  --background-color-row-odd: #313131;\n",
       "}\n",
       "\n",
       ".ee {\n",
       "  padding: 1em;\n",
       "  line-height: 1.5em;\n",
       "  min-width: 300px;\n",
       "  max-width: 1200px;\n",
       "  overflow-y: scroll;\n",
       "  max-height: 600px;\n",
       "  border: 1px solid var(--border-color);\n",
       "  font-family: monospace;\n",
       "}\n",
       "\n",
       ".ee li {\n",
       "  list-style-type: none;\n",
       "}\n",
       "\n",
       ".ee ul {\n",
       "  padding-left: 1.5em !important;\n",
       "  margin: 0;\n",
       "}\n",
       "\n",
       ".ee > ul {\n",
       "  padding-left: 0 !important;\n",
       "}\n",
       "\n",
       ".ee-open,\n",
       ".ee-shut {\n",
       "  color: var(--font-color-secondary);\n",
       "  cursor: pointer;\n",
       "  margin: 0;\n",
       "}\n",
       "\n",
       ".ee-open:hover,\n",
       ".ee-shut:hover {\n",
       "  color: var(--font-color-primary);\n",
       "}\n",
       "\n",
       ".ee-k {\n",
       "  color: var(--font-color-accent);\n",
       "  margin-right: 6px;\n",
       "}\n",
       "\n",
       ".ee-v {\n",
       "  color: var(--font-color-primary);\n",
       "}\n",
       "\n",
       ".ee-toggle {\n",
       "  display: none;\n",
       "}\n",
       "\n",
       ".ee-shut + ul {\n",
       "  display: none;\n",
       "}\n",
       "\n",
       ".ee-open + ul {\n",
       "  display: block;\n",
       "}\n",
       "\n",
       ".ee-shut::before {\n",
       "  display: inline-block;\n",
       "  content: \"▼\";\n",
       "  margin-right: 6px;\n",
       "  transform: rotate(-90deg);\n",
       "  transition: transform 0.2s;\n",
       "}\n",
       "\n",
       ".ee-open::before {\n",
       "  transform: rotate(0deg);\n",
       "  display: inline-block;\n",
       "  content: \"▼\";\n",
       "  margin-right: 6px;\n",
       "  transition: transform 0.2s;\n",
       "}\n",
       "</style><div class='ee'><ul><li><label class='ee-shut'>[[18, 0], [1, 14]]<input type='checkbox' class='ee-toggle'></label><ul><li><label class='ee-shut'>0: [18, 0]<input type='checkbox' class='ee-toggle'></label><ul><li><span class='ee-k'>0:</span><span class='ee-v'>18</span></li><li><span class='ee-k'>1:</span><span class='ee-v'>0</span></li></ul></li><li><label class='ee-shut'>1: [1, 14]<input type='checkbox' class='ee-toggle'></label><ul><li><span class='ee-k'>0:</span><span class='ee-v'>1</span></li><li><span class='ee-k'>1:</span><span class='ee-v'>14</span></li></ul></li></ul></li></ul></div><script>function toggleHeader() {\n",
       "    const parent = this.parentElement;\n",
       "    parent.className = parent.className === \"ee-open\" ? \"ee-shut\" : \"ee-open\";\n",
       "}\n",
       "\n",
       "for (let c of document.getElementsByClassName(\"ee-toggle\")) {\n",
       "    c.onclick = toggleHeader;\n",
       "}</script></div>"
      ],
      "text/plain": [
       "<ee.ConfusionMatrix at 0x1fdf30d80e0>"
      ]
     },
     "metadata": {},
     "output_type": "display_data"
    }
   ],
   "source": [
    "display('Matriz de confusión de la validacion', exactitudValidacion)"
   ]
  },
  {
   "cell_type": "code",
   "execution_count": 61,
   "id": "e4871ddb",
   "metadata": {},
   "outputs": [
    {
     "data": {
      "text/html": [
       "\n",
       "            <style>\n",
       "                .geemap-dark {\n",
       "                    --jp-widgets-color: white;\n",
       "                    --jp-widgets-label-color: white;\n",
       "                    --jp-ui-font-color1: white;\n",
       "                    --jp-layout-color2: #454545;\n",
       "                    background-color: #383838;\n",
       "                }\n",
       "                    \n",
       "                .geemap-dark .jupyter-button {\n",
       "                    --jp-layout-color3: #383838;\n",
       "                }\n",
       "                \n",
       "                .geemap-colab {\n",
       "                    background-color: var(--colab-primary-surface-color, white);\n",
       "                }\n",
       "                    \n",
       "                .geemap-colab .jupyter-button {\n",
       "                    --jp-layout-color3: var(--colab-primary-surface-color, white);\n",
       "                }\n",
       "            </style>\n",
       "            "
      ],
      "text/plain": [
       "<IPython.core.display.HTML object>"
      ]
     },
     "metadata": {},
     "output_type": "display_data"
    },
    {
     "data": {
      "text/plain": [
       "'Exactitud de la validación'"
      ]
     },
     "metadata": {},
     "output_type": "display_data"
    },
    {
     "data": {
      "text/html": [
       "<div><style>:root {\n",
       "  --font-color-primary: var(--jp-content-font-color0, rgba(0, 0, 0, 1));\n",
       "  --font-color-secondary: var(--jp-content-font-color2, rgba(0, 0, 0, 0.6));\n",
       "  --font-color-accent: rgba(123, 31, 162, 1);\n",
       "  --border-color: var(--jp-border-color2, #e0e0e0);\n",
       "  --background-color: var(--jp-layout-color0, white);\n",
       "  --background-color-row-even: var(--jp-layout-color1, white);\n",
       "  --background-color-row-odd: var(--jp-layout-color2, #eeeeee);\n",
       "}\n",
       "\n",
       "html[theme=\"dark\"],\n",
       "body[data-theme=\"dark\"],\n",
       "body.vscode-dark {\n",
       "  --font-color-primary: rgba(255, 255, 255, 1);\n",
       "  --font-color-secondary: rgba(255, 255, 255, 0.6);\n",
       "  --font-color-accent: rgb(173, 132, 190);\n",
       "  --border-color: #2e2e2e;\n",
       "  --background-color: #111111;\n",
       "  --background-color-row-even: #111111;\n",
       "  --background-color-row-odd: #313131;\n",
       "}\n",
       "\n",
       ".ee {\n",
       "  padding: 1em;\n",
       "  line-height: 1.5em;\n",
       "  min-width: 300px;\n",
       "  max-width: 1200px;\n",
       "  overflow-y: scroll;\n",
       "  max-height: 600px;\n",
       "  border: 1px solid var(--border-color);\n",
       "  font-family: monospace;\n",
       "}\n",
       "\n",
       ".ee li {\n",
       "  list-style-type: none;\n",
       "}\n",
       "\n",
       ".ee ul {\n",
       "  padding-left: 1.5em !important;\n",
       "  margin: 0;\n",
       "}\n",
       "\n",
       ".ee > ul {\n",
       "  padding-left: 0 !important;\n",
       "}\n",
       "\n",
       ".ee-open,\n",
       ".ee-shut {\n",
       "  color: var(--font-color-secondary);\n",
       "  cursor: pointer;\n",
       "  margin: 0;\n",
       "}\n",
       "\n",
       ".ee-open:hover,\n",
       ".ee-shut:hover {\n",
       "  color: var(--font-color-primary);\n",
       "}\n",
       "\n",
       ".ee-k {\n",
       "  color: var(--font-color-accent);\n",
       "  margin-right: 6px;\n",
       "}\n",
       "\n",
       ".ee-v {\n",
       "  color: var(--font-color-primary);\n",
       "}\n",
       "\n",
       ".ee-toggle {\n",
       "  display: none;\n",
       "}\n",
       "\n",
       ".ee-shut + ul {\n",
       "  display: none;\n",
       "}\n",
       "\n",
       ".ee-open + ul {\n",
       "  display: block;\n",
       "}\n",
       "\n",
       ".ee-shut::before {\n",
       "  display: inline-block;\n",
       "  content: \"▼\";\n",
       "  margin-right: 6px;\n",
       "  transform: rotate(-90deg);\n",
       "  transition: transform 0.2s;\n",
       "}\n",
       "\n",
       ".ee-open::before {\n",
       "  transform: rotate(0deg);\n",
       "  display: inline-block;\n",
       "  content: \"▼\";\n",
       "  margin-right: 6px;\n",
       "  transition: transform 0.2s;\n",
       "}\n",
       "</style><div class='ee'><ul><li><span class='ee-v'>0.9696969696969697</span></li></ul></div><script>function toggleHeader() {\n",
       "    const parent = this.parentElement;\n",
       "    parent.className = parent.className === \"ee-open\" ? \"ee-shut\" : \"ee-open\";\n",
       "}\n",
       "\n",
       "for (let c of document.getElementsByClassName(\"ee-toggle\")) {\n",
       "    c.onclick = toggleHeader;\n",
       "}</script></div>"
      ],
      "text/plain": [
       "<ee.ee_number.Number at 0x1fdf30d9160>"
      ]
     },
     "metadata": {},
     "output_type": "display_data"
    }
   ],
   "source": [
    "display('Exactitud de la validación', exactitudValidacion.accuracy())"
   ]
  }
 ],
 "metadata": {
  "kernelspec": {
   "display_name": "Python 3 (ipykernel)",
   "language": "python",
   "name": "python3"
  },
  "language_info": {
   "codemirror_mode": {
    "name": "ipython",
    "version": 3
   },
   "file_extension": ".py",
   "mimetype": "text/x-python",
   "name": "python",
   "nbconvert_exporter": "python",
   "pygments_lexer": "ipython3",
   "version": "3.12.0"
  }
 },
 "nbformat": 4,
 "nbformat_minor": 5
}
