{
 "cells": [
  {
   "cell_type": "markdown",
   "metadata": {},
   "source": [
    "Conexión a base de datos MySQL y agregación de puntos por usuario"
   ]
  },
  {
   "cell_type": "markdown",
   "metadata": {},
   "source": [
    "Por: Juan Sebastián Hernández Santana"
   ]
  },
  {
   "cell_type": "code",
   "execution_count": 9,
   "metadata": {},
   "outputs": [],
   "source": [
    "# Librerias utilizadas\n",
    "import mysql.connector"
   ]
  },
  {
   "cell_type": "code",
   "execution_count": 10,
   "metadata": {},
   "outputs": [],
   "source": [
    "# Conexión\n",
    "\n",
    "conexion = mysql.connector.connect(host = 'localhost', user = 'root', password = '')\n",
    "sql = conexion.cursor()"
   ]
  },
  {
   "cell_type": "code",
   "execution_count": 11,
   "metadata": {},
   "outputs": [],
   "source": [
    "# Funciones del Sistema Gestor de Bases de datos\n",
    "\n",
    "def show_databases(sql):\n",
    "    sql.execute('SHOW DATABASES')\n",
    "    for db in sql:\n",
    "        print(db)\n",
    "\n",
    "def create_database(bd):\n",
    "    try:\n",
    "        sql.execute('CREATE DATABASE IF NOT EXISTS {}'.format(bd))\n",
    "        print('Base de datos \"{}\" creada satisfactoriamente.'.format(bd))\n",
    "    except mysql.connector.Error as err:\n",
    "        print('Error al crear la base de datos {}'.format(err))\n",
    "\n",
    "def create_table(bd, table):\n",
    "    try:\n",
    "        sql.execute('CREATE TABLE IF NOT EXISTS {}.{}(id INT AUTO_INCREMENT PRIMARY KEY, latitude FLOAT(10), longitude FLOAT(10))'.format(bd, table))\n",
    "        print('Tabla \"{}\" creada satisfactoriamente.'.format(table))\n",
    "    except mysql.connector.Error as err:\n",
    "        print('Error al crear la tabla {}'.format(err))\n",
    "\n",
    "def addData(sql, bd, table):\n",
    "    x, y = input_coordinates()\n",
    "    try:\n",
    "        sqlinsert = 'INSERT INTO {}.{} (latitude, longitude) VALUES ({}, {})'.format(bd, table, x, y)\n",
    "        sql.execute(sqlinsert)\n",
    "        conexion.commit()\n",
    "        print('Datos adicionados correctamente.')\n",
    "    except mysql.connector.Error as err:\n",
    "        print('Error al adicionar los datos {}'.format(err))\n",
    "\n",
    "# Funciones de la herramienta creada\n",
    "\n",
    "def input_coordinates():\n",
    "    while True:\n",
    "        try:\n",
    "            x = float(input('Ingrese latitud: '))\n",
    "            y = float(input('Ingrese longitud: '))\n",
    "\n",
    "            if (-90 <= x <= 90) and (-180 <= y <= 180):\n",
    "                return x, y\n",
    "            else:\n",
    "                print('Las coordenadas ingresadas están fuera de los límites.')\n",
    "        except ValueError:\n",
    "            print('Ingrese un valor de coordenadas válido.')\n",
    "\n",
    "def display_menu():\n",
    "    print('INFORMÁTICA APLICADA A LA INFORMACIÓN GEOGRÁFICA \\nMENÚ PRINCIPAL \\n1. Mostrar bases de datos de una conexión \\n2. Crear bases de datos \\n3. Crear tabla \\n4. Agregar datos a tabla \\n5. Salir')\n",
    "\n",
    "def input_option():\n",
    "    while True:\n",
    "        try:\n",
    "            option = int(input('Seleccione una opción: '))\n",
    "            if 1 <= option <= 5:\n",
    "                return option\n",
    "            else:\n",
    "                print('Opción invalida. Intente nuevamente.')\n",
    "        except ValueError:\n",
    "            print('Opción invalida. Intente nuevamente.')\n",
    "\n",
    "def select_option(option):\n",
    "    if option == 1:\n",
    "        show_dataBases(sql)\n",
    "    elif option == 2:\n",
    "        bd = input('Nombre de la base de datos a agregar: ')\n",
    "        create_dataBase(bd)\n",
    "    elif option == 3:\n",
    "        bd = input('Nombre de la base de datos a agregar: ')\n",
    "        table = input('Nombre de la tabla a agregar: ')\n",
    "        create_table(bd, table)\n",
    "    elif option == 4:\n",
    "        bd = input('Nombre de la base de datos a agregar: ')\n",
    "        table = input('Nombre de la tabla a agregar: ')\n",
    "        addData(sql, bd, table)\n",
    "\n",
    "def main():\n",
    "    display_menu()\n",
    "    while True:\n",
    "        option = input_option()\n",
    "        if option == 5:\n",
    "            break\n",
    "        else:\n",
    "            select_option(option)\n"
   ]
  },
  {
   "cell_type": "code",
   "execution_count": 12,
   "metadata": {},
   "outputs": [
    {
     "name": "stdout",
     "output_type": "stream",
     "text": [
      "INFORMÁTICA APLICADA A LA INFORMACIÓN GEOGRÁFICA \n",
      "MENÚ PRINCIPAL \n",
      "1. Mostrar bases de datos de una conexión \n",
      "2. Crear bases de datos \n",
      "3. Crear tabla \n",
      "4. Agregar datos a tabla \n",
      "5. Salir\n",
      "('bd_ejemplo',)\n",
      "('ejemplo',)\n",
      "('information_schema',)\n",
      "('juanse',)\n",
      "('juansex2',)\n",
      "('mysql',)\n",
      "('performance_schema',)\n",
      "('phpmyadmin',)\n",
      "('test',)\n",
      "('bd_ejemplo',)\n",
      "('ejemplo',)\n",
      "('information_schema',)\n",
      "('juanse',)\n",
      "('juansex2',)\n",
      "('mysql',)\n",
      "('performance_schema',)\n",
      "('phpmyadmin',)\n",
      "('test',)\n"
     ]
    }
   ],
   "source": [
    "if __name__ == '__main__':\n",
    "    main()"
   ]
  }
 ],
 "metadata": {
  "kernelspec": {
   "display_name": "Python 3",
   "language": "python",
   "name": "python3"
  },
  "language_info": {
   "codemirror_mode": {
    "name": "ipython",
    "version": 3
   },
   "file_extension": ".py",
   "mimetype": "text/x-python",
   "name": "python",
   "nbconvert_exporter": "python",
   "pygments_lexer": "ipython3",
   "version": "3.9.16"
  },
  "orig_nbformat": 4
 },
 "nbformat": 4,
 "nbformat_minor": 2
}
